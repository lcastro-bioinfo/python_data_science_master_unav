{
 "cells": [
  {
   "cell_type": "markdown",
   "metadata": {},
   "source": [
    "---\n",
    "# Experto Big Data UNAV 2018 - Notebook 1 - Tipos en python\n",
    "---"
   ]
  },
  {
   "cell_type": "markdown",
   "metadata": {},
   "source": [
    "# Tipos de datos básicos y variables en Python"
   ]
  },
  {
   "cell_type": "markdown",
   "metadata": {},
   "source": [
    "## Variables"
   ]
  },
  {
   "cell_type": "markdown",
   "metadata": {},
   "source": [
    "Una variable es un nombre usado para almacenar un valor.\n",
    "\n",
    "En Python tenemos como tipos de datos simples números: enteros, de coma flotante, como pueden ser 3, 15.57; cadenas de texto, como “Hola Mundo” y valores booleanos: True (cierto) y False (falso). El valor a una variable se le asigna a traves del operador de asignacion *=* .\n",
    "\n",
    "Vamos a crear un par de variables a modo de ejemplo. Una de tipo cadena y una de tipo entero:"
   ]
  },
  {
   "cell_type": "code",
   "execution_count": 7,
   "metadata": {},
   "outputs": [
    {
     "name": "stdout",
     "output_type": "stream",
     "text": [
      "23\n",
      "Hola Mundo\n"
     ]
    }
   ],
   "source": [
    "# esto es una variable que almacena cadena\n",
    "c = \"Hola Mundo\"\n",
    "\n",
    "# y esto es una variable que almacena entero\n",
    "e = 23\n",
    "\n",
    "print(e)\n",
    "print(c)"
   ]
  },
  {
   "cell_type": "code",
   "execution_count": null,
   "metadata": {
    "collapsed": true
   },
   "outputs": [],
   "source": [
    "# Para imprimir la variable se puede utilizar el comando **print** y con la funcion **type** podemos averiguar su tipo."
   ]
  },
  {
   "cell_type": "code",
   "execution_count": 6,
   "metadata": {},
   "outputs": [
    {
     "name": "stdout",
     "output_type": "stream",
     "text": [
      "<class 'str'> <class 'int'>\n",
      "<class 'str'>\n",
      "<class 'int'>\n"
     ]
    }
   ],
   "source": [
    "# podemos comprobarlo con la función type\n",
    "print(type(c),type(e))\n",
    "print(type(c))\n",
    "print(type(e))"
   ]
  },
  {
   "cell_type": "markdown",
   "metadata": {},
   "source": [
    "**Reglas para nombrar variables**\n",
    "\n",
    "- Solo pueden contener letras, numeros y underscores. El nombre de una variable puede comenzar con un underscore o letra pero no con un número.\n",
    "- Espacios en blanco no estan permitidos en el nombre de las variables de modo que una buena practica es usar underscores en vez de espacios. Por ejemplo, usar nombre_trabajador para en vez de \"nombre trabajador\"\n",
    "- No se pueden usar palabras reservadas por Python [Python palabras reservadas](http://docs.python.org/3/reference/lexical_analysis.html#keywords) como nombres de variables.\n",
    "- El nombre de una variable deberia ser descriptivo, ni muy largo ni muy corto. Por ejemplo, moto_ruedas es mejor que usar solo \"ruedas\" o \"numero_de_ruedas_de un coche\".\n",
    "- Cuidad cuando usemos la letra l en minuscula y la letra O en mayuscula en lugares donde pueden ser confundidas con los numeros 1 y 0."
   ]
  },
  {
   "cell_type": "markdown",
   "metadata": {},
   "source": [
    "## Numeros enteros"
   ]
  },
  {
   "cell_type": "markdown",
   "metadata": {},
   "source": [
    "Los números enteros son aquellos que no tienen decimales, tanto positivos como negativos (además del cero). En Python se pueden representar mediante el **tipo int (de integer, entero)**. "
   ]
  },
  {
   "cell_type": "code",
   "execution_count": 2,
   "metadata": {},
   "outputs": [
    {
     "name": "stdout",
     "output_type": "stream",
     "text": [
      "23\n",
      "59\n"
     ]
    }
   ],
   "source": [
    "# type(entero) daría int\n",
    "entero = 23\n",
    "print(entero)\n",
    "print(entero+36)"
   ]
  },
  {
   "cell_type": "code",
   "execution_count": null,
   "metadata": {
    "collapsed": true
   },
   "outputs": [],
   "source": []
  },
  {
   "cell_type": "markdown",
   "metadata": {},
   "source": [
    "Se puede utilizar el parentesis para poder variar el orden de ejecucion de las operaciones."
   ]
  },
  {
   "cell_type": "code",
   "execution_count": 3,
   "metadata": {},
   "outputs": [
    {
     "name": "stdout",
     "output_type": "stream",
     "text": [
      "32\n",
      "42\n"
     ]
    }
   ],
   "source": [
    "print(5+9*3)\n",
    "print((5+9)*3) # prioridad de orden a traves del parentesis"
   ]
  },
  {
   "cell_type": "markdown",
   "metadata": {},
   "source": [
    "## Numeros reales"
   ]
  },
  {
   "cell_type": "markdown",
   "metadata": {},
   "source": [
    "Los números reales son los que tienen decimales. En Python se expresan mediante el **tipo float**. "
   ]
  },
  {
   "cell_type": "code",
   "execution_count": 4,
   "metadata": {},
   "outputs": [
    {
     "name": "stdout",
     "output_type": "stream",
     "text": [
      "0.2703\n"
     ]
    }
   ],
   "source": [
    "real = 0.2703\n",
    "print(real)"
   ]
  },
  {
   "cell_type": "markdown",
   "metadata": {},
   "source": [
    "También se puede utilizar notación científica, y añadir una e (de exponente) para indicar un exponente en base 10. Por ejemplo:"
   ]
  },
  {
   "cell_type": "code",
   "execution_count": 8,
   "metadata": {},
   "outputs": [
    {
     "name": "stdout",
     "output_type": "stream",
     "text": [
      "0.0001\n"
     ]
    }
   ],
   "source": [
    "real = 0.1e-3\n",
    "print(real)"
   ]
  },
  {
   "cell_type": "markdown",
   "metadata": {},
   "source": [
    "sería equivalente a 0.1 x 10-3 = 0.1 x 0.001 = 0.0001"
   ]
  },
  {
   "cell_type": "markdown",
   "metadata": {},
   "source": [
    "## Cadenas (strings)"
   ]
  },
  {
   "cell_type": "markdown",
   "metadata": {},
   "source": [
    "Hasta el momento hemos visto que Python puede manipular datos numericos de dos tipos:\n",
    "enteros y flotantes. Pero Python tambien puede manipular otros tipos de datos. Vamos a estudiar\n",
    "ahora el tipo de datos que se denomina cadena. Una cadena es una secuencia de caracteres\n",
    "(letras, numeros, espacios, marcas de puntuacion, etc.) y en Python se distingue porque va encerrada\n",
    "entre comillas simples o dobles. Por ejemplo, 'cadena', 'otro ejemplo', \"1, 2 1o 3\",\n",
    "' !Si!', \"...Python\" son cadenas.   \n",
    "Observa que los espacios en blanco se muestran asi en este\n",
    "texto: (( )). Lo hacemos para que resulte facil contar los espacios en blanco cuando hay mas de\n",
    "uno seguido. Esta cadena, por ejemplo, esta formada por tres espacios en blanco: '   '.\n",
    "Las cadenas pueden usarse para representar informacion textual: nombres de personas, nombres\n",
    "de colores, matriculas de coche... Las cadenas tambien pueden almacenarse en variables."
   ]
  },
  {
   "cell_type": "code",
   "execution_count": 9,
   "metadata": {},
   "outputs": [
    {
     "name": "stdout",
     "output_type": "stream",
     "text": [
      "Hola Mundo!\n",
      "Hola Mundo!\n"
     ]
    }
   ],
   "source": [
    "# estas dos cadenas representan lo mismo\n",
    "cadena = 'Hola Mundo!'\n",
    "print(cadena)\n",
    "\n",
    "cadena = \"Hola Mundo!\"\n",
    "print(cadena)"
   ]
  },
  {
   "cell_type": "markdown",
   "metadata": {},
   "source": [
    "Se pueden añadir comillas dentro de la cadena si queremos... combinando las comillas dobles y las simples de una forma sencilla."
   ]
  },
  {
   "cell_type": "code",
   "execution_count": 10,
   "metadata": {},
   "outputs": [
    {
     "name": "stdout",
     "output_type": "stream",
     "text": [
      "Mi libro favorito es 'Los pilares de la tierra'\n"
     ]
    }
   ],
   "source": [
    "print(\"Mi libro favorito es 'Los pilares de la tierra'\")"
   ]
  },
  {
   "cell_type": "markdown",
   "metadata": {},
   "source": [
    "Existe un tipo de cadena especial que no contiene ningun caracter y que se denomina cadena vacia. Se compone de dos comillas (o dobles comas) seguidas sin espacios entre ellas.  \n",
    "**NOTA:** Es importante no confundir la cadena vacia con la cadena espacio que viene representada por dos comillas separadas por un espacio en blanco"
   ]
  },
  {
   "cell_type": "code",
   "execution_count": 14,
   "metadata": {
    "collapsed": true
   },
   "outputs": [],
   "source": [
    "cadena_vacia = '' # esto es una cadena vacia\n",
    "cadena_espac = ' ' # esto es una cadena espacio"
   ]
  },
  {
   "cell_type": "markdown",
   "metadata": {},
   "source": [
    "### Caracteres de espacio"
   ]
  },
  {
   "cell_type": "markdown",
   "metadata": {},
   "source": [
    "Las cadenas pueden contener que denotan espacios en blanco o saltos de linea. Dentro de las comillas se pueden añadir caracteres especiales escapándolos con ‘\\’, como ‘\\n’, el carácter de nueva línea, o ‘\\t’, el de tabulación."
   ]
  },
  {
   "cell_type": "code",
   "execution_count": 15,
   "metadata": {},
   "outputs": [
    {
     "name": "stdout",
     "output_type": "stream",
     "text": [
      "Hola Mundo\n",
      "****\n",
      "Hola \tMundo\n",
      "****\n",
      "Hola \n",
      "Mundo\n",
      "****\n",
      "Hola \n",
      "\t\tMundo\n"
     ]
    }
   ],
   "source": [
    "# este es un ejemplo de utilizacion de los caracteres tabulador y salto de linea\n",
    "print('Hola Mundo')\n",
    "print('****')\n",
    "print('Hola \\tMundo')\n",
    "print('****')\n",
    "print('Hola \\nMundo')\n",
    "print('****')\n",
    "print('Hola \\n\\t\\tMundo')"
   ]
  },
  {
   "cell_type": "markdown",
   "metadata": {},
   "source": [
    "También es posible encerrar una cadena entre triples comillas (simples o dobles). De esta forma podremos escribir el texto en varias líneas, y al imprimir la cadena, se respetarán los saltos de línea que introdujimos sin tener que recurrir al carácter \\n, así como las comillas sin tener que escaparlas."
   ]
  },
  {
   "cell_type": "code",
   "execution_count": 16,
   "metadata": {},
   "outputs": [
    {
     "name": "stdout",
     "output_type": "stream",
     "text": [
      "Esto es una cadena multilinea.\n",
      "Linea1\n",
      "Linea2\n",
      "Linea3\n"
     ]
    }
   ],
   "source": [
    "cadena='''Esto es una cadena multilinea.\n",
    "Linea1\n",
    "Linea2\n",
    "Linea3'''\n",
    "print(cadena)"
   ]
  },
  {
   "cell_type": "markdown",
   "metadata": {},
   "source": [
    "### Concatenacion y multiplicacion de cadenas"
   ]
  },
  {
   "cell_type": "markdown",
   "metadata": {},
   "source": [
    "Es posible realizar operaciones con cadenas. Por ejemplo, podemos ((sumar)) cadenas anadiendo una a otra."
   ]
  },
  {
   "cell_type": "code",
   "execution_count": 17,
   "metadata": {},
   "outputs": [
    {
     "name": "stdout",
     "output_type": "stream",
     "text": [
      "PacoCano\n",
      "Paco Cano\n"
     ]
    }
   ],
   "source": [
    "nombre = 'Paco'\n",
    "print(nombre + 'Cano')\n",
    "apellido = 'Cano'\n",
    "print(nombre + ' ' + apellido)"
   ]
  },
  {
   "cell_type": "markdown",
   "metadata": {},
   "source": [
    "Hablando con propiedad, esta operacion no se llama suma, sino concatenacion. El simbolo utilizado es +, el mismo que usamos cuando sumamos enteros y/o flotantes; pero aunque el simbolo sea el mismo, ten en cuenta que no es igual sumar numeros que concatenar cadenas:"
   ]
  },
  {
   "cell_type": "markdown",
   "metadata": {},
   "source": [
    "Las cadenas también admiten operadores como la suma (concatenación de cadenas) y la multiplicación.  \n",
    "El operador + se utiliza para concatenar cadenas.  \n",
    "El operador * se utiliza para multiplicar una cadena un numero de veces."
   ]
  },
  {
   "cell_type": "code",
   "execution_count": 18,
   "metadata": {},
   "outputs": [
    {
     "name": "stdout",
     "output_type": "stream",
     "text": [
      "unodos\n",
      "unounouno\n"
     ]
    }
   ],
   "source": [
    "# esto son una serie de concatenaciones\n",
    "a = \"uno\"\n",
    "b = \"dos\"\n",
    "\n",
    "c = a + b # c es \"unodos\"\n",
    "print(c)\n",
    "\n",
    "c = a * 3 # c es \"unounouno\"\n",
    "print(c)"
   ]
  },
  {
   "cell_type": "markdown",
   "metadata": {},
   "source": [
    "Sumar o concatenar una cadena y un valor num´erico (entero o flotante) produce un error:"
   ]
  },
  {
   "cell_type": "code",
   "execution_count": 19,
   "metadata": {},
   "outputs": [
    {
     "ename": "TypeError",
     "evalue": "must be str, not int",
     "output_type": "error",
     "traceback": [
      "\u001b[0;31m---------------------------------------------------------------------------\u001b[0m",
      "\u001b[0;31mTypeError\u001b[0m                                 Traceback (most recent call last)",
      "\u001b[0;32m<ipython-input-19-89a64e1914b2>\u001b[0m in \u001b[0;36m<module>\u001b[0;34m()\u001b[0m\n\u001b[0;32m----> 1\u001b[0;31m \u001b[0;34m'12'\u001b[0m \u001b[0;34m+\u001b[0m \u001b[0;36m12\u001b[0m\u001b[0;34m\u001b[0m\u001b[0m\n\u001b[0m",
      "\u001b[0;31mTypeError\u001b[0m: must be str, not int"
     ]
    }
   ],
   "source": [
    "'12' + 12"
   ]
  },
  {
   "cell_type": "markdown",
   "metadata": {},
   "source": [
    "Y para acabar, hay un operador de repeticion de cadenas. El simbolo que lo denota es *, el mismo que hemos usado para multiplicar enteros y/o flotantes. El operador de repeticion necesita dos datos: uno de tipo cadena y otro de tipo entero. El resultado es la concatenacion de la cadena consigo misma tantas veces como indique el numero entero:"
   ]
  },
  {
   "cell_type": "code",
   "execution_count": 20,
   "metadata": {},
   "outputs": [
    {
     "name": "stdout",
     "output_type": "stream",
     "text": [
      "HolaHolaHolaHolaHola\n"
     ]
    }
   ],
   "source": [
    "print('Hola' * 5)"
   ]
  },
  {
   "cell_type": "code",
   "execution_count": 21,
   "metadata": {},
   "outputs": [
    {
     "name": "stdout",
     "output_type": "stream",
     "text": [
      "------------------------------------------------------------\n"
     ]
    }
   ],
   "source": [
    "print('-' * 60)"
   ]
  },
  {
   "cell_type": "code",
   "execution_count": 22,
   "metadata": {},
   "outputs": [
    {
     "name": "stdout",
     "output_type": "stream",
     "text": [
      "------------------------------------------------------------\n"
     ]
    }
   ],
   "source": [
    "print(60 * '-')"
   ]
  },
  {
   "cell_type": "markdown",
   "metadata": {},
   "source": [
    "El concepto de comparacion entre numeros te resulta familiar porque lo has estudiado antes en matematicas. Python extiende el concepto de comparacion a otros tipos de datos, como las cadenas. En el caso de los operadores == y != el significado esta claro: dos cadenas son iguales si son iguales caracter a caracter, y distintas en caso contrario. Pero, ¿que significa que una cadena sea menor que otra? Python utiliza un criterio de comparacion de cadenas muy natural: el orden alfabetico.  \n",
    "En principio, una cadena es menor que otra si la precede al disponerlas en un diccionario. Por ejemplo, 'abajo' es menor que 'arriba'. ¿Y como se comparan cadenas con caracteres no alfabeticos? Es decir, ¿es '@' menor o mayor que ’abc’? Python utiliza los codigos ASCII de los caracteres para decidir su orden alfabetico. Para conocer el valor numerico que corresponde a un caracter, puedes utilizar la funcion predefinida ord, a la que le has de pasar el caracter en cuestion como argumento."
   ]
  },
  {
   "cell_type": "code",
   "execution_count": 23,
   "metadata": {},
   "outputs": [
    {
     "name": "stdout",
     "output_type": "stream",
     "text": [
      "97\n"
     ]
    }
   ],
   "source": [
    "# imprime el valor numerico en la tabla ASCII del caracter\n",
    "print(ord('a'))"
   ]
  },
  {
   "cell_type": "markdown",
   "metadata": {},
   "source": [
    "La funcion inversa (la que pasa un numero a su caracter equivalente) es chr."
   ]
  },
  {
   "cell_type": "code",
   "execution_count": 24,
   "metadata": {},
   "outputs": [
    {
     "name": "stdout",
     "output_type": "stream",
     "text": [
      "a\n"
     ]
    }
   ],
   "source": [
    "# imprime el caracter correspondiente al valor numerico en la tabla ASCII\n",
    "print(chr(97))"
   ]
  },
  {
   "cell_type": "markdown",
   "metadata": {},
   "source": [
    "La tabla ASCII presenta un problema cuando queremos ordenar palabras: las letras mayusculas tienen un valor numerico inferior a las letras minusculas (por lo que 'Zapata' precede a 'ajo') y las letras acentuadas son siempre ((mayores)) que sus equivalentes sin acentuar ('abanico' es menor que 'abaco')."
   ]
  },
  {
   "cell_type": "markdown",
   "metadata": {},
   "source": [
    "### Pequeñas operaciones con cadenas"
   ]
  },
  {
   "cell_type": "markdown",
   "metadata": {},
   "source": [
    "Las funciones llevan incorporadas algunas funciones que nos permiten su manipulacion de manera sencilla.   \n",
    "Por ejemplo podemos cambiar de forma sencilla cadena para que empiece con mayuscula usando la funcion **title**."
   ]
  },
  {
   "cell_type": "code",
   "execution_count": 25,
   "metadata": {},
   "outputs": [
    {
     "name": "stdout",
     "output_type": "stream",
     "text": [
      "juan\n",
      "Juan\n"
     ]
    }
   ],
   "source": [
    "nombre = 'juan'\n",
    "print(nombre)\n",
    "print(nombre.title())"
   ]
  },
  {
   "cell_type": "markdown",
   "metadata": {},
   "source": [
    "A menudo nos encontramos con situaciones en las que nos interesa pasar una cadena de mayusculas a minusculas o viceversa, esto es muy sencillo utilizando las funciones **upper** y **lower**."
   ]
  },
  {
   "cell_type": "code",
   "execution_count": 26,
   "metadata": {},
   "outputs": [
    {
     "name": "stdout",
     "output_type": "stream",
     "text": [
      "JUAN\n",
      "Juan\n",
      "JUAN\n",
      "juan\n"
     ]
    }
   ],
   "source": [
    "nombre = 'JUAN'\n",
    "\n",
    "print(nombre)\n",
    "print(nombre.title()) # titulo (primera letra en mayuscula)\n",
    "print(nombre.upper()) # mayusculas\n",
    "\n",
    "nombre = 'JUAN'\n",
    "print(nombre.lower()) # minusculas"
   ]
  },
  {
   "cell_type": "code",
   "execution_count": 27,
   "metadata": {},
   "outputs": [
    {
     "name": "stdout",
     "output_type": "stream",
     "text": [
      "Leo Messi es un futbolista profesional.\n"
     ]
    }
   ],
   "source": [
    "nombre = 'leo'\n",
    "apellidos = 'messi'\n",
    "nombre_completo = nombre + ' ' + apellidos # concatenacion con espacio en medio\n",
    "\n",
    "cadena = nombre_completo.title() + ' ' + \"es un futbolista profesional.\"\n",
    "\n",
    "print(cadena)"
   ]
  },
  {
   "cell_type": "markdown",
   "metadata": {},
   "source": [
    "### Eliminando espacios en cadenas"
   ]
  },
  {
   "cell_type": "markdown",
   "metadata": {},
   "source": [
    "Muchas veces puede interesarnos eliminar los espacios que se puedan encontrar dentro de una cadena de texto. Especialmente cuando desarrollamos un programa donde el usuario introduce text a traves del teclado y se le va la mano y escribe algun espacio que no deberia aparecer. Para eliminarlos, podemos usar el conjunto de metodos *lstrip, rstrip, strip* que eliminan los espacios a la izquierda, derecha y ambos lados respectivamente."
   ]
  },
  {
   "cell_type": "code",
   "execution_count": 28,
   "metadata": {},
   "outputs": [
    {
     "name": "stdout",
     "output_type": "stream",
     "text": [
      "-juan -\n",
      "- juan-\n",
      "-juan-\n"
     ]
    }
   ],
   "source": [
    "nombre = ' juan ' # hemos anadido \n",
    "\n",
    "print('-'+nombre.lstrip()+'-') #remueve blancos izq\n",
    "print('-'+nombre.rstrip()+'-') #remueve blancos der\n",
    "print('-'+nombre.strip()+'-') # remueve blancos izq y der"
   ]
  },
  {
   "cell_type": "markdown",
   "metadata": {},
   "source": [
    "En general veras esta sintaxis a menudo, donde un nombre de variable es seguido por un punto y luego el nombre de una accion, seguido por dos parentesis. Los parentesis pueden estar vacios o contener valores.  \n",
    "\n",
    "nombre_de_variable.accion()\n",
    "\n",
    "En este ejemplo, la palabra \"accion\" es el nombre de un metodo. Por ahora todo lo que necesitas saber es que un metodo es algo que hace algo sobre la variable. En este caso *title, upper y lower* realizan las acciones de convertir en titulo, mayusculas o minusculas una cadena. Mas adelante aprenderemos a realizar nuestros propios metodos."
   ]
  },
  {
   "cell_type": "markdown",
   "metadata": {},
   "source": [
    "A la funcion *print* se le pueden pasar mas de una cadena. Esta imprimira todo lo que se le ha pasado como argumento.  \n",
    "Algunos ejemplos de tipos de cadenas y sus operaciones."
   ]
  },
  {
   "cell_type": "code",
   "execution_count": 29,
   "metadata": {},
   "outputs": [
    {
     "name": "stdout",
     "output_type": "stream",
     "text": [
      "Texto entre comillas simples\n",
      "<class 'str'>\n",
      "Texto entre comillas dobles\n",
      "<class 'str'>\n",
      "Texto entre \n",
      "\tcomillas simples\n",
      "<class 'str'>\n",
      "Texto linea 1\n",
      "linea 2\n",
      "linea 3\n",
      "linea 4\n",
      ".\n",
      ".\n",
      ".\n",
      ".\n",
      ".\n",
      "linea N\n",
      "\n",
      "<class 'str'>\n",
      "CadenaCadenaCadena\n",
      "<class 'str'>\n",
      "Leonardo Caballero\n",
      "<class 'str'>\n",
      "Tamano de cadena ' Leonardo Caballero ' es: 18\n"
     ]
    }
   ],
   "source": [
    "# -*- coding: utf8 -*-\n",
    "\n",
    "# Comillas simples\n",
    "cadena_a = 'Texto entre comillas simples'\n",
    "print(cadena_a)\n",
    "print(type(cadena_a))\n",
    "\n",
    "# Comillas dobles\n",
    "cadena_b = \"Texto entre comillas dobles\"\n",
    "print(cadena_b)\n",
    "print(type(cadena_b))\n",
    "\n",
    "# Cadena con codigo escapes\n",
    "cadena_esc = 'Texto entre \\n\\tcomillas simples'\n",
    "print(cadena_esc)\n",
    "print(type(cadena_esc))\n",
    "\n",
    "# Cadena multilinea\n",
    "cadena_c = \"\"\"Texto linea 1\n",
    "linea 2\n",
    "linea 3\n",
    "linea 4\n",
    ".\n",
    ".\n",
    ".\n",
    ".\n",
    ".\n",
    "linea N\n",
    "\"\"\"\n",
    "print(cadena_c)\n",
    "print(type(cadena_c))\n",
    "\n",
    "# Repeticion de cadena\n",
    "cad_rep = \"Cadena\" * 3\n",
    "print(cad_rep)\n",
    "print(type(cad_rep))\n",
    "\n",
    "# Concatenacion de cadena\n",
    "nombre = \"Leonardo\"\n",
    "apellido = \"Caballero\"\n",
    "nombre_completo = nombre + \" \" + apellido\n",
    "print(nombre_completo)\n",
    "print(type (nombre_completo))\n",
    "\n",
    "# len calcula el numero de caracteres de una cadena\n",
    "print(\"Tamano de cadena '\", nombre_completo, \"' es:\", len(nombre_completo)) "
   ]
  },
  {
   "cell_type": "markdown",
   "metadata": {},
   "source": [
    "# Tipos Booleanos"
   ]
  },
  {
   "cell_type": "markdown",
   "metadata": {},
   "source": [
    "Hay otro tipo de datos que se usa muy frecuentemente en programación: el tipo de datos lógico o booleano, llamado así por ser propio del álgebra de Boole. Un dato de tipo lógico solo puede presentar uno de dos valores: **True** o **False**, es decir, verdadero o falso. \n",
    "Hay tres operadores lógicos en Python: la «y lógica» o conjunción (**and**), la «o lógica» o disyunción (**or**) y el «no lógico» o negación (**not**). \n",
    "\n",
    "El tipo booleano sólo puede tener dos valores: True (cierto) y False (falso). Estos valores son especialmente importantes para las expresiones condicionales y los bucles, como veremos más adelante.\n",
    "\n",
    "| Símbolo | Operación |\n",
    "|----|----|\n",
    "| and  | retorna true si ambos operandos son true|\n",
    "| or  | retorna true si uno de los operandos es true |\n",
    "| not  | invierte operando |\n",
    "\n",
    "En realidad el tipo bool (el tipo de los booleanos) es una subclase del tipo int. Puede que esto no tenga mucho sentido para tí si no conoces los términos de la orientación a objetos, que veremos más adelantes, aunque tampoco es nada importante."
   ]
  },
  {
   "cell_type": "code",
   "execution_count": 30,
   "metadata": {},
   "outputs": [
    {
     "name": "stdout",
     "output_type": "stream",
     "text": [
      "\n",
      "Tipos de datos booleanos\n",
      "========================\n",
      "\n",
      "El valor es Verdadero: True , el cual es de tipo <class 'bool'> \n",
      "\n",
      "El valor es Falso: False , el cual es de tipo <class 'bool'>\n",
      "\n",
      "Operadores booleanos\n",
      "====================\n",
      "\n",
      "SI es Verdadero Y Falso, entonces es: False , el cual es de tipo <class 'bool'> \n",
      "\n",
      "SI es Verdadero O Falso, entonces es: True , el cual es de tipo <class 'bool'> \n",
      "\n",
      "Si NO es Verdadero, entonces es: False , el cual es de tipo <class 'bool'>\n"
     ]
    }
   ],
   "source": [
    "# -*- coding: utf8 -*-\n",
    "\n",
    "print('\\nTipos de datos booleanos')\n",
    "print('========================\\n')\n",
    "\n",
    "# Tipos de datos booleanos\n",
    "aT = True\n",
    "print(\"El valor es Verdadero:\", aT, \", el cual es de tipo\", type(aT), \"\\n\")\n",
    "\n",
    "aF = False\n",
    "print(\"El valor es Falso:\", aF, \", el cual es de tipo\", type(aF))\n",
    "\n",
    "print('\\nOperadores booleanos')\n",
    "print('====================\\n')\n",
    "\n",
    "# Operadores booleanos\n",
    "aAnd = True and False\n",
    "print(\"SI es Verdadero Y Falso, entonces es:\", aAnd, \", el cual es de tipo\", type(aAnd), \"\\n\")\n",
    "\n",
    "aOr = True or False\n",
    "print(\"SI es Verdadero O Falso, entonces es:\", aOr, \", el cual es de tipo\", type(aOr), \"\\n\")\n",
    "\n",
    "aNot = not True\n",
    "print(\"Si NO es Verdadero, entonces es:\", aNot, \", el cual es de tipo\", type(aNot))"
   ]
  },
  {
   "cell_type": "markdown",
   "metadata": {},
   "source": [
    "# Operadores aritmeticos"
   ]
  },
  {
   "cell_type": "markdown",
   "metadata": {},
   "source": [
    "Los operadores aritméticos son los mas sencillos de todos, se utilizan para realizar operaciones aritméticas básicas, es decir sumas, restas, multiplicación división, modulo/residual, y exponenciales.\n",
    "\n",
    "| Símbolo | Operación |\n",
    "|----|---|\n",
    "| +  | Suma |\n",
    "| -  | Resta |\n",
    "| /  | División |\n",
    "| %  | Módulo (o resto) |\n",
    "| *  | Multiplicación |\n",
    "| //  | División entera |\n",
    "| **  | Exponenciación |\n",
    "\n",
    "El operador de módulo no hace otra cosa que devolvernos el resto de la división entre los dos operandos. En el ejemplo, 7 / 2 sería 3, con 1 de resto, luego el módulo es 1.\n",
    "\n",
    "La diferencia entre división y división entera no es otra que la que indica su nombre. En la división, el resultado que se devuelve es un número real, mientras que en la división entera el resultado que se devuelve es solo la parte entera.\n",
    "\n",
    "**NOTA:** En Python 2.X hay que tener en cuenta que si utilizamos dos operandos enteros, Python determinará que queremos que la variable resultado también sea un entero, por lo que el resultado de, por ejemplo, 3 / 2 y 3 // 2 sería el mismo: 1. Si quisiéramos obtener los decimales necesitaríamos que al menos uno de los operandos fuera un número real, bien indicando los decimales. Por ejemplo, 3.0 / 2. Esto es así porque cuando se mezclan tipos de números, Python convierte todos los operandos al tipo más complejo de entre los tipos de los operandos."
   ]
  },
  {
   "cell_type": "code",
   "execution_count": 11,
   "metadata": {},
   "outputs": [
    {
     "name": "stdout",
     "output_type": "stream",
     "text": [
      "Suma: 37.3\n",
      "Resta: -21\n",
      "Multiplicación: 17.5\n",
      "Exponenciación: 25\n",
      "División: 0.19230769230769232\n",
      "División entera: 5\n",
      "Módulo: 1\n"
     ]
    }
   ],
   "source": [
    "\"\"\"\n",
    "    Operadores numericos\n",
    "\"\"\"\n",
    "a = 26\n",
    "b = 11.3\n",
    "c = 5\n",
    "d = 3.5\n",
    "\n",
    "# Suma, Añade valores a cada lado del operador\n",
    "print('Suma:', a + b)\n",
    "\n",
    "# Resta, Resta el operando de la derecha del operador del lado izquierdo\n",
    "print('Resta:', c - a)\n",
    "\n",
    "# Multiplicacion, Multiplica los valores de ambos lados del operador\n",
    "print('Multiplicación:', d * c)\n",
    "\n",
    "# Exponente, Realiza el cálculo exponencial (potencia) de los operadores\n",
    "print('Exponenciación:', c ** 2)\n",
    "\n",
    "# División\n",
    "print('División:', c / a)\n",
    "\n",
    "# División entera, \n",
    "print('División entera:', a // c)\n",
    "\n",
    "# Módulo, Divide el operando de la izquierda por el \n",
    "# operador del lado derecho y devuelve el resto.\n",
    "print('Módulo:', 7 % 3)"
   ]
  },
  {
   "cell_type": "markdown",
   "metadata": {
    "collapsed": true
   },
   "source": [
    "# Operadores relacionales"
   ]
  },
  {
   "cell_type": "markdown",
   "metadata": {},
   "source": [
    "Los valores booleanos son además el resultado de expresiones que utilizan operadores relacionales (comparaciones entre valores):\n",
    "\n",
    "| Símbolo | Operación |\n",
    "|----|---|\n",
    "| == | True, si es igual |\n",
    "| !=  | True, si no es igual |\n",
    "| < | menor que|\n",
    "| > | mayor que |\n",
    "| <=  | menor o igual que |\n",
    "| >=  | mayor o igual que |"
   ]
  },
  {
   "cell_type": "code",
   "execution_count": null,
   "metadata": {
    "collapsed": true
   },
   "outputs": [],
   "source": [
    "print(5<10) #el resultado es true(verdadero)"
   ]
  },
  {
   "cell_type": "code",
   "execution_count": null,
   "metadata": {
    "collapsed": true
   },
   "outputs": [],
   "source": [
    "print(5>=10) #el resultado es false(falso)"
   ]
  },
  {
   "cell_type": "code",
   "execution_count": null,
   "metadata": {
    "collapsed": true
   },
   "outputs": [],
   "source": [
    "print(\"hola\"==\"hola\") #el resultado es true(verdadero)"
   ]
  },
  {
   "cell_type": "code",
   "execution_count": null,
   "metadata": {
    "collapsed": true
   },
   "outputs": [],
   "source": [
    "print(13!=7) #el resultado es true(verdadero)"
   ]
  },
  {
   "cell_type": "code",
   "execution_count": null,
   "metadata": {
    "collapsed": true
   },
   "outputs": [],
   "source": [
    "a = 5\n",
    "b = 5\n",
    "a1 = 7\n",
    "b1 = 3\n",
    "c1 = 3\n",
    "\n",
    "cadena1 = 'Hola'\n",
    "cadena2 = 'Adios'\n",
    "\n",
    "# igual\n",
    "c = a == b # True\n",
    "print(c) \n",
    "\n",
    "cadenas = cadena1 == cadena2\n",
    "print(cadenas) # False\n",
    "\n",
    "# diferente\n",
    "d = a1 != b # True\n",
    "print(d) \n",
    "\n",
    "cadena0 = cadena1 != cadena2\n",
    "print(cadena0)\n",
    "\n",
    "# mayor que\n",
    "e = a1 > b1 # True\n",
    "print(e)\n",
    "\n",
    "# menor que\n",
    "f = b1 < a1 # True\n",
    "print(f)\n",
    "\n",
    "# mayor o igual que\n",
    "g = b1 >= c1 # True\n",
    "print(g)\n",
    "\n",
    "# menor o igual que\n",
    "h = b1 <= c1 # True\n",
    "print(h)"
   ]
  },
  {
   "cell_type": "markdown",
   "metadata": {},
   "source": [
    "# Predencia de los operadores"
   ]
  },
  {
   "cell_type": "markdown",
   "metadata": {},
   "source": [
    "Si varios operadores se combinan en una expresion, Python aplica las reglas de precedencia para saber el orden de ejecucion de las operaciones.\n",
    "\n",
    "\n",
    "| Operando | Prioridad |\n",
    "|----|---|\n",
    "| ** | 1|\n",
    "| +, - (cambio de signo)  | 2 |\n",
    "| *, /, %, // | 3|\n",
    "| +, - (suma y resta) | 4 |\n",
    "| <, <=, >, >=, !=, == | 5 |\n",
    "| not, or, and  | 6 |"
   ]
  },
  {
   "cell_type": "markdown",
   "metadata": {},
   "source": [
    "Veamos algun ejemplo."
   ]
  },
  {
   "cell_type": "code",
   "execution_count": null,
   "metadata": {
    "collapsed": true
   },
   "outputs": [],
   "source": [
    "a = 20\n",
    "b = 10\n",
    "c = 15\n",
    "d = 5\n",
    "e = 0\n",
    "\n",
    "e = (a + b) * c / d       #( 30 * 15 ) / 5\n",
    "print(\"El valor de (a + b) * c / d es \",  e)\n",
    "\n",
    "e = ((a + b) * c) / d     # (30 * 15 ) / 5\n",
    "print(\"El valor de ((a + b) * c) / d es \",  e)\n",
    "\n",
    "e = (a + b) * (c / d);    # (30) * (15/5)\n",
    "print(\"El valor de (a + b) * (c / d) es \",  e)\n",
    "\n",
    "e = a + (b * c) / d;      #  20 + (150/5)\n",
    "print(\"El valor de + (b * c) / d es \",  e)"
   ]
  },
  {
   "cell_type": "markdown",
   "metadata": {},
   "source": [
    "# Comentarios"
   ]
  },
  {
   "cell_type": "markdown",
   "metadata": {},
   "source": [
    "Habras notado que a lo largo del Notebook hay anotaciones que no son interpretadas/ejecutadas por Python y que comentan aspectos del codigo programado. Esto son comentarios y van precedidos por *#* .\n",
    "\n",
    "\\# esto es un comentario en Python\n",
    "\n",
    "Los comentarios nos ayudaran a dejar notas en partes del codigo que merece la pena aclarar, bien por que son dificiles de entender o por que queremos resaltar algo. Cuando uno programa ha de recordar que potencialmente el codigo sera usado y leido por otros usuarios en el futuro. \n",
    "\n",
    "Existen una serie de normas no escritas acerca de los comentarios. De esta manera un comentario debe ser directo y explicativo de lo que comenta y no se debe comentar cada linea de codigo sino aquellas que merezca la pena aclarar."
   ]
  },
  {
   "cell_type": "code",
   "execution_count": null,
   "metadata": {
    "collapsed": true
   },
   "outputs": [],
   "source": [
    "# esto es un comentario en Python. Cuando Python lee esta linea, no la interpreta"
   ]
  },
  {
   "cell_type": "markdown",
   "metadata": {},
   "source": [
    "# Ejercicios"
   ]
  },
  {
   "cell_type": "markdown",
   "metadata": {},
   "source": [
    "1 - Crea una variable y almacena la frase 'Hola Mundo!' en ella. Imprime la variable."
   ]
  },
  {
   "cell_type": "code",
   "execution_count": 33,
   "metadata": {},
   "outputs": [
    {
     "name": "stdout",
     "output_type": "stream",
     "text": [
      "Hola\n"
     ]
    }
   ],
   "source": [
    "variable = \"Hola\"\n",
    "print (variable)"
   ]
  },
  {
   "cell_type": "markdown",
   "metadata": {},
   "source": [
    "2 - Crea una variable y almacena un mensaje en ella. Imprime la variable. Reescribe la variable con otro mensaje y vuelve a imprimirlo."
   ]
  },
  {
   "cell_type": "code",
   "execution_count": 34,
   "metadata": {},
   "outputs": [
    {
     "name": "stdout",
     "output_type": "stream",
     "text": [
      "Adios\n"
     ]
    }
   ],
   "source": [
    "variable = \"Adios\"\n",
    "print (variable)"
   ]
  },
  {
   "cell_type": "markdown",
   "metadata": {},
   "source": [
    "3 - Encuentra una cita que te guste, guardala en una variable y imprime la cita. Algo como \"Guido Van Rossum dijo, 'Python es un experimento sobre cuanta libertad necesitan los programadores'\". Imprime la cita."
   ]
  },
  {
   "cell_type": "code",
   "execution_count": 47,
   "metadata": {},
   "outputs": [
    {
     "name": "stdout",
     "output_type": "stream",
     "text": [
      "Guido Van Rossum dijo: \"Python es un experimento sobre cuanta libertad necesitan los programadores\".\n"
     ]
    }
   ],
   "source": [
    "cita = \"Python es un experimento sobre cuanta libertad necesitan los programadores\"\n",
    "autor = \"Guido Van Rossum dijo:\"\n",
    "print( autor + ' ' + \"\\\"\" +  cita + \"\\\"\" + \".\")"
   ]
  },
  {
   "cell_type": "markdown",
   "metadata": {},
   "source": [
    "4 - Guarda tu nombre en una variable en minúsculas. Usando esa variable, imprímelo en en minúsculas, Título y MAYÚSCULAS."
   ]
  },
  {
   "cell_type": "code",
   "execution_count": null,
   "metadata": {
    "collapsed": true
   },
   "outputs": [],
   "source": []
  },
  {
   "cell_type": "markdown",
   "metadata": {},
   "source": [
    "5 - Guarda tu nombre y apellidos en variables separadas y luego combínalos para imprimir tu nombre completo."
   ]
  },
  {
   "cell_type": "code",
   "execution_count": null,
   "metadata": {
    "collapsed": true
   },
   "outputs": [],
   "source": []
  },
  {
   "cell_type": "markdown",
   "metadata": {},
   "source": [
    "6 - Escoge el nombre y apellidos de una persona y guardalos en variables separadas. Usa la concatenación para crear una frase acerca de esta persona. Imprime el mensaje."
   ]
  },
  {
   "cell_type": "code",
   "execution_count": null,
   "metadata": {
    "collapsed": true
   },
   "outputs": [],
   "source": []
  },
  {
   "cell_type": "markdown",
   "metadata": {},
   "source": [
    "7 - Guarda tu nombre en una variable con espacios en blanco a cada uno de los lados. Imprime el nombre tal y como lo has creado. Elimina los espacios en blanco a la izquierda, a la derecha y finalmente a ambos lados. Imprime todos los mensajes."
   ]
  },
  {
   "cell_type": "code",
   "execution_count": null,
   "metadata": {
    "collapsed": true
   },
   "outputs": [],
   "source": []
  },
  {
   "cell_type": "markdown",
   "metadata": {},
   "source": [
    "8 - Almacena los resultados de al menos 5 cálculos diferentes en variables separadas. Asegúrate de usar cada operación al menos una vez. Imprime una serie de mensajes informativos, como \"El resultado del de la suma 5 + 7 es 12.\"."
   ]
  },
  {
   "cell_type": "code",
   "execution_count": null,
   "metadata": {
    "collapsed": true
   },
   "outputs": [],
   "source": []
  },
  {
   "cell_type": "markdown",
   "metadata": {},
   "source": [
    "9 - Utiliza o suprime el paréntesis para hacer que todas estas expresiones den como resultado 100\n",
    "- 5 * 3 + 17\n",
    "- 5***(5*4)\n",
    "- 1+2*(2**((2 + 3) + 6) * 3 + 17)"
   ]
  },
  {
   "cell_type": "code",
   "execution_count": null,
   "metadata": {
    "collapsed": true
   },
   "outputs": [],
   "source": []
  },
  {
   "cell_type": "markdown",
   "metadata": {},
   "source": [
    "10 - Una cuadrilla de amigos esta preparando un viaje de fin de semana. En total tienen 15 coches disponibles y en cada coche caben 4 personas. Del total de amigos que son 35, solo 22 conducen y contando con parejas e hijos iran de viaje 44 personas. Desarrolla un programa en python que imprima el numero de coches, el numero de pasajeros, cuantas personas pueden ser transportadas, cuantas personas iran al viaje y la ocupacion media de cada coche.\n",
    "Deberas declarar variables, utilizar el comando print y realizar las operaciones matematicas correspondientes."
   ]
  },
  {
   "cell_type": "code",
   "execution_count": 49,
   "metadata": {},
   "outputs": [
    {
     "name": "stdout",
     "output_type": "stream",
     "text": [
      "El numero de coches es: 15\n",
      "EL numero de personas que pueden ser transportadas es: 60\n",
      "h o l a\n"
     ]
    }
   ],
   "source": [
    "n_coches = 15\n",
    "n_personas_por_coche = 4\n",
    "n_amigos = 35\n",
    "conductores = 22\n",
    "n_personas = 44\n",
    "print ('El numero de coches es: ' + str(n_coches))\n",
    "print ('EL numero de personas que pueden ser transportadas es: ' + str(15*4))\n",
    "print ('h', 'o', 'l','a')"
   ]
  },
  {
   "cell_type": "markdown",
   "metadata": {},
   "source": [
    "11 - Jose tiene una tienda de frutas. Para llevar un control del stock que dispone ha decidido guardar las cantidades de cada fruta en un programa informatico y utilizarlo para calcular las cuentas de las ventas. Al comenzar la manana Jose tenia: 100 kilos peras, 76 kilos de melocotones, 25 kilos de manzanas y 13 kilos de melones. \n",
    "Los precios de cada una de las frutas son:\n",
    "1 kg de peras = 1.56 euros\n",
    "1 kg de melocotones = 2.15 euros\n",
    "1 kg de manzanas = 1 euro\n",
    "1 kg de melones = 0.65 euros\n",
    "Han pasado por la tienda tres personas Ana, Pedro y Carmen y han comprado lo siguiente:\n",
    "Ana : 1.5 kilos de peras y 3 kilos de melocotones\n",
    "Pedro : 2 kilos de peras, 1 kilo de manzanas y 1 kilo de melones\n",
    "Carmen : 4 kilos de peras, 2 kilos de manzanas, 3.5 kilos de de melocotones y 2.5 kilos de melones\n",
    "Escribe un programa en python que calcule la cuenta de cada uno de los compradores y actualice el stock de la tienda de Jose. Imprime por pantalla todos los resultados. Deberas crear las variables necesarias y utilizar los operadores convenientes."
   ]
  },
  {
   "cell_type": "code",
   "execution_count": 55,
   "metadata": {},
   "outputs": [
    {
     "name": "stdout",
     "output_type": "stream",
     "text": [
      "La cuenta de Pedro es: 4.68 euros\n",
      "El stock de peras es ahora: 97\n",
      "97\n"
     ]
    }
   ],
   "source": [
    "p_peras = 1.56\n",
    "k_peras = 100\n",
    "pedro = 3 * p_peras\n",
    "#k_peras = k_peras -2\n",
    "k_peras -= 3 #esto es algo es pecial para que las vaya restando\n",
    "print ('La cuenta de Pedro es: ' +  str(pedro) + ' euros')\n",
    "print ('El stock de peras es ahora: ' + str(k_peras))\n",
    "print (k_peras)"
   ]
  },
  {
   "cell_type": "markdown",
   "metadata": {},
   "source": [
    "12 - Miriam ha realizado un deposito de 15000 euros en el banco de la esperanza. El deposito tiene una rentabilidad anual del 3.5% (los pagos de realizan el 1 de enero de cada anio). Cuanto dinero tendra miriam al retirar el deposito dentro de 4 anios?. Escribir un programa en python que calcule el montante inicial, el montante final y las ganancias."
   ]
  },
  {
   "cell_type": "code",
   "execution_count": 57,
   "metadata": {},
   "outputs": [
    {
     "name": "stdout",
     "output_type": "stream",
     "text": [
      "Miriam se llevará dentro de 4 años: 17212\n"
     ]
    }
   ],
   "source": [
    "deposito = 15000\n",
    "rent = .035 # 3.5% de interés\n",
    "\n",
    "print ('Miriam se llevará dentro de 4 años: ' + str(int(deposito* (1 + rent) **4)))\n"
   ]
  },
  {
   "cell_type": "markdown",
   "metadata": {},
   "source": [
    "13 - Alberto compro 900 acciones del banco de la esperanza por un total de 3000 euros hace 18 meses. Hoy ha dedicido venderlas por un total de 3725 euros . Escribir un programa en python que calcule el interes anual ganado por Alberto junto con el beneficio neto de la operacion. Define las variables necesarias e imprime la informacion de forma clara por pantalla."
   ]
  },
  {
   "cell_type": "code",
   "execution_count": 58,
   "metadata": {},
   "outputs": [
    {
     "name": "stdout",
     "output_type": "stream",
     "text": [
      "beneficio:725\n",
      "interes anual:16.11111111111111\n"
     ]
    }
   ],
   "source": [
    "n_a = 900\n",
    "valor = 3000\n",
    "tiempo = 1.5 #18 meses\n",
    "venta = 3725\n",
    "\n",
    "beneficio = venta - valor\n",
    "interes = (beneficio / tiempo) / valor\n",
    "\n",
    "print ('beneficio:' + str(beneficio))\n",
    "print ('interes anual:' + str(interes*100))"
   ]
  },
  {
   "cell_type": "markdown",
   "metadata": {},
   "source": [
    "14 - La Universidad de Navarra esta realizando un estudio sobre las facultades de medicina, arquitectura y economicas del campus acerca del numero de matriculados en cada facultad y el porcentaje de chicas y chicos inscritos. En medicina hay un total de 1500 estudiantes de los cuales el 59% son chicas. En arquitectura hay un total de 1200 alumnos de los cuales el 67% son chicas y en economicas el numero total de alumnos es de 1400 de los cuales el 63% son chicas. Realiza un programa en python que calcule el porcentaje medio chicas y chicos en cada una de las facultades. Cual es la facultad con mas numero de chicos?. Utiliza operandos de comparacion para obtener la respuesta."
   ]
  },
  {
   "cell_type": "code",
   "execution_count": null,
   "metadata": {
    "collapsed": true
   },
   "outputs": [],
   "source": []
  },
  {
   "cell_type": "markdown",
   "metadata": {},
   "source": [
    "15 - ¿Que resultados se obtendran al evaluar las siguientes expresiones y asignaciones Python? Calcula primero a mano el valor resultante de cada expresion y comprueba, con la ayuda del ordenador, si tu resultado es correcto."
   ]
  },
  {
   "cell_type": "code",
   "execution_count": null,
   "metadata": {
    "collapsed": true
   },
   "outputs": [],
   "source": [
    "print('a' * 3 + '/*' * 5 + 2 * 'abc' + '+')"
   ]
  },
  {
   "cell_type": "code",
   "execution_count": null,
   "metadata": {
    "collapsed": true
   },
   "outputs": [],
   "source": [
    "palindromo = 'abcba'\n",
    "print((4 * '<' + palindromo + '>' * 4) * 2)"
   ]
  },
  {
   "cell_type": "code",
   "execution_count": null,
   "metadata": {
    "collapsed": true
   },
   "outputs": [],
   "source": [
    "subcadena = '=' + '-' * 3 + '='\n",
    "print('10' * 5 + 4 * subcadena)"
   ]
  },
  {
   "cell_type": "code",
   "execution_count": null,
   "metadata": {
    "collapsed": true
   },
   "outputs": [],
   "source": [
    "print(2 * '12' + '.' + '3' * 3 + 'e-' + 4 * '76')"
   ]
  },
  {
   "cell_type": "markdown",
   "metadata": {},
   "source": [
    "16 - Identifica regularidades en las siguientes cadenas, y escribe expresiones que, partiendo de subcadenas mas cortas y utilizando los operadores de concatenacion y repeticion, produzcan las cadenas que se muestran. Introduce variables para formar las expresiones cuando lo consideres oportuno."
   ]
  },
  {
   "cell_type": "code",
   "execution_count": null,
   "metadata": {
    "collapsed": true
   },
   "outputs": [],
   "source": [
    "print('%%%%%./././<-><->')"
   ]
  },
  {
   "cell_type": "code",
   "execution_count": null,
   "metadata": {
    "collapsed": true
   },
   "outputs": [],
   "source": [
    "print('(@)(@)(@)======(@)(@)(@)======')"
   ]
  },
  {
   "cell_type": "code",
   "execution_count": null,
   "metadata": {
    "collapsed": true
   },
   "outputs": [],
   "source": [
    "print('asdfasdfasdf=-=-=-=-=-=-=-??????asdfasdf')"
   ]
  },
  {
   "cell_type": "code",
   "execution_count": null,
   "metadata": {
    "collapsed": true
   },
   "outputs": [],
   "source": [
    "print('........*****---*****---........*****---*****---')"
   ]
  },
  {
   "cell_type": "markdown",
   "metadata": {},
   "source": [
    "17 - ¿Que resultados se muestran al evaluar estas expresiones?"
   ]
  },
  {
   "cell_type": "code",
   "execution_count": null,
   "metadata": {
    "collapsed": true
   },
   "outputs": [],
   "source": [
    "print 'abalorio' < 'abecedario'\n",
    "print 'abecedario' < 'abecedario'\n",
    "print 'abecedario' <= 'abecedario'\n",
    "print 'Abecedario' < 'abecedario'\n",
    "print 'Abecedario' == 'abecedario'\n",
    "print '124' < '13'\n",
    "print '124' < '13'\n",
    "print ' a' < 'a'"
   ]
  }
 ],
 "metadata": {
  "kernelspec": {
   "display_name": "Python 3",
   "language": "python",
   "name": "python3"
  },
  "language_info": {
   "codemirror_mode": {
    "name": "ipython",
    "version": 3
   },
   "file_extension": ".py",
   "mimetype": "text/x-python",
   "name": "python",
   "nbconvert_exporter": "python",
   "pygments_lexer": "ipython3",
   "version": "3.6.3"
  }
 },
 "nbformat": 4,
 "nbformat_minor": 1
}
