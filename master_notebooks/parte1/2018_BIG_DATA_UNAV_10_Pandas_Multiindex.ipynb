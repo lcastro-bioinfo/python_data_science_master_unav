{
 "cells": [
  {
   "cell_type": "markdown",
   "metadata": {},
   "source": [
    "# MultiIndexes\n",
    "\n",
    "Los multiindexes nos permiten añadir más de un indice a nuestros DataFrames, lo que al final permite categorizar los DataFrames de mejor forma, ya sea, a través de mas índices o a traves de mas capas o layers. Esto nos permite hacer operaciones como pivotar los datos, despivotar, que nos permiten hacer cosas muy interesantes. Es más fácil explicarlo con ejemplos que con teorías si que vamos a ello.\n",
    "\n"
   ]
  },
  {
   "cell_type": "markdown",
   "metadata": {},
   "source": [
    "## Índice\n",
    "\n",
    "- [Introducción](#Introducci%C3%B3n)\n",
    "- [Crear un MultiIndex con el método set_index](#Crear-un-MultiIndex-con-el-m%C3%A9todo-.set_index)\n",
    "- [El método get_level_values](#El-m%C3%A9todo-.get_level_values)\n",
    "- [El método set_names](#El-m%C3%A9todo-.set_names-en-MultiIndex)\n",
    "- [Extraer filas de un DataFrame MultiIndex](#Extraer-filas-de-un-MultiIndex-DataFrame)\n",
    "- [El método transpose](#El-m%C3%A9todo-.transpose)\n",
    "- [El método swaplevel](#El-m%C3%A9todo-.swaplevel)\n",
    "- [El método sort_index en un DataFrame MultiIndex](#El-m%C3%A9todo-.sort_index-en-un-MultiIndex-DataFrame)\n",
    "- [El método pivot](#El-m%C3%A9todo-pivot)\n",
    "- [El método stack](#El-m%C3%A9todo-.stack)\n",
    "- [El método unstack Parte 1](#El-m%C3%A9todo-.unstack--Parte-1)\n",
    "- [El método unstack Parte 2](#El-m%C3%A9todo-.unstack--Parte-2)\n",
    "- [El método unstack Parte 3](#El-m%C3%A9todo-.unstack--Parte-3)\n",
    "- [El método pivot_table](#El-m%C3%A9todo-pivot_table)\n",
    "- [El método melt](#El-m%C3%A9todo-pd.melt)\n"
   ]
  },
  {
   "cell_type": "markdown",
   "metadata": {},
   "source": [
    "## Introducción"
   ]
  },
  {
   "cell_type": "code",
   "execution_count": null,
   "metadata": {},
   "outputs": [],
   "source": [
    "import pandas as pd"
   ]
  },
  {
   "cell_type": "markdown",
   "metadata": {},
   "source": [
    "Vamos a abrir un fichero que contiene el precio de la deliciosa BigMac en varios países"
   ]
  },
  {
   "cell_type": "code",
   "execution_count": null,
   "metadata": {},
   "outputs": [],
   "source": [
    "bigmac = pd.read_csv(\"pandas/bigmac.csv\")\n",
    "bigmac.sort_values('Price in US Dollars').head(3)"
   ]
  },
  {
   "cell_type": "code",
   "execution_count": null,
   "metadata": {},
   "outputs": [],
   "source": [
    "bigmac.dtypes\n",
    "bigmac.info()"
   ]
  },
  {
   "cell_type": "markdown",
   "metadata": {},
   "source": [
    "Parseamos la columna Date para que tenga mejor pinta y los convertimos a datetime objetos"
   ]
  },
  {
   "cell_type": "code",
   "execution_count": null,
   "metadata": {},
   "outputs": [],
   "source": [
    "bigmac = pd.read_csv(\"bigmac.csv\", parse_dates = [\"Date\"])\n",
    "bigmac.head(3)"
   ]
  },
  {
   "cell_type": "markdown",
   "metadata": {},
   "source": [
    "## Crear un MultiIndex con el método `.set_index`\n",
    "\n",
    "Vamos a crear nuestro primer multiIndex sobre el dataframe de BigMacs, veámos como, importamos el csv como antes."
   ]
  },
  {
   "cell_type": "code",
   "execution_count": null,
   "metadata": {},
   "outputs": [],
   "source": [
    "bigmac = pd.read_csv(\"bigmac.csv\", parse_dates = [\"Date\"])\n",
    "bigmac.head(3)"
   ]
  },
  {
   "cell_type": "markdown",
   "metadata": {},
   "source": [
    "Ya hemos utilizando `set_index()` antes para crear un nuevo índice sobre un DataFrame, en este caso lo vamos hacer para crear uno múltiple, pero primero veamos como funcionaba con un único parámetro:"
   ]
  },
  {
   "cell_type": "code",
   "execution_count": null,
   "metadata": {},
   "outputs": [],
   "source": [
    "dates = bigmac.set_index(keys = [\"Date\"])\n",
    "dates.head(3)"
   ]
  },
  {
   "cell_type": "markdown",
   "metadata": {},
   "source": [
    "Podemos ver que la columna Date se convierte en indice porque se mueve a la izquierda y está en negrita. Vamos a crear un multiIndex para Date y Country"
   ]
  },
  {
   "cell_type": "code",
   "execution_count": null,
   "metadata": {},
   "outputs": [],
   "source": [
    "bigmac.set_index(keys = [\"Date\", \"Country\"], inplace = True)\n",
    "bigmac.head(3)"
   ]
  },
  {
   "cell_type": "code",
   "execution_count": null,
   "metadata": {},
   "outputs": [],
   "source": [
    "bigmac.sort_index(inplace = True)"
   ]
  },
  {
   "cell_type": "code",
   "execution_count": null,
   "metadata": {},
   "outputs": [],
   "source": [
    "bigmac.head(3)"
   ]
  },
  {
   "cell_type": "markdown",
   "metadata": {},
   "source": [
    "Vamos a ver que pasa si intentamos ordenar los indices. Vamos a usar la función `sort_index()`"
   ]
  },
  {
   "cell_type": "code",
   "execution_count": null,
   "metadata": {},
   "outputs": [],
   "source": [
    "bigmac.sort_index()"
   ]
  },
  {
   "cell_type": "markdown",
   "metadata": {},
   "source": [
    "Como vemos se ordenan de orden ascendente los dos valores, Date y Country. Veamos como obtener información de los indices."
   ]
  },
  {
   "cell_type": "code",
   "execution_count": null,
   "metadata": {},
   "outputs": [],
   "source": [
    "bigmac.index"
   ]
  },
  {
   "cell_type": "code",
   "execution_count": null,
   "metadata": {},
   "outputs": [],
   "source": [
    "bigmac.index.names"
   ]
  },
  {
   "cell_type": "code",
   "execution_count": null,
   "metadata": {},
   "outputs": [],
   "source": [
    "type(bigmac.index)"
   ]
  },
  {
   "cell_type": "code",
   "execution_count": null,
   "metadata": {},
   "outputs": [],
   "source": [
    "bigmac.index[0]"
   ]
  },
  {
   "cell_type": "markdown",
   "metadata": {},
   "source": [
    "## El método `.get_level_values`\n",
    "\n",
    "Este método nos permite obtener los valores para un indice o layer en concreto. Veámos como se usa. Vamos a obtener un multiIndex pero usando una nueva forma, al leer el fichero csv le pasamos directamente los indices que queremos usar."
   ]
  },
  {
   "cell_type": "code",
   "execution_count": null,
   "metadata": {},
   "outputs": [],
   "source": [
    "bigmac = pd.read_csv(\"pandas/bigmac.csv\", parse_dates = [\"Date\"], index_col = [\"Date\", \"Country\"])\n",
    "bigmac.sort_index(inplace = True) # Siempre es recomendable que indexemos para tener una secuencia de elementos ordenada\n",
    "bigmac.head(3)"
   ]
  },
  {
   "cell_type": "markdown",
   "metadata": {},
   "source": [
    "Veamos como podemos obtener el valor del primer indice con la función `get_level_values()`, al que le podemos pasar un valor númerico para especificar el indice o un valor string para especificarlo en función del nombre"
   ]
  },
  {
   "cell_type": "code",
   "execution_count": null,
   "metadata": {},
   "outputs": [],
   "source": [
    "bigmac.index.get_level_values(0)\n",
    "bigmac.index.get_level_values(\"Date\")"
   ]
  },
  {
   "cell_type": "code",
   "execution_count": null,
   "metadata": {},
   "outputs": [],
   "source": [
    "#bigmac.index.get_level_values(1)\n",
    "bigmac.index.get_level_values(\"Country\")"
   ]
  },
  {
   "cell_type": "markdown",
   "metadata": {
    "hideCode": false
   },
   "source": [
    "En general queremos usar un índice cuando no conocemos el nombre del índice y un string cuando sí lo sabemos."
   ]
  },
  {
   "cell_type": "markdown",
   "metadata": {
    "collapsed": true
   },
   "source": [
    "## El método `.set_names` en MultiIndex\n",
    "\n",
    "Vamos a ver para que sirve este método que se ejecuta directamente sobre el objeto MultiIndex. Creamos un DataFrame como en el caso anterior:"
   ]
  },
  {
   "cell_type": "code",
   "execution_count": null,
   "metadata": {},
   "outputs": [],
   "source": [
    "bigmac = pd.read_csv(\"pandas/bigmac.csv\", parse_dates = [\"Date\"], index_col = [\"Date\", \"Country\"])\n",
    "bigmac.sort_index(inplace = True)\n",
    "bigmac.head(3)"
   ]
  },
  {
   "cell_type": "code",
   "execution_count": null,
   "metadata": {},
   "outputs": [],
   "source": [
    "bigmac.index.set_names([\"Day\", \"Location\"], inplace = True)"
   ]
  },
  {
   "cell_type": "code",
   "execution_count": null,
   "metadata": {},
   "outputs": [],
   "source": [
    "bigmac.head(3)"
   ]
  },
  {
   "cell_type": "markdown",
   "metadata": {},
   "source": [
    "Como podemos ver, este método nos permite cambiar el nombre de un índice ya creado en el DataFrame. Si proveemos el mismo nombre que ya teníamos en un índice, basta con dejar el mismo nombre."
   ]
  },
  {
   "cell_type": "markdown",
   "metadata": {
    "collapsed": true
   },
   "source": [
    "## Extraer filas de un `MultiIndex DataFrame`\n",
    "\n",
    "Vamos a ver como podemos obtener filas de un DataFrame construido con un MultiIndex. Como siempre procedemos a leer nuestro csv y cargar el DataFrame.\n",
    "\n",
    "\n"
   ]
  },
  {
   "cell_type": "code",
   "execution_count": null,
   "metadata": {},
   "outputs": [],
   "source": [
    "bigmac = pd.read_csv(\"pandas/bigmac.csv\", parse_dates = [\"Date\"], index_col = [\"Date\", \"Country\"])\n",
    "bigmac.sort_index(inplace = True)\n",
    "bigmac.head(3)"
   ]
  },
  {
   "cell_type": "markdown",
   "metadata": {},
   "source": [
    "Vamos a utilizar el metodo loc para acceder a una fila del DataFrame. El método loc acepta etiquetas como índices, pero en nuestro caso, como tenemos dos índices, debemos usar una tupla para especificar las etiquetas para los índices que vamos a usar, y como último parámetro, especificamos el valor que queremos extraer (la serie o columna), de no ser así nos devolvería todas las diposnibles para las etiquetas suministradas."
   ]
  },
  {
   "cell_type": "code",
   "execution_count": null,
   "metadata": {},
   "outputs": [],
   "source": [
    "bigmac.loc[(\"2010-01-01\", \"Brazil\"), \"Price in US Dollars\"]"
   ]
  },
  {
   "cell_type": "markdown",
   "metadata": {},
   "source": [
    "Veamos algunos ejemplos mas:"
   ]
  },
  {
   "cell_type": "code",
   "execution_count": null,
   "metadata": {},
   "outputs": [],
   "source": [
    "bigmac.loc[(\"2015-07-01\", \"Chile\"), \"Price in US Dollars\"]"
   ]
  },
  {
   "cell_type": "markdown",
   "metadata": {},
   "source": [
    "Veamos como con el método ix, que elimina los indices de los resultados obtenidos, pero el método de busqueda es muy parecido"
   ]
  },
  {
   "cell_type": "code",
   "execution_count": null,
   "metadata": {},
   "outputs": [],
   "source": [
    "bigmac.ix[(\"2016-01-01\", \"China\")]"
   ]
  },
  {
   "cell_type": "markdown",
   "metadata": {},
   "source": [
    "Recordemos que ix nos permite acceder a la serie con string o índice"
   ]
  },
  {
   "cell_type": "code",
   "execution_count": null,
   "metadata": {},
   "outputs": [],
   "source": [
    "bigmac.ix[(\"2016-01-01\", \"China\"), \"Price in US Dollars\"]"
   ]
  },
  {
   "cell_type": "code",
   "execution_count": null,
   "metadata": {},
   "outputs": [],
   "source": [
    "bigmac.ix[(\"2016-01-01\", \"China\"), 0]"
   ]
  },
  {
   "cell_type": "markdown",
   "metadata": {
    "collapsed": true
   },
   "source": [
    "## El método `.transpose`\n",
    "\n",
    "Este método permite cambiar los ejes básicamente, veámos como funciona con un DataFrame con MultiIndex . Como siempre empezamos cargando el DataFrame. "
   ]
  },
  {
   "cell_type": "code",
   "execution_count": null,
   "metadata": {},
   "outputs": [],
   "source": [
    "bigmac = pd.read_csv(\"pandas/bigmac.csv\", parse_dates = [\"Date\"], index_col = [\"Date\", \"Country\"])\n",
    "bigmac.sort_index(inplace = True)\n",
    "bigmac.head(3)"
   ]
  },
  {
   "cell_type": "code",
   "execution_count": null,
   "metadata": {},
   "outputs": [],
   "source": [
    "bigmac = bigmac.transpose()\n",
    "bigmac.head(1)"
   ]
  },
  {
   "cell_type": "markdown",
   "metadata": {},
   "source": [
    "Hemos pasado de tener una columna con 652 filas, a 652 columnas y una única fila. Para poder acceder a una serie en particular podemos utilizar el método ix como antes, pero esta vez cambiando el orden de los parámetros, ya que ahora el primer elemento es un índice normal y no require una tupla."
   ]
  },
  {
   "cell_type": "code",
   "execution_count": null,
   "metadata": {},
   "outputs": [],
   "source": [
    "bigmac.ix[\"Price in US Dollars\", (\"2016-01-01\", \"Denmark\")]"
   ]
  },
  {
   "cell_type": "markdown",
   "metadata": {
    "collapsed": true
   },
   "source": [
    "## El método `.swaplevel`\n",
    "\n",
    "Este método permitir cambiar un level por otro. Veámos como funciona."
   ]
  },
  {
   "cell_type": "code",
   "execution_count": null,
   "metadata": {},
   "outputs": [],
   "source": [
    "bigmac = pd.read_csv(\"pandas/bigmac.csv\", parse_dates = [\"Date\"], index_col = [\"Date\", \"Country\"])\n",
    "bigmac.sort_index(inplace = True)\n",
    "bigmac.head(3)"
   ]
  },
  {
   "cell_type": "code",
   "execution_count": null,
   "metadata": {},
   "outputs": [],
   "source": [
    "bigmac = bigmac.swaplevel()\n",
    "bigmac.head(3)"
   ]
  },
  {
   "cell_type": "markdown",
   "metadata": {},
   "source": [
    "Como podemos ver se cambia un level por otro (un índice por otro), cuando tenemos dos, no hay que proveer ningún argumento a este método, pero si hay más de dos, es conveniente mirar la [documentación](https://pandas.pydata.org/pandas-docs/stable/advanced.html#swapping-levels-with-swaplevel). Hay formás mas sencillas de hacer esto, reseteando los índices o cambiando el orden al cargar el csv."
   ]
  },
  {
   "cell_type": "markdown",
   "metadata": {
    "collapsed": true
   },
   "source": [
    "## El método `.sort_index` en un MultiIndex `DataFrame`\n",
    "\n",
    "Vamos a ver de nuevo el método `sort_index()` para ver como funciona en más detalle. Empezamos recreando de nuevo nuestro DataFrame de siempre."
   ]
  },
  {
   "cell_type": "code",
   "execution_count": null,
   "metadata": {},
   "outputs": [],
   "source": [
    "bigmac = pd.read_csv(\"pandas/bigmac.csv\", parse_dates = [\"Date\"], index_col = [\"Date\", \"Country\"])\n",
    "bigmac.sort_index(inplace = True)\n",
    "bigmac.head(3)"
   ]
  },
  {
   "cell_type": "markdown",
   "metadata": {},
   "source": [
    "Este método tiene un parámetro llamado ascending que si le damos un valor `True` ordenará todos los índices de forma ascendente"
   ]
  },
  {
   "cell_type": "code",
   "execution_count": null,
   "metadata": {},
   "outputs": [],
   "source": [
    "bigmac.sort_index(ascending=True, inplace=True)\n",
    "bigmac"
   ]
  },
  {
   "cell_type": "markdown",
   "metadata": {},
   "source": [
    "Podemos ordenar cada índice de forma separada, simplemente pasado una lista de booleanos al parámetro ascending, los irá mapeando de forma sucesiva a nuestros índices, es decir, el primer elemento de la lista será Date y la segunda Country en nuestro caso. "
   ]
  },
  {
   "cell_type": "code",
   "execution_count": null,
   "metadata": {},
   "outputs": [],
   "source": [
    "bigmac.sort_index(ascending = [True, False], inplace = True)"
   ]
  },
  {
   "cell_type": "code",
   "execution_count": null,
   "metadata": {},
   "outputs": [],
   "source": [
    "bigmac.head(3)"
   ]
  },
  {
   "cell_type": "markdown",
   "metadata": {
    "collapsed": true
   },
   "source": [
    "Podemos ver como fácilmente podemos aplicar criterios distintos de ordenación por índice."
   ]
  },
  {
   "cell_type": "markdown",
   "metadata": {},
   "source": [
    "## El método `pivot`\n",
    "\n",
    "El método `pivot` se suele utilizar para convertir valores de columnas a cabeceras de columnas. Veámos como. Vamos a utilizar un nuevo dataset llamado salesmen.csv que contiene el nombre, fecha e ingresos obtenidos por cada comerciante de ventas."
   ]
  },
  {
   "cell_type": "code",
   "execution_count": null,
   "metadata": {},
   "outputs": [],
   "source": [
    "sales = pd.read_csv(\"pandas/salesmen.csv\", parse_dates = [\"Date\"])\n",
    "\n",
    "sales['Salesman'].value_counts()\n",
    "\n",
    "# Como solo hay 5 valores unicos en la columna salesman, vamos a convertirlo a cateogria\n",
    "sales[\"Salesman\"] = sales[\"Salesman\"].astype(\"category\")\n",
    "sales.head(3)\n"
   ]
  },
  {
   "cell_type": "markdown",
   "metadata": {},
   "source": [
    "Como la columna Salesman se repite mucho, nos puede interesar pivotar la información para mostrarla de otra forma que sea mejor."
   ]
  },
  {
   "cell_type": "code",
   "execution_count": 144,
   "metadata": {},
   "outputs": [
    {
     "data": {
      "text/html": [
       "<div>\n",
       "<style scoped>\n",
       "    .dataframe tbody tr th:only-of-type {\n",
       "        vertical-align: middle;\n",
       "    }\n",
       "\n",
       "    .dataframe tbody tr th {\n",
       "        vertical-align: top;\n",
       "    }\n",
       "\n",
       "    .dataframe thead th {\n",
       "        text-align: right;\n",
       "    }\n",
       "</style>\n",
       "<table border=\"1\" class=\"dataframe\">\n",
       "  <thead>\n",
       "    <tr style=\"text-align: right;\">\n",
       "      <th>Salesman</th>\n",
       "      <th>Bob</th>\n",
       "      <th>Dave</th>\n",
       "      <th>Jeb</th>\n",
       "      <th>Oscar</th>\n",
       "      <th>Ronald</th>\n",
       "    </tr>\n",
       "    <tr>\n",
       "      <th>Date</th>\n",
       "      <th></th>\n",
       "      <th></th>\n",
       "      <th></th>\n",
       "      <th></th>\n",
       "      <th></th>\n",
       "    </tr>\n",
       "  </thead>\n",
       "  <tbody>\n",
       "    <tr>\n",
       "      <th>2016-01-01</th>\n",
       "      <td>7172</td>\n",
       "      <td>1864</td>\n",
       "      <td>4430</td>\n",
       "      <td>5250</td>\n",
       "      <td>2639</td>\n",
       "    </tr>\n",
       "    <tr>\n",
       "      <th>2016-01-02</th>\n",
       "      <td>6362</td>\n",
       "      <td>8278</td>\n",
       "      <td>8026</td>\n",
       "      <td>8661</td>\n",
       "      <td>4951</td>\n",
       "    </tr>\n",
       "    <tr>\n",
       "      <th>2016-01-03</th>\n",
       "      <td>5982</td>\n",
       "      <td>4226</td>\n",
       "      <td>5188</td>\n",
       "      <td>7075</td>\n",
       "      <td>2703</td>\n",
       "    </tr>\n",
       "  </tbody>\n",
       "</table>\n",
       "</div>"
      ],
      "text/plain": [
       "Salesman     Bob  Dave   Jeb  Oscar  Ronald\n",
       "Date                                       \n",
       "2016-01-01  7172  1864  4430   5250    2639\n",
       "2016-01-02  6362  8278  8026   8661    4951\n",
       "2016-01-03  5982  4226  5188   7075    2703"
      ]
     },
     "execution_count": 144,
     "metadata": {},
     "output_type": "execute_result"
    }
   ],
   "source": [
    "sales.pivot(index='Date', columns='Salesman', values='Revenue').head(3)"
   ]
  },
  {
   "cell_type": "markdown",
   "metadata": {},
   "source": [
    "## El método `.stack`\n",
    "\n",
    "Este método permite mover el indíce de columna al índice horizontal, el que está más a la izquierda del todo. Esto es más fácil de entender si lo vemos en práctica que de forma escrita. \n",
    "\n",
    "Vamos a abrir un fichero llamado worldstats.csv que contiene paises, población, años y GPD (el PIB) y veamos como usar el método `stack()`"
   ]
  },
  {
   "cell_type": "code",
   "execution_count": null,
   "metadata": {},
   "outputs": [],
   "source": [
    "world = pd.read_csv(\"pandas/worldstats.csv\", index_col = [\"country\", \"year\"])\n",
    "world.head(3)"
   ]
  },
  {
   "cell_type": "code",
   "execution_count": null,
   "metadata": {},
   "outputs": [],
   "source": [
    "world.stack().to_frame()"
   ]
  },
  {
   "cell_type": "markdown",
   "metadata": {},
   "source": [
    "Básicamente, stack acopla las columnas en los índices que hemos creado al cargar el csv, en este caso Country y Year. El resultado de stack es un objecto Series, así que podemos usar el metodo `to_frame()` para convertirlo a DataFrame."
   ]
  },
  {
   "cell_type": "markdown",
   "metadata": {},
   "source": [
    "## El método `.unstack`  Parte 1\n",
    "\n",
    "El método `unstack()` permite deshacer una operación stack, evidentemente. Veámos como funciona."
   ]
  },
  {
   "cell_type": "code",
   "execution_count": null,
   "metadata": {},
   "outputs": [],
   "source": [
    "world = pd.read_csv(\"pandas/worldstats.csv\", index_col = [\"country\", \"year\"])\n",
    "world.head(3)"
   ]
  },
  {
   "cell_type": "code",
   "execution_count": null,
   "metadata": {},
   "outputs": [],
   "source": [
    "# Hacemos stack\n",
    "s = world.stack()\n",
    "s.head(3)"
   ]
  },
  {
   "cell_type": "markdown",
   "metadata": {},
   "source": [
    "Vamos a llamar al método `unstack()` para ver si podemos volver a nuestro DataFrame "
   ]
  },
  {
   "cell_type": "code",
   "execution_count": null,
   "metadata": {},
   "outputs": [],
   "source": [
    "s.unstack()"
   ]
  },
  {
   "cell_type": "code",
   "execution_count": null,
   "metadata": {},
   "outputs": [],
   "source": [
    "s.unstack().unstack()"
   ]
  },
  {
   "cell_type": "code",
   "execution_count": null,
   "metadata": {},
   "outputs": [],
   "source": [
    "s.unstack().unstack().unstack()"
   ]
  },
  {
   "cell_type": "markdown",
   "metadata": {},
   "source": [
    "## El método `.unstack`  Parte 2\n"
   ]
  },
  {
   "cell_type": "code",
   "execution_count": null,
   "metadata": {},
   "outputs": [],
   "source": [
    "world = pd.read_csv(\"pandas/worldstats.csv\", index_col = [\"country\", \"year\"])\n",
    "world.head(3)"
   ]
  },
  {
   "cell_type": "code",
   "execution_count": null,
   "metadata": {},
   "outputs": [],
   "source": [
    "s = world.stack()\n",
    "s.head(3)"
   ]
  },
  {
   "cell_type": "markdown",
   "metadata": {
    "hideCode": false
   },
   "source": [
    "El método unstack acepta un índice, el que queremos \"desapilar\". Dicho esto, en nuestro caso Country es en índice 0 y year el índice 1, por lo que si queremos desapilar el índice country y que pase a formar parte de las columnas, podemos hacer"
   ]
  },
  {
   "cell_type": "code",
   "execution_count": null,
   "metadata": {},
   "outputs": [],
   "source": [
    "s.unstack(0)"
   ]
  },
  {
   "cell_type": "markdown",
   "metadata": {},
   "source": [
    "Como curiosidad, podemos acceder también al índice por nombre, siempre que tenga, en nuestro caso solo year y country tienen nombre."
   ]
  },
  {
   "cell_type": "code",
   "execution_count": null,
   "metadata": {},
   "outputs": [],
   "source": [
    "s.unstack('country')"
   ]
  },
  {
   "cell_type": "markdown",
   "metadata": {},
   "source": [
    "## El método `.unstack`  Parte 3\n",
    "\n",
    "Veamos cómo podemos hacer unstack en varios niveles o índices."
   ]
  },
  {
   "cell_type": "code",
   "execution_count": null,
   "metadata": {},
   "outputs": [],
   "source": [
    "world = pd.read_csv(\"pandas/worldstats.csv\", index_col = [\"country\", \"year\"])\n",
    "s = world.stack()\n",
    "world.head(3)\n",
    "s.head(3)"
   ]
  },
  {
   "cell_type": "code",
   "execution_count": null,
   "metadata": {},
   "outputs": [],
   "source": [
    "s.unstack(level=[\"year\", \"country\"])"
   ]
  },
  {
   "cell_type": "markdown",
   "metadata": {},
   "source": [
    "Como podemos ver, podemos desapilar usando indíces basados en nombre, pero tambíen basados en números, incluso negativos. Si llamamos a unstack solamanete con un índice, por ejemplo:"
   ]
  },
  {
   "cell_type": "code",
   "execution_count": null,
   "metadata": {},
   "outputs": [],
   "source": [
    "s.unstack('year')"
   ]
  },
  {
   "cell_type": "markdown",
   "metadata": {},
   "source": [
    "Y queremos eliminar los valores NaN cuando desapilamos, podemos usar el parámetro fill_value."
   ]
  },
  {
   "cell_type": "code",
   "execution_count": null,
   "metadata": {},
   "outputs": [],
   "source": [
    "s = s.unstack('year', fill_value=0)\n",
    "s.head()"
   ]
  },
  {
   "cell_type": "markdown",
   "metadata": {},
   "source": [
    "## El método `pivot_table`\n",
    "\n",
    "Este método funciona de forma muy parecida al pivot_table de Excel, nos permite hacer operaciones en conjunto sobre un DataFrame. Veámos como funciona. Supongamos que tenemos un nuevo fichero de datos llamado foods.csv que nos indica el nombre, sexo, ciudad, frecuencia, comida y cantidad gastada de varias personas y ciudades. Así que vamos a cargar nuestro nuevo DataFrame"
   ]
  },
  {
   "cell_type": "code",
   "execution_count": 142,
   "metadata": {},
   "outputs": [
    {
     "data": {
      "text/html": [
       "<div>\n",
       "<style scoped>\n",
       "    .dataframe tbody tr th:only-of-type {\n",
       "        vertical-align: middle;\n",
       "    }\n",
       "\n",
       "    .dataframe tbody tr th {\n",
       "        vertical-align: top;\n",
       "    }\n",
       "\n",
       "    .dataframe thead th {\n",
       "        text-align: right;\n",
       "    }\n",
       "</style>\n",
       "<table border=\"1\" class=\"dataframe\">\n",
       "  <thead>\n",
       "    <tr style=\"text-align: right;\">\n",
       "      <th></th>\n",
       "      <th>First Name</th>\n",
       "      <th>Gender</th>\n",
       "      <th>City</th>\n",
       "      <th>Frequency</th>\n",
       "      <th>Item</th>\n",
       "      <th>Spend</th>\n",
       "    </tr>\n",
       "  </thead>\n",
       "  <tbody>\n",
       "    <tr>\n",
       "      <th>0</th>\n",
       "      <td>Wanda</td>\n",
       "      <td>Female</td>\n",
       "      <td>Stamford</td>\n",
       "      <td>Weekly</td>\n",
       "      <td>Burger</td>\n",
       "      <td>15.66</td>\n",
       "    </tr>\n",
       "    <tr>\n",
       "      <th>1</th>\n",
       "      <td>Eric</td>\n",
       "      <td>Male</td>\n",
       "      <td>Stamford</td>\n",
       "      <td>Daily</td>\n",
       "      <td>Chalupa</td>\n",
       "      <td>10.56</td>\n",
       "    </tr>\n",
       "    <tr>\n",
       "      <th>2</th>\n",
       "      <td>Charles</td>\n",
       "      <td>Male</td>\n",
       "      <td>New York</td>\n",
       "      <td>Never</td>\n",
       "      <td>Sushi</td>\n",
       "      <td>42.14</td>\n",
       "    </tr>\n",
       "  </tbody>\n",
       "</table>\n",
       "</div>"
      ],
      "text/plain": [
       "  First Name  Gender      City Frequency     Item  Spend\n",
       "0      Wanda  Female  Stamford    Weekly   Burger  15.66\n",
       "1       Eric    Male  Stamford     Daily  Chalupa  10.56\n",
       "2    Charles    Male  New York     Never    Sushi  42.14"
      ]
     },
     "execution_count": 142,
     "metadata": {},
     "output_type": "execute_result"
    }
   ],
   "source": [
    "foods =pd.read_csv(\"pandas/foods.csv\")\n",
    "foods.head(3)"
   ]
  },
  {
   "cell_type": "markdown",
   "metadata": {},
   "source": [
    "Supongamos que queremos obtener la media de gasto por genero:"
   ]
  },
  {
   "cell_type": "code",
   "execution_count": 148,
   "metadata": {},
   "outputs": [
    {
     "data": {
      "text/html": [
       "<div>\n",
       "<style scoped>\n",
       "    .dataframe tbody tr th:only-of-type {\n",
       "        vertical-align: middle;\n",
       "    }\n",
       "\n",
       "    .dataframe tbody tr th {\n",
       "        vertical-align: top;\n",
       "    }\n",
       "\n",
       "    .dataframe thead th {\n",
       "        text-align: right;\n",
       "    }\n",
       "</style>\n",
       "<table border=\"1\" class=\"dataframe\">\n",
       "  <thead>\n",
       "    <tr style=\"text-align: right;\">\n",
       "      <th></th>\n",
       "      <th>Spend</th>\n",
       "    </tr>\n",
       "    <tr>\n",
       "      <th>Gender</th>\n",
       "      <th></th>\n",
       "    </tr>\n",
       "  </thead>\n",
       "  <tbody>\n",
       "    <tr>\n",
       "      <th>Female</th>\n",
       "      <td>50.709629</td>\n",
       "    </tr>\n",
       "    <tr>\n",
       "      <th>Male</th>\n",
       "      <td>49.397623</td>\n",
       "    </tr>\n",
       "  </tbody>\n",
       "</table>\n",
       "</div>"
      ],
      "text/plain": [
       "            Spend\n",
       "Gender           \n",
       "Female  50.709629\n",
       "Male    49.397623"
      ]
     },
     "execution_count": 148,
     "metadata": {},
     "output_type": "execute_result"
    }
   ],
   "source": [
    "foods.pivot_table(values= \"Spend\", index=\"Gender\", aggfunc= \"mean\")"
   ]
  },
  {
   "cell_type": "markdown",
   "metadata": {},
   "source": [
    " El primer argumento values especifica sobre que valor queremos pivotar, el segundo que índice vamos a utilizar para mostrar la información y aggfunc especifica la funcióń de agrupación que queramos hacer. Podemos crear un MultiIndex si suministramos una lista al parámetro index. Veamos como, supongamos que queremos obtener la suma de las comidas compradas indexadas por sexo y además queremos ver en qué ciudad. "
   ]
  },
  {
   "cell_type": "code",
   "execution_count": 150,
   "metadata": {},
   "outputs": [
    {
     "data": {
      "text/html": [
       "<div>\n",
       "<style scoped>\n",
       "    .dataframe tbody tr th:only-of-type {\n",
       "        vertical-align: middle;\n",
       "    }\n",
       "\n",
       "    .dataframe tbody tr th {\n",
       "        vertical-align: top;\n",
       "    }\n",
       "\n",
       "    .dataframe thead th {\n",
       "        text-align: right;\n",
       "    }\n",
       "</style>\n",
       "<table border=\"1\" class=\"dataframe\">\n",
       "  <thead>\n",
       "    <tr style=\"text-align: right;\">\n",
       "      <th></th>\n",
       "      <th>City</th>\n",
       "      <th>New York</th>\n",
       "      <th>Philadelphia</th>\n",
       "      <th>Stamford</th>\n",
       "    </tr>\n",
       "    <tr>\n",
       "      <th>Gender</th>\n",
       "      <th>Item</th>\n",
       "      <th></th>\n",
       "      <th></th>\n",
       "      <th></th>\n",
       "    </tr>\n",
       "  </thead>\n",
       "  <tbody>\n",
       "    <tr>\n",
       "      <th rowspan=\"6\" valign=\"top\">Female</th>\n",
       "      <th>Burger</th>\n",
       "      <td>1239.04</td>\n",
       "      <td>1639.24</td>\n",
       "      <td>1216.02</td>\n",
       "    </tr>\n",
       "    <tr>\n",
       "      <th>Burrito</th>\n",
       "      <td>978.95</td>\n",
       "      <td>1458.76</td>\n",
       "      <td>1820.11</td>\n",
       "    </tr>\n",
       "    <tr>\n",
       "      <th>Chalupa</th>\n",
       "      <td>876.58</td>\n",
       "      <td>1673.33</td>\n",
       "      <td>1602.35</td>\n",
       "    </tr>\n",
       "    <tr>\n",
       "      <th>Donut</th>\n",
       "      <td>1446.78</td>\n",
       "      <td>1639.26</td>\n",
       "      <td>1656.96</td>\n",
       "    </tr>\n",
       "    <tr>\n",
       "      <th>Ice Cream</th>\n",
       "      <td>1521.62</td>\n",
       "      <td>1479.22</td>\n",
       "      <td>1032.03</td>\n",
       "    </tr>\n",
       "    <tr>\n",
       "      <th>Sushi</th>\n",
       "      <td>1480.29</td>\n",
       "      <td>1742.88</td>\n",
       "      <td>1459.91</td>\n",
       "    </tr>\n",
       "    <tr>\n",
       "      <th rowspan=\"6\" valign=\"top\">Male</th>\n",
       "      <th>Burger</th>\n",
       "      <td>1294.09</td>\n",
       "      <td>938.18</td>\n",
       "      <td>1439.16</td>\n",
       "    </tr>\n",
       "    <tr>\n",
       "      <th>Burrito</th>\n",
       "      <td>1399.40</td>\n",
       "      <td>1312.93</td>\n",
       "      <td>1300.29</td>\n",
       "    </tr>\n",
       "    <tr>\n",
       "      <th>Chalupa</th>\n",
       "      <td>1227.77</td>\n",
       "      <td>1114.23</td>\n",
       "      <td>1150.26</td>\n",
       "    </tr>\n",
       "    <tr>\n",
       "      <th>Donut</th>\n",
       "      <td>1345.27</td>\n",
       "      <td>1249.36</td>\n",
       "      <td>1421.13</td>\n",
       "    </tr>\n",
       "    <tr>\n",
       "      <th>Ice Cream</th>\n",
       "      <td>1603.63</td>\n",
       "      <td>2191.27</td>\n",
       "      <td>1059.22</td>\n",
       "    </tr>\n",
       "    <tr>\n",
       "      <th>Sushi</th>\n",
       "      <td>1396.15</td>\n",
       "      <td>1395.88</td>\n",
       "      <td>1267.82</td>\n",
       "    </tr>\n",
       "  </tbody>\n",
       "</table>\n",
       "</div>"
      ],
      "text/plain": [
       "City              New York  Philadelphia  Stamford\n",
       "Gender Item                                       \n",
       "Female Burger      1239.04       1639.24   1216.02\n",
       "       Burrito      978.95       1458.76   1820.11\n",
       "       Chalupa      876.58       1673.33   1602.35\n",
       "       Donut       1446.78       1639.26   1656.96\n",
       "       Ice Cream   1521.62       1479.22   1032.03\n",
       "       Sushi       1480.29       1742.88   1459.91\n",
       "Male   Burger      1294.09        938.18   1439.16\n",
       "       Burrito     1399.40       1312.93   1300.29\n",
       "       Chalupa     1227.77       1114.23   1150.26\n",
       "       Donut       1345.27       1249.36   1421.13\n",
       "       Ice Cream   1603.63       2191.27   1059.22\n",
       "       Sushi       1396.15       1395.88   1267.82"
      ]
     },
     "execution_count": 150,
     "metadata": {},
     "output_type": "execute_result"
    }
   ],
   "source": [
    "foods.pivot_table(values = \"Spend\", index = [\"Gender\", \"Item\"], columns = \"City\", aggfunc = \"sum\")"
   ]
  },
  {
   "cell_type": "markdown",
   "metadata": {},
   "source": [
    "Es interesante porque hemos obtenido un DataFrame MuliIndex con indices Gender y Item pero además con los valores sumados por Ciudad tambien. También podemos obtener MultiIndex de columnas si añadimos una lista de valores, veamos que ocurre a continuación."
   ]
  },
  {
   "cell_type": "code",
   "execution_count": 154,
   "metadata": {},
   "outputs": [
    {
     "data": {
      "text/html": [
       "<div>\n",
       "<style scoped>\n",
       "    .dataframe tbody tr th:only-of-type {\n",
       "        vertical-align: middle;\n",
       "    }\n",
       "\n",
       "    .dataframe tbody tr th {\n",
       "        vertical-align: top;\n",
       "    }\n",
       "\n",
       "    .dataframe thead tr th {\n",
       "        text-align: left;\n",
       "    }\n",
       "\n",
       "    .dataframe thead tr:last-of-type th {\n",
       "        text-align: right;\n",
       "    }\n",
       "</style>\n",
       "<table border=\"1\" class=\"dataframe\">\n",
       "  <thead>\n",
       "    <tr>\n",
       "      <th></th>\n",
       "      <th>Frequency</th>\n",
       "      <th colspan=\"3\" halign=\"left\">Daily</th>\n",
       "      <th colspan=\"3\" halign=\"left\">Monthly</th>\n",
       "      <th colspan=\"3\" halign=\"left\">Never</th>\n",
       "      <th>Often</th>\n",
       "      <th>...</th>\n",
       "      <th>Once</th>\n",
       "      <th colspan=\"3\" halign=\"left\">Seldom</th>\n",
       "      <th colspan=\"3\" halign=\"left\">Weekly</th>\n",
       "      <th colspan=\"3\" halign=\"left\">Yearly</th>\n",
       "    </tr>\n",
       "    <tr>\n",
       "      <th></th>\n",
       "      <th>City</th>\n",
       "      <th>New York</th>\n",
       "      <th>Philadelphia</th>\n",
       "      <th>Stamford</th>\n",
       "      <th>New York</th>\n",
       "      <th>Philadelphia</th>\n",
       "      <th>Stamford</th>\n",
       "      <th>New York</th>\n",
       "      <th>Philadelphia</th>\n",
       "      <th>Stamford</th>\n",
       "      <th>New York</th>\n",
       "      <th>...</th>\n",
       "      <th>Stamford</th>\n",
       "      <th>New York</th>\n",
       "      <th>Philadelphia</th>\n",
       "      <th>Stamford</th>\n",
       "      <th>New York</th>\n",
       "      <th>Philadelphia</th>\n",
       "      <th>Stamford</th>\n",
       "      <th>New York</th>\n",
       "      <th>Philadelphia</th>\n",
       "      <th>Stamford</th>\n",
       "    </tr>\n",
       "    <tr>\n",
       "      <th>Gender</th>\n",
       "      <th>Item</th>\n",
       "      <th></th>\n",
       "      <th></th>\n",
       "      <th></th>\n",
       "      <th></th>\n",
       "      <th></th>\n",
       "      <th></th>\n",
       "      <th></th>\n",
       "      <th></th>\n",
       "      <th></th>\n",
       "      <th></th>\n",
       "      <th></th>\n",
       "      <th></th>\n",
       "      <th></th>\n",
       "      <th></th>\n",
       "      <th></th>\n",
       "      <th></th>\n",
       "      <th></th>\n",
       "      <th></th>\n",
       "      <th></th>\n",
       "      <th></th>\n",
       "      <th></th>\n",
       "    </tr>\n",
       "  </thead>\n",
       "  <tbody>\n",
       "    <tr>\n",
       "      <th rowspan=\"6\" valign=\"top\">Female</th>\n",
       "      <th>Burger</th>\n",
       "      <td>87.30</td>\n",
       "      <td>91.12</td>\n",
       "      <td>75.51</td>\n",
       "      <td>97.77</td>\n",
       "      <td>89.52</td>\n",
       "      <td>84.70</td>\n",
       "      <td>97.89</td>\n",
       "      <td>84.04</td>\n",
       "      <td>57.30</td>\n",
       "      <td>82.00</td>\n",
       "      <td>...</td>\n",
       "      <td>72.69</td>\n",
       "      <td>44.51</td>\n",
       "      <td>97.79</td>\n",
       "      <td>74.88</td>\n",
       "      <td>93.25</td>\n",
       "      <td>25.41</td>\n",
       "      <td>57.29</td>\n",
       "      <td>98.96</td>\n",
       "      <td>64.62</td>\n",
       "      <td>85.06</td>\n",
       "    </tr>\n",
       "    <tr>\n",
       "      <th>Burrito</th>\n",
       "      <td>83.29</td>\n",
       "      <td>91.58</td>\n",
       "      <td>80.49</td>\n",
       "      <td>73.89</td>\n",
       "      <td>33.24</td>\n",
       "      <td>67.94</td>\n",
       "      <td>91.77</td>\n",
       "      <td>96.79</td>\n",
       "      <td>98.61</td>\n",
       "      <td>62.70</td>\n",
       "      <td>...</td>\n",
       "      <td>67.36</td>\n",
       "      <td>92.25</td>\n",
       "      <td>83.33</td>\n",
       "      <td>94.99</td>\n",
       "      <td>25.30</td>\n",
       "      <td>61.56</td>\n",
       "      <td>81.18</td>\n",
       "      <td>70.24</td>\n",
       "      <td>50.39</td>\n",
       "      <td>76.32</td>\n",
       "    </tr>\n",
       "    <tr>\n",
       "      <th>Chalupa</th>\n",
       "      <td>43.19</td>\n",
       "      <td>23.49</td>\n",
       "      <td>95.70</td>\n",
       "      <td>87.86</td>\n",
       "      <td>90.69</td>\n",
       "      <td>93.08</td>\n",
       "      <td>35.15</td>\n",
       "      <td>53.31</td>\n",
       "      <td>98.78</td>\n",
       "      <td>39.73</td>\n",
       "      <td>...</td>\n",
       "      <td>40.59</td>\n",
       "      <td>92.98</td>\n",
       "      <td>96.11</td>\n",
       "      <td>81.63</td>\n",
       "      <td>73.77</td>\n",
       "      <td>38.66</td>\n",
       "      <td>98.69</td>\n",
       "      <td>98.43</td>\n",
       "      <td>85.36</td>\n",
       "      <td>92.16</td>\n",
       "    </tr>\n",
       "    <tr>\n",
       "      <th>Donut</th>\n",
       "      <td>95.63</td>\n",
       "      <td>92.25</td>\n",
       "      <td>77.71</td>\n",
       "      <td>82.05</td>\n",
       "      <td>50.25</td>\n",
       "      <td>82.25</td>\n",
       "      <td>56.07</td>\n",
       "      <td>96.52</td>\n",
       "      <td>59.04</td>\n",
       "      <td>69.32</td>\n",
       "      <td>...</td>\n",
       "      <td>88.14</td>\n",
       "      <td>71.18</td>\n",
       "      <td>81.56</td>\n",
       "      <td>73.84</td>\n",
       "      <td>85.93</td>\n",
       "      <td>95.32</td>\n",
       "      <td>91.75</td>\n",
       "      <td>62.95</td>\n",
       "      <td>85.51</td>\n",
       "      <td>69.40</td>\n",
       "    </tr>\n",
       "    <tr>\n",
       "      <th>Ice Cream</th>\n",
       "      <td>97.83</td>\n",
       "      <td>79.18</td>\n",
       "      <td>78.24</td>\n",
       "      <td>51.51</td>\n",
       "      <td>40.64</td>\n",
       "      <td>59.76</td>\n",
       "      <td>95.60</td>\n",
       "      <td>71.49</td>\n",
       "      <td>77.66</td>\n",
       "      <td>91.50</td>\n",
       "      <td>...</td>\n",
       "      <td>79.12</td>\n",
       "      <td>95.58</td>\n",
       "      <td>79.52</td>\n",
       "      <td>78.62</td>\n",
       "      <td>77.70</td>\n",
       "      <td>88.14</td>\n",
       "      <td>47.96</td>\n",
       "      <td>70.45</td>\n",
       "      <td>63.62</td>\n",
       "      <td>15.24</td>\n",
       "    </tr>\n",
       "    <tr>\n",
       "      <th>Sushi</th>\n",
       "      <td>74.72</td>\n",
       "      <td>99.02</td>\n",
       "      <td>86.94</td>\n",
       "      <td>83.53</td>\n",
       "      <td>78.71</td>\n",
       "      <td>55.78</td>\n",
       "      <td>69.33</td>\n",
       "      <td>75.12</td>\n",
       "      <td>19.56</td>\n",
       "      <td>95.07</td>\n",
       "      <td>...</td>\n",
       "      <td>95.43</td>\n",
       "      <td>87.70</td>\n",
       "      <td>85.37</td>\n",
       "      <td>27.82</td>\n",
       "      <td>99.51</td>\n",
       "      <td>84.27</td>\n",
       "      <td>91.33</td>\n",
       "      <td>74.85</td>\n",
       "      <td>61.22</td>\n",
       "      <td>83.28</td>\n",
       "    </tr>\n",
       "    <tr>\n",
       "      <th rowspan=\"6\" valign=\"top\">Male</th>\n",
       "      <th>Burger</th>\n",
       "      <td>84.74</td>\n",
       "      <td>65.89</td>\n",
       "      <td>69.33</td>\n",
       "      <td>80.64</td>\n",
       "      <td>96.25</td>\n",
       "      <td>18.21</td>\n",
       "      <td>90.32</td>\n",
       "      <td>15.60</td>\n",
       "      <td>NaN</td>\n",
       "      <td>33.68</td>\n",
       "      <td>...</td>\n",
       "      <td>88.05</td>\n",
       "      <td>83.84</td>\n",
       "      <td>99.68</td>\n",
       "      <td>89.99</td>\n",
       "      <td>69.69</td>\n",
       "      <td>75.59</td>\n",
       "      <td>97.20</td>\n",
       "      <td>44.18</td>\n",
       "      <td>98.83</td>\n",
       "      <td>78.79</td>\n",
       "    </tr>\n",
       "    <tr>\n",
       "      <th>Burrito</th>\n",
       "      <td>98.04</td>\n",
       "      <td>67.20</td>\n",
       "      <td>81.20</td>\n",
       "      <td>73.58</td>\n",
       "      <td>35.95</td>\n",
       "      <td>71.85</td>\n",
       "      <td>35.78</td>\n",
       "      <td>93.27</td>\n",
       "      <td>95.07</td>\n",
       "      <td>73.64</td>\n",
       "      <td>...</td>\n",
       "      <td>24.87</td>\n",
       "      <td>84.74</td>\n",
       "      <td>27.71</td>\n",
       "      <td>9.84</td>\n",
       "      <td>91.48</td>\n",
       "      <td>78.95</td>\n",
       "      <td>72.27</td>\n",
       "      <td>65.45</td>\n",
       "      <td>63.76</td>\n",
       "      <td>74.79</td>\n",
       "    </tr>\n",
       "    <tr>\n",
       "      <th>Chalupa</th>\n",
       "      <td>28.36</td>\n",
       "      <td>92.25</td>\n",
       "      <td>99.87</td>\n",
       "      <td>95.49</td>\n",
       "      <td>73.05</td>\n",
       "      <td>93.25</td>\n",
       "      <td>53.69</td>\n",
       "      <td>86.82</td>\n",
       "      <td>69.59</td>\n",
       "      <td>96.44</td>\n",
       "      <td>...</td>\n",
       "      <td>NaN</td>\n",
       "      <td>11.69</td>\n",
       "      <td>98.40</td>\n",
       "      <td>51.63</td>\n",
       "      <td>81.43</td>\n",
       "      <td>79.97</td>\n",
       "      <td>44.37</td>\n",
       "      <td>77.30</td>\n",
       "      <td>37.66</td>\n",
       "      <td>96.90</td>\n",
       "    </tr>\n",
       "    <tr>\n",
       "      <th>Donut</th>\n",
       "      <td>84.85</td>\n",
       "      <td>91.19</td>\n",
       "      <td>75.04</td>\n",
       "      <td>79.70</td>\n",
       "      <td>77.50</td>\n",
       "      <td>57.29</td>\n",
       "      <td>78.71</td>\n",
       "      <td>31.02</td>\n",
       "      <td>94.14</td>\n",
       "      <td>86.70</td>\n",
       "      <td>...</td>\n",
       "      <td>44.59</td>\n",
       "      <td>16.25</td>\n",
       "      <td>63.14</td>\n",
       "      <td>79.58</td>\n",
       "      <td>58.96</td>\n",
       "      <td>77.15</td>\n",
       "      <td>95.44</td>\n",
       "      <td>82.76</td>\n",
       "      <td>30.31</td>\n",
       "      <td>16.52</td>\n",
       "    </tr>\n",
       "    <tr>\n",
       "      <th>Ice Cream</th>\n",
       "      <td>69.17</td>\n",
       "      <td>66.66</td>\n",
       "      <td>15.17</td>\n",
       "      <td>59.69</td>\n",
       "      <td>99.24</td>\n",
       "      <td>74.36</td>\n",
       "      <td>34.29</td>\n",
       "      <td>95.69</td>\n",
       "      <td>46.58</td>\n",
       "      <td>95.45</td>\n",
       "      <td>...</td>\n",
       "      <td>84.98</td>\n",
       "      <td>97.65</td>\n",
       "      <td>88.51</td>\n",
       "      <td>22.99</td>\n",
       "      <td>86.08</td>\n",
       "      <td>89.85</td>\n",
       "      <td>67.85</td>\n",
       "      <td>96.74</td>\n",
       "      <td>96.34</td>\n",
       "      <td>68.28</td>\n",
       "    </tr>\n",
       "    <tr>\n",
       "      <th>Sushi</th>\n",
       "      <td>83.07</td>\n",
       "      <td>72.88</td>\n",
       "      <td>NaN</td>\n",
       "      <td>93.85</td>\n",
       "      <td>97.12</td>\n",
       "      <td>93.03</td>\n",
       "      <td>70.37</td>\n",
       "      <td>70.54</td>\n",
       "      <td>88.56</td>\n",
       "      <td>9.31</td>\n",
       "      <td>...</td>\n",
       "      <td>81.94</td>\n",
       "      <td>72.03</td>\n",
       "      <td>91.26</td>\n",
       "      <td>98.48</td>\n",
       "      <td>83.07</td>\n",
       "      <td>95.70</td>\n",
       "      <td>96.97</td>\n",
       "      <td>70.78</td>\n",
       "      <td>33.80</td>\n",
       "      <td>48.71</td>\n",
       "    </tr>\n",
       "  </tbody>\n",
       "</table>\n",
       "<p>12 rows × 24 columns</p>\n",
       "</div>"
      ],
      "text/plain": [
       "Frequency           Daily                        Monthly               \\\n",
       "City             New York Philadelphia Stamford New York Philadelphia   \n",
       "Gender Item                                                             \n",
       "Female Burger       87.30        91.12    75.51    97.77        89.52   \n",
       "       Burrito      83.29        91.58    80.49    73.89        33.24   \n",
       "       Chalupa      43.19        23.49    95.70    87.86        90.69   \n",
       "       Donut        95.63        92.25    77.71    82.05        50.25   \n",
       "       Ice Cream    97.83        79.18    78.24    51.51        40.64   \n",
       "       Sushi        74.72        99.02    86.94    83.53        78.71   \n",
       "Male   Burger       84.74        65.89    69.33    80.64        96.25   \n",
       "       Burrito      98.04        67.20    81.20    73.58        35.95   \n",
       "       Chalupa      28.36        92.25    99.87    95.49        73.05   \n",
       "       Donut        84.85        91.19    75.04    79.70        77.50   \n",
       "       Ice Cream    69.17        66.66    15.17    59.69        99.24   \n",
       "       Sushi        83.07        72.88      NaN    93.85        97.12   \n",
       "\n",
       "Frequency                    Never                          Often   ...     \\\n",
       "City             Stamford New York Philadelphia Stamford New York   ...      \n",
       "Gender Item                                                         ...      \n",
       "Female Burger       84.70    97.89        84.04    57.30    82.00   ...      \n",
       "       Burrito      67.94    91.77        96.79    98.61    62.70   ...      \n",
       "       Chalupa      93.08    35.15        53.31    98.78    39.73   ...      \n",
       "       Donut        82.25    56.07        96.52    59.04    69.32   ...      \n",
       "       Ice Cream    59.76    95.60        71.49    77.66    91.50   ...      \n",
       "       Sushi        55.78    69.33        75.12    19.56    95.07   ...      \n",
       "Male   Burger       18.21    90.32        15.60      NaN    33.68   ...      \n",
       "       Burrito      71.85    35.78        93.27    95.07    73.64   ...      \n",
       "       Chalupa      93.25    53.69        86.82    69.59    96.44   ...      \n",
       "       Donut        57.29    78.71        31.02    94.14    86.70   ...      \n",
       "       Ice Cream    74.36    34.29        95.69    46.58    95.45   ...      \n",
       "       Sushi        93.03    70.37        70.54    88.56     9.31   ...      \n",
       "\n",
       "Frequency            Once   Seldom                         Weekly  \\\n",
       "City             Stamford New York Philadelphia Stamford New York   \n",
       "Gender Item                                                         \n",
       "Female Burger       72.69    44.51        97.79    74.88    93.25   \n",
       "       Burrito      67.36    92.25        83.33    94.99    25.30   \n",
       "       Chalupa      40.59    92.98        96.11    81.63    73.77   \n",
       "       Donut        88.14    71.18        81.56    73.84    85.93   \n",
       "       Ice Cream    79.12    95.58        79.52    78.62    77.70   \n",
       "       Sushi        95.43    87.70        85.37    27.82    99.51   \n",
       "Male   Burger       88.05    83.84        99.68    89.99    69.69   \n",
       "       Burrito      24.87    84.74        27.71     9.84    91.48   \n",
       "       Chalupa        NaN    11.69        98.40    51.63    81.43   \n",
       "       Donut        44.59    16.25        63.14    79.58    58.96   \n",
       "       Ice Cream    84.98    97.65        88.51    22.99    86.08   \n",
       "       Sushi        81.94    72.03        91.26    98.48    83.07   \n",
       "\n",
       "Frequency                                Yearly                        \n",
       "City             Philadelphia Stamford New York Philadelphia Stamford  \n",
       "Gender Item                                                            \n",
       "Female Burger           25.41    57.29    98.96        64.62    85.06  \n",
       "       Burrito          61.56    81.18    70.24        50.39    76.32  \n",
       "       Chalupa          38.66    98.69    98.43        85.36    92.16  \n",
       "       Donut            95.32    91.75    62.95        85.51    69.40  \n",
       "       Ice Cream        88.14    47.96    70.45        63.62    15.24  \n",
       "       Sushi            84.27    91.33    74.85        61.22    83.28  \n",
       "Male   Burger           75.59    97.20    44.18        98.83    78.79  \n",
       "       Burrito          78.95    72.27    65.45        63.76    74.79  \n",
       "       Chalupa          79.97    44.37    77.30        37.66    96.90  \n",
       "       Donut            77.15    95.44    82.76        30.31    16.52  \n",
       "       Ice Cream        89.85    67.85    96.74        96.34    68.28  \n",
       "       Sushi            95.70    96.97    70.78        33.80    48.71  \n",
       "\n",
       "[12 rows x 24 columns]"
      ]
     },
     "execution_count": 154,
     "metadata": {},
     "output_type": "execute_result"
    }
   ],
   "source": [
    "foods.pivot_table(values = \"Spend\", index = [\"Gender\", \"Item\"], columns = [\"Frequency\", \"City\"], aggfunc = \"max\")"
   ]
  },
  {
   "cell_type": "markdown",
   "metadata": {},
   "source": [
    "Podemos llamar tambien a `pivot_table()` directamente desde el objeto pandas, siempre que le pasamos un DataFrame desde el parámetro data."
   ]
  },
  {
   "cell_type": "code",
   "execution_count": 156,
   "metadata": {},
   "outputs": [
    {
     "data": {
      "text/html": [
       "<div>\n",
       "<style scoped>\n",
       "    .dataframe tbody tr th:only-of-type {\n",
       "        vertical-align: middle;\n",
       "    }\n",
       "\n",
       "    .dataframe tbody tr th {\n",
       "        vertical-align: top;\n",
       "    }\n",
       "\n",
       "    .dataframe thead th {\n",
       "        text-align: right;\n",
       "    }\n",
       "</style>\n",
       "<table border=\"1\" class=\"dataframe\">\n",
       "  <thead>\n",
       "    <tr style=\"text-align: right;\">\n",
       "      <th></th>\n",
       "      <th>City</th>\n",
       "      <th>New York</th>\n",
       "      <th>Philadelphia</th>\n",
       "      <th>Stamford</th>\n",
       "    </tr>\n",
       "    <tr>\n",
       "      <th>Gender</th>\n",
       "      <th>Item</th>\n",
       "      <th></th>\n",
       "      <th></th>\n",
       "      <th></th>\n",
       "    </tr>\n",
       "  </thead>\n",
       "  <tbody>\n",
       "    <tr>\n",
       "      <th rowspan=\"3\" valign=\"top\">Female</th>\n",
       "      <th>Burger</th>\n",
       "      <td>2.25</td>\n",
       "      <td>1.97</td>\n",
       "      <td>6.24</td>\n",
       "    </tr>\n",
       "    <tr>\n",
       "      <th>Burrito</th>\n",
       "      <td>1.02</td>\n",
       "      <td>1.04</td>\n",
       "      <td>1.18</td>\n",
       "    </tr>\n",
       "    <tr>\n",
       "      <th>Chalupa</th>\n",
       "      <td>1.96</td>\n",
       "      <td>9.35</td>\n",
       "      <td>9.09</td>\n",
       "    </tr>\n",
       "  </tbody>\n",
       "</table>\n",
       "</div>"
      ],
      "text/plain": [
       "City            New York  Philadelphia  Stamford\n",
       "Gender Item                                     \n",
       "Female Burger       2.25          1.97      6.24\n",
       "       Burrito      1.02          1.04      1.18\n",
       "       Chalupa      1.96          9.35      9.09"
      ]
     },
     "execution_count": 156,
     "metadata": {},
     "output_type": "execute_result"
    }
   ],
   "source": [
    "pd.pivot_table(data = foods, values = \"Spend\", index = [\"Gender\", \"Item\"], columns = ['City'], aggfunc = \"min\").head(3)"
   ]
  },
  {
   "cell_type": "markdown",
   "metadata": {},
   "source": [
    "## El método `melt`\n",
    "\n",
    "\n",
    "Básicamente es la operación inversa del `pivot_table()`, fusiona columnas en una o varias. Vamos a usar un fichero de datos llamado quarters.csv que contiene las ventas por trimestre y comercial."
   ]
  },
  {
   "cell_type": "code",
   "execution_count": 157,
   "metadata": {},
   "outputs": [
    {
     "data": {
      "text/html": [
       "<div>\n",
       "<style scoped>\n",
       "    .dataframe tbody tr th:only-of-type {\n",
       "        vertical-align: middle;\n",
       "    }\n",
       "\n",
       "    .dataframe tbody tr th {\n",
       "        vertical-align: top;\n",
       "    }\n",
       "\n",
       "    .dataframe thead th {\n",
       "        text-align: right;\n",
       "    }\n",
       "</style>\n",
       "<table border=\"1\" class=\"dataframe\">\n",
       "  <thead>\n",
       "    <tr style=\"text-align: right;\">\n",
       "      <th></th>\n",
       "      <th>Salesman</th>\n",
       "      <th>Q1</th>\n",
       "      <th>Q2</th>\n",
       "      <th>Q3</th>\n",
       "      <th>Q4</th>\n",
       "    </tr>\n",
       "  </thead>\n",
       "  <tbody>\n",
       "    <tr>\n",
       "      <th>0</th>\n",
       "      <td>Boris</td>\n",
       "      <td>602908</td>\n",
       "      <td>233879</td>\n",
       "      <td>354479</td>\n",
       "      <td>32704</td>\n",
       "    </tr>\n",
       "    <tr>\n",
       "      <th>1</th>\n",
       "      <td>Bob</td>\n",
       "      <td>43790</td>\n",
       "      <td>514863</td>\n",
       "      <td>297151</td>\n",
       "      <td>544493</td>\n",
       "    </tr>\n",
       "    <tr>\n",
       "      <th>2</th>\n",
       "      <td>Tommy</td>\n",
       "      <td>392668</td>\n",
       "      <td>113579</td>\n",
       "      <td>430882</td>\n",
       "      <td>247231</td>\n",
       "    </tr>\n",
       "    <tr>\n",
       "      <th>3</th>\n",
       "      <td>Travis</td>\n",
       "      <td>834663</td>\n",
       "      <td>266785</td>\n",
       "      <td>749238</td>\n",
       "      <td>570524</td>\n",
       "    </tr>\n",
       "    <tr>\n",
       "      <th>4</th>\n",
       "      <td>Donald</td>\n",
       "      <td>580935</td>\n",
       "      <td>411379</td>\n",
       "      <td>110390</td>\n",
       "      <td>651572</td>\n",
       "    </tr>\n",
       "    <tr>\n",
       "      <th>5</th>\n",
       "      <td>Ted</td>\n",
       "      <td>656644</td>\n",
       "      <td>70803</td>\n",
       "      <td>375948</td>\n",
       "      <td>321388</td>\n",
       "    </tr>\n",
       "    <tr>\n",
       "      <th>6</th>\n",
       "      <td>Jeb</td>\n",
       "      <td>486141</td>\n",
       "      <td>600753</td>\n",
       "      <td>742716</td>\n",
       "      <td>404995</td>\n",
       "    </tr>\n",
       "    <tr>\n",
       "      <th>7</th>\n",
       "      <td>Stacy</td>\n",
       "      <td>479662</td>\n",
       "      <td>742806</td>\n",
       "      <td>770712</td>\n",
       "      <td>2501</td>\n",
       "    </tr>\n",
       "    <tr>\n",
       "      <th>8</th>\n",
       "      <td>Morgan</td>\n",
       "      <td>992673</td>\n",
       "      <td>879183</td>\n",
       "      <td>37945</td>\n",
       "      <td>293710</td>\n",
       "    </tr>\n",
       "  </tbody>\n",
       "</table>\n",
       "</div>"
      ],
      "text/plain": [
       "  Salesman      Q1      Q2      Q3      Q4\n",
       "0    Boris  602908  233879  354479   32704\n",
       "1      Bob   43790  514863  297151  544493\n",
       "2    Tommy  392668  113579  430882  247231\n",
       "3   Travis  834663  266785  749238  570524\n",
       "4   Donald  580935  411379  110390  651572\n",
       "5      Ted  656644   70803  375948  321388\n",
       "6      Jeb  486141  600753  742716  404995\n",
       "7    Stacy  479662  742806  770712    2501\n",
       "8   Morgan  992673  879183   37945  293710"
      ]
     },
     "execution_count": 157,
     "metadata": {},
     "output_type": "execute_result"
    }
   ],
   "source": [
    "sales = pd.read_csv(\"pandas/quarters.csv\")\n",
    "sales"
   ]
  },
  {
   "cell_type": "code",
   "execution_count": 159,
   "metadata": {},
   "outputs": [
    {
     "data": {
      "text/html": [
       "<div>\n",
       "<style scoped>\n",
       "    .dataframe tbody tr th:only-of-type {\n",
       "        vertical-align: middle;\n",
       "    }\n",
       "\n",
       "    .dataframe tbody tr th {\n",
       "        vertical-align: top;\n",
       "    }\n",
       "\n",
       "    .dataframe thead th {\n",
       "        text-align: right;\n",
       "    }\n",
       "</style>\n",
       "<table border=\"1\" class=\"dataframe\">\n",
       "  <thead>\n",
       "    <tr style=\"text-align: right;\">\n",
       "      <th></th>\n",
       "      <th>Salesman</th>\n",
       "      <th>variable</th>\n",
       "      <th>value</th>\n",
       "    </tr>\n",
       "  </thead>\n",
       "  <tbody>\n",
       "    <tr>\n",
       "      <th>0</th>\n",
       "      <td>Boris</td>\n",
       "      <td>Q1</td>\n",
       "      <td>602908</td>\n",
       "    </tr>\n",
       "    <tr>\n",
       "      <th>1</th>\n",
       "      <td>Bob</td>\n",
       "      <td>Q1</td>\n",
       "      <td>43790</td>\n",
       "    </tr>\n",
       "    <tr>\n",
       "      <th>2</th>\n",
       "      <td>Tommy</td>\n",
       "      <td>Q1</td>\n",
       "      <td>392668</td>\n",
       "    </tr>\n",
       "    <tr>\n",
       "      <th>3</th>\n",
       "      <td>Travis</td>\n",
       "      <td>Q1</td>\n",
       "      <td>834663</td>\n",
       "    </tr>\n",
       "    <tr>\n",
       "      <th>4</th>\n",
       "      <td>Donald</td>\n",
       "      <td>Q1</td>\n",
       "      <td>580935</td>\n",
       "    </tr>\n",
       "    <tr>\n",
       "      <th>5</th>\n",
       "      <td>Ted</td>\n",
       "      <td>Q1</td>\n",
       "      <td>656644</td>\n",
       "    </tr>\n",
       "    <tr>\n",
       "      <th>6</th>\n",
       "      <td>Jeb</td>\n",
       "      <td>Q1</td>\n",
       "      <td>486141</td>\n",
       "    </tr>\n",
       "    <tr>\n",
       "      <th>7</th>\n",
       "      <td>Stacy</td>\n",
       "      <td>Q1</td>\n",
       "      <td>479662</td>\n",
       "    </tr>\n",
       "    <tr>\n",
       "      <th>8</th>\n",
       "      <td>Morgan</td>\n",
       "      <td>Q1</td>\n",
       "      <td>992673</td>\n",
       "    </tr>\n",
       "    <tr>\n",
       "      <th>9</th>\n",
       "      <td>Boris</td>\n",
       "      <td>Q2</td>\n",
       "      <td>233879</td>\n",
       "    </tr>\n",
       "    <tr>\n",
       "      <th>10</th>\n",
       "      <td>Bob</td>\n",
       "      <td>Q2</td>\n",
       "      <td>514863</td>\n",
       "    </tr>\n",
       "    <tr>\n",
       "      <th>11</th>\n",
       "      <td>Tommy</td>\n",
       "      <td>Q2</td>\n",
       "      <td>113579</td>\n",
       "    </tr>\n",
       "    <tr>\n",
       "      <th>12</th>\n",
       "      <td>Travis</td>\n",
       "      <td>Q2</td>\n",
       "      <td>266785</td>\n",
       "    </tr>\n",
       "    <tr>\n",
       "      <th>13</th>\n",
       "      <td>Donald</td>\n",
       "      <td>Q2</td>\n",
       "      <td>411379</td>\n",
       "    </tr>\n",
       "    <tr>\n",
       "      <th>14</th>\n",
       "      <td>Ted</td>\n",
       "      <td>Q2</td>\n",
       "      <td>70803</td>\n",
       "    </tr>\n",
       "    <tr>\n",
       "      <th>15</th>\n",
       "      <td>Jeb</td>\n",
       "      <td>Q2</td>\n",
       "      <td>600753</td>\n",
       "    </tr>\n",
       "    <tr>\n",
       "      <th>16</th>\n",
       "      <td>Stacy</td>\n",
       "      <td>Q2</td>\n",
       "      <td>742806</td>\n",
       "    </tr>\n",
       "    <tr>\n",
       "      <th>17</th>\n",
       "      <td>Morgan</td>\n",
       "      <td>Q2</td>\n",
       "      <td>879183</td>\n",
       "    </tr>\n",
       "    <tr>\n",
       "      <th>18</th>\n",
       "      <td>Boris</td>\n",
       "      <td>Q3</td>\n",
       "      <td>354479</td>\n",
       "    </tr>\n",
       "    <tr>\n",
       "      <th>19</th>\n",
       "      <td>Bob</td>\n",
       "      <td>Q3</td>\n",
       "      <td>297151</td>\n",
       "    </tr>\n",
       "    <tr>\n",
       "      <th>20</th>\n",
       "      <td>Tommy</td>\n",
       "      <td>Q3</td>\n",
       "      <td>430882</td>\n",
       "    </tr>\n",
       "    <tr>\n",
       "      <th>21</th>\n",
       "      <td>Travis</td>\n",
       "      <td>Q3</td>\n",
       "      <td>749238</td>\n",
       "    </tr>\n",
       "    <tr>\n",
       "      <th>22</th>\n",
       "      <td>Donald</td>\n",
       "      <td>Q3</td>\n",
       "      <td>110390</td>\n",
       "    </tr>\n",
       "    <tr>\n",
       "      <th>23</th>\n",
       "      <td>Ted</td>\n",
       "      <td>Q3</td>\n",
       "      <td>375948</td>\n",
       "    </tr>\n",
       "    <tr>\n",
       "      <th>24</th>\n",
       "      <td>Jeb</td>\n",
       "      <td>Q3</td>\n",
       "      <td>742716</td>\n",
       "    </tr>\n",
       "    <tr>\n",
       "      <th>25</th>\n",
       "      <td>Stacy</td>\n",
       "      <td>Q3</td>\n",
       "      <td>770712</td>\n",
       "    </tr>\n",
       "    <tr>\n",
       "      <th>26</th>\n",
       "      <td>Morgan</td>\n",
       "      <td>Q3</td>\n",
       "      <td>37945</td>\n",
       "    </tr>\n",
       "    <tr>\n",
       "      <th>27</th>\n",
       "      <td>Boris</td>\n",
       "      <td>Q4</td>\n",
       "      <td>32704</td>\n",
       "    </tr>\n",
       "    <tr>\n",
       "      <th>28</th>\n",
       "      <td>Bob</td>\n",
       "      <td>Q4</td>\n",
       "      <td>544493</td>\n",
       "    </tr>\n",
       "    <tr>\n",
       "      <th>29</th>\n",
       "      <td>Tommy</td>\n",
       "      <td>Q4</td>\n",
       "      <td>247231</td>\n",
       "    </tr>\n",
       "    <tr>\n",
       "      <th>30</th>\n",
       "      <td>Travis</td>\n",
       "      <td>Q4</td>\n",
       "      <td>570524</td>\n",
       "    </tr>\n",
       "    <tr>\n",
       "      <th>31</th>\n",
       "      <td>Donald</td>\n",
       "      <td>Q4</td>\n",
       "      <td>651572</td>\n",
       "    </tr>\n",
       "    <tr>\n",
       "      <th>32</th>\n",
       "      <td>Ted</td>\n",
       "      <td>Q4</td>\n",
       "      <td>321388</td>\n",
       "    </tr>\n",
       "    <tr>\n",
       "      <th>33</th>\n",
       "      <td>Jeb</td>\n",
       "      <td>Q4</td>\n",
       "      <td>404995</td>\n",
       "    </tr>\n",
       "    <tr>\n",
       "      <th>34</th>\n",
       "      <td>Stacy</td>\n",
       "      <td>Q4</td>\n",
       "      <td>2501</td>\n",
       "    </tr>\n",
       "    <tr>\n",
       "      <th>35</th>\n",
       "      <td>Morgan</td>\n",
       "      <td>Q4</td>\n",
       "      <td>293710</td>\n",
       "    </tr>\n",
       "  </tbody>\n",
       "</table>\n",
       "</div>"
      ],
      "text/plain": [
       "   Salesman variable   value\n",
       "0     Boris       Q1  602908\n",
       "1       Bob       Q1   43790\n",
       "2     Tommy       Q1  392668\n",
       "3    Travis       Q1  834663\n",
       "4    Donald       Q1  580935\n",
       "5       Ted       Q1  656644\n",
       "6       Jeb       Q1  486141\n",
       "7     Stacy       Q1  479662\n",
       "8    Morgan       Q1  992673\n",
       "9     Boris       Q2  233879\n",
       "10      Bob       Q2  514863\n",
       "11    Tommy       Q2  113579\n",
       "12   Travis       Q2  266785\n",
       "13   Donald       Q2  411379\n",
       "14      Ted       Q2   70803\n",
       "15      Jeb       Q2  600753\n",
       "16    Stacy       Q2  742806\n",
       "17   Morgan       Q2  879183\n",
       "18    Boris       Q3  354479\n",
       "19      Bob       Q3  297151\n",
       "20    Tommy       Q3  430882\n",
       "21   Travis       Q3  749238\n",
       "22   Donald       Q3  110390\n",
       "23      Ted       Q3  375948\n",
       "24      Jeb       Q3  742716\n",
       "25    Stacy       Q3  770712\n",
       "26   Morgan       Q3   37945\n",
       "27    Boris       Q4   32704\n",
       "28      Bob       Q4  544493\n",
       "29    Tommy       Q4  247231\n",
       "30   Travis       Q4  570524\n",
       "31   Donald       Q4  651572\n",
       "32      Ted       Q4  321388\n",
       "33      Jeb       Q4  404995\n",
       "34    Stacy       Q4    2501\n",
       "35   Morgan       Q4  293710"
      ]
     },
     "execution_count": 159,
     "metadata": {},
     "output_type": "execute_result"
    }
   ],
   "source": [
    "pd.melt(sales, id_vars = \"Salesman\")"
   ]
  },
  {
   "cell_type": "markdown",
   "metadata": {},
   "source": [
    "Aqui vemos que las 4 columnas anteriores se han fusionado en una y ha permanecido inalterada Salesman, lo cual espeficamos con el argumento id_vars. Poremos especificar el nombre de las columnas que se fusionan."
   ]
  },
  {
   "cell_type": "code",
   "execution_count": 160,
   "metadata": {},
   "outputs": [
    {
     "data": {
      "text/html": [
       "<div>\n",
       "<style scoped>\n",
       "    .dataframe tbody tr th:only-of-type {\n",
       "        vertical-align: middle;\n",
       "    }\n",
       "\n",
       "    .dataframe tbody tr th {\n",
       "        vertical-align: top;\n",
       "    }\n",
       "\n",
       "    .dataframe thead th {\n",
       "        text-align: right;\n",
       "    }\n",
       "</style>\n",
       "<table border=\"1\" class=\"dataframe\">\n",
       "  <thead>\n",
       "    <tr style=\"text-align: right;\">\n",
       "      <th></th>\n",
       "      <th>Salesman</th>\n",
       "      <th>Quarter</th>\n",
       "      <th>Revenue</th>\n",
       "    </tr>\n",
       "  </thead>\n",
       "  <tbody>\n",
       "    <tr>\n",
       "      <th>0</th>\n",
       "      <td>Boris</td>\n",
       "      <td>Q1</td>\n",
       "      <td>602908</td>\n",
       "    </tr>\n",
       "    <tr>\n",
       "      <th>1</th>\n",
       "      <td>Bob</td>\n",
       "      <td>Q1</td>\n",
       "      <td>43790</td>\n",
       "    </tr>\n",
       "    <tr>\n",
       "      <th>2</th>\n",
       "      <td>Tommy</td>\n",
       "      <td>Q1</td>\n",
       "      <td>392668</td>\n",
       "    </tr>\n",
       "    <tr>\n",
       "      <th>3</th>\n",
       "      <td>Travis</td>\n",
       "      <td>Q1</td>\n",
       "      <td>834663</td>\n",
       "    </tr>\n",
       "    <tr>\n",
       "      <th>4</th>\n",
       "      <td>Donald</td>\n",
       "      <td>Q1</td>\n",
       "      <td>580935</td>\n",
       "    </tr>\n",
       "    <tr>\n",
       "      <th>5</th>\n",
       "      <td>Ted</td>\n",
       "      <td>Q1</td>\n",
       "      <td>656644</td>\n",
       "    </tr>\n",
       "    <tr>\n",
       "      <th>6</th>\n",
       "      <td>Jeb</td>\n",
       "      <td>Q1</td>\n",
       "      <td>486141</td>\n",
       "    </tr>\n",
       "    <tr>\n",
       "      <th>7</th>\n",
       "      <td>Stacy</td>\n",
       "      <td>Q1</td>\n",
       "      <td>479662</td>\n",
       "    </tr>\n",
       "    <tr>\n",
       "      <th>8</th>\n",
       "      <td>Morgan</td>\n",
       "      <td>Q1</td>\n",
       "      <td>992673</td>\n",
       "    </tr>\n",
       "    <tr>\n",
       "      <th>9</th>\n",
       "      <td>Boris</td>\n",
       "      <td>Q2</td>\n",
       "      <td>233879</td>\n",
       "    </tr>\n",
       "    <tr>\n",
       "      <th>10</th>\n",
       "      <td>Bob</td>\n",
       "      <td>Q2</td>\n",
       "      <td>514863</td>\n",
       "    </tr>\n",
       "    <tr>\n",
       "      <th>11</th>\n",
       "      <td>Tommy</td>\n",
       "      <td>Q2</td>\n",
       "      <td>113579</td>\n",
       "    </tr>\n",
       "    <tr>\n",
       "      <th>12</th>\n",
       "      <td>Travis</td>\n",
       "      <td>Q2</td>\n",
       "      <td>266785</td>\n",
       "    </tr>\n",
       "    <tr>\n",
       "      <th>13</th>\n",
       "      <td>Donald</td>\n",
       "      <td>Q2</td>\n",
       "      <td>411379</td>\n",
       "    </tr>\n",
       "    <tr>\n",
       "      <th>14</th>\n",
       "      <td>Ted</td>\n",
       "      <td>Q2</td>\n",
       "      <td>70803</td>\n",
       "    </tr>\n",
       "    <tr>\n",
       "      <th>15</th>\n",
       "      <td>Jeb</td>\n",
       "      <td>Q2</td>\n",
       "      <td>600753</td>\n",
       "    </tr>\n",
       "    <tr>\n",
       "      <th>16</th>\n",
       "      <td>Stacy</td>\n",
       "      <td>Q2</td>\n",
       "      <td>742806</td>\n",
       "    </tr>\n",
       "    <tr>\n",
       "      <th>17</th>\n",
       "      <td>Morgan</td>\n",
       "      <td>Q2</td>\n",
       "      <td>879183</td>\n",
       "    </tr>\n",
       "    <tr>\n",
       "      <th>18</th>\n",
       "      <td>Boris</td>\n",
       "      <td>Q3</td>\n",
       "      <td>354479</td>\n",
       "    </tr>\n",
       "    <tr>\n",
       "      <th>19</th>\n",
       "      <td>Bob</td>\n",
       "      <td>Q3</td>\n",
       "      <td>297151</td>\n",
       "    </tr>\n",
       "    <tr>\n",
       "      <th>20</th>\n",
       "      <td>Tommy</td>\n",
       "      <td>Q3</td>\n",
       "      <td>430882</td>\n",
       "    </tr>\n",
       "    <tr>\n",
       "      <th>21</th>\n",
       "      <td>Travis</td>\n",
       "      <td>Q3</td>\n",
       "      <td>749238</td>\n",
       "    </tr>\n",
       "    <tr>\n",
       "      <th>22</th>\n",
       "      <td>Donald</td>\n",
       "      <td>Q3</td>\n",
       "      <td>110390</td>\n",
       "    </tr>\n",
       "    <tr>\n",
       "      <th>23</th>\n",
       "      <td>Ted</td>\n",
       "      <td>Q3</td>\n",
       "      <td>375948</td>\n",
       "    </tr>\n",
       "    <tr>\n",
       "      <th>24</th>\n",
       "      <td>Jeb</td>\n",
       "      <td>Q3</td>\n",
       "      <td>742716</td>\n",
       "    </tr>\n",
       "    <tr>\n",
       "      <th>25</th>\n",
       "      <td>Stacy</td>\n",
       "      <td>Q3</td>\n",
       "      <td>770712</td>\n",
       "    </tr>\n",
       "    <tr>\n",
       "      <th>26</th>\n",
       "      <td>Morgan</td>\n",
       "      <td>Q3</td>\n",
       "      <td>37945</td>\n",
       "    </tr>\n",
       "    <tr>\n",
       "      <th>27</th>\n",
       "      <td>Boris</td>\n",
       "      <td>Q4</td>\n",
       "      <td>32704</td>\n",
       "    </tr>\n",
       "    <tr>\n",
       "      <th>28</th>\n",
       "      <td>Bob</td>\n",
       "      <td>Q4</td>\n",
       "      <td>544493</td>\n",
       "    </tr>\n",
       "    <tr>\n",
       "      <th>29</th>\n",
       "      <td>Tommy</td>\n",
       "      <td>Q4</td>\n",
       "      <td>247231</td>\n",
       "    </tr>\n",
       "    <tr>\n",
       "      <th>30</th>\n",
       "      <td>Travis</td>\n",
       "      <td>Q4</td>\n",
       "      <td>570524</td>\n",
       "    </tr>\n",
       "    <tr>\n",
       "      <th>31</th>\n",
       "      <td>Donald</td>\n",
       "      <td>Q4</td>\n",
       "      <td>651572</td>\n",
       "    </tr>\n",
       "    <tr>\n",
       "      <th>32</th>\n",
       "      <td>Ted</td>\n",
       "      <td>Q4</td>\n",
       "      <td>321388</td>\n",
       "    </tr>\n",
       "    <tr>\n",
       "      <th>33</th>\n",
       "      <td>Jeb</td>\n",
       "      <td>Q4</td>\n",
       "      <td>404995</td>\n",
       "    </tr>\n",
       "    <tr>\n",
       "      <th>34</th>\n",
       "      <td>Stacy</td>\n",
       "      <td>Q4</td>\n",
       "      <td>2501</td>\n",
       "    </tr>\n",
       "    <tr>\n",
       "      <th>35</th>\n",
       "      <td>Morgan</td>\n",
       "      <td>Q4</td>\n",
       "      <td>293710</td>\n",
       "    </tr>\n",
       "  </tbody>\n",
       "</table>\n",
       "</div>"
      ],
      "text/plain": [
       "   Salesman Quarter  Revenue\n",
       "0     Boris      Q1   602908\n",
       "1       Bob      Q1    43790\n",
       "2     Tommy      Q1   392668\n",
       "3    Travis      Q1   834663\n",
       "4    Donald      Q1   580935\n",
       "5       Ted      Q1   656644\n",
       "6       Jeb      Q1   486141\n",
       "7     Stacy      Q1   479662\n",
       "8    Morgan      Q1   992673\n",
       "9     Boris      Q2   233879\n",
       "10      Bob      Q2   514863\n",
       "11    Tommy      Q2   113579\n",
       "12   Travis      Q2   266785\n",
       "13   Donald      Q2   411379\n",
       "14      Ted      Q2    70803\n",
       "15      Jeb      Q2   600753\n",
       "16    Stacy      Q2   742806\n",
       "17   Morgan      Q2   879183\n",
       "18    Boris      Q3   354479\n",
       "19      Bob      Q3   297151\n",
       "20    Tommy      Q3   430882\n",
       "21   Travis      Q3   749238\n",
       "22   Donald      Q3   110390\n",
       "23      Ted      Q3   375948\n",
       "24      Jeb      Q3   742716\n",
       "25    Stacy      Q3   770712\n",
       "26   Morgan      Q3    37945\n",
       "27    Boris      Q4    32704\n",
       "28      Bob      Q4   544493\n",
       "29    Tommy      Q4   247231\n",
       "30   Travis      Q4   570524\n",
       "31   Donald      Q4   651572\n",
       "32      Ted      Q4   321388\n",
       "33      Jeb      Q4   404995\n",
       "34    Stacy      Q4     2501\n",
       "35   Morgan      Q4   293710"
      ]
     },
     "execution_count": 160,
     "metadata": {},
     "output_type": "execute_result"
    }
   ],
   "source": [
    "pd.melt(sales, id_vars = \"Salesman\", value_name=\"Revenue\", var_name=\"Quarter\" )"
   ]
  }
 ],
 "metadata": {
  "anaconda-cloud": {},
  "kernelspec": {
   "display_name": "Python 3",
   "language": "python",
   "name": "python3"
  },
  "language_info": {
   "codemirror_mode": {
    "name": "ipython",
    "version": 3
   },
   "file_extension": ".py",
   "mimetype": "text/x-python",
   "name": "python",
   "nbconvert_exporter": "python",
   "pygments_lexer": "ipython3",
   "version": "3.6.2"
  }
 },
 "nbformat": 4,
 "nbformat_minor": 1
}
