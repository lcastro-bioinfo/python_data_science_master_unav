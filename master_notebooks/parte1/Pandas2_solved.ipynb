{
 "cells": [
  {
   "cell_type": "markdown",
   "metadata": {},
   "source": [
    "# Trabajando con Pandas"
   ]
  },
  {
   "cell_type": "code",
   "execution_count": 1,
   "metadata": {},
   "outputs": [
    {
     "name": "stderr",
     "output_type": "stream",
     "text": [
      "/Users/ivan/anaconda/lib/python2.7/site-packages/matplotlib/__init__.py:872: UserWarning: axes.color_cycle is deprecated and replaced with axes.prop_cycle; please use the latter.\n",
      "  warnings.warn(self.msg_depr % (key, alt_key))\n"
     ]
    }
   ],
   "source": [
    "import pandas as pd # import pandas\n",
    "import numpy as np # import numpy\n",
    "import matplotlib.pyplot as plt # import libreria para plotear\n",
    "pd.set_option('max_columns', 50) # maximo de columnas a mostrar cuando se muestra un pandas dataframe\n",
    "# indica a python que plotee en el notebook\n",
    "import seaborn as sns\n",
    "%matplotlib inline"
   ]
  },
  {
   "cell_type": "markdown",
   "metadata": {},
   "source": [
    "### Inspeccion"
   ]
  },
  {
   "cell_type": "markdown",
   "metadata": {},
   "source": [
    "Inspeccion de dataframes. Primero cargamos el fichero."
   ]
  },
  {
   "cell_type": "code",
   "execution_count": 4,
   "metadata": {
    "collapsed": true
   },
   "outputs": [],
   "source": [
    "salarios = pd.read_csv('city-of-chicago-salaries.csv')"
   ]
  },
  {
   "cell_type": "markdown",
   "metadata": {},
   "source": [
    "_info()_ nos da la siguiente informaicon acerca del dataframe.  \n",
    "1. Es una variable de tipo DataFrame\n",
    "2. El numero de filas y el rango del indice (de 0 hasta N-1)\n",
    "3. El numero de columnas\n",
    "4. El nombre de las columnas y cuantos nulls hay en cada una\n",
    "5. El tipo de datos de cada columna (tipo object se refiere principalmente a cadenas)\n",
    "6. La cantidad de memoria RAM usada por el dataframe"
   ]
  },
  {
   "cell_type": "code",
   "execution_count": 12,
   "metadata": {},
   "outputs": [
    {
     "name": "stdout",
     "output_type": "stream",
     "text": [
      "<class 'pandas.core.frame.DataFrame'>\n",
      "Int64Index: 32054 entries, 0 to 32053\n",
      "Data columns (total 4 columns):\n",
      "Name                      32054 non-null object\n",
      "Position Title            32054 non-null object\n",
      "Department                32054 non-null object\n",
      "Employee Annual Salary    32054 non-null float64\n",
      "dtypes: float64(1), object(3)\n",
      "memory usage: 1.2+ MB\n"
     ]
    }
   ],
   "source": [
    "salarios.info()"
   ]
  },
  {
   "cell_type": "markdown",
   "metadata": {},
   "source": [
    "Si queremos saber los tipos de datos de las columnas podemos utilizar _dtypes_."
   ]
  },
  {
   "cell_type": "code",
   "execution_count": 13,
   "metadata": {},
   "outputs": [
    {
     "data": {
      "text/plain": [
       "Name                       object\n",
       "Position Title             object\n",
       "Department                 object\n",
       "Employee Annual Salary    float64\n",
       "dtype: object"
      ]
     },
     "execution_count": 13,
     "metadata": {},
     "output_type": "execute_result"
    }
   ],
   "source": [
    "salarios.dtypes"
   ]
  },
  {
   "cell_type": "markdown",
   "metadata": {},
   "source": [
    "Existe un metodo muy interesante que proporciona estadisticas basicas para las columnas numericas. Se llama _describe()_. Permite obtener una vision general muy  rapida del dataframe."
   ]
  },
  {
   "cell_type": "code",
   "execution_count": 16,
   "metadata": {},
   "outputs": [
    {
     "data": {
      "text/html": [
       "<div>\n",
       "<table border=\"1\" class=\"dataframe\">\n",
       "  <thead>\n",
       "    <tr style=\"text-align: right;\">\n",
       "      <th></th>\n",
       "      <th>Employee Annual Salary</th>\n",
       "    </tr>\n",
       "  </thead>\n",
       "  <tbody>\n",
       "    <tr>\n",
       "      <th>count</th>\n",
       "      <td>32054.000000</td>\n",
       "    </tr>\n",
       "    <tr>\n",
       "      <th>mean</th>\n",
       "      <td>75070.385710</td>\n",
       "    </tr>\n",
       "    <tr>\n",
       "      <th>std</th>\n",
       "      <td>23180.297928</td>\n",
       "    </tr>\n",
       "    <tr>\n",
       "      <th>min</th>\n",
       "      <td>0.960000</td>\n",
       "    </tr>\n",
       "    <tr>\n",
       "      <th>25%</th>\n",
       "      <td>69576.000000</td>\n",
       "    </tr>\n",
       "    <tr>\n",
       "      <th>50%</th>\n",
       "      <td>78012.000000</td>\n",
       "    </tr>\n",
       "    <tr>\n",
       "      <th>75%</th>\n",
       "      <td>87303.000000</td>\n",
       "    </tr>\n",
       "    <tr>\n",
       "      <th>max</th>\n",
       "      <td>260004.000000</td>\n",
       "    </tr>\n",
       "  </tbody>\n",
       "</table>\n",
       "</div>"
      ],
      "text/plain": [
       "       Employee Annual Salary\n",
       "count            32054.000000\n",
       "mean             75070.385710\n",
       "std              23180.297928\n",
       "min                  0.960000\n",
       "25%              69576.000000\n",
       "50%              78012.000000\n",
       "75%              87303.000000\n",
       "max             260004.000000"
      ]
     },
     "execution_count": 16,
     "metadata": {},
     "output_type": "execute_result"
    }
   ],
   "source": [
    "salarios.describe()"
   ]
  },
  {
   "cell_type": "markdown",
   "metadata": {},
   "source": [
    "Para imprimir las primeras lineas del dataframe se utiliza _head()_ y para las ultimas _tail()_. Por defecto Python imprime 5 lineas. Tambien se le puede pasar el numero de lineas a imprimir a cualquiera de las funciones."
   ]
  },
  {
   "cell_type": "code",
   "execution_count": 17,
   "metadata": {},
   "outputs": [
    {
     "data": {
      "text/html": [
       "<div>\n",
       "<table border=\"1\" class=\"dataframe\">\n",
       "  <thead>\n",
       "    <tr style=\"text-align: right;\">\n",
       "      <th></th>\n",
       "      <th>Name</th>\n",
       "      <th>Position Title</th>\n",
       "      <th>Department</th>\n",
       "      <th>Employee Annual Salary</th>\n",
       "    </tr>\n",
       "  </thead>\n",
       "  <tbody>\n",
       "    <tr>\n",
       "      <th>0</th>\n",
       "      <td>AARON,  ELVIA J</td>\n",
       "      <td>WATER RATE TAKER</td>\n",
       "      <td>WATER MGMNT</td>\n",
       "      <td>85512</td>\n",
       "    </tr>\n",
       "    <tr>\n",
       "      <th>1</th>\n",
       "      <td>AARON,  JEFFERY M</td>\n",
       "      <td>POLICE OFFICER</td>\n",
       "      <td>POLICE</td>\n",
       "      <td>75372</td>\n",
       "    </tr>\n",
       "    <tr>\n",
       "      <th>2</th>\n",
       "      <td>AARON,  KIMBERLEI R</td>\n",
       "      <td>CHIEF CONTRACT EXPEDITER</td>\n",
       "      <td>GENERAL SERVICES</td>\n",
       "      <td>80916</td>\n",
       "    </tr>\n",
       "    <tr>\n",
       "      <th>3</th>\n",
       "      <td>ABAD JR,  VICENTE M</td>\n",
       "      <td>CIVIL ENGINEER IV</td>\n",
       "      <td>WATER MGMNT</td>\n",
       "      <td>99648</td>\n",
       "    </tr>\n",
       "    <tr>\n",
       "      <th>4</th>\n",
       "      <td>ABBATACOLA,  ROBERT J</td>\n",
       "      <td>ELECTRICAL MECHANIC</td>\n",
       "      <td>AVIATION</td>\n",
       "      <td>89440</td>\n",
       "    </tr>\n",
       "  </tbody>\n",
       "</table>\n",
       "</div>"
      ],
      "text/plain": [
       "                    Name            Position Title        Department  \\\n",
       "0        AARON,  ELVIA J          WATER RATE TAKER       WATER MGMNT   \n",
       "1      AARON,  JEFFERY M            POLICE OFFICER            POLICE   \n",
       "2    AARON,  KIMBERLEI R  CHIEF CONTRACT EXPEDITER  GENERAL SERVICES   \n",
       "3    ABAD JR,  VICENTE M         CIVIL ENGINEER IV       WATER MGMNT   \n",
       "4  ABBATACOLA,  ROBERT J       ELECTRICAL MECHANIC          AVIATION   \n",
       "\n",
       "   Employee Annual Salary  \n",
       "0                   85512  \n",
       "1                   75372  \n",
       "2                   80916  \n",
       "3                   99648  \n",
       "4                   89440  "
      ]
     },
     "execution_count": 17,
     "metadata": {},
     "output_type": "execute_result"
    }
   ],
   "source": [
    "salarios.head() # por defecto 5 lineas"
   ]
  },
  {
   "cell_type": "code",
   "execution_count": 18,
   "metadata": {},
   "outputs": [
    {
     "data": {
      "text/html": [
       "<div>\n",
       "<table border=\"1\" class=\"dataframe\">\n",
       "  <thead>\n",
       "    <tr style=\"text-align: right;\">\n",
       "      <th></th>\n",
       "      <th>Name</th>\n",
       "      <th>Position Title</th>\n",
       "      <th>Department</th>\n",
       "      <th>Employee Annual Salary</th>\n",
       "    </tr>\n",
       "  </thead>\n",
       "  <tbody>\n",
       "    <tr>\n",
       "      <th>32051</th>\n",
       "      <td>ZYMANTAS,  MARK E</td>\n",
       "      <td>POLICE OFFICER</td>\n",
       "      <td>POLICE</td>\n",
       "      <td>78012</td>\n",
       "    </tr>\n",
       "    <tr>\n",
       "      <th>32052</th>\n",
       "      <td>ZYRKOWSKI,  CARLO E</td>\n",
       "      <td>POLICE OFFICER</td>\n",
       "      <td>POLICE</td>\n",
       "      <td>80724</td>\n",
       "    </tr>\n",
       "    <tr>\n",
       "      <th>32053</th>\n",
       "      <td>ZYSKOWSKI,  DARIUSZ</td>\n",
       "      <td>CHIEF DATA BASE ANALYST</td>\n",
       "      <td>DoIT</td>\n",
       "      <td>110352</td>\n",
       "    </tr>\n",
       "  </tbody>\n",
       "</table>\n",
       "</div>"
      ],
      "text/plain": [
       "                      Name           Position Title Department  \\\n",
       "32051    ZYMANTAS,  MARK E           POLICE OFFICER     POLICE   \n",
       "32052  ZYRKOWSKI,  CARLO E           POLICE OFFICER     POLICE   \n",
       "32053  ZYSKOWSKI,  DARIUSZ  CHIEF DATA BASE ANALYST       DoIT   \n",
       "\n",
       "       Employee Annual Salary  \n",
       "32051                   78012  \n",
       "32052                   80724  \n",
       "32053                  110352  "
      ]
     },
     "execution_count": 18,
     "metadata": {},
     "output_type": "execute_result"
    }
   ],
   "source": [
    "salarios.tail(3) # le digo a tail que imprima las tres ultimas lineas"
   ]
  },
  {
   "cell_type": "markdown",
   "metadata": {},
   "source": [
    "Tambien se puede usar indexacion por trozos _slicing_ como hemos hecho anteriormente con listas y arrays."
   ]
  },
  {
   "cell_type": "code",
   "execution_count": 19,
   "metadata": {},
   "outputs": [
    {
     "data": {
      "text/html": [
       "<div>\n",
       "<table border=\"1\" class=\"dataframe\">\n",
       "  <thead>\n",
       "    <tr style=\"text-align: right;\">\n",
       "      <th></th>\n",
       "      <th>Name</th>\n",
       "      <th>Position Title</th>\n",
       "      <th>Department</th>\n",
       "      <th>Employee Annual Salary</th>\n",
       "    </tr>\n",
       "  </thead>\n",
       "  <tbody>\n",
       "    <tr>\n",
       "      <th>20</th>\n",
       "      <td>ABDULLAH,  LAKENYA N</td>\n",
       "      <td>CROSSING GUARD</td>\n",
       "      <td>POLICE</td>\n",
       "      <td>16286.4</td>\n",
       "    </tr>\n",
       "    <tr>\n",
       "      <th>21</th>\n",
       "      <td>ABDULLAH,  RASHAD J</td>\n",
       "      <td>ELECTRICAL MECHANIC-AUTO-POLICE MTR MNT</td>\n",
       "      <td>GENERAL SERVICES</td>\n",
       "      <td>89440.0</td>\n",
       "    </tr>\n",
       "  </tbody>\n",
       "</table>\n",
       "</div>"
      ],
      "text/plain": [
       "                    Name                           Position Title  \\\n",
       "20  ABDULLAH,  LAKENYA N                           CROSSING GUARD   \n",
       "21   ABDULLAH,  RASHAD J  ELECTRICAL MECHANIC-AUTO-POLICE MTR MNT   \n",
       "\n",
       "          Department  Employee Annual Salary  \n",
       "20            POLICE                 16286.4  \n",
       "21  GENERAL SERVICES                 89440.0  "
      ]
     },
     "execution_count": 19,
     "metadata": {},
     "output_type": "execute_result"
    }
   ],
   "source": [
    "salarios[20:22]"
   ]
  },
  {
   "cell_type": "markdown",
   "metadata": {},
   "source": [
    "### Seleccion"
   ]
  },
  {
   "cell_type": "markdown",
   "metadata": {},
   "source": [
    "Un dataframe no es mas que un conjunto de objetos _Series_ que comparten un indice. La seleccion de una columna en el dataframe devuelve como resultado una variable tipo _Series_."
   ]
  },
  {
   "cell_type": "code",
   "execution_count": 20,
   "metadata": {},
   "outputs": [
    {
     "data": {
      "text/plain": [
       "0            WATER RATE TAKER\n",
       "1              POLICE OFFICER\n",
       "2    CHIEF CONTRACT EXPEDITER\n",
       "3           CIVIL ENGINEER IV\n",
       "4         ELECTRICAL MECHANIC\n",
       "Name: Position Title, dtype: object"
      ]
     },
     "execution_count": 20,
     "metadata": {},
     "output_type": "execute_result"
    }
   ],
   "source": [
    "salarios['Position Title'].head()"
   ]
  },
  {
   "cell_type": "markdown",
   "metadata": {},
   "source": [
    "Para indexar mas de una columna hay que pasar una lista con el nombre de las columnas al dataframe. La salida sera un dataframe."
   ]
  },
  {
   "cell_type": "code",
   "execution_count": 23,
   "metadata": {},
   "outputs": [
    {
     "name": "stdout",
     "output_type": "stream",
     "text": [
      "                    Name            Position Title\n",
      "0        AARON,  ELVIA J          WATER RATE TAKER\n",
      "1      AARON,  JEFFERY M            POLICE OFFICER\n",
      "2    AARON,  KIMBERLEI R  CHIEF CONTRACT EXPEDITER\n",
      "3    ABAD JR,  VICENTE M         CIVIL ENGINEER IV\n",
      "4  ABBATACOLA,  ROBERT J       ELECTRICAL MECHANIC\n",
      "\n",
      "\n",
      "             Position Title        Department\n",
      "0          WATER RATE TAKER       WATER MGMNT\n",
      "1            POLICE OFFICER            POLICE\n",
      "2  CHIEF CONTRACT EXPEDITER  GENERAL SERVICES\n",
      "3         CIVIL ENGINEER IV       WATER MGMNT\n",
      "4       ELECTRICAL MECHANIC          AVIATION\n"
     ]
    }
   ],
   "source": [
    "print(salarios[['Name', 'Position Title']].head())\n",
    "print('\\n')\n",
    "\n",
    "# se puede almacenar en una variable y usar despues\n",
    "columns_you_want = ['Position Title', 'Department'] \n",
    "print(salarios[columns_you_want].head())"
   ]
  },
  {
   "cell_type": "markdown",
   "metadata": {},
   "source": [
    "La seleccion de filas se hace de diferentes formas. Se puede hacer una seleccion por indice individual pero lo mas comun es realizar un indexado booleano."
   ]
  },
  {
   "cell_type": "code",
   "execution_count": 29,
   "metadata": {},
   "outputs": [
    {
     "name": "stdout",
     "output_type": "stream",
     "text": [
      "                  Name            Position Title        Department  \\\n",
      "0      AARON,  ELVIA J          WATER RATE TAKER       WATER MGMNT   \n",
      "1    AARON,  JEFFERY M            POLICE OFFICER            POLICE   \n",
      "2  AARON,  KIMBERLEI R  CHIEF CONTRACT EXPEDITER  GENERAL SERVICES   \n",
      "\n",
      "   Employee Annual Salary  \n",
      "0                   85512  \n",
      "1                   75372  \n",
      "2                   80916  \n",
      "\n",
      "\n",
      "                     Name  Position Title Department  Employee Annual Salary\n",
      "1       AARON,  JEFFERY M  POLICE OFFICER     POLICE                   75372\n",
      "6        ABBATE,  TERRY M  POLICE OFFICER     POLICE                   80724\n",
      "11  ABDELHADI,  ABDALMAHD  POLICE OFFICER     POLICE                   75372\n",
      "\n",
      "\n",
      "                  Name     Position Title   Department  Employee Annual Salary\n",
      "0      AARON,  ELVIA J   WATER RATE TAKER  WATER MGMNT                   85512\n",
      "1    AARON,  JEFFERY M     POLICE OFFICER       POLICE                   75372\n",
      "3  ABAD JR,  VICENTE M  CIVIL ENGINEER IV  WATER MGMNT                   99648\n",
      "                  Name     Position Title   Department  Employee Annual Salary\n",
      "0      AARON,  ELVIA J   WATER RATE TAKER  WATER MGMNT                   85512\n",
      "1    AARON,  JEFFERY M     POLICE OFFICER       POLICE                   75372\n",
      "3  ABAD JR,  VICENTE M  CIVIL ENGINEER IV  WATER MGMNT                   99648\n"
     ]
    }
   ],
   "source": [
    "# usuarios que ganan mas de 30000\n",
    "print(salarios[salarios['Employee Annual Salary'] > 30000].head(3))\n",
    "print('\\n')\n",
    "\n",
    "# usuarios que ganan mas de 50000 y son policias\n",
    "print(salarios[(salarios['Employee Annual Salary'] > 50000) & (salarios.Department=='POLICE')].head(3))\n",
    "print('\\n')\n",
    "\n",
    "# usuarios \n",
    "print(salarios[(salarios.Department == 'WATER MGMNT') | (salarios.Department == 'POLICE')].head(3))\n",
    "print(salarios[(salarios.Department.isin(['WATER MGMNT', 'POLICE']))].head(3)) #Tambien se puede hacer un OR con isin"
   ]
  },
  {
   "cell_type": "markdown",
   "metadata": {},
   "source": [
    "Se puede cambiar el indice y poner uno mas significativo. Por ejemplo el nombre de la persona."
   ]
  },
  {
   "cell_type": "code",
   "execution_count": 33,
   "metadata": {},
   "outputs": [
    {
     "name": "stdout",
     "output_type": "stream",
     "text": [
      "                     Position Title   Department  Employee Annual Salary\n",
      "Name                                                                    \n",
      "AARON,  ELVIA J    WATER RATE TAKER  WATER MGMNT                   85512\n",
      "AARON,  JEFFERY M    POLICE OFFICER       POLICE                   75372\n",
      "\n",
      "\n",
      "                Name    Position Title   Department  Employee Annual Salary\n",
      "0    AARON,  ELVIA J  WATER RATE TAKER  WATER MGMNT                   85512\n",
      "1  AARON,  JEFFERY M    POLICE OFFICER       POLICE                   75372\n",
      "\n",
      "^^^ No he cambiado el DataFrame. ^^^\n",
      "\n",
      "                     Position Title   Department  Employee Annual Salary\n",
      "Name                                                                    \n",
      "AARON,  ELVIA J    WATER RATE TAKER  WATER MGMNT                   85512\n",
      "AARON,  JEFFERY M    POLICE OFFICER       POLICE                   75372\n",
      "\n",
      "^^^ set_index devuelve un nuevo DataFrame. ^^^\n",
      "\n"
     ]
    }
   ],
   "source": [
    "print(salarios.set_index('Name').head(2))\n",
    "print('\\n')\n",
    "\n",
    "print(salarios.head(2))\n",
    "print(\"\\n^^^ No he cambiado el DataFrame. ^^^\\n\")\n",
    "\n",
    "with_new_index = salarios.set_index('Name')\n",
    "print(with_new_index.head(2))\n",
    "print(\"\\n^^^ set_index devuelve un nuevo DataFrame. ^^^\\n\")\n"
   ]
  },
  {
   "cell_type": "markdown",
   "metadata": {},
   "source": [
    "Si quieres modificar el DataFrame existente debes utilizar el parametro _inplace_. La mayoria de metodos retornan un nuevo DataFrame "
   ]
  },
  {
   "cell_type": "code",
   "execution_count": 35,
   "metadata": {},
   "outputs": [
    {
     "data": {
      "text/html": [
       "<div>\n",
       "<table border=\"1\" class=\"dataframe\">\n",
       "  <thead>\n",
       "    <tr style=\"text-align: right;\">\n",
       "      <th></th>\n",
       "      <th>Position Title</th>\n",
       "      <th>Department</th>\n",
       "      <th>Employee Annual Salary</th>\n",
       "    </tr>\n",
       "    <tr>\n",
       "      <th>Name</th>\n",
       "      <th></th>\n",
       "      <th></th>\n",
       "      <th></th>\n",
       "    </tr>\n",
       "  </thead>\n",
       "  <tbody>\n",
       "    <tr>\n",
       "      <th>AARON,  ELVIA J</th>\n",
       "      <td>WATER RATE TAKER</td>\n",
       "      <td>WATER MGMNT</td>\n",
       "      <td>85512</td>\n",
       "    </tr>\n",
       "    <tr>\n",
       "      <th>AARON,  JEFFERY M</th>\n",
       "      <td>POLICE OFFICER</td>\n",
       "      <td>POLICE</td>\n",
       "      <td>75372</td>\n",
       "    </tr>\n",
       "    <tr>\n",
       "      <th>AARON,  KIMBERLEI R</th>\n",
       "      <td>CHIEF CONTRACT EXPEDITER</td>\n",
       "      <td>GENERAL SERVICES</td>\n",
       "      <td>80916</td>\n",
       "    </tr>\n",
       "    <tr>\n",
       "      <th>ABAD JR,  VICENTE M</th>\n",
       "      <td>CIVIL ENGINEER IV</td>\n",
       "      <td>WATER MGMNT</td>\n",
       "      <td>99648</td>\n",
       "    </tr>\n",
       "    <tr>\n",
       "      <th>ABBATACOLA,  ROBERT J</th>\n",
       "      <td>ELECTRICAL MECHANIC</td>\n",
       "      <td>AVIATION</td>\n",
       "      <td>89440</td>\n",
       "    </tr>\n",
       "  </tbody>\n",
       "</table>\n",
       "</div>"
      ],
      "text/plain": [
       "                                 Position Title        Department  \\\n",
       "Name                                                                \n",
       "AARON,  ELVIA J                WATER RATE TAKER       WATER MGMNT   \n",
       "AARON,  JEFFERY M                POLICE OFFICER            POLICE   \n",
       "AARON,  KIMBERLEI R    CHIEF CONTRACT EXPEDITER  GENERAL SERVICES   \n",
       "ABAD JR,  VICENTE M           CIVIL ENGINEER IV       WATER MGMNT   \n",
       "ABBATACOLA,  ROBERT J       ELECTRICAL MECHANIC          AVIATION   \n",
       "\n",
       "                       Employee Annual Salary  \n",
       "Name                                           \n",
       "AARON,  ELVIA J                         85512  \n",
       "AARON,  JEFFERY M                       75372  \n",
       "AARON,  KIMBERLEI R                     80916  \n",
       "ABAD JR,  VICENTE M                     99648  \n",
       "ABBATACOLA,  ROBERT J                   89440  "
      ]
     },
     "execution_count": 35,
     "metadata": {},
     "output_type": "execute_result"
    }
   ],
   "source": [
    "salarios.set_index('Name', inplace=True)\n",
    "salarios.head()"
   ]
  },
  {
   "cell_type": "markdown",
   "metadata": {},
   "source": [
    "Podras notar que hemos perdido el indice que Pandas nos da por defecto. Puedes seleccionar todavia usando el metodo _iloc_."
   ]
  },
  {
   "cell_type": "code",
   "execution_count": 37,
   "metadata": {},
   "outputs": [
    {
     "name": "stdout",
     "output_type": "stream",
     "text": [
      "Position Title            POLICE OFFICER\n",
      "Department                        POLICE\n",
      "Employee Annual Salary             43104\n",
      "Name: ABDALLAH,  ZAID, dtype: object\n",
      "\n",
      "\n",
      "                      Position Title Department  Employee Annual Salary\n",
      "Name                                                                   \n",
      "ABDALLAH,  ZAID       POLICE OFFICER     POLICE                 43104.0\n",
      "ABDULLAH,  LAKENYA N  CROSSING GUARD     POLICE                 16286.4\n",
      "ABRAMS,  HENRY L      POLICE OFFICER     POLICE                 86130.0\n"
     ]
    }
   ],
   "source": [
    "print(salarios.iloc[10])\n",
    "print('\\n')\n",
    "print(salarios.iloc[[10, 20, 30]])"
   ]
  },
  {
   "cell_type": "markdown",
   "metadata": {},
   "source": [
    "Y se pueden seleccionar filas a traves del indice con el metodo _loc_."
   ]
  },
  {
   "cell_type": "code",
   "execution_count": 51,
   "metadata": {},
   "outputs": [
    {
     "name": "stdout",
     "output_type": "stream",
     "text": [
      "Position Title            WATER RATE TAKER\n",
      "Department                     WATER MGMNT\n",
      "Employee Annual Salary               85512\n",
      "Name: AARON,  ELVIA J, dtype: object\n",
      "\n",
      "\n",
      "                    Position Title   Department  Employee Annual Salary\n",
      "Name                                                                   \n",
      "AARON,  ELVIA J   WATER RATE TAKER  WATER MGMNT                   85512\n",
      "ABRAMS,  HENRY L    POLICE OFFICER       POLICE                   86130\n"
     ]
    }
   ],
   "source": [
    "print(salarios.loc['AARON,  ELVIA J'])\n",
    "print('\\n')\n",
    "print(salarios.loc[['AARON,  ELVIA J', 'ABRAMS,  HENRY L']])"
   ]
  },
  {
   "cell_type": "markdown",
   "metadata": {},
   "source": [
    "La regla basica en general es:\n",
    "* Usa _loc_ para indexado con indice\n",
    "* Usa _iloc_ para para indexado por posicion de fila"
   ]
  },
  {
   "cell_type": "markdown",
   "metadata": {},
   "source": [
    "Si queremos volver a tener el indice por defecto de Pandas podemos usar _reset\\_index_ ."
   ]
  },
  {
   "cell_type": "code",
   "execution_count": 53,
   "metadata": {},
   "outputs": [
    {
     "data": {
      "text/html": [
       "<div>\n",
       "<table border=\"1\" class=\"dataframe\">\n",
       "  <thead>\n",
       "    <tr style=\"text-align: right;\">\n",
       "      <th></th>\n",
       "      <th>Name</th>\n",
       "      <th>Position Title</th>\n",
       "      <th>Department</th>\n",
       "      <th>Employee Annual Salary</th>\n",
       "    </tr>\n",
       "  </thead>\n",
       "  <tbody>\n",
       "    <tr>\n",
       "      <th>0</th>\n",
       "      <td>AARON,  ELVIA J</td>\n",
       "      <td>WATER RATE TAKER</td>\n",
       "      <td>WATER MGMNT</td>\n",
       "      <td>85512</td>\n",
       "    </tr>\n",
       "    <tr>\n",
       "      <th>1</th>\n",
       "      <td>AARON,  JEFFERY M</td>\n",
       "      <td>POLICE OFFICER</td>\n",
       "      <td>POLICE</td>\n",
       "      <td>75372</td>\n",
       "    </tr>\n",
       "    <tr>\n",
       "      <th>2</th>\n",
       "      <td>AARON,  KIMBERLEI R</td>\n",
       "      <td>CHIEF CONTRACT EXPEDITER</td>\n",
       "      <td>GENERAL SERVICES</td>\n",
       "      <td>80916</td>\n",
       "    </tr>\n",
       "    <tr>\n",
       "      <th>3</th>\n",
       "      <td>ABAD JR,  VICENTE M</td>\n",
       "      <td>CIVIL ENGINEER IV</td>\n",
       "      <td>WATER MGMNT</td>\n",
       "      <td>99648</td>\n",
       "    </tr>\n",
       "    <tr>\n",
       "      <th>4</th>\n",
       "      <td>ABBATACOLA,  ROBERT J</td>\n",
       "      <td>ELECTRICAL MECHANIC</td>\n",
       "      <td>AVIATION</td>\n",
       "      <td>89440</td>\n",
       "    </tr>\n",
       "  </tbody>\n",
       "</table>\n",
       "</div>"
      ],
      "text/plain": [
       "                    Name            Position Title        Department  \\\n",
       "0        AARON,  ELVIA J          WATER RATE TAKER       WATER MGMNT   \n",
       "1      AARON,  JEFFERY M            POLICE OFFICER            POLICE   \n",
       "2    AARON,  KIMBERLEI R  CHIEF CONTRACT EXPEDITER  GENERAL SERVICES   \n",
       "3    ABAD JR,  VICENTE M         CIVIL ENGINEER IV       WATER MGMNT   \n",
       "4  ABBATACOLA,  ROBERT J       ELECTRICAL MECHANIC          AVIATION   \n",
       "\n",
       "   Employee Annual Salary  \n",
       "0                   85512  \n",
       "1                   75372  \n",
       "2                   80916  \n",
       "3                   99648  \n",
       "4                   89440  "
      ]
     },
     "execution_count": 53,
     "metadata": {},
     "output_type": "execute_result"
    }
   ],
   "source": [
    "salarios.reset_index(inplace=True)\n",
    "salarios.head()"
   ]
  },
  {
   "cell_type": "markdown",
   "metadata": {},
   "source": [
    "### Union"
   ]
  },
  {
   "cell_type": "markdown",
   "metadata": {},
   "source": [
    "Cuando se hace analisis a menudo hay que mezclar/unir bases de datos o ficheros. Para eso podemos utilizar la sentencia _pandas.merge_ "
   ]
  },
  {
   "cell_type": "code",
   "execution_count": 55,
   "metadata": {},
   "outputs": [
    {
     "name": "stdout",
     "output_type": "stream",
     "text": [
      "   key left_value\n",
      "0    0          a\n",
      "1    1          b\n",
      "2    2          c\n",
      "3    3          d\n",
      "4    4          e\n",
      "\n",
      "\n",
      "   key right_value\n",
      "0    2           f\n",
      "1    3           g\n",
      "2    4           h\n",
      "3    5           i\n",
      "4    6           j\n"
     ]
    }
   ],
   "source": [
    "left_frame = pd.DataFrame({'key': range(5), \n",
    "                           'left_value': ['a', 'b', 'c', 'd', 'e']})\n",
    "right_frame = pd.DataFrame({'key': range(2, 7), \n",
    "                           'right_value': ['f', 'g', 'h', 'i', 'j']})\n",
    "print(left_frame)\n",
    "print('\\n')\n",
    "print(right_frame)"
   ]
  },
  {
   "cell_type": "markdown",
   "metadata": {},
   "source": [
    "**inner_join** realizado por defecto. Se unen las filas cuyo campo key coincide. Aquellas keys que no estan en ambos DataFrames se descartan."
   ]
  },
  {
   "cell_type": "code",
   "execution_count": 56,
   "metadata": {},
   "outputs": [
    {
     "data": {
      "text/html": [
       "<div>\n",
       "<table border=\"1\" class=\"dataframe\">\n",
       "  <thead>\n",
       "    <tr style=\"text-align: right;\">\n",
       "      <th></th>\n",
       "      <th>key</th>\n",
       "      <th>left_value</th>\n",
       "      <th>right_value</th>\n",
       "    </tr>\n",
       "  </thead>\n",
       "  <tbody>\n",
       "    <tr>\n",
       "      <th>0</th>\n",
       "      <td>2</td>\n",
       "      <td>c</td>\n",
       "      <td>f</td>\n",
       "    </tr>\n",
       "    <tr>\n",
       "      <th>1</th>\n",
       "      <td>3</td>\n",
       "      <td>d</td>\n",
       "      <td>g</td>\n",
       "    </tr>\n",
       "    <tr>\n",
       "      <th>2</th>\n",
       "      <td>4</td>\n",
       "      <td>e</td>\n",
       "      <td>h</td>\n",
       "    </tr>\n",
       "  </tbody>\n",
       "</table>\n",
       "</div>"
      ],
      "text/plain": [
       "   key left_value right_value\n",
       "0    2          c           f\n",
       "1    3          d           g\n",
       "2    4          e           h"
      ]
     },
     "execution_count": 56,
     "metadata": {},
     "output_type": "execute_result"
    }
   ],
   "source": [
    "pd.merge(left_frame, right_frame, on='key', how='inner')"
   ]
  },
  {
   "cell_type": "markdown",
   "metadata": {},
   "source": [
    "**left_outer_join** guarda todos los de la izquierda mas los que hay en comun con la derecha"
   ]
  },
  {
   "cell_type": "code",
   "execution_count": 58,
   "metadata": {},
   "outputs": [
    {
     "data": {
      "text/html": [
       "<div>\n",
       "<table border=\"1\" class=\"dataframe\">\n",
       "  <thead>\n",
       "    <tr style=\"text-align: right;\">\n",
       "      <th></th>\n",
       "      <th>key</th>\n",
       "      <th>left_value</th>\n",
       "      <th>right_value</th>\n",
       "    </tr>\n",
       "  </thead>\n",
       "  <tbody>\n",
       "    <tr>\n",
       "      <th>0</th>\n",
       "      <td>0</td>\n",
       "      <td>a</td>\n",
       "      <td>NaN</td>\n",
       "    </tr>\n",
       "    <tr>\n",
       "      <th>1</th>\n",
       "      <td>1</td>\n",
       "      <td>b</td>\n",
       "      <td>NaN</td>\n",
       "    </tr>\n",
       "    <tr>\n",
       "      <th>2</th>\n",
       "      <td>2</td>\n",
       "      <td>c</td>\n",
       "      <td>f</td>\n",
       "    </tr>\n",
       "    <tr>\n",
       "      <th>3</th>\n",
       "      <td>3</td>\n",
       "      <td>d</td>\n",
       "      <td>g</td>\n",
       "    </tr>\n",
       "    <tr>\n",
       "      <th>4</th>\n",
       "      <td>4</td>\n",
       "      <td>e</td>\n",
       "      <td>h</td>\n",
       "    </tr>\n",
       "  </tbody>\n",
       "</table>\n",
       "</div>"
      ],
      "text/plain": [
       "   key left_value right_value\n",
       "0    0          a         NaN\n",
       "1    1          b         NaN\n",
       "2    2          c           f\n",
       "3    3          d           g\n",
       "4    4          e           h"
      ]
     },
     "execution_count": 58,
     "metadata": {},
     "output_type": "execute_result"
    }
   ],
   "source": [
    "pd.merge(left_frame, right_frame, on='key', how='left')"
   ]
  },
  {
   "cell_type": "markdown",
   "metadata": {},
   "source": [
    "**right_outer_join** guarda todos los de la derecha mas los que tiene en comun con la izquierda"
   ]
  },
  {
   "cell_type": "code",
   "execution_count": 59,
   "metadata": {},
   "outputs": [
    {
     "data": {
      "text/html": [
       "<div>\n",
       "<table border=\"1\" class=\"dataframe\">\n",
       "  <thead>\n",
       "    <tr style=\"text-align: right;\">\n",
       "      <th></th>\n",
       "      <th>key</th>\n",
       "      <th>left_value</th>\n",
       "      <th>right_value</th>\n",
       "    </tr>\n",
       "  </thead>\n",
       "  <tbody>\n",
       "    <tr>\n",
       "      <th>0</th>\n",
       "      <td>2</td>\n",
       "      <td>c</td>\n",
       "      <td>f</td>\n",
       "    </tr>\n",
       "    <tr>\n",
       "      <th>1</th>\n",
       "      <td>3</td>\n",
       "      <td>d</td>\n",
       "      <td>g</td>\n",
       "    </tr>\n",
       "    <tr>\n",
       "      <th>2</th>\n",
       "      <td>4</td>\n",
       "      <td>e</td>\n",
       "      <td>h</td>\n",
       "    </tr>\n",
       "    <tr>\n",
       "      <th>3</th>\n",
       "      <td>5</td>\n",
       "      <td>NaN</td>\n",
       "      <td>i</td>\n",
       "    </tr>\n",
       "    <tr>\n",
       "      <th>4</th>\n",
       "      <td>6</td>\n",
       "      <td>NaN</td>\n",
       "      <td>j</td>\n",
       "    </tr>\n",
       "  </tbody>\n",
       "</table>\n",
       "</div>"
      ],
      "text/plain": [
       "   key left_value right_value\n",
       "0    2          c           f\n",
       "1    3          d           g\n",
       "2    4          e           h\n",
       "3    5        NaN           i\n",
       "4    6        NaN           j"
      ]
     },
     "execution_count": 59,
     "metadata": {},
     "output_type": "execute_result"
    }
   ],
   "source": [
    "pd.merge(left_frame, right_frame, on='key', how='right')"
   ]
  },
  {
   "cell_type": "markdown",
   "metadata": {},
   "source": [
    "**full_outer_join** guarda todos los valores de ambos lados"
   ]
  },
  {
   "cell_type": "code",
   "execution_count": 60,
   "metadata": {},
   "outputs": [
    {
     "data": {
      "text/html": [
       "<div>\n",
       "<table border=\"1\" class=\"dataframe\">\n",
       "  <thead>\n",
       "    <tr style=\"text-align: right;\">\n",
       "      <th></th>\n",
       "      <th>key</th>\n",
       "      <th>left_value</th>\n",
       "      <th>right_value</th>\n",
       "    </tr>\n",
       "  </thead>\n",
       "  <tbody>\n",
       "    <tr>\n",
       "      <th>0</th>\n",
       "      <td>0</td>\n",
       "      <td>a</td>\n",
       "      <td>NaN</td>\n",
       "    </tr>\n",
       "    <tr>\n",
       "      <th>1</th>\n",
       "      <td>1</td>\n",
       "      <td>b</td>\n",
       "      <td>NaN</td>\n",
       "    </tr>\n",
       "    <tr>\n",
       "      <th>2</th>\n",
       "      <td>2</td>\n",
       "      <td>c</td>\n",
       "      <td>f</td>\n",
       "    </tr>\n",
       "    <tr>\n",
       "      <th>3</th>\n",
       "      <td>3</td>\n",
       "      <td>d</td>\n",
       "      <td>g</td>\n",
       "    </tr>\n",
       "    <tr>\n",
       "      <th>4</th>\n",
       "      <td>4</td>\n",
       "      <td>e</td>\n",
       "      <td>h</td>\n",
       "    </tr>\n",
       "    <tr>\n",
       "      <th>5</th>\n",
       "      <td>5</td>\n",
       "      <td>NaN</td>\n",
       "      <td>i</td>\n",
       "    </tr>\n",
       "    <tr>\n",
       "      <th>6</th>\n",
       "      <td>6</td>\n",
       "      <td>NaN</td>\n",
       "      <td>j</td>\n",
       "    </tr>\n",
       "  </tbody>\n",
       "</table>\n",
       "</div>"
      ],
      "text/plain": [
       "   key left_value right_value\n",
       "0    0          a         NaN\n",
       "1    1          b         NaN\n",
       "2    2          c           f\n",
       "3    3          d           g\n",
       "4    4          e           h\n",
       "5    5        NaN           i\n",
       "6    6        NaN           j"
      ]
     },
     "execution_count": 60,
     "metadata": {},
     "output_type": "execute_result"
    }
   ],
   "source": [
    "pd.merge(left_frame, right_frame, on='key', how='outer')"
   ]
  },
  {
   "cell_type": "markdown",
   "metadata": {},
   "source": [
    "En todos los aquellos valores cuyo indice no existen y son agregados en el _join_, se rellenan con _nulls_."
   ]
  },
  {
   "cell_type": "markdown",
   "metadata": {},
   "source": [
    "### Concatenacion (Combinacion)"
   ]
  },
  {
   "cell_type": "markdown",
   "metadata": {},
   "source": [
    "Pandas provee de una funcion para concatenar DataFrames _pandas.concat_ que anexa un DataFrame a otro. Por defecto lo hace verticalmente."
   ]
  },
  {
   "cell_type": "code",
   "execution_count": 61,
   "metadata": {},
   "outputs": [
    {
     "data": {
      "text/html": [
       "<div>\n",
       "<table border=\"1\" class=\"dataframe\">\n",
       "  <thead>\n",
       "    <tr style=\"text-align: right;\">\n",
       "      <th></th>\n",
       "      <th>key</th>\n",
       "      <th>left_value</th>\n",
       "      <th>right_value</th>\n",
       "    </tr>\n",
       "  </thead>\n",
       "  <tbody>\n",
       "    <tr>\n",
       "      <th>0</th>\n",
       "      <td>0</td>\n",
       "      <td>a</td>\n",
       "      <td>NaN</td>\n",
       "    </tr>\n",
       "    <tr>\n",
       "      <th>1</th>\n",
       "      <td>1</td>\n",
       "      <td>b</td>\n",
       "      <td>NaN</td>\n",
       "    </tr>\n",
       "    <tr>\n",
       "      <th>2</th>\n",
       "      <td>2</td>\n",
       "      <td>c</td>\n",
       "      <td>NaN</td>\n",
       "    </tr>\n",
       "    <tr>\n",
       "      <th>3</th>\n",
       "      <td>3</td>\n",
       "      <td>d</td>\n",
       "      <td>NaN</td>\n",
       "    </tr>\n",
       "    <tr>\n",
       "      <th>4</th>\n",
       "      <td>4</td>\n",
       "      <td>e</td>\n",
       "      <td>NaN</td>\n",
       "    </tr>\n",
       "    <tr>\n",
       "      <th>0</th>\n",
       "      <td>2</td>\n",
       "      <td>NaN</td>\n",
       "      <td>f</td>\n",
       "    </tr>\n",
       "    <tr>\n",
       "      <th>1</th>\n",
       "      <td>3</td>\n",
       "      <td>NaN</td>\n",
       "      <td>g</td>\n",
       "    </tr>\n",
       "    <tr>\n",
       "      <th>2</th>\n",
       "      <td>4</td>\n",
       "      <td>NaN</td>\n",
       "      <td>h</td>\n",
       "    </tr>\n",
       "    <tr>\n",
       "      <th>3</th>\n",
       "      <td>5</td>\n",
       "      <td>NaN</td>\n",
       "      <td>i</td>\n",
       "    </tr>\n",
       "    <tr>\n",
       "      <th>4</th>\n",
       "      <td>6</td>\n",
       "      <td>NaN</td>\n",
       "      <td>j</td>\n",
       "    </tr>\n",
       "  </tbody>\n",
       "</table>\n",
       "</div>"
      ],
      "text/plain": [
       "   key left_value right_value\n",
       "0    0          a         NaN\n",
       "1    1          b         NaN\n",
       "2    2          c         NaN\n",
       "3    3          d         NaN\n",
       "4    4          e         NaN\n",
       "0    2        NaN           f\n",
       "1    3        NaN           g\n",
       "2    4        NaN           h\n",
       "3    5        NaN           i\n",
       "4    6        NaN           j"
      ]
     },
     "execution_count": 61,
     "metadata": {},
     "output_type": "execute_result"
    }
   ],
   "source": [
    "pd.concat([left_frame, right_frame])"
   ]
  },
  {
   "cell_type": "markdown",
   "metadata": {},
   "source": [
    "Tambien se puede hacer horizontalmente utilizando el parametro _axis_ . La concatenacion se puede usar de diversas formas puedes mirar en la documentacion de Pandas para ver mas ejemplos."
   ]
  },
  {
   "cell_type": "code",
   "execution_count": 62,
   "metadata": {},
   "outputs": [
    {
     "data": {
      "text/html": [
       "<div>\n",
       "<table border=\"1\" class=\"dataframe\">\n",
       "  <thead>\n",
       "    <tr style=\"text-align: right;\">\n",
       "      <th></th>\n",
       "      <th>key</th>\n",
       "      <th>left_value</th>\n",
       "      <th>key</th>\n",
       "      <th>right_value</th>\n",
       "    </tr>\n",
       "  </thead>\n",
       "  <tbody>\n",
       "    <tr>\n",
       "      <th>0</th>\n",
       "      <td>0</td>\n",
       "      <td>a</td>\n",
       "      <td>2</td>\n",
       "      <td>f</td>\n",
       "    </tr>\n",
       "    <tr>\n",
       "      <th>1</th>\n",
       "      <td>1</td>\n",
       "      <td>b</td>\n",
       "      <td>3</td>\n",
       "      <td>g</td>\n",
       "    </tr>\n",
       "    <tr>\n",
       "      <th>2</th>\n",
       "      <td>2</td>\n",
       "      <td>c</td>\n",
       "      <td>4</td>\n",
       "      <td>h</td>\n",
       "    </tr>\n",
       "    <tr>\n",
       "      <th>3</th>\n",
       "      <td>3</td>\n",
       "      <td>d</td>\n",
       "      <td>5</td>\n",
       "      <td>i</td>\n",
       "    </tr>\n",
       "    <tr>\n",
       "      <th>4</th>\n",
       "      <td>4</td>\n",
       "      <td>e</td>\n",
       "      <td>6</td>\n",
       "      <td>j</td>\n",
       "    </tr>\n",
       "  </tbody>\n",
       "</table>\n",
       "</div>"
      ],
      "text/plain": [
       "   key left_value  key right_value\n",
       "0    0          a    2           f\n",
       "1    1          b    3           g\n",
       "2    2          c    4           h\n",
       "3    3          d    5           i\n",
       "4    4          e    6           j"
      ]
     },
     "execution_count": 62,
     "metadata": {},
     "output_type": "execute_result"
    }
   ],
   "source": [
    "pd.concat([left_frame, right_frame], axis=1)"
   ]
  },
  {
   "cell_type": "markdown",
   "metadata": {},
   "source": [
    "### Agrupado (split-apply-combine)"
   ]
  },
  {
   "cell_type": "markdown",
   "metadata": {},
   "source": [
    "Uno de los grandes poderios de Pandas radica en su sencillez a la hora de dividir, aplicar funciones y combinar de nuevo. Esto se conoce como la metodologia _split-apply-combine_."
   ]
  },
  {
   "cell_type": "code",
   "execution_count": 2,
   "metadata": {},
   "outputs": [
    {
     "data": {
      "text/html": [
       "<div>\n",
       "<table border=\"1\" class=\"dataframe\">\n",
       "  <thead>\n",
       "    <tr style=\"text-align: right;\">\n",
       "      <th></th>\n",
       "      <th>name</th>\n",
       "      <th>title</th>\n",
       "      <th>department</th>\n",
       "      <th>salary</th>\n",
       "    </tr>\n",
       "  </thead>\n",
       "  <tbody>\n",
       "    <tr>\n",
       "      <th>0</th>\n",
       "      <td>AARON,  ELVIA J</td>\n",
       "      <td>WATER RATE TAKER</td>\n",
       "      <td>WATER MGMNT</td>\n",
       "      <td>85512</td>\n",
       "    </tr>\n",
       "    <tr>\n",
       "      <th>1</th>\n",
       "      <td>AARON,  JEFFERY M</td>\n",
       "      <td>POLICE OFFICER</td>\n",
       "      <td>POLICE</td>\n",
       "      <td>75372</td>\n",
       "    </tr>\n",
       "    <tr>\n",
       "      <th>2</th>\n",
       "      <td>AARON,  KIMBERLEI R</td>\n",
       "      <td>CHIEF CONTRACT EXPEDITER</td>\n",
       "      <td>GENERAL SERVICES</td>\n",
       "      <td>80916</td>\n",
       "    </tr>\n",
       "    <tr>\n",
       "      <th>3</th>\n",
       "      <td>ABAD JR,  VICENTE M</td>\n",
       "      <td>CIVIL ENGINEER IV</td>\n",
       "      <td>WATER MGMNT</td>\n",
       "      <td>99648</td>\n",
       "    </tr>\n",
       "    <tr>\n",
       "      <th>4</th>\n",
       "      <td>ABBATACOLA,  ROBERT J</td>\n",
       "      <td>ELECTRICAL MECHANIC</td>\n",
       "      <td>AVIATION</td>\n",
       "      <td>89440</td>\n",
       "    </tr>\n",
       "  </tbody>\n",
       "</table>\n",
       "</div>"
      ],
      "text/plain": [
       "                    name                     title        department  salary\n",
       "0        AARON,  ELVIA J          WATER RATE TAKER       WATER MGMNT   85512\n",
       "1      AARON,  JEFFERY M            POLICE OFFICER            POLICE   75372\n",
       "2    AARON,  KIMBERLEI R  CHIEF CONTRACT EXPEDITER  GENERAL SERVICES   80916\n",
       "3    ABAD JR,  VICENTE M         CIVIL ENGINEER IV       WATER MGMNT   99648\n",
       "4  ABBATACOLA,  ROBERT J       ELECTRICAL MECHANIC          AVIATION   89440"
      ]
     },
     "execution_count": 2,
     "metadata": {},
     "output_type": "execute_result"
    }
   ],
   "source": [
    "headers = ['name', 'title', 'department', 'salary']\n",
    "chicago = pd.read_csv('city-of-chicago-salaries.csv', \n",
    "                      header=0,\n",
    "                      names=headers)\n",
    "chicago.head()"
   ]
  },
  {
   "cell_type": "markdown",
   "metadata": {},
   "source": [
    "El metodo **_groupby_** nos devuelve un DataFrameGroupBy que tiene una variedad de funciones"
   ]
  },
  {
   "cell_type": "code",
   "execution_count": 64,
   "metadata": {},
   "outputs": [
    {
     "data": {
      "text/plain": [
       "<pandas.core.groupby.DataFrameGroupBy object at 0x11630e190>"
      ]
     },
     "execution_count": 64,
     "metadata": {},
     "output_type": "execute_result"
    }
   ],
   "source": [
    "by_dept = chicago.groupby('department')\n",
    "by_dept"
   ]
  },
  {
   "cell_type": "markdown",
   "metadata": {},
   "source": [
    "Por ejemplo llamando a _count_ podemos contar el numero de valores dentro de cada columna que no son _nulls_. Si queremos contar el numero de filas para cada columna podemos usar _size_"
   ]
  },
  {
   "cell_type": "code",
   "execution_count": 65,
   "metadata": {},
   "outputs": [
    {
     "name": "stdout",
     "output_type": "stream",
     "text": [
      "                   name  title  salary\n",
      "department                            \n",
      "ADMIN HEARNG         42     42      42\n",
      "ANIMAL CONTRL        61     61      61\n",
      "AVIATION           1218   1218    1218\n",
      "BOARD OF ELECTION   110    110     110\n",
      "BOARD OF ETHICS       9      9       9\n",
      "\n",
      "\n",
      "department\n",
      "PUBLIC LIBRARY     926\n",
      "STREETS & SAN     2070\n",
      "TRANSPORTN        1168\n",
      "TREASURER           25\n",
      "WATER MGMNT       1857\n",
      "dtype: int64\n"
     ]
    }
   ],
   "source": [
    "print(by_dept.count().head()) # NOT NULL de cada columna\n",
    "print('\\n')\n",
    "print(by_dept.size().tail()) # total registros totales por cada departamento"
   ]
  },
  {
   "cell_type": "markdown",
   "metadata": {},
   "source": [
    "La suma se realiza con la funcion _sum_ y la media con _mean_ y la mediana con _median_"
   ]
  },
  {
   "cell_type": "code",
   "execution_count": 66,
   "metadata": {},
   "outputs": [
    {
     "name": "stdout",
     "output_type": "stream",
     "text": [
      "                       salary\n",
      "department                   \n",
      "HUMAN RESOURCES     4850928.0\n",
      "INSPECTOR GEN       4035150.0\n",
      "IPRA                7006128.0\n",
      "LAW                31883920.2\n",
      "LICENSE APPL COMM     65436.0\n",
      "\n",
      "\n",
      "                         salary\n",
      "department                     \n",
      "HUMAN RESOURCES    71337.176471\n",
      "INSPECTOR GEN      80703.000000\n",
      "IPRA               82425.035294\n",
      "LAW                70853.156000\n",
      "LICENSE APPL COMM  65436.000000\n",
      "\n",
      "\n",
      "                   salary\n",
      "department               \n",
      "HUMAN RESOURCES     68496\n",
      "INSPECTOR GEN       76116\n",
      "IPRA                82524\n",
      "LAW                 66492\n",
      "LICENSE APPL COMM   65436\n"
     ]
    }
   ],
   "source": [
    "print(by_dept.sum()[20:25]) # suma total de salarios por departamento\n",
    "print('\\n')\n",
    "print(by_dept.mean()[20:25]) # salario medio de cada departamento\n",
    "print('\\n')\n",
    "print(by_dept.median()[20:25]) # mediana del salario de cada departamento"
   ]
  },
  {
   "cell_type": "markdown",
   "metadata": {},
   "source": [
    "Tambien se puede realizar operaciones a nivel individual en cada objeto Series. Por ejemplo, podemos calcular los 5 departmentos con un numero mayor de _titles_ distintos"
   ]
  },
  {
   "cell_type": "code",
   "execution_count": 69,
   "metadata": {},
   "outputs": [
    {
     "data": {
      "text/plain": [
       "department\n",
       "WATER MGMNT    153\n",
       "TRANSPORTN     150\n",
       "POLICE         130\n",
       "AVIATION       125\n",
       "HEALTH         118\n",
       "Name: title, dtype: int64"
      ]
     },
     "execution_count": 69,
     "metadata": {},
     "output_type": "execute_result"
    }
   ],
   "source": [
    "by_dept.title.nunique().sort_values(ascending=False)[:5]"
   ]
  },
  {
   "cell_type": "markdown",
   "metadata": {},
   "source": [
    "### split-apply-combine"
   ]
  },
  {
   "cell_type": "markdown",
   "metadata": {},
   "source": [
    "El poder real de _groupby_ reside en el divide/aplica/combina."
   ]
  },
  {
   "cell_type": "markdown",
   "metadata": {},
   "source": [
    "Imagina que queremos calcular cual es la persona que mas cobra dentro de cada departamento. Usando _groupby_ podemos definir una funcion que llamaremos _ranker_ que etiquetara cada fila de 1 a N donde N es el numero de empleados de cada departamento. Despues, llamamos a _apply_ para aplicar la funcion a cada grupo (en este caso cada departamento). "
   ]
  },
  {
   "cell_type": "code",
   "execution_count": 5,
   "metadata": {
    "collapsed": true
   },
   "outputs": [],
   "source": [
    "def ranker(df):\n",
    "    \"\"\"Asigna una posicion en el rankin a cada empleado segun su salario siendo 1 el mejor pagado.\n",
    "    Asume que los datos estan ordenadors de forma descendente.\"\"\"\n",
    "    df['dept_rank'] = np.arange(len(df)) + 1\n",
    "    return df"
   ]
  },
  {
   "cell_type": "code",
   "execution_count": 28,
   "metadata": {
    "scrolled": false
   },
   "outputs": [
    {
     "name": "stdout",
     "output_type": "stream",
     "text": [
      "                        name                           title      department  \\\n",
      "18039    MC CARTHY,  GARRY F        SUPERINTENDENT OF POLICE          POLICE   \n",
      "8004          EMANUEL,  RAHM                           MAYOR  MAYOR'S OFFICE   \n",
      "25588      SANTIAGO,  JOSE A               FIRE COMMISSIONER            FIRE   \n",
      "27594  STEWART III,  CHARLES  FIRST DEPUTY FIRE COMMISSIONER            FIRE   \n",
      "31587     WYSINGER,  ALFONZA     FIRST DEPUTY SUPERINTENDENT          POLICE   \n",
      "\n",
      "       salary  dept_rank  \n",
      "18039  260004          1  \n",
      "8004   216210          1  \n",
      "25588  202728          1  \n",
      "27594  188316          2  \n",
      "31587  188316          2  \n"
     ]
    }
   ],
   "source": [
    "chicago.sort_values('salary', ascending=False, inplace=True)\n",
    "chicago = chicago.groupby('department').apply(ranker)\n",
    "#print(chicago[chicago.dept_rank == 1].head(5))\n",
    "print(chicago[chicago['dept_rank'] < 3].head(5))\n"
   ]
  },
  {
   "cell_type": "code",
   "execution_count": 7,
   "metadata": {},
   "outputs": [
    {
     "data": {
      "text/html": [
       "<div>\n",
       "<table border=\"1\" class=\"dataframe\">\n",
       "  <thead>\n",
       "    <tr style=\"text-align: right;\">\n",
       "      <th></th>\n",
       "      <th>name</th>\n",
       "      <th>title</th>\n",
       "      <th>department</th>\n",
       "      <th>salary</th>\n",
       "    </tr>\n",
       "  </thead>\n",
       "  <tbody>\n",
       "    <tr>\n",
       "      <th>0</th>\n",
       "      <td>AARON,  ELVIA J</td>\n",
       "      <td>WATER RATE TAKER</td>\n",
       "      <td>WATER MGMNT</td>\n",
       "      <td>85512</td>\n",
       "    </tr>\n",
       "    <tr>\n",
       "      <th>1</th>\n",
       "      <td>AARON,  JEFFERY M</td>\n",
       "      <td>POLICE OFFICER</td>\n",
       "      <td>POLICE</td>\n",
       "      <td>75372</td>\n",
       "    </tr>\n",
       "    <tr>\n",
       "      <th>2</th>\n",
       "      <td>AARON,  KIMBERLEI R</td>\n",
       "      <td>CHIEF CONTRACT EXPEDITER</td>\n",
       "      <td>GENERAL SERVICES</td>\n",
       "      <td>80916</td>\n",
       "    </tr>\n",
       "    <tr>\n",
       "      <th>3</th>\n",
       "      <td>ABAD JR,  VICENTE M</td>\n",
       "      <td>CIVIL ENGINEER IV</td>\n",
       "      <td>WATER MGMNT</td>\n",
       "      <td>99648</td>\n",
       "    </tr>\n",
       "    <tr>\n",
       "      <th>4</th>\n",
       "      <td>ABBATACOLA,  ROBERT J</td>\n",
       "      <td>ELECTRICAL MECHANIC</td>\n",
       "      <td>AVIATION</td>\n",
       "      <td>89440</td>\n",
       "    </tr>\n",
       "    <tr>\n",
       "      <th>5</th>\n",
       "      <td>ABBATEMARCO,  JAMES J</td>\n",
       "      <td>FIREFIGHTER</td>\n",
       "      <td>FIRE</td>\n",
       "      <td>78012</td>\n",
       "    </tr>\n",
       "    <tr>\n",
       "      <th>6</th>\n",
       "      <td>ABBATE,  TERRY M</td>\n",
       "      <td>POLICE OFFICER</td>\n",
       "      <td>POLICE</td>\n",
       "      <td>80724</td>\n",
       "    </tr>\n",
       "    <tr>\n",
       "      <th>7</th>\n",
       "      <td>ABBOTT,  BETTY L</td>\n",
       "      <td>FOSTER GRANDPARENT</td>\n",
       "      <td>FAMILY &amp; SUPPORT</td>\n",
       "      <td>2756</td>\n",
       "    </tr>\n",
       "    <tr>\n",
       "      <th>8</th>\n",
       "      <td>ABBOTT,  LYNISE M</td>\n",
       "      <td>CLERK III</td>\n",
       "      <td>POLICE</td>\n",
       "      <td>41784</td>\n",
       "    </tr>\n",
       "    <tr>\n",
       "      <th>9</th>\n",
       "      <td>ABBRUZZESE,  WILLIAM J</td>\n",
       "      <td>INVESTIGATOR - IPRA II</td>\n",
       "      <td>IPRA</td>\n",
       "      <td>62832</td>\n",
       "    </tr>\n",
       "  </tbody>\n",
       "</table>\n",
       "</div>"
      ],
      "text/plain": [
       "                     name                     title        department  salary\n",
       "0         AARON,  ELVIA J          WATER RATE TAKER       WATER MGMNT   85512\n",
       "1       AARON,  JEFFERY M            POLICE OFFICER            POLICE   75372\n",
       "2     AARON,  KIMBERLEI R  CHIEF CONTRACT EXPEDITER  GENERAL SERVICES   80916\n",
       "3     ABAD JR,  VICENTE M         CIVIL ENGINEER IV       WATER MGMNT   99648\n",
       "4   ABBATACOLA,  ROBERT J       ELECTRICAL MECHANIC          AVIATION   89440\n",
       "5   ABBATEMARCO,  JAMES J               FIREFIGHTER              FIRE   78012\n",
       "6        ABBATE,  TERRY M            POLICE OFFICER            POLICE   80724\n",
       "7        ABBOTT,  BETTY L        FOSTER GRANDPARENT  FAMILY & SUPPORT    2756\n",
       "8       ABBOTT,  LYNISE M                 CLERK III            POLICE   41784\n",
       "9  ABBRUZZESE,  WILLIAM J    INVESTIGATOR - IPRA II              IPRA   62832"
      ]
     },
     "execution_count": 7,
     "metadata": {},
     "output_type": "execute_result"
    }
   ],
   "source": [
    "chicago.head(10)"
   ]
  },
  {
   "cell_type": "code",
   "execution_count": 17,
   "metadata": {},
   "outputs": [
    {
     "data": {
      "text/html": [
       "<div>\n",
       "<table border=\"1\" class=\"dataframe\">\n",
       "  <thead>\n",
       "    <tr style=\"text-align: right;\">\n",
       "      <th></th>\n",
       "      <th>name</th>\n",
       "      <th>title</th>\n",
       "      <th>department</th>\n",
       "      <th>salary</th>\n",
       "    </tr>\n",
       "  </thead>\n",
       "  <tbody>\n",
       "    <tr>\n",
       "      <th>18039</th>\n",
       "      <td>MC CARTHY,  GARRY F</td>\n",
       "      <td>SUPERINTENDENT OF POLICE</td>\n",
       "      <td>POLICE</td>\n",
       "      <td>260004</td>\n",
       "    </tr>\n",
       "    <tr>\n",
       "      <th>8004</th>\n",
       "      <td>EMANUEL,  RAHM</td>\n",
       "      <td>MAYOR</td>\n",
       "      <td>MAYOR'S OFFICE</td>\n",
       "      <td>216210</td>\n",
       "    </tr>\n",
       "    <tr>\n",
       "      <th>25588</th>\n",
       "      <td>SANTIAGO,  JOSE A</td>\n",
       "      <td>FIRE COMMISSIONER</td>\n",
       "      <td>FIRE</td>\n",
       "      <td>202728</td>\n",
       "    </tr>\n",
       "    <tr>\n",
       "      <th>27594</th>\n",
       "      <td>STEWART III,  CHARLES</td>\n",
       "      <td>FIRST DEPUTY FIRE COMMISSIONER</td>\n",
       "      <td>FIRE</td>\n",
       "      <td>188316</td>\n",
       "    </tr>\n",
       "    <tr>\n",
       "      <th>31587</th>\n",
       "      <td>WYSINGER,  ALFONZA</td>\n",
       "      <td>FIRST DEPUTY SUPERINTENDENT</td>\n",
       "      <td>POLICE</td>\n",
       "      <td>188316</td>\n",
       "    </tr>\n",
       "    <tr>\n",
       "      <th>763</th>\n",
       "      <td>ANDOLINO,  ROSEMARIE S</td>\n",
       "      <td>COMMISSIONER OF AVIATION</td>\n",
       "      <td>AVIATION</td>\n",
       "      <td>186576</td>\n",
       "    </tr>\n",
       "    <tr>\n",
       "      <th>19175</th>\n",
       "      <td>MINIOTIS,  CONSTANTINE</td>\n",
       "      <td>SUPERINTENDENT'S CHIEF OF STAFF</td>\n",
       "      <td>POLICE</td>\n",
       "      <td>185004</td>\n",
       "    </tr>\n",
       "    <tr>\n",
       "      <th>28955</th>\n",
       "      <td>TRACY,  ROBERT J</td>\n",
       "      <td>CHIEF</td>\n",
       "      <td>POLICE</td>\n",
       "      <td>185004</td>\n",
       "    </tr>\n",
       "    <tr>\n",
       "      <th>3733</th>\n",
       "      <td>CALLAHAN,  MICHAEL E</td>\n",
       "      <td>DEPUTY FIRE COMMISSIONER</td>\n",
       "      <td>FIRE</td>\n",
       "      <td>178740</td>\n",
       "    </tr>\n",
       "    <tr>\n",
       "      <th>8982</th>\n",
       "      <td>FORD II,  RICHARD C</td>\n",
       "      <td>DEPUTY FIRE COMMISSIONER</td>\n",
       "      <td>FIRE</td>\n",
       "      <td>178740</td>\n",
       "    </tr>\n",
       "    <tr>\n",
       "      <th>18604</th>\n",
       "      <td>MC NICHOLAS,  JOHN</td>\n",
       "      <td>DEPUTY FIRE COMMISSIONER</td>\n",
       "      <td>FIRE</td>\n",
       "      <td>178740</td>\n",
       "    </tr>\n",
       "    <tr>\n",
       "      <th>29512</th>\n",
       "      <td>VASQUEZ,  ANTHONY P</td>\n",
       "      <td>DEPUTY FIRE COMMISSIONER</td>\n",
       "      <td>FIRE</td>\n",
       "      <td>178740</td>\n",
       "    </tr>\n",
       "    <tr>\n",
       "      <th>4697</th>\n",
       "      <td>CHOUCAIR,  BECHARA N</td>\n",
       "      <td>COMMISSIONER OF HEALTH</td>\n",
       "      <td>HEALTH</td>\n",
       "      <td>177156</td>\n",
       "    </tr>\n",
       "    <tr>\n",
       "      <th>14999</th>\n",
       "      <td>KIRBY,  DEBRA K</td>\n",
       "      <td>CHIEF</td>\n",
       "      <td>POLICE</td>\n",
       "      <td>176532</td>\n",
       "    </tr>\n",
       "    <tr>\n",
       "      <th>24156</th>\n",
       "      <td>RIVERA,  JUAN J</td>\n",
       "      <td>CHIEF</td>\n",
       "      <td>POLICE</td>\n",
       "      <td>176532</td>\n",
       "    </tr>\n",
       "    <tr>\n",
       "      <th>24921</th>\n",
       "      <td>ROTI,  NICHOLAS J</td>\n",
       "      <td>CHIEF</td>\n",
       "      <td>POLICE</td>\n",
       "      <td>176532</td>\n",
       "    </tr>\n",
       "    <tr>\n",
       "      <th>11058</th>\n",
       "      <td>GULLIFORD,  WAYNE M</td>\n",
       "      <td>CHIEF</td>\n",
       "      <td>POLICE</td>\n",
       "      <td>176532</td>\n",
       "    </tr>\n",
       "    <tr>\n",
       "      <th>30907</th>\n",
       "      <td>WILLIAMS,  EUGENE E</td>\n",
       "      <td>CHIEF</td>\n",
       "      <td>POLICE</td>\n",
       "      <td>176532</td>\n",
       "    </tr>\n",
       "    <tr>\n",
       "      <th>8095</th>\n",
       "      <td>ESCALANTE,  JOHN J</td>\n",
       "      <td>CHIEF</td>\n",
       "      <td>POLICE</td>\n",
       "      <td>176532</td>\n",
       "    </tr>\n",
       "    <tr>\n",
       "      <th>7814</th>\n",
       "      <td>EDGEWORTH,  RICHARD A</td>\n",
       "      <td>DEPUTY COMMISSIONER</td>\n",
       "      <td>FIRE</td>\n",
       "      <td>176520</td>\n",
       "    </tr>\n",
       "    <tr>\n",
       "      <th>20575</th>\n",
       "      <td>NIELSEN,  MARK A</td>\n",
       "      <td>ASST DEPUTY FIRE COMMISSIONER</td>\n",
       "      <td>FIRE</td>\n",
       "      <td>176520</td>\n",
       "    </tr>\n",
       "    <tr>\n",
       "      <th>27311</th>\n",
       "      <td>SPRINGER,  JEFFREY T</td>\n",
       "      <td>ASST DEPUTY FIRE COMMISSIONER</td>\n",
       "      <td>FIRE</td>\n",
       "      <td>176520</td>\n",
       "    </tr>\n",
       "    <tr>\n",
       "      <th>2638</th>\n",
       "      <td>BOYLE,  WILLIAM D</td>\n",
       "      <td>ASST DEPUTY FIRE COMMISSIONER</td>\n",
       "      <td>FIRE</td>\n",
       "      <td>176520</td>\n",
       "    </tr>\n",
       "    <tr>\n",
       "      <th>9075</th>\n",
       "      <td>FOX,  MICHAEL W</td>\n",
       "      <td>ASST DEPUTY FIRE COMMISSIONER</td>\n",
       "      <td>FIRE</td>\n",
       "      <td>176520</td>\n",
       "    </tr>\n",
       "    <tr>\n",
       "      <th>25885</th>\n",
       "      <td>SCHRADER,  LISA P</td>\n",
       "      <td>CHIEF OF STAFF</td>\n",
       "      <td>MAYOR'S OFFICE</td>\n",
       "      <td>174996</td>\n",
       "    </tr>\n",
       "    <tr>\n",
       "      <th>21971</th>\n",
       "      <td>PATTON,  STEPHEN R</td>\n",
       "      <td>CORPORATION COUNSEL</td>\n",
       "      <td>LAW</td>\n",
       "      <td>173664</td>\n",
       "    </tr>\n",
       "    <tr>\n",
       "      <th>12635</th>\n",
       "      <td>HOLT,  ALEXANDRA D</td>\n",
       "      <td>BUDGET DIR</td>\n",
       "      <td>BUDGET &amp; MGMT</td>\n",
       "      <td>169992</td>\n",
       "    </tr>\n",
       "    <tr>\n",
       "      <th>25981</th>\n",
       "      <td>SCOTT,  LOIS A</td>\n",
       "      <td>CHIEF FINANCIAL OFFICER</td>\n",
       "      <td>MAYOR'S OFFICE</td>\n",
       "      <td>169992</td>\n",
       "    </tr>\n",
       "    <tr>\n",
       "      <th>22894</th>\n",
       "      <td>POWERS,  THOMAS H</td>\n",
       "      <td>COMMISSIONER OF WATER MGMT</td>\n",
       "      <td>WATER MGMNT</td>\n",
       "      <td>169512</td>\n",
       "    </tr>\n",
       "    <tr>\n",
       "      <th>15053</th>\n",
       "      <td>KLEIN,  GABRIEL J</td>\n",
       "      <td>COMMISSIONER OF TRANSPORTATION</td>\n",
       "      <td>TRANSPORTN</td>\n",
       "      <td>169500</td>\n",
       "    </tr>\n",
       "    <tr>\n",
       "      <th>13089</th>\n",
       "      <td>HYNES,  MATTHEW J</td>\n",
       "      <td>DIR OF INTERGOVERNMENTAL AFFAIRS</td>\n",
       "      <td>MAYOR'S OFFICE</td>\n",
       "      <td>168996</td>\n",
       "    </tr>\n",
       "    <tr>\n",
       "      <th>25778</th>\n",
       "      <td>SCHENKEL,  GARY W</td>\n",
       "      <td>EXEC DIR EMERG MGMT &amp; COMM</td>\n",
       "      <td>OEMC</td>\n",
       "      <td>167796</td>\n",
       "    </tr>\n",
       "    <tr>\n",
       "      <th>1416</th>\n",
       "      <td>BANNON,  BRIAN A</td>\n",
       "      <td>COMMISSIONER OF CHICAGO PUBLIC LIBRARY</td>\n",
       "      <td>PUBLIC LIBRARY</td>\n",
       "      <td>167004</td>\n",
       "    </tr>\n",
       "    <tr>\n",
       "      <th>23878</th>\n",
       "      <td>RHEE,  JAMIE L</td>\n",
       "      <td>CHIEF PROCUREMENT OFFICER</td>\n",
       "      <td>PROCUREMENT</td>\n",
       "      <td>163656</td>\n",
       "    </tr>\n",
       "    <tr>\n",
       "      <th>11361</th>\n",
       "      <td>HAMILTON,  SARAH A</td>\n",
       "      <td>PRESS SECRETARY</td>\n",
       "      <td>MAYOR'S OFFICE</td>\n",
       "      <td>162492</td>\n",
       "    </tr>\n",
       "    <tr>\n",
       "      <th>27270</th>\n",
       "      <td>SPIELFOGEL,  DAVID S</td>\n",
       "      <td>ASST TO THE MAYOR</td>\n",
       "      <td>MAYOR'S OFFICE</td>\n",
       "      <td>162492</td>\n",
       "    </tr>\n",
       "    <tr>\n",
       "      <th>6814</th>\n",
       "      <td>DENNIS,  JOSHUA M</td>\n",
       "      <td>DISTRICT CHIEF</td>\n",
       "      <td>FIRE</td>\n",
       "      <td>162012</td>\n",
       "    </tr>\n",
       "    <tr>\n",
       "      <th>3740</th>\n",
       "      <td>CALLOWAY,  KEITH A</td>\n",
       "      <td>DEPUTY CHIEF</td>\n",
       "      <td>POLICE</td>\n",
       "      <td>162012</td>\n",
       "    </tr>\n",
       "    <tr>\n",
       "      <th>9913</th>\n",
       "      <td>GEORGAS,  STEVE E</td>\n",
       "      <td>DEPUTY CHIEF</td>\n",
       "      <td>POLICE</td>\n",
       "      <td>162012</td>\n",
       "    </tr>\n",
       "    <tr>\n",
       "      <th>16510</th>\n",
       "      <td>LODDING,  HOWARD W</td>\n",
       "      <td>DEPUTY CHIEF</td>\n",
       "      <td>POLICE</td>\n",
       "      <td>162012</td>\n",
       "    </tr>\n",
       "    <tr>\n",
       "      <th>2355</th>\n",
       "      <td>BOEHMER,  KATHLEEN</td>\n",
       "      <td>DEPUTY CHIEF</td>\n",
       "      <td>POLICE</td>\n",
       "      <td>162012</td>\n",
       "    </tr>\n",
       "    <tr>\n",
       "      <th>29434</th>\n",
       "      <td>VAN DORPE,  PETER</td>\n",
       "      <td>DISTRICT CHIEF</td>\n",
       "      <td>FIRE</td>\n",
       "      <td>162012</td>\n",
       "    </tr>\n",
       "    <tr>\n",
       "      <th>7966</th>\n",
       "      <td>ELLIS,  DANIEL J</td>\n",
       "      <td>DISTRICT CHIEF</td>\n",
       "      <td>FIRE</td>\n",
       "      <td>162012</td>\n",
       "    </tr>\n",
       "    <tr>\n",
       "      <th>4143</th>\n",
       "      <td>CARTER,  ERIC M</td>\n",
       "      <td>DEPUTY CHIEF</td>\n",
       "      <td>POLICE</td>\n",
       "      <td>162012</td>\n",
       "    </tr>\n",
       "    <tr>\n",
       "      <th>25370</th>\n",
       "      <td>SAMPEY,  TIMOTHY T</td>\n",
       "      <td>DISTRICT CHIEF</td>\n",
       "      <td>FIRE</td>\n",
       "      <td>162012</td>\n",
       "    </tr>\n",
       "    <tr>\n",
       "      <th>370</th>\n",
       "      <td>ALEXANDER,  DANA</td>\n",
       "      <td>DEPUTY CHIEF</td>\n",
       "      <td>POLICE</td>\n",
       "      <td>162012</td>\n",
       "    </tr>\n",
       "    <tr>\n",
       "      <th>8916</th>\n",
       "      <td>FOERTSCH,  PAUL T</td>\n",
       "      <td>DISTRICT CHIEF</td>\n",
       "      <td>FIRE</td>\n",
       "      <td>162012</td>\n",
       "    </tr>\n",
       "    <tr>\n",
       "      <th>29857</th>\n",
       "      <td>VOGT,  WILLIAM C</td>\n",
       "      <td>DISTRICT CHIEF</td>\n",
       "      <td>FIRE</td>\n",
       "      <td>162012</td>\n",
       "    </tr>\n",
       "    <tr>\n",
       "      <th>780</th>\n",
       "      <td>ANDREWS,  CONSTANTINE G</td>\n",
       "      <td>DEPUTY CHIEF</td>\n",
       "      <td>POLICE</td>\n",
       "      <td>162012</td>\n",
       "    </tr>\n",
       "    <tr>\n",
       "      <th>13812</th>\n",
       "      <td>JOHNSON,  EDDIE T</td>\n",
       "      <td>DEPUTY CHIEF</td>\n",
       "      <td>POLICE</td>\n",
       "      <td>162012</td>\n",
       "    </tr>\n",
       "  </tbody>\n",
       "</table>\n",
       "</div>"
      ],
      "text/plain": [
       "                          name                                   title  \\\n",
       "18039      MC CARTHY,  GARRY F                SUPERINTENDENT OF POLICE   \n",
       "8004            EMANUEL,  RAHM                                   MAYOR   \n",
       "25588        SANTIAGO,  JOSE A                       FIRE COMMISSIONER   \n",
       "27594    STEWART III,  CHARLES          FIRST DEPUTY FIRE COMMISSIONER   \n",
       "31587       WYSINGER,  ALFONZA             FIRST DEPUTY SUPERINTENDENT   \n",
       "763     ANDOLINO,  ROSEMARIE S                COMMISSIONER OF AVIATION   \n",
       "19175   MINIOTIS,  CONSTANTINE         SUPERINTENDENT'S CHIEF OF STAFF   \n",
       "28955         TRACY,  ROBERT J                                   CHIEF   \n",
       "3733      CALLAHAN,  MICHAEL E                DEPUTY FIRE COMMISSIONER   \n",
       "8982       FORD II,  RICHARD C                DEPUTY FIRE COMMISSIONER   \n",
       "18604       MC NICHOLAS,  JOHN                DEPUTY FIRE COMMISSIONER   \n",
       "29512      VASQUEZ,  ANTHONY P                DEPUTY FIRE COMMISSIONER   \n",
       "4697      CHOUCAIR,  BECHARA N                  COMMISSIONER OF HEALTH   \n",
       "14999          KIRBY,  DEBRA K                                   CHIEF   \n",
       "24156          RIVERA,  JUAN J                                   CHIEF   \n",
       "24921        ROTI,  NICHOLAS J                                   CHIEF   \n",
       "11058      GULLIFORD,  WAYNE M                                   CHIEF   \n",
       "30907      WILLIAMS,  EUGENE E                                   CHIEF   \n",
       "8095        ESCALANTE,  JOHN J                                   CHIEF   \n",
       "7814     EDGEWORTH,  RICHARD A                     DEPUTY COMMISSIONER   \n",
       "20575         NIELSEN,  MARK A           ASST DEPUTY FIRE COMMISSIONER   \n",
       "27311     SPRINGER,  JEFFREY T           ASST DEPUTY FIRE COMMISSIONER   \n",
       "2638         BOYLE,  WILLIAM D           ASST DEPUTY FIRE COMMISSIONER   \n",
       "9075           FOX,  MICHAEL W           ASST DEPUTY FIRE COMMISSIONER   \n",
       "25885        SCHRADER,  LISA P                          CHIEF OF STAFF   \n",
       "21971       PATTON,  STEPHEN R                     CORPORATION COUNSEL   \n",
       "12635       HOLT,  ALEXANDRA D                              BUDGET DIR   \n",
       "25981           SCOTT,  LOIS A                 CHIEF FINANCIAL OFFICER   \n",
       "22894        POWERS,  THOMAS H              COMMISSIONER OF WATER MGMT   \n",
       "15053        KLEIN,  GABRIEL J          COMMISSIONER OF TRANSPORTATION   \n",
       "13089        HYNES,  MATTHEW J        DIR OF INTERGOVERNMENTAL AFFAIRS   \n",
       "25778        SCHENKEL,  GARY W              EXEC DIR EMERG MGMT & COMM   \n",
       "1416          BANNON,  BRIAN A  COMMISSIONER OF CHICAGO PUBLIC LIBRARY   \n",
       "23878           RHEE,  JAMIE L               CHIEF PROCUREMENT OFFICER   \n",
       "11361       HAMILTON,  SARAH A                         PRESS SECRETARY   \n",
       "27270     SPIELFOGEL,  DAVID S                       ASST TO THE MAYOR   \n",
       "6814         DENNIS,  JOSHUA M                          DISTRICT CHIEF   \n",
       "3740        CALLOWAY,  KEITH A                            DEPUTY CHIEF   \n",
       "9913         GEORGAS,  STEVE E                            DEPUTY CHIEF   \n",
       "16510       LODDING,  HOWARD W                            DEPUTY CHIEF   \n",
       "2355        BOEHMER,  KATHLEEN                            DEPUTY CHIEF   \n",
       "29434        VAN DORPE,  PETER                          DISTRICT CHIEF   \n",
       "7966          ELLIS,  DANIEL J                          DISTRICT CHIEF   \n",
       "4143           CARTER,  ERIC M                            DEPUTY CHIEF   \n",
       "25370       SAMPEY,  TIMOTHY T                          DISTRICT CHIEF   \n",
       "370           ALEXANDER,  DANA                            DEPUTY CHIEF   \n",
       "8916         FOERTSCH,  PAUL T                          DISTRICT CHIEF   \n",
       "29857         VOGT,  WILLIAM C                          DISTRICT CHIEF   \n",
       "780    ANDREWS,  CONSTANTINE G                            DEPUTY CHIEF   \n",
       "13812        JOHNSON,  EDDIE T                            DEPUTY CHIEF   \n",
       "\n",
       "           department  salary  \n",
       "18039          POLICE  260004  \n",
       "8004   MAYOR'S OFFICE  216210  \n",
       "25588            FIRE  202728  \n",
       "27594            FIRE  188316  \n",
       "31587          POLICE  188316  \n",
       "763          AVIATION  186576  \n",
       "19175          POLICE  185004  \n",
       "28955          POLICE  185004  \n",
       "3733             FIRE  178740  \n",
       "8982             FIRE  178740  \n",
       "18604            FIRE  178740  \n",
       "29512            FIRE  178740  \n",
       "4697           HEALTH  177156  \n",
       "14999          POLICE  176532  \n",
       "24156          POLICE  176532  \n",
       "24921          POLICE  176532  \n",
       "11058          POLICE  176532  \n",
       "30907          POLICE  176532  \n",
       "8095           POLICE  176532  \n",
       "7814             FIRE  176520  \n",
       "20575            FIRE  176520  \n",
       "27311            FIRE  176520  \n",
       "2638             FIRE  176520  \n",
       "9075             FIRE  176520  \n",
       "25885  MAYOR'S OFFICE  174996  \n",
       "21971             LAW  173664  \n",
       "12635   BUDGET & MGMT  169992  \n",
       "25981  MAYOR'S OFFICE  169992  \n",
       "22894     WATER MGMNT  169512  \n",
       "15053      TRANSPORTN  169500  \n",
       "13089  MAYOR'S OFFICE  168996  \n",
       "25778            OEMC  167796  \n",
       "1416   PUBLIC LIBRARY  167004  \n",
       "23878     PROCUREMENT  163656  \n",
       "11361  MAYOR'S OFFICE  162492  \n",
       "27270  MAYOR'S OFFICE  162492  \n",
       "6814             FIRE  162012  \n",
       "3740           POLICE  162012  \n",
       "9913           POLICE  162012  \n",
       "16510          POLICE  162012  \n",
       "2355           POLICE  162012  \n",
       "29434            FIRE  162012  \n",
       "7966             FIRE  162012  \n",
       "4143           POLICE  162012  \n",
       "25370            FIRE  162012  \n",
       "370            POLICE  162012  \n",
       "8916             FIRE  162012  \n",
       "29857            FIRE  162012  \n",
       "780            POLICE  162012  \n",
       "13812          POLICE  162012  "
      ]
     },
     "execution_count": 17,
     "metadata": {},
     "output_type": "execute_result"
    }
   ],
   "source": [
    "chicago.sort_values('salary', ascending=False, inplace=True)\n",
    "chicago.head(50)"
   ]
  },
  {
   "cell_type": "code",
   "execution_count": 21,
   "metadata": {
    "scrolled": false
   },
   "outputs": [
    {
     "data": {
      "text/html": [
       "<div>\n",
       "<table border=\"1\" class=\"dataframe\">\n",
       "  <thead>\n",
       "    <tr style=\"text-align: right;\">\n",
       "      <th></th>\n",
       "      <th></th>\n",
       "      <th>salary</th>\n",
       "    </tr>\n",
       "    <tr>\n",
       "      <th>department</th>\n",
       "      <th>name</th>\n",
       "      <th></th>\n",
       "    </tr>\n",
       "  </thead>\n",
       "  <tbody>\n",
       "    <tr>\n",
       "      <th rowspan=\"30\" valign=\"top\">ADMIN HEARNG</th>\n",
       "      <th>ADAM,  ELIZABETH</th>\n",
       "      <td>70380.0</td>\n",
       "    </tr>\n",
       "    <tr>\n",
       "      <th>BREWER,  JAMIE</th>\n",
       "      <td>60600.0</td>\n",
       "    </tr>\n",
       "    <tr>\n",
       "      <th>BRIGHAM,  DEBORAH A</th>\n",
       "      <td>63276.0</td>\n",
       "    </tr>\n",
       "    <tr>\n",
       "      <th>BROWN,  ELOUISE V</th>\n",
       "      <td>63456.0</td>\n",
       "    </tr>\n",
       "    <tr>\n",
       "      <th>BURAGE,  LORRIE A</th>\n",
       "      <td>50280.0</td>\n",
       "    </tr>\n",
       "    <tr>\n",
       "      <th>CASSELLA,  CATHERINE</th>\n",
       "      <td>55212.0</td>\n",
       "    </tr>\n",
       "    <tr>\n",
       "      <th>ERVING,  WILGENIA B</th>\n",
       "      <td>66492.0</td>\n",
       "    </tr>\n",
       "    <tr>\n",
       "      <th>ESPINOSA,  YVONNE</th>\n",
       "      <td>60600.0</td>\n",
       "    </tr>\n",
       "    <tr>\n",
       "      <th>FLOURNOY,  NICOLE A</th>\n",
       "      <td>50280.0</td>\n",
       "    </tr>\n",
       "    <tr>\n",
       "      <th>GAVIN,  MARGARET H</th>\n",
       "      <td>73752.0</td>\n",
       "    </tr>\n",
       "    <tr>\n",
       "      <th>GIBSON,  DARRYL</th>\n",
       "      <td>57828.0</td>\n",
       "    </tr>\n",
       "    <tr>\n",
       "      <th>GLOVER,  RHONDA L</th>\n",
       "      <td>60600.0</td>\n",
       "    </tr>\n",
       "    <tr>\n",
       "      <th>GOGOLA,  DEBORAH G</th>\n",
       "      <td>91980.0</td>\n",
       "    </tr>\n",
       "    <tr>\n",
       "      <th>GREEN,  CAROLYN</th>\n",
       "      <td>63456.0</td>\n",
       "    </tr>\n",
       "    <tr>\n",
       "      <th>GRIFFIN,  ALECHIA L</th>\n",
       "      <td>52740.0</td>\n",
       "    </tr>\n",
       "    <tr>\n",
       "      <th>HEIDT,  SANDRA E</th>\n",
       "      <td>93432.0</td>\n",
       "    </tr>\n",
       "    <tr>\n",
       "      <th>HENNIGAN,  KEVIN G</th>\n",
       "      <td>111996.0</td>\n",
       "    </tr>\n",
       "    <tr>\n",
       "      <th>JACKOWIAK,  PATRICIA</th>\n",
       "      <td>156420.0</td>\n",
       "    </tr>\n",
       "    <tr>\n",
       "      <th>JACKSON,  ALLADDIN D</th>\n",
       "      <td>63456.0</td>\n",
       "    </tr>\n",
       "    <tr>\n",
       "      <th>JACKSON,  LYNN</th>\n",
       "      <td>68580.0</td>\n",
       "    </tr>\n",
       "    <tr>\n",
       "      <th>JONES,  LOIS M</th>\n",
       "      <td>55212.0</td>\n",
       "    </tr>\n",
       "    <tr>\n",
       "      <th>KEE,  LISA M</th>\n",
       "      <td>52740.0</td>\n",
       "    </tr>\n",
       "    <tr>\n",
       "      <th>LA GIGLIO,  PATRICIA M</th>\n",
       "      <td>63456.0</td>\n",
       "    </tr>\n",
       "    <tr>\n",
       "      <th>MC KINNEY,  TERESA M</th>\n",
       "      <td>57828.0</td>\n",
       "    </tr>\n",
       "    <tr>\n",
       "      <th>MC SWAIN,  MICHELE A</th>\n",
       "      <td>91980.0</td>\n",
       "    </tr>\n",
       "    <tr>\n",
       "      <th>MEDINA,  ANA M</th>\n",
       "      <td>69648.0</td>\n",
       "    </tr>\n",
       "    <tr>\n",
       "      <th>NICHOLS,  HELEN M</th>\n",
       "      <td>75240.0</td>\n",
       "    </tr>\n",
       "    <tr>\n",
       "      <th>PARKER,  CHALINE D</th>\n",
       "      <td>55212.0</td>\n",
       "    </tr>\n",
       "    <tr>\n",
       "      <th>RIZZO,  ANTHONY J</th>\n",
       "      <td>91980.0</td>\n",
       "    </tr>\n",
       "    <tr>\n",
       "      <th>RIZZO,  MARGARET A</th>\n",
       "      <td>88812.0</td>\n",
       "    </tr>\n",
       "    <tr>\n",
       "      <th>...</th>\n",
       "      <th>...</th>\n",
       "      <td>...</td>\n",
       "    </tr>\n",
       "    <tr>\n",
       "      <th rowspan=\"30\" valign=\"top\">WATER MGMNT</th>\n",
       "      <th>WURTZ,  DWAINE C</th>\n",
       "      <td>70408.0</td>\n",
       "    </tr>\n",
       "    <tr>\n",
       "      <th>WYATT,  WILLIE R</th>\n",
       "      <td>63772.8</td>\n",
       "    </tr>\n",
       "    <tr>\n",
       "      <th>WYTANIEC,  JEFFREY</th>\n",
       "      <td>62292.0</td>\n",
       "    </tr>\n",
       "    <tr>\n",
       "      <th>YAMEOGO,  MICHELLE M</th>\n",
       "      <td>42244.8</td>\n",
       "    </tr>\n",
       "    <tr>\n",
       "      <th>YARKONY,  AVI</th>\n",
       "      <td>72936.0</td>\n",
       "    </tr>\n",
       "    <tr>\n",
       "      <th>YARMER,  KEITH E</th>\n",
       "      <td>95784.0</td>\n",
       "    </tr>\n",
       "    <tr>\n",
       "      <th>YAU,  THOMAS C</th>\n",
       "      <td>86486.4</td>\n",
       "    </tr>\n",
       "    <tr>\n",
       "      <th>YERSICH,  JEFFREY M</th>\n",
       "      <td>76960.0</td>\n",
       "    </tr>\n",
       "    <tr>\n",
       "      <th>YONUSHATIS,  EDWARD J</th>\n",
       "      <td>76960.0</td>\n",
       "    </tr>\n",
       "    <tr>\n",
       "      <th>YOSHIMURA,  MARUJA</th>\n",
       "      <td>56472.0</td>\n",
       "    </tr>\n",
       "    <tr>\n",
       "      <th>YOUNG,  CLEOTIS</th>\n",
       "      <td>76960.0</td>\n",
       "    </tr>\n",
       "    <tr>\n",
       "      <th>YOUNG,  JOHN A</th>\n",
       "      <td>76960.0</td>\n",
       "    </tr>\n",
       "    <tr>\n",
       "      <th>ZABER,  GREGORY S</th>\n",
       "      <td>93683.2</td>\n",
       "    </tr>\n",
       "    <tr>\n",
       "      <th>ZAGONE,  JOSEPH M</th>\n",
       "      <td>86486.4</td>\n",
       "    </tr>\n",
       "    <tr>\n",
       "      <th>ZAGOTTA,  JOSEPH T</th>\n",
       "      <td>70408.0</td>\n",
       "    </tr>\n",
       "    <tr>\n",
       "      <th>ZAHDAN,  HAZEM</th>\n",
       "      <td>91224.0</td>\n",
       "    </tr>\n",
       "    <tr>\n",
       "      <th>ZAHDAN,  ZIYADEH D</th>\n",
       "      <td>98028.0</td>\n",
       "    </tr>\n",
       "    <tr>\n",
       "      <th>ZECEVICH,  DRAGAN</th>\n",
       "      <td>95680.0</td>\n",
       "    </tr>\n",
       "    <tr>\n",
       "      <th>ZEFRAN,  FRANK J</th>\n",
       "      <td>76960.0</td>\n",
       "    </tr>\n",
       "    <tr>\n",
       "      <th>ZEPEDA,  CARLOS</th>\n",
       "      <td>76960.0</td>\n",
       "    </tr>\n",
       "    <tr>\n",
       "      <th>ZEPEDA,  JOSE R</th>\n",
       "      <td>76960.0</td>\n",
       "    </tr>\n",
       "    <tr>\n",
       "      <th>ZIELINSKI,  THEODORE J</th>\n",
       "      <td>95784.0</td>\n",
       "    </tr>\n",
       "    <tr>\n",
       "      <th>ZIEMANN,  DAVID M</th>\n",
       "      <td>76960.0</td>\n",
       "    </tr>\n",
       "    <tr>\n",
       "      <th>ZIEMANN,  DONALD W</th>\n",
       "      <td>70408.0</td>\n",
       "    </tr>\n",
       "    <tr>\n",
       "      <th>ZINCHUK,  BRIAN C</th>\n",
       "      <td>89003.2</td>\n",
       "    </tr>\n",
       "    <tr>\n",
       "      <th>ZIVAT,  MICHAEL</th>\n",
       "      <td>76960.0</td>\n",
       "    </tr>\n",
       "    <tr>\n",
       "      <th>ZIZUMBO,  DANIEL</th>\n",
       "      <td>70408.0</td>\n",
       "    </tr>\n",
       "    <tr>\n",
       "      <th>ZOTTA,  SANDINO</th>\n",
       "      <td>99648.0</td>\n",
       "    </tr>\n",
       "    <tr>\n",
       "      <th>ZUNO,  ERIK</th>\n",
       "      <td>46176.0</td>\n",
       "    </tr>\n",
       "    <tr>\n",
       "      <th>ZUREK,  HENRY</th>\n",
       "      <td>76960.0</td>\n",
       "    </tr>\n",
       "  </tbody>\n",
       "</table>\n",
       "<p>31974 rows × 1 columns</p>\n",
       "</div>"
      ],
      "text/plain": [
       "                                       salary\n",
       "department   name                            \n",
       "ADMIN HEARNG ADAM,  ELIZABETH         70380.0\n",
       "             BREWER,  JAMIE           60600.0\n",
       "             BRIGHAM,  DEBORAH A      63276.0\n",
       "             BROWN,  ELOUISE V        63456.0\n",
       "             BURAGE,  LORRIE A        50280.0\n",
       "             CASSELLA,  CATHERINE     55212.0\n",
       "             ERVING,  WILGENIA B      66492.0\n",
       "             ESPINOSA,  YVONNE        60600.0\n",
       "             FLOURNOY,  NICOLE A      50280.0\n",
       "             GAVIN,  MARGARET H       73752.0\n",
       "             GIBSON,  DARRYL          57828.0\n",
       "             GLOVER,  RHONDA L        60600.0\n",
       "             GOGOLA,  DEBORAH G       91980.0\n",
       "             GREEN,  CAROLYN          63456.0\n",
       "             GRIFFIN,  ALECHIA L      52740.0\n",
       "             HEIDT,  SANDRA E         93432.0\n",
       "             HENNIGAN,  KEVIN G      111996.0\n",
       "             JACKOWIAK,  PATRICIA    156420.0\n",
       "             JACKSON,  ALLADDIN D     63456.0\n",
       "             JACKSON,  LYNN           68580.0\n",
       "             JONES,  LOIS M           55212.0\n",
       "             KEE,  LISA M             52740.0\n",
       "             LA GIGLIO,  PATRICIA M   63456.0\n",
       "             MC KINNEY,  TERESA M     57828.0\n",
       "             MC SWAIN,  MICHELE A     91980.0\n",
       "             MEDINA,  ANA M           69648.0\n",
       "             NICHOLS,  HELEN M        75240.0\n",
       "             PARKER,  CHALINE D       55212.0\n",
       "             RIZZO,  ANTHONY J        91980.0\n",
       "             RIZZO,  MARGARET A       88812.0\n",
       "...                                       ...\n",
       "WATER MGMNT  WURTZ,  DWAINE C         70408.0\n",
       "             WYATT,  WILLIE R         63772.8\n",
       "             WYTANIEC,  JEFFREY       62292.0\n",
       "             YAMEOGO,  MICHELLE M     42244.8\n",
       "             YARKONY,  AVI            72936.0\n",
       "             YARMER,  KEITH E         95784.0\n",
       "             YAU,  THOMAS C           86486.4\n",
       "             YERSICH,  JEFFREY M      76960.0\n",
       "             YONUSHATIS,  EDWARD J    76960.0\n",
       "             YOSHIMURA,  MARUJA       56472.0\n",
       "             YOUNG,  CLEOTIS          76960.0\n",
       "             YOUNG,  JOHN A           76960.0\n",
       "             ZABER,  GREGORY S        93683.2\n",
       "             ZAGONE,  JOSEPH M        86486.4\n",
       "             ZAGOTTA,  JOSEPH T       70408.0\n",
       "             ZAHDAN,  HAZEM           91224.0\n",
       "             ZAHDAN,  ZIYADEH D       98028.0\n",
       "             ZECEVICH,  DRAGAN        95680.0\n",
       "             ZEFRAN,  FRANK J         76960.0\n",
       "             ZEPEDA,  CARLOS          76960.0\n",
       "             ZEPEDA,  JOSE R          76960.0\n",
       "             ZIELINSKI,  THEODORE J   95784.0\n",
       "             ZIEMANN,  DAVID M        76960.0\n",
       "             ZIEMANN,  DONALD W       70408.0\n",
       "             ZINCHUK,  BRIAN C        89003.2\n",
       "             ZIVAT,  MICHAEL          76960.0\n",
       "             ZIZUMBO,  DANIEL         70408.0\n",
       "             ZOTTA,  SANDINO          99648.0\n",
       "             ZUNO,  ERIK              46176.0\n",
       "             ZUREK,  HENRY            76960.0\n",
       "\n",
       "[31974 rows x 1 columns]"
      ]
     },
     "execution_count": 21,
     "metadata": {},
     "output_type": "execute_result"
    }
   ],
   "source": [
    "chicago.groupby(['department','name']).sum()"
   ]
  },
  {
   "cell_type": "markdown",
   "metadata": {},
   "source": [
    "# Ejercicios"
   ]
  },
  {
   "cell_type": "code",
   "execution_count": 13,
   "metadata": {
    "collapsed": true
   },
   "outputs": [],
   "source": [
    "headers = ['name', 'title', 'department', 'salary']\n",
    "chicago = pd.read_csv('city-of-chicago-salaries.csv', \n",
    "                      header=0,\n",
    "                      names=headers)"
   ]
  },
  {
   "cell_type": "markdown",
   "metadata": {},
   "source": [
    "1 - Calcula el salario medio de los habitantes de chicago."
   ]
  },
  {
   "cell_type": "code",
   "execution_count": 29,
   "metadata": {},
   "outputs": [
    {
     "data": {
      "text/plain": [
       "75070.38571036198"
      ]
     },
     "execution_count": 29,
     "metadata": {},
     "output_type": "execute_result"
    }
   ],
   "source": [
    "chicago.salary.mean()"
   ]
  },
  {
   "cell_type": "markdown",
   "metadata": {},
   "source": [
    "2 - Calcula cuantos habitantes ganan mas que la media."
   ]
  },
  {
   "cell_type": "code",
   "execution_count": 31,
   "metadata": {},
   "outputs": [
    {
     "data": {
      "text/plain": [
       "name          21296\n",
       "title         21296\n",
       "department    21296\n",
       "salary        21296\n",
       "dept_rank     21296\n",
       "dtype: int64"
      ]
     },
     "execution_count": 31,
     "metadata": {},
     "output_type": "execute_result"
    }
   ],
   "source": [
    "chicago[chicago.salary > chicago.salary.mean()].count()"
   ]
  },
  {
   "cell_type": "markdown",
   "metadata": {},
   "source": [
    "3 - Cual es el departamento que emplea a mayor numero de personas?"
   ]
  },
  {
   "cell_type": "code",
   "execution_count": 34,
   "metadata": {},
   "outputs": [
    {
     "data": {
      "text/html": [
       "<div>\n",
       "<table border=\"1\" class=\"dataframe\">\n",
       "  <thead>\n",
       "    <tr style=\"text-align: right;\">\n",
       "      <th></th>\n",
       "      <th>name</th>\n",
       "      <th>title</th>\n",
       "      <th>salary</th>\n",
       "      <th>dept_rank</th>\n",
       "    </tr>\n",
       "    <tr>\n",
       "      <th>department</th>\n",
       "      <th></th>\n",
       "      <th></th>\n",
       "      <th></th>\n",
       "      <th></th>\n",
       "    </tr>\n",
       "  </thead>\n",
       "  <tbody>\n",
       "    <tr>\n",
       "      <th>POLICE</th>\n",
       "      <td>13623</td>\n",
       "      <td>13623</td>\n",
       "      <td>13623</td>\n",
       "      <td>13623</td>\n",
       "    </tr>\n",
       "    <tr>\n",
       "      <th>FIRE</th>\n",
       "      <td>4731</td>\n",
       "      <td>4731</td>\n",
       "      <td>4731</td>\n",
       "      <td>4731</td>\n",
       "    </tr>\n",
       "    <tr>\n",
       "      <th>STREETS &amp; SAN</th>\n",
       "      <td>2070</td>\n",
       "      <td>2070</td>\n",
       "      <td>2070</td>\n",
       "      <td>2070</td>\n",
       "    </tr>\n",
       "    <tr>\n",
       "      <th>WATER MGMNT</th>\n",
       "      <td>1857</td>\n",
       "      <td>1857</td>\n",
       "      <td>1857</td>\n",
       "      <td>1857</td>\n",
       "    </tr>\n",
       "    <tr>\n",
       "      <th>OEMC</th>\n",
       "      <td>1292</td>\n",
       "      <td>1292</td>\n",
       "      <td>1292</td>\n",
       "      <td>1292</td>\n",
       "    </tr>\n",
       "    <tr>\n",
       "      <th>AVIATION</th>\n",
       "      <td>1218</td>\n",
       "      <td>1218</td>\n",
       "      <td>1218</td>\n",
       "      <td>1218</td>\n",
       "    </tr>\n",
       "    <tr>\n",
       "      <th>TRANSPORTN</th>\n",
       "      <td>1168</td>\n",
       "      <td>1168</td>\n",
       "      <td>1168</td>\n",
       "      <td>1168</td>\n",
       "    </tr>\n",
       "    <tr>\n",
       "      <th>PUBLIC LIBRARY</th>\n",
       "      <td>926</td>\n",
       "      <td>926</td>\n",
       "      <td>926</td>\n",
       "      <td>926</td>\n",
       "    </tr>\n",
       "    <tr>\n",
       "      <th>GENERAL SERVICES</th>\n",
       "      <td>913</td>\n",
       "      <td>913</td>\n",
       "      <td>913</td>\n",
       "      <td>913</td>\n",
       "    </tr>\n",
       "    <tr>\n",
       "      <th>FAMILY &amp; SUPPORT</th>\n",
       "      <td>727</td>\n",
       "      <td>727</td>\n",
       "      <td>727</td>\n",
       "      <td>727</td>\n",
       "    </tr>\n",
       "    <tr>\n",
       "      <th>HEALTH</th>\n",
       "      <td>573</td>\n",
       "      <td>573</td>\n",
       "      <td>573</td>\n",
       "      <td>573</td>\n",
       "    </tr>\n",
       "    <tr>\n",
       "      <th>FINANCE</th>\n",
       "      <td>520</td>\n",
       "      <td>520</td>\n",
       "      <td>520</td>\n",
       "      <td>520</td>\n",
       "    </tr>\n",
       "    <tr>\n",
       "      <th>LAW</th>\n",
       "      <td>450</td>\n",
       "      <td>450</td>\n",
       "      <td>450</td>\n",
       "      <td>450</td>\n",
       "    </tr>\n",
       "    <tr>\n",
       "      <th>CITY COUNCIL</th>\n",
       "      <td>378</td>\n",
       "      <td>378</td>\n",
       "      <td>378</td>\n",
       "      <td>378</td>\n",
       "    </tr>\n",
       "    <tr>\n",
       "      <th>BUILDINGS</th>\n",
       "      <td>242</td>\n",
       "      <td>242</td>\n",
       "      <td>242</td>\n",
       "      <td>242</td>\n",
       "    </tr>\n",
       "    <tr>\n",
       "      <th>COMMUNITY DEVELOPMENT</th>\n",
       "      <td>207</td>\n",
       "      <td>207</td>\n",
       "      <td>207</td>\n",
       "      <td>207</td>\n",
       "    </tr>\n",
       "    <tr>\n",
       "      <th>BUSINESS AFFAIRS</th>\n",
       "      <td>181</td>\n",
       "      <td>181</td>\n",
       "      <td>181</td>\n",
       "      <td>181</td>\n",
       "    </tr>\n",
       "    <tr>\n",
       "      <th>BOARD OF ELECTION</th>\n",
       "      <td>110</td>\n",
       "      <td>110</td>\n",
       "      <td>110</td>\n",
       "      <td>110</td>\n",
       "    </tr>\n",
       "    <tr>\n",
       "      <th>DoIT</th>\n",
       "      <td>99</td>\n",
       "      <td>99</td>\n",
       "      <td>99</td>\n",
       "      <td>99</td>\n",
       "    </tr>\n",
       "    <tr>\n",
       "      <th>MAYOR'S OFFICE</th>\n",
       "      <td>99</td>\n",
       "      <td>99</td>\n",
       "      <td>99</td>\n",
       "      <td>99</td>\n",
       "    </tr>\n",
       "    <tr>\n",
       "      <th>CITY CLERK</th>\n",
       "      <td>86</td>\n",
       "      <td>86</td>\n",
       "      <td>86</td>\n",
       "      <td>86</td>\n",
       "    </tr>\n",
       "    <tr>\n",
       "      <th>IPRA</th>\n",
       "      <td>85</td>\n",
       "      <td>85</td>\n",
       "      <td>85</td>\n",
       "      <td>85</td>\n",
       "    </tr>\n",
       "    <tr>\n",
       "      <th>CULTURAL AFFAIRS</th>\n",
       "      <td>79</td>\n",
       "      <td>79</td>\n",
       "      <td>79</td>\n",
       "      <td>79</td>\n",
       "    </tr>\n",
       "    <tr>\n",
       "      <th>PROCUREMENT</th>\n",
       "      <td>71</td>\n",
       "      <td>71</td>\n",
       "      <td>71</td>\n",
       "      <td>71</td>\n",
       "    </tr>\n",
       "    <tr>\n",
       "      <th>HUMAN RESOURCES</th>\n",
       "      <td>68</td>\n",
       "      <td>68</td>\n",
       "      <td>68</td>\n",
       "      <td>68</td>\n",
       "    </tr>\n",
       "    <tr>\n",
       "      <th>ANIMAL CONTRL</th>\n",
       "      <td>61</td>\n",
       "      <td>61</td>\n",
       "      <td>61</td>\n",
       "      <td>61</td>\n",
       "    </tr>\n",
       "    <tr>\n",
       "      <th>INSPECTOR GEN</th>\n",
       "      <td>50</td>\n",
       "      <td>50</td>\n",
       "      <td>50</td>\n",
       "      <td>50</td>\n",
       "    </tr>\n",
       "    <tr>\n",
       "      <th>BUDGET &amp; MGMT</th>\n",
       "      <td>44</td>\n",
       "      <td>44</td>\n",
       "      <td>44</td>\n",
       "      <td>44</td>\n",
       "    </tr>\n",
       "    <tr>\n",
       "      <th>ADMIN HEARNG</th>\n",
       "      <td>42</td>\n",
       "      <td>42</td>\n",
       "      <td>42</td>\n",
       "      <td>42</td>\n",
       "    </tr>\n",
       "    <tr>\n",
       "      <th>DISABILITIES</th>\n",
       "      <td>29</td>\n",
       "      <td>29</td>\n",
       "      <td>29</td>\n",
       "      <td>29</td>\n",
       "    </tr>\n",
       "    <tr>\n",
       "      <th>TREASURER</th>\n",
       "      <td>25</td>\n",
       "      <td>25</td>\n",
       "      <td>25</td>\n",
       "      <td>25</td>\n",
       "    </tr>\n",
       "    <tr>\n",
       "      <th>HUMAN RELATIONS</th>\n",
       "      <td>18</td>\n",
       "      <td>18</td>\n",
       "      <td>18</td>\n",
       "      <td>18</td>\n",
       "    </tr>\n",
       "    <tr>\n",
       "      <th>BOARD OF ETHICS</th>\n",
       "      <td>9</td>\n",
       "      <td>9</td>\n",
       "      <td>9</td>\n",
       "      <td>9</td>\n",
       "    </tr>\n",
       "    <tr>\n",
       "      <th>POLICE BOARD</th>\n",
       "      <td>2</td>\n",
       "      <td>2</td>\n",
       "      <td>2</td>\n",
       "      <td>2</td>\n",
       "    </tr>\n",
       "    <tr>\n",
       "      <th>LICENSE APPL COMM</th>\n",
       "      <td>1</td>\n",
       "      <td>1</td>\n",
       "      <td>1</td>\n",
       "      <td>1</td>\n",
       "    </tr>\n",
       "  </tbody>\n",
       "</table>\n",
       "</div>"
      ],
      "text/plain": [
       "                        name  title  salary  dept_rank\n",
       "department                                            \n",
       "POLICE                 13623  13623   13623      13623\n",
       "FIRE                    4731   4731    4731       4731\n",
       "STREETS & SAN           2070   2070    2070       2070\n",
       "WATER MGMNT             1857   1857    1857       1857\n",
       "OEMC                    1292   1292    1292       1292\n",
       "AVIATION                1218   1218    1218       1218\n",
       "TRANSPORTN              1168   1168    1168       1168\n",
       "PUBLIC LIBRARY           926    926     926        926\n",
       "GENERAL SERVICES         913    913     913        913\n",
       "FAMILY & SUPPORT         727    727     727        727\n",
       "HEALTH                   573    573     573        573\n",
       "FINANCE                  520    520     520        520\n",
       "LAW                      450    450     450        450\n",
       "CITY COUNCIL             378    378     378        378\n",
       "BUILDINGS                242    242     242        242\n",
       "COMMUNITY DEVELOPMENT    207    207     207        207\n",
       "BUSINESS AFFAIRS         181    181     181        181\n",
       "BOARD OF ELECTION        110    110     110        110\n",
       "DoIT                      99     99      99         99\n",
       "MAYOR'S OFFICE            99     99      99         99\n",
       "CITY CLERK                86     86      86         86\n",
       "IPRA                      85     85      85         85\n",
       "CULTURAL AFFAIRS          79     79      79         79\n",
       "PROCUREMENT               71     71      71         71\n",
       "HUMAN RESOURCES           68     68      68         68\n",
       "ANIMAL CONTRL             61     61      61         61\n",
       "INSPECTOR GEN             50     50      50         50\n",
       "BUDGET & MGMT             44     44      44         44\n",
       "ADMIN HEARNG              42     42      42         42\n",
       "DISABILITIES              29     29      29         29\n",
       "TREASURER                 25     25      25         25\n",
       "HUMAN RELATIONS           18     18      18         18\n",
       "BOARD OF ETHICS            9      9       9          9\n",
       "POLICE BOARD               2      2       2          2\n",
       "LICENSE APPL COMM          1      1       1          1"
      ]
     },
     "execution_count": 34,
     "metadata": {},
     "output_type": "execute_result"
    }
   ],
   "source": [
    "chicago.groupby('department').count().sort_values('name', ascending=False)"
   ]
  },
  {
   "cell_type": "markdown",
   "metadata": {},
   "source": [
    "4 - Cual es el departamento que tiene un salario medio mayor?"
   ]
  },
  {
   "cell_type": "code",
   "execution_count": 40,
   "metadata": {
    "collapsed": true
   },
   "outputs": [],
   "source": [
    "bydep = chicago[['department','salary']].groupby('department').mean().reset_index()"
   ]
  },
  {
   "cell_type": "code",
   "execution_count": 56,
   "metadata": {},
   "outputs": [
    {
     "name": "stdout",
     "output_type": "stream",
     "text": [
      "93209.9393939\n"
     ]
    }
   ],
   "source": [
    "salario = bydep.sort_values('salary', ascending=False).head(1).salary.iloc[0]\n",
    "print salario"
   ]
  },
  {
   "cell_type": "markdown",
   "metadata": {},
   "source": [
    "5 - Averigua cuales son los 5 departamentos con una media de salario mayor."
   ]
  },
  {
   "cell_type": "code",
   "execution_count": 58,
   "metadata": {},
   "outputs": [
    {
     "data": {
      "text/html": [
       "<div>\n",
       "<table border=\"1\" class=\"dataframe\">\n",
       "  <thead>\n",
       "    <tr style=\"text-align: right;\">\n",
       "      <th></th>\n",
       "      <th>department</th>\n",
       "      <th>salary</th>\n",
       "    </tr>\n",
       "  </thead>\n",
       "  <tbody>\n",
       "    <tr>\n",
       "      <th>13</th>\n",
       "      <td>DoIT</td>\n",
       "      <td>93209.939394</td>\n",
       "    </tr>\n",
       "    <tr>\n",
       "      <th>6</th>\n",
       "      <td>BUILDINGS</td>\n",
       "      <td>90720.081322</td>\n",
       "    </tr>\n",
       "    <tr>\n",
       "      <th>16</th>\n",
       "      <td>FIRE</td>\n",
       "      <td>89579.082621</td>\n",
       "    </tr>\n",
       "    <tr>\n",
       "      <th>25</th>\n",
       "      <td>MAYOR'S OFFICE</td>\n",
       "      <td>85251.949091</td>\n",
       "    </tr>\n",
       "    <tr>\n",
       "      <th>5</th>\n",
       "      <td>BUDGET &amp; MGMT</td>\n",
       "      <td>84767.181818</td>\n",
       "    </tr>\n",
       "  </tbody>\n",
       "</table>\n",
       "</div>"
      ],
      "text/plain": [
       "        department        salary\n",
       "13            DoIT  93209.939394\n",
       "6        BUILDINGS  90720.081322\n",
       "16            FIRE  89579.082621\n",
       "25  MAYOR'S OFFICE  85251.949091\n",
       "5    BUDGET & MGMT  84767.181818"
      ]
     },
     "execution_count": 58,
     "metadata": {},
     "output_type": "execute_result"
    }
   ],
   "source": [
    "bydep = chicago[['department','salary']].groupby('department').mean().reset_index()\n",
    "bydep.sort_values('salary', ascending=False).head(5)"
   ]
  },
  {
   "cell_type": "markdown",
   "metadata": {},
   "source": [
    "6 - Cual es el departamento con mas puestos de trabajo distintos?"
   ]
  },
  {
   "cell_type": "code",
   "execution_count": 69,
   "metadata": {},
   "outputs": [
    {
     "data": {
      "text/plain": [
       "department\n",
       "WATER MGMNT    153\n",
       "Name: title, dtype: int64"
      ]
     },
     "execution_count": 69,
     "metadata": {},
     "output_type": "execute_result"
    }
   ],
   "source": [
    "a = chicago.groupby('department')\n",
    "a.title.nunique().sort_values(ascending=False)[:1]"
   ]
  },
  {
   "cell_type": "markdown",
   "metadata": {},
   "source": [
    "7 - Cual es el trabajo mejor remunerado y en que departamento se realiza? "
   ]
  },
  {
   "cell_type": "code",
   "execution_count": 73,
   "metadata": {},
   "outputs": [
    {
     "name": "stdout",
     "output_type": "stream",
     "text": [
      "El trabajo mejor remunerado es el de SUPERINTENDENT OF POLICE y se realiza en el departamento de POLICE\n"
     ]
    }
   ],
   "source": [
    "chicago[:1]\n",
    "\n",
    "print 'El trabajo mejor remunerado es el de %s y se realiza en el departamento de %s' % (chicago.title.iloc[0], chicago.department.iloc[0])"
   ]
  },
  {
   "cell_type": "markdown",
   "metadata": {},
   "source": [
    "8 - Averigua cuales son los trabajos de cada departamento que emplean a mayor numero de personas."
   ]
  },
  {
   "cell_type": "code",
   "execution_count": 6,
   "metadata": {},
   "outputs": [
    {
     "data": {
      "text/html": [
       "<div>\n",
       "<table border=\"1\" class=\"dataframe\">\n",
       "  <thead>\n",
       "    <tr style=\"text-align: right;\">\n",
       "      <th></th>\n",
       "      <th>department</th>\n",
       "      <th>title</th>\n",
       "      <th>name</th>\n",
       "      <th>dept_rank</th>\n",
       "    </tr>\n",
       "  </thead>\n",
       "  <tbody>\n",
       "    <tr>\n",
       "      <th>0</th>\n",
       "      <td>POLICE</td>\n",
       "      <td>POLICE OFFICER</td>\n",
       "      <td>9432</td>\n",
       "      <td>1</td>\n",
       "    </tr>\n",
       "    <tr>\n",
       "      <th>1</th>\n",
       "      <td>FIRE</td>\n",
       "      <td>FIREFIGHTER-EMT</td>\n",
       "      <td>1303</td>\n",
       "      <td>1</td>\n",
       "    </tr>\n",
       "    <tr>\n",
       "      <th>5</th>\n",
       "      <td>STREETS &amp; SAN</td>\n",
       "      <td>SANITATION LABORER</td>\n",
       "      <td>837</td>\n",
       "      <td>1</td>\n",
       "    </tr>\n",
       "    <tr>\n",
       "      <th>7</th>\n",
       "      <td>OEMC</td>\n",
       "      <td>TRAFFIC CONTROL AIDE-HOURLY</td>\n",
       "      <td>523</td>\n",
       "      <td>1</td>\n",
       "    </tr>\n",
       "    <tr>\n",
       "      <th>10</th>\n",
       "      <td>WATER MGMNT</td>\n",
       "      <td>CONSTRUCTION LABORER</td>\n",
       "      <td>352</td>\n",
       "      <td>1</td>\n",
       "    </tr>\n",
       "    <tr>\n",
       "      <th>19</th>\n",
       "      <td>AVIATION</td>\n",
       "      <td>AVIATION SECURITY OFFICER</td>\n",
       "      <td>186</td>\n",
       "      <td>1</td>\n",
       "    </tr>\n",
       "    <tr>\n",
       "      <th>23</th>\n",
       "      <td>TRANSPORTN</td>\n",
       "      <td>CONCRETE LABORER</td>\n",
       "      <td>160</td>\n",
       "      <td>1</td>\n",
       "    </tr>\n",
       "    <tr>\n",
       "      <th>24</th>\n",
       "      <td>FAMILY &amp; SUPPORT</td>\n",
       "      <td>FOSTER GRANDPARENT</td>\n",
       "      <td>150</td>\n",
       "      <td>1</td>\n",
       "    </tr>\n",
       "    <tr>\n",
       "      <th>29</th>\n",
       "      <td>LAW</td>\n",
       "      <td>ASST CORPORATION COUNSEL</td>\n",
       "      <td>134</td>\n",
       "      <td>1</td>\n",
       "    </tr>\n",
       "    <tr>\n",
       "      <th>30</th>\n",
       "      <td>PUBLIC LIBRARY</td>\n",
       "      <td>LIBRARY PAGE</td>\n",
       "      <td>132</td>\n",
       "      <td>1</td>\n",
       "    </tr>\n",
       "    <tr>\n",
       "      <th>31</th>\n",
       "      <td>GENERAL SERVICES</td>\n",
       "      <td>MACHINIST (AUTOMOTIVE)</td>\n",
       "      <td>129</td>\n",
       "      <td>1</td>\n",
       "    </tr>\n",
       "    <tr>\n",
       "      <th>35</th>\n",
       "      <td>CITY COUNCIL</td>\n",
       "      <td>STAFF ASST TO THE ALDERMAN</td>\n",
       "      <td>115</td>\n",
       "      <td>1</td>\n",
       "    </tr>\n",
       "    <tr>\n",
       "      <th>40</th>\n",
       "      <td>FINANCE</td>\n",
       "      <td>PARKING ENFORCEMENT AIDE</td>\n",
       "      <td>106</td>\n",
       "      <td>1</td>\n",
       "    </tr>\n",
       "    <tr>\n",
       "      <th>63</th>\n",
       "      <td>BUILDINGS</td>\n",
       "      <td>BUILDING/CONSTRUCTION INSPECTOR</td>\n",
       "      <td>64</td>\n",
       "      <td>1</td>\n",
       "    </tr>\n",
       "    <tr>\n",
       "      <th>86</th>\n",
       "      <td>HEALTH</td>\n",
       "      <td>COMMUNICABLE DISEASE CONTROL INVESTIGATOR II</td>\n",
       "      <td>45</td>\n",
       "      <td>1</td>\n",
       "    </tr>\n",
       "    <tr>\n",
       "      <th>109</th>\n",
       "      <td>BOARD OF ELECTION</td>\n",
       "      <td>CLERK - BD OF ELECTIONS</td>\n",
       "      <td>32</td>\n",
       "      <td>1</td>\n",
       "    </tr>\n",
       "    <tr>\n",
       "      <th>114</th>\n",
       "      <td>IPRA</td>\n",
       "      <td>INVESTIGATOR - IPRA II</td>\n",
       "      <td>29</td>\n",
       "      <td>1</td>\n",
       "    </tr>\n",
       "    <tr>\n",
       "      <th>136</th>\n",
       "      <td>MAYOR'S OFFICE</td>\n",
       "      <td>ADMINISTRATIVE ASST</td>\n",
       "      <td>23</td>\n",
       "      <td>1</td>\n",
       "    </tr>\n",
       "    <tr>\n",
       "      <th>147</th>\n",
       "      <td>CITY CLERK</td>\n",
       "      <td>PAYMENT SERVICES REPRESENTATIVE</td>\n",
       "      <td>21</td>\n",
       "      <td>1</td>\n",
       "    </tr>\n",
       "    <tr>\n",
       "      <th>161</th>\n",
       "      <td>ADMIN HEARNG</td>\n",
       "      <td>ADMINISTRATIVE ASST II</td>\n",
       "      <td>19</td>\n",
       "      <td>1</td>\n",
       "    </tr>\n",
       "    <tr>\n",
       "      <th>164</th>\n",
       "      <td>ANIMAL CONTRL</td>\n",
       "      <td>ANIMAL CONTROL OFFICER</td>\n",
       "      <td>19</td>\n",
       "      <td>1</td>\n",
       "    </tr>\n",
       "    <tr>\n",
       "      <th>181</th>\n",
       "      <td>DoIT</td>\n",
       "      <td>PROJECT MANAGER - DOIT</td>\n",
       "      <td>17</td>\n",
       "      <td>1</td>\n",
       "    </tr>\n",
       "    <tr>\n",
       "      <th>187</th>\n",
       "      <td>BUSINESS AFFAIRS</td>\n",
       "      <td>CONSUMER INVESTIGATOR II</td>\n",
       "      <td>16</td>\n",
       "      <td>1</td>\n",
       "    </tr>\n",
       "    <tr>\n",
       "      <th>193</th>\n",
       "      <td>COMMUNITY DEVELOPMENT</td>\n",
       "      <td>FINANCIAL PLANNING ANALYST</td>\n",
       "      <td>16</td>\n",
       "      <td>1</td>\n",
       "    </tr>\n",
       "    <tr>\n",
       "      <th>206</th>\n",
       "      <td>PROCUREMENT</td>\n",
       "      <td>SR PROCUREMENT SPECIALIST</td>\n",
       "      <td>14</td>\n",
       "      <td>1</td>\n",
       "    </tr>\n",
       "    <tr>\n",
       "      <th>230</th>\n",
       "      <td>INSPECTOR GEN</td>\n",
       "      <td>INVESTIGATOR III - IG</td>\n",
       "      <td>12</td>\n",
       "      <td>1</td>\n",
       "    </tr>\n",
       "    <tr>\n",
       "      <th>288</th>\n",
       "      <td>HUMAN RESOURCES</td>\n",
       "      <td>RECRUITER</td>\n",
       "      <td>9</td>\n",
       "      <td>1</td>\n",
       "    </tr>\n",
       "    <tr>\n",
       "      <th>337</th>\n",
       "      <td>CULTURAL AFFAIRS</td>\n",
       "      <td>CULTURAL AFFAIRS COORD II</td>\n",
       "      <td>7</td>\n",
       "      <td>1</td>\n",
       "    </tr>\n",
       "    <tr>\n",
       "      <th>356</th>\n",
       "      <td>BUDGET &amp; MGMT</td>\n",
       "      <td>SENIOR BUDGET ANALYST</td>\n",
       "      <td>7</td>\n",
       "      <td>1</td>\n",
       "    </tr>\n",
       "    <tr>\n",
       "      <th>436</th>\n",
       "      <td>HUMAN RELATIONS</td>\n",
       "      <td>HUMAN RELATIONS INVESTIGATOR II</td>\n",
       "      <td>5</td>\n",
       "      <td>1</td>\n",
       "    </tr>\n",
       "    <tr>\n",
       "      <th>547</th>\n",
       "      <td>DISABILITIES</td>\n",
       "      <td>DISABILITY SPECIALIST II</td>\n",
       "      <td>4</td>\n",
       "      <td>1</td>\n",
       "    </tr>\n",
       "    <tr>\n",
       "      <th>548</th>\n",
       "      <td>TREASURER</td>\n",
       "      <td>ASST CITY TREASURER</td>\n",
       "      <td>4</td>\n",
       "      <td>1</td>\n",
       "    </tr>\n",
       "    <tr>\n",
       "      <th>1193</th>\n",
       "      <td>POLICE BOARD</td>\n",
       "      <td>EXECUTIVE DIR - POLICE BOARD</td>\n",
       "      <td>1</td>\n",
       "      <td>1</td>\n",
       "    </tr>\n",
       "    <tr>\n",
       "      <th>1601</th>\n",
       "      <td>BOARD OF ETHICS</td>\n",
       "      <td>STAFF ASST</td>\n",
       "      <td>1</td>\n",
       "      <td>1</td>\n",
       "    </tr>\n",
       "    <tr>\n",
       "      <th>1721</th>\n",
       "      <td>LICENSE APPL COMM</td>\n",
       "      <td>STAFF ASST</td>\n",
       "      <td>1</td>\n",
       "      <td>1</td>\n",
       "    </tr>\n",
       "  </tbody>\n",
       "</table>\n",
       "</div>"
      ],
      "text/plain": [
       "                 department                                         title  \\\n",
       "0                    POLICE                                POLICE OFFICER   \n",
       "1                      FIRE                               FIREFIGHTER-EMT   \n",
       "5             STREETS & SAN                            SANITATION LABORER   \n",
       "7                      OEMC                   TRAFFIC CONTROL AIDE-HOURLY   \n",
       "10              WATER MGMNT                          CONSTRUCTION LABORER   \n",
       "19                 AVIATION                     AVIATION SECURITY OFFICER   \n",
       "23               TRANSPORTN                              CONCRETE LABORER   \n",
       "24         FAMILY & SUPPORT                            FOSTER GRANDPARENT   \n",
       "29                      LAW                      ASST CORPORATION COUNSEL   \n",
       "30           PUBLIC LIBRARY                                  LIBRARY PAGE   \n",
       "31         GENERAL SERVICES                        MACHINIST (AUTOMOTIVE)   \n",
       "35             CITY COUNCIL                    STAFF ASST TO THE ALDERMAN   \n",
       "40                  FINANCE                      PARKING ENFORCEMENT AIDE   \n",
       "63                BUILDINGS               BUILDING/CONSTRUCTION INSPECTOR   \n",
       "86                   HEALTH  COMMUNICABLE DISEASE CONTROL INVESTIGATOR II   \n",
       "109       BOARD OF ELECTION                       CLERK - BD OF ELECTIONS   \n",
       "114                    IPRA                        INVESTIGATOR - IPRA II   \n",
       "136          MAYOR'S OFFICE                           ADMINISTRATIVE ASST   \n",
       "147              CITY CLERK               PAYMENT SERVICES REPRESENTATIVE   \n",
       "161            ADMIN HEARNG                        ADMINISTRATIVE ASST II   \n",
       "164           ANIMAL CONTRL                        ANIMAL CONTROL OFFICER   \n",
       "181                    DoIT                        PROJECT MANAGER - DOIT   \n",
       "187        BUSINESS AFFAIRS                      CONSUMER INVESTIGATOR II   \n",
       "193   COMMUNITY DEVELOPMENT                    FINANCIAL PLANNING ANALYST   \n",
       "206             PROCUREMENT                     SR PROCUREMENT SPECIALIST   \n",
       "230           INSPECTOR GEN                         INVESTIGATOR III - IG   \n",
       "288         HUMAN RESOURCES                                     RECRUITER   \n",
       "337        CULTURAL AFFAIRS                     CULTURAL AFFAIRS COORD II   \n",
       "356           BUDGET & MGMT                         SENIOR BUDGET ANALYST   \n",
       "436         HUMAN RELATIONS               HUMAN RELATIONS INVESTIGATOR II   \n",
       "547            DISABILITIES                      DISABILITY SPECIALIST II   \n",
       "548               TREASURER                           ASST CITY TREASURER   \n",
       "1193           POLICE BOARD                  EXECUTIVE DIR - POLICE BOARD   \n",
       "1601        BOARD OF ETHICS                                    STAFF ASST   \n",
       "1721      LICENSE APPL COMM                                    STAFF ASST   \n",
       "\n",
       "      name  dept_rank  \n",
       "0     9432          1  \n",
       "1     1303          1  \n",
       "5      837          1  \n",
       "7      523          1  \n",
       "10     352          1  \n",
       "19     186          1  \n",
       "23     160          1  \n",
       "24     150          1  \n",
       "29     134          1  \n",
       "30     132          1  \n",
       "31     129          1  \n",
       "35     115          1  \n",
       "40     106          1  \n",
       "63      64          1  \n",
       "86      45          1  \n",
       "109     32          1  \n",
       "114     29          1  \n",
       "136     23          1  \n",
       "147     21          1  \n",
       "161     19          1  \n",
       "164     19          1  \n",
       "181     17          1  \n",
       "187     16          1  \n",
       "193     16          1  \n",
       "206     14          1  \n",
       "230     12          1  \n",
       "288      9          1  \n",
       "337      7          1  \n",
       "356      7          1  \n",
       "436      5          1  \n",
       "547      4          1  \n",
       "548      4          1  \n",
       "1193     1          1  \n",
       "1601     1          1  \n",
       "1721     1          1  "
      ]
     },
     "execution_count": 6,
     "metadata": {},
     "output_type": "execute_result"
    }
   ],
   "source": [
    "bydep = chicago[['department', 'title', 'name']].groupby(\n",
    "    ['department', 'title']).count()\n",
    "\n",
    "bydep = bydep.sort_values(['name'], ascending=False).reset_index()\n",
    "\n",
    "bydep = bydep.groupby('department').apply(ranker)\n",
    "\n",
    "bydep[bydep.dept_rank==1]"
   ]
  },
  {
   "cell_type": "markdown",
   "metadata": {},
   "source": [
    "9 - Cuantas personas que se llamen 'Emma' trabajan en Chicago?"
   ]
  },
  {
   "cell_type": "code",
   "execution_count": 141,
   "metadata": {
    "collapsed": true
   },
   "outputs": [],
   "source": [
    "def is_emma(row):\n",
    "    if 'EMMA ' in row['name']:\n",
    "        return 1\n",
    "    return 0\n",
    "    "
   ]
  },
  {
   "cell_type": "code",
   "execution_count": 130,
   "metadata": {},
   "outputs": [
    {
     "data": {
      "text/plain": [
       "True"
      ]
     },
     "execution_count": 130,
     "metadata": {},
     "output_type": "execute_result"
    }
   ],
   "source": [
    "'EMMA ' in 'MITTS, EMMA M'"
   ]
  },
  {
   "cell_type": "code",
   "execution_count": 142,
   "metadata": {
    "collapsed": true
   },
   "outputs": [],
   "source": [
    "chicago['emma'] = chicago.apply(is_emma, axis=1)"
   ]
  },
  {
   "cell_type": "code",
   "execution_count": 145,
   "metadata": {},
   "outputs": [
    {
     "data": {
      "text/html": [
       "<div>\n",
       "<table border=\"1\" class=\"dataframe\">\n",
       "  <thead>\n",
       "    <tr style=\"text-align: right;\">\n",
       "      <th></th>\n",
       "      <th>name</th>\n",
       "      <th>title</th>\n",
       "      <th>department</th>\n",
       "      <th>salary</th>\n",
       "      <th>dept_rank</th>\n",
       "      <th>emma</th>\n",
       "    </tr>\n",
       "  </thead>\n",
       "  <tbody>\n",
       "    <tr>\n",
       "      <th>19301</th>\n",
       "      <td>MITTS,  EMMA M</td>\n",
       "      <td>ALDERMAN</td>\n",
       "      <td>CITY COUNCIL</td>\n",
       "      <td>114912.96</td>\n",
       "      <td>10</td>\n",
       "      <td>1</td>\n",
       "    </tr>\n",
       "    <tr>\n",
       "      <th>12608</th>\n",
       "      <td>HOLMES,  EMMA G</td>\n",
       "      <td>PUBLIC HEALTH NURSE II</td>\n",
       "      <td>HEALTH</td>\n",
       "      <td>96300.00</td>\n",
       "      <td>88</td>\n",
       "      <td>1</td>\n",
       "    </tr>\n",
       "    <tr>\n",
       "      <th>24862</th>\n",
       "      <td>ROSENBERG,  EMMA E</td>\n",
       "      <td>STAFF ASST TO THE ALDERMAN</td>\n",
       "      <td>CITY COUNCIL</td>\n",
       "      <td>40368.00</td>\n",
       "      <td>273</td>\n",
       "      <td>1</td>\n",
       "    </tr>\n",
       "    <tr>\n",
       "      <th>18477</th>\n",
       "      <td>MC KINNEY,  EMMA J</td>\n",
       "      <td>CROSSING GUARD</td>\n",
       "      <td>POLICE</td>\n",
       "      <td>17877.60</td>\n",
       "      <td>13203</td>\n",
       "      <td>1</td>\n",
       "    </tr>\n",
       "    <tr>\n",
       "      <th>10750</th>\n",
       "      <td>GREEN,  EMMA J</td>\n",
       "      <td>TITLE V PROGRAM TRAINEE I</td>\n",
       "      <td>FAMILY &amp; SUPPORT</td>\n",
       "      <td>8580.00</td>\n",
       "      <td>481</td>\n",
       "      <td>1</td>\n",
       "    </tr>\n",
       "    <tr>\n",
       "      <th>9188</th>\n",
       "      <td>FREEMAN,  EMMA L</td>\n",
       "      <td>FOSTER GRANDPARENT</td>\n",
       "      <td>FAMILY &amp; SUPPORT</td>\n",
       "      <td>2756.00</td>\n",
       "      <td>583</td>\n",
       "      <td>1</td>\n",
       "    </tr>\n",
       "    <tr>\n",
       "      <th>18162</th>\n",
       "      <td>MCDANIEL,  EMMA J</td>\n",
       "      <td>FOSTER GRANDPARENT</td>\n",
       "      <td>FAMILY &amp; SUPPORT</td>\n",
       "      <td>2756.00</td>\n",
       "      <td>705</td>\n",
       "      <td>1</td>\n",
       "    </tr>\n",
       "  </tbody>\n",
       "</table>\n",
       "</div>"
      ],
      "text/plain": [
       "                     name                       title        department  \\\n",
       "19301      MITTS,  EMMA M                    ALDERMAN      CITY COUNCIL   \n",
       "12608     HOLMES,  EMMA G      PUBLIC HEALTH NURSE II            HEALTH   \n",
       "24862  ROSENBERG,  EMMA E  STAFF ASST TO THE ALDERMAN      CITY COUNCIL   \n",
       "18477  MC KINNEY,  EMMA J              CROSSING GUARD            POLICE   \n",
       "10750      GREEN,  EMMA J   TITLE V PROGRAM TRAINEE I  FAMILY & SUPPORT   \n",
       "9188     FREEMAN,  EMMA L          FOSTER GRANDPARENT  FAMILY & SUPPORT   \n",
       "18162   MCDANIEL,  EMMA J          FOSTER GRANDPARENT  FAMILY & SUPPORT   \n",
       "\n",
       "          salary  dept_rank  emma  \n",
       "19301  114912.96         10     1  \n",
       "12608   96300.00         88     1  \n",
       "24862   40368.00        273     1  \n",
       "18477   17877.60      13203     1  \n",
       "10750    8580.00        481     1  \n",
       "9188     2756.00        583     1  \n",
       "18162    2756.00        705     1  "
      ]
     },
     "execution_count": 145,
     "metadata": {},
     "output_type": "execute_result"
    }
   ],
   "source": [
    "chicago[chicago.emma==1]"
   ]
  },
  {
   "cell_type": "markdown",
   "metadata": {},
   "source": [
    "10 - Calcula el intervalo de confianza al 95% de los salarios de la ciudad de Chicago"
   ]
  },
  {
   "cell_type": "code",
   "execution_count": 168,
   "metadata": {
    "collapsed": true
   },
   "outputs": [],
   "source": [
    "import numpy as np\n",
    "import scipy as sp\n",
    "import scipy.stats\n",
    "\n",
    "def mean_confidence_interval(data, confidence=0.95):\n",
    "    a = 1.0*np.array(data)\n",
    "    n = len(a)\n",
    "    m, se = np.mean(a), scipy.stats.sem(a)\n",
    "    h = se * sp.stats.t._ppf((1+confidence)/2., n-1)\n",
    "    return m, m-h, m+h"
   ]
  },
  {
   "cell_type": "code",
   "execution_count": 170,
   "metadata": {
    "collapsed": true
   },
   "outputs": [],
   "source": [
    "(m, low, high) = mean_confidence_interval(chicago.salary)"
   ]
  },
  {
   "cell_type": "code",
   "execution_count": 171,
   "metadata": {},
   "outputs": [
    {
     "name": "stdout",
     "output_type": "stream",
     "text": [
      "75070.3857104\n",
      "74816.6144784\n",
      "75324.1569424\n"
     ]
    }
   ],
   "source": [
    "print m\n",
    "print low\n",
    "print high"
   ]
  },
  {
   "cell_type": "code",
   "execution_count": 155,
   "metadata": {},
   "outputs": [
    {
     "name": "stdout",
     "output_type": "stream",
     "text": [
      "75070.3857104\n",
      "74816.6193981\n",
      "75324.1520226\n"
     ]
    }
   ],
   "source": [
    "high_bound = chicago.salary.mean() + (1.96 * chicago.salary.std() \n",
    "                                      / chicago.shape[0]**.5)\n",
    "\n",
    "low_bound = chicago.salary.mean() - (1.96 * chicago.salary.std() \n",
    "                                      / chicago.shape[0]**.5)\n",
    "\n",
    "print chicago.salary.mean()\n",
    "print low_bound\n",
    "print high_bound"
   ]
  },
  {
   "cell_type": "code",
   "execution_count": 7,
   "metadata": {},
   "outputs": [
    {
     "ename": "AttributeError",
     "evalue": "'tuple' object has no attribute 'set_xlim'",
     "output_type": "error",
     "traceback": [
      "\u001b[0;31m---------------------------------------------------------------------------\u001b[0m",
      "\u001b[0;31mAttributeError\u001b[0m                            Traceback (most recent call last)",
      "\u001b[0;32m<ipython-input-7-7fdcded2379b>\u001b[0m in \u001b[0;36m<module>\u001b[0;34m()\u001b[0m\n\u001b[1;32m      1\u001b[0m \u001b[0mbins\u001b[0m \u001b[0;34m=\u001b[0m \u001b[0mnp\u001b[0m\u001b[0;34m.\u001b[0m\u001b[0marange\u001b[0m\u001b[0;34m(\u001b[0m\u001b[0;36m0\u001b[0m\u001b[0;34m,\u001b[0m\u001b[0;36m200000\u001b[0m\u001b[0;34m,\u001b[0m\u001b[0;36m500\u001b[0m\u001b[0;34m)\u001b[0m\u001b[0;34m\u001b[0m\u001b[0m\n\u001b[1;32m      2\u001b[0m \u001b[0max\u001b[0m \u001b[0;34m=\u001b[0m \u001b[0mplt\u001b[0m\u001b[0;34m.\u001b[0m\u001b[0mhist\u001b[0m\u001b[0;34m(\u001b[0m\u001b[0mchicago\u001b[0m\u001b[0;34m.\u001b[0m\u001b[0msalary\u001b[0m\u001b[0;34m,\u001b[0m \u001b[0mbins\u001b[0m \u001b[0;34m=\u001b[0m \u001b[0mbins\u001b[0m\u001b[0;34m)\u001b[0m\u001b[0;34m\u001b[0m\u001b[0m\n\u001b[0;32m----> 3\u001b[0;31m \u001b[0max\u001b[0m\u001b[0;34m.\u001b[0m\u001b[0mset_xlim\u001b[0m\u001b[0;34m(\u001b[0m\u001b[0;36m0\u001b[0m\u001b[0;34m,\u001b[0m \u001b[0;36m200000\u001b[0m\u001b[0;34m)\u001b[0m\u001b[0;34m\u001b[0m\u001b[0m\n\u001b[0m",
      "\u001b[0;31mAttributeError\u001b[0m: 'tuple' object has no attribute 'set_xlim'"
     ]
    },
    {
     "data": {
      "image/png": "[encoded data removed]",
      "text/plain": [
       "<matplotlib.figure.Figure at 0x114c9f250>"
      ]
     },
     "metadata": {},
     "output_type": "display_data"
    }
   ],
   "source": [
    "bins = np.arange(0,200000,500)\n",
    "ax = plt.hist(chicago.salary, bins = bins)\n",
    "ax.set_xlim(0, 200000)"
   ]
  },
  {
   "cell_type": "code",
   "execution_count": 167,
   "metadata": {},
   "outputs": [
    {
     "data": {
      "text/plain": [
       "<matplotlib.axes._subplots.AxesSubplot at 0x141520650>"
      ]
     },
     "execution_count": 167,
     "metadata": {},
     "output_type": "execute_result"
    },
    {
     "data": {
      "image/png": "[encoded data removed]",
      "text/plain": [
       "<matplotlib.figure.Figure at 0x115805a50>"
      ]
     },
     "metadata": {},
     "output_type": "display_data"
    }
   ],
   "source": [
    "sns.distplot(chicago.salary, kde=False, color=\"b\")"
   ]
  },
  {
   "cell_type": "markdown",
   "metadata": {},
   "source": [
    "11 - Cual es el departamento con mayor variabiliad de salarios?"
   ]
  },
  {
   "cell_type": "code",
   "execution_count": 176,
   "metadata": {
    "collapsed": true
   },
   "outputs": [],
   "source": [
    "def mymax(df):\n",
    "    return np.max(df)"
   ]
  },
  {
   "cell_type": "code",
   "execution_count": 182,
   "metadata": {},
   "outputs": [
    {
     "data": {
      "text/html": [
       "<div>\n",
       "<table border=\"1\" class=\"dataframe\">\n",
       "  <thead>\n",
       "    <tr style=\"text-align: right;\">\n",
       "      <th></th>\n",
       "      <th>salary</th>\n",
       "    </tr>\n",
       "    <tr>\n",
       "      <th>department</th>\n",
       "      <th></th>\n",
       "    </tr>\n",
       "  </thead>\n",
       "  <tbody>\n",
       "    <tr>\n",
       "      <th>MAYOR'S OFFICE</th>\n",
       "      <td>44797.194237</td>\n",
       "    </tr>\n",
       "    <tr>\n",
       "      <th>FAMILY &amp; SUPPORT</th>\n",
       "      <td>34989.941183</td>\n",
       "    </tr>\n",
       "    <tr>\n",
       "      <th>LAW</th>\n",
       "      <td>32473.505319</td>\n",
       "    </tr>\n",
       "    <tr>\n",
       "      <th>OEMC</th>\n",
       "      <td>28826.686479</td>\n",
       "    </tr>\n",
       "    <tr>\n",
       "      <th>CITY COUNCIL</th>\n",
       "      <td>28780.724619</td>\n",
       "    </tr>\n",
       "    <tr>\n",
       "      <th>TREASURER</th>\n",
       "      <td>28202.941607</td>\n",
       "    </tr>\n",
       "    <tr>\n",
       "      <th>PUBLIC LIBRARY</th>\n",
       "      <td>26631.749878</td>\n",
       "    </tr>\n",
       "    <tr>\n",
       "      <th>POLICE BOARD</th>\n",
       "      <td>26389.225074</td>\n",
       "    </tr>\n",
       "    <tr>\n",
       "      <th>BOARD OF ETHICS</th>\n",
       "      <td>25784.107508</td>\n",
       "    </tr>\n",
       "    <tr>\n",
       "      <th>CULTURAL AFFAIRS</th>\n",
       "      <td>25679.368763</td>\n",
       "    </tr>\n",
       "    <tr>\n",
       "      <th>DISABILITIES</th>\n",
       "      <td>24651.397458</td>\n",
       "    </tr>\n",
       "    <tr>\n",
       "      <th>BOARD OF ELECTION</th>\n",
       "      <td>24471.583373</td>\n",
       "    </tr>\n",
       "    <tr>\n",
       "      <th>INSPECTOR GEN</th>\n",
       "      <td>22986.616799</td>\n",
       "    </tr>\n",
       "    <tr>\n",
       "      <th>HUMAN RESOURCES</th>\n",
       "      <td>22691.708242</td>\n",
       "    </tr>\n",
       "    <tr>\n",
       "      <th>ADMIN HEARNG</th>\n",
       "      <td>22538.500922</td>\n",
       "    </tr>\n",
       "    <tr>\n",
       "      <th>BUDGET &amp; MGMT</th>\n",
       "      <td>22392.696826</td>\n",
       "    </tr>\n",
       "    <tr>\n",
       "      <th>PROCUREMENT</th>\n",
       "      <td>21675.713024</td>\n",
       "    </tr>\n",
       "    <tr>\n",
       "      <th>HEALTH</th>\n",
       "      <td>21537.263964</td>\n",
       "    </tr>\n",
       "    <tr>\n",
       "      <th>FINANCE</th>\n",
       "      <td>21492.841690</td>\n",
       "    </tr>\n",
       "    <tr>\n",
       "      <th>ANIMAL CONTRL</th>\n",
       "      <td>20806.171738</td>\n",
       "    </tr>\n",
       "    <tr>\n",
       "      <th>IPRA</th>\n",
       "      <td>20387.014683</td>\n",
       "    </tr>\n",
       "    <tr>\n",
       "      <th>POLICE</th>\n",
       "      <td>20377.253900</td>\n",
       "    </tr>\n",
       "    <tr>\n",
       "      <th>BUSINESS AFFAIRS</th>\n",
       "      <td>20356.282335</td>\n",
       "    </tr>\n",
       "    <tr>\n",
       "      <th>AVIATION</th>\n",
       "      <td>20322.340610</td>\n",
       "    </tr>\n",
       "    <tr>\n",
       "      <th>CITY CLERK</th>\n",
       "      <td>19364.499354</td>\n",
       "    </tr>\n",
       "    <tr>\n",
       "      <th>GENERAL SERVICES</th>\n",
       "      <td>19305.656700</td>\n",
       "    </tr>\n",
       "    <tr>\n",
       "      <th>DoIT</th>\n",
       "      <td>18195.518079</td>\n",
       "    </tr>\n",
       "    <tr>\n",
       "      <th>COMMUNITY DEVELOPMENT</th>\n",
       "      <td>17939.035595</td>\n",
       "    </tr>\n",
       "    <tr>\n",
       "      <th>HUMAN RELATIONS</th>\n",
       "      <td>16765.616481</td>\n",
       "    </tr>\n",
       "    <tr>\n",
       "      <th>WATER MGMNT</th>\n",
       "      <td>16518.142118</td>\n",
       "    </tr>\n",
       "    <tr>\n",
       "      <th>BUILDINGS</th>\n",
       "      <td>16439.942294</td>\n",
       "    </tr>\n",
       "    <tr>\n",
       "      <th>FIRE</th>\n",
       "      <td>16049.594515</td>\n",
       "    </tr>\n",
       "    <tr>\n",
       "      <th>TRANSPORTN</th>\n",
       "      <td>15121.988050</td>\n",
       "    </tr>\n",
       "    <tr>\n",
       "      <th>STREETS &amp; SAN</th>\n",
       "      <td>11065.209064</td>\n",
       "    </tr>\n",
       "    <tr>\n",
       "      <th>LICENSE APPL COMM</th>\n",
       "      <td>NaN</td>\n",
       "    </tr>\n",
       "  </tbody>\n",
       "</table>\n",
       "</div>"
      ],
      "text/plain": [
       "                             salary\n",
       "department                         \n",
       "MAYOR'S OFFICE         44797.194237\n",
       "FAMILY & SUPPORT       34989.941183\n",
       "LAW                    32473.505319\n",
       "OEMC                   28826.686479\n",
       "CITY COUNCIL           28780.724619\n",
       "TREASURER              28202.941607\n",
       "PUBLIC LIBRARY         26631.749878\n",
       "POLICE BOARD           26389.225074\n",
       "BOARD OF ETHICS        25784.107508\n",
       "CULTURAL AFFAIRS       25679.368763\n",
       "DISABILITIES           24651.397458\n",
       "BOARD OF ELECTION      24471.583373\n",
       "INSPECTOR GEN          22986.616799\n",
       "HUMAN RESOURCES        22691.708242\n",
       "ADMIN HEARNG           22538.500922\n",
       "BUDGET & MGMT          22392.696826\n",
       "PROCUREMENT            21675.713024\n",
       "HEALTH                 21537.263964\n",
       "FINANCE                21492.841690\n",
       "ANIMAL CONTRL          20806.171738\n",
       "IPRA                   20387.014683\n",
       "POLICE                 20377.253900\n",
       "BUSINESS AFFAIRS       20356.282335\n",
       "AVIATION               20322.340610\n",
       "CITY CLERK             19364.499354\n",
       "GENERAL SERVICES       19305.656700\n",
       "DoIT                   18195.518079\n",
       "COMMUNITY DEVELOPMENT  17939.035595\n",
       "HUMAN RELATIONS        16765.616481\n",
       "WATER MGMNT            16518.142118\n",
       "BUILDINGS              16439.942294\n",
       "FIRE                   16049.594515\n",
       "TRANSPORTN             15121.988050\n",
       "STREETS & SAN          11065.209064\n",
       "LICENSE APPL COMM               NaN"
      ]
     },
     "execution_count": 182,
     "metadata": {},
     "output_type": "execute_result"
    }
   ],
   "source": [
    "chicago[['department','salary']].groupby('department').std().sort_values('salary', ascending=False)"
   ]
  },
  {
   "cell_type": "markdown",
   "metadata": {
    "collapsed": true
   },
   "source": [
    "12 - Subir un 10% el salario a aquellas personas que esten en el top 5 de salarios mas bajos de su departamento"
   ]
  },
  {
   "cell_type": "code",
   "execution_count": 55,
   "metadata": {
    "collapsed": true
   },
   "outputs": [],
   "source": [
    "headers = ['name', 'title', 'department', 'salary']\n",
    "chicago = pd.read_csv('city-of-chicago-salaries.csv', \n",
    "                      header=0,\n",
    "                      names=headers)"
   ]
  },
  {
   "cell_type": "code",
   "execution_count": 56,
   "metadata": {},
   "outputs": [
    {
     "data": {
      "text/html": [
       "<div>\n",
       "<table border=\"1\" class=\"dataframe\">\n",
       "  <thead>\n",
       "    <tr style=\"text-align: right;\">\n",
       "      <th></th>\n",
       "      <th>name</th>\n",
       "      <th>title</th>\n",
       "      <th>department</th>\n",
       "      <th>salary</th>\n",
       "    </tr>\n",
       "  </thead>\n",
       "  <tbody>\n",
       "    <tr>\n",
       "      <th>0</th>\n",
       "      <td>SANTIAGO,  NELIDA</td>\n",
       "      <td>ADMINISTRATIVE ASST II</td>\n",
       "      <td>ADMIN HEARNG</td>\n",
       "      <td>48048</td>\n",
       "    </tr>\n",
       "    <tr>\n",
       "      <th>1</th>\n",
       "      <td>BURAGE,  LORRIE A</td>\n",
       "      <td>CUSTOMER ACCOUNT REPRESENTATIVE</td>\n",
       "      <td>ADMIN HEARNG</td>\n",
       "      <td>50280</td>\n",
       "    </tr>\n",
       "    <tr>\n",
       "      <th>2</th>\n",
       "      <td>FLOURNOY,  NICOLE A</td>\n",
       "      <td>ADMINISTRATIVE ASST II</td>\n",
       "      <td>ADMIN HEARNG</td>\n",
       "      <td>50280</td>\n",
       "    </tr>\n",
       "    <tr>\n",
       "      <th>3</th>\n",
       "      <td>GRIFFIN,  ALECHIA L</td>\n",
       "      <td>ADMINISTRATIVE ASST II</td>\n",
       "      <td>ADMIN HEARNG</td>\n",
       "      <td>52740</td>\n",
       "    </tr>\n",
       "    <tr>\n",
       "      <th>4</th>\n",
       "      <td>KEE,  LISA M</td>\n",
       "      <td>ADMINISTRATIVE ASST II</td>\n",
       "      <td>ADMIN HEARNG</td>\n",
       "      <td>52740</td>\n",
       "    </tr>\n",
       "  </tbody>\n",
       "</table>\n",
       "</div>"
      ],
      "text/plain": [
       "                  name                            title    department  salary\n",
       "0    SANTIAGO,  NELIDA           ADMINISTRATIVE ASST II  ADMIN HEARNG   48048\n",
       "1    BURAGE,  LORRIE A  CUSTOMER ACCOUNT REPRESENTATIVE  ADMIN HEARNG   50280\n",
       "2  FLOURNOY,  NICOLE A           ADMINISTRATIVE ASST II  ADMIN HEARNG   50280\n",
       "3  GRIFFIN,  ALECHIA L           ADMINISTRATIVE ASST II  ADMIN HEARNG   52740\n",
       "4         KEE,  LISA M           ADMINISTRATIVE ASST II  ADMIN HEARNG   52740"
      ]
     },
     "execution_count": 56,
     "metadata": {},
     "output_type": "execute_result"
    }
   ],
   "source": [
    "#ordenamos por salario\n",
    "chicago = chicago.sort_values(['department','salary']).reset_index(drop=True)\n",
    "chicago.head()"
   ]
  },
  {
   "cell_type": "code",
   "execution_count": 57,
   "metadata": {},
   "outputs": [
    {
     "data": {
      "text/html": [
       "<div>\n",
       "<table border=\"1\" class=\"dataframe\">\n",
       "  <thead>\n",
       "    <tr style=\"text-align: right;\">\n",
       "      <th></th>\n",
       "      <th>name</th>\n",
       "      <th>title</th>\n",
       "      <th>department</th>\n",
       "      <th>salary</th>\n",
       "    </tr>\n",
       "  </thead>\n",
       "  <tbody>\n",
       "    <tr>\n",
       "      <th>0</th>\n",
       "      <td>SANTIAGO,  NELIDA</td>\n",
       "      <td>ADMINISTRATIVE ASST II</td>\n",
       "      <td>ADMIN HEARNG</td>\n",
       "      <td>52852.8</td>\n",
       "    </tr>\n",
       "    <tr>\n",
       "      <th>1</th>\n",
       "      <td>BURAGE,  LORRIE A</td>\n",
       "      <td>CUSTOMER ACCOUNT REPRESENTATIVE</td>\n",
       "      <td>ADMIN HEARNG</td>\n",
       "      <td>55308.0</td>\n",
       "    </tr>\n",
       "    <tr>\n",
       "      <th>2</th>\n",
       "      <td>FLOURNOY,  NICOLE A</td>\n",
       "      <td>ADMINISTRATIVE ASST II</td>\n",
       "      <td>ADMIN HEARNG</td>\n",
       "      <td>55308.0</td>\n",
       "    </tr>\n",
       "    <tr>\n",
       "      <th>3</th>\n",
       "      <td>GRIFFIN,  ALECHIA L</td>\n",
       "      <td>ADMINISTRATIVE ASST II</td>\n",
       "      <td>ADMIN HEARNG</td>\n",
       "      <td>58014.0</td>\n",
       "    </tr>\n",
       "    <tr>\n",
       "      <th>4</th>\n",
       "      <td>KEE,  LISA M</td>\n",
       "      <td>ADMINISTRATIVE ASST II</td>\n",
       "      <td>ADMIN HEARNG</td>\n",
       "      <td>58014.0</td>\n",
       "    </tr>\n",
       "  </tbody>\n",
       "</table>\n",
       "</div>"
      ],
      "text/plain": [
       "                  name                            title    department   salary\n",
       "0    SANTIAGO,  NELIDA           ADMINISTRATIVE ASST II  ADMIN HEARNG  52852.8\n",
       "1    BURAGE,  LORRIE A  CUSTOMER ACCOUNT REPRESENTATIVE  ADMIN HEARNG  55308.0\n",
       "2  FLOURNOY,  NICOLE A           ADMINISTRATIVE ASST II  ADMIN HEARNG  55308.0\n",
       "3  GRIFFIN,  ALECHIA L           ADMINISTRATIVE ASST II  ADMIN HEARNG  58014.0\n",
       "4         KEE,  LISA M           ADMINISTRATIVE ASST II  ADMIN HEARNG  58014.0"
      ]
     },
     "execution_count": 57,
     "metadata": {},
     "output_type": "execute_result"
    }
   ],
   "source": [
    "#recogemos los salarios mas bajos de cada departamento y los metemos en diccionario\n",
    "my_dict = chicago.groupby('department')['salary'].unique().to_dict()\n",
    "for key in my_dict.keys():\n",
    "    chicago.loc[(chicago['department'] == key) & (chicago['salary'].isin(my_dict[key][:5])),'salary'] *= 1.1\n",
    "chicago.head()"
   ]
  },
  {
   "cell_type": "markdown",
   "metadata": {},
   "source": [
    "13 - Compara estadisticamente si existen diferencias significativas entre los salarios de los diferentes departamentos. Para ello deberas utilizar una ANOVA de 1 factor independiente."
   ]
  },
  {
   "cell_type": "code",
   "execution_count": 81,
   "metadata": {},
   "outputs": [
    {
     "name": "stdout",
     "output_type": "stream",
     "text": [
      "Name: Department Salaries, F value: 260.506, p value: 0.000\n"
     ]
    }
   ],
   "source": [
    "import scipy.stats as ss\n",
    "\n",
    "samples = [salary for department, salary in chicago.groupby('department')['salary']]\n",
    "f_val, p_val = ss.f_oneway(*samples)\n",
    "print('Name: {}, F value: {:.3f}, p value: {:.3f}'.format('Department Salaries', f_val, p_val))"
   ]
  },
  {
   "cell_type": "markdown",
   "metadata": {},
   "source": [
    "14 - Calcula la media del salario de los departamentos 'POLICE', 'POLICE BOARD' y 'FIRE'"
   ]
  },
  {
   "cell_type": "code",
   "execution_count": 58,
   "metadata": {
    "collapsed": true
   },
   "outputs": [],
   "source": [
    "df_small = chicago[chicago['department'].isin(['POLICE', 'POLICE BOARD', 'FIRE'])]"
   ]
  },
  {
   "cell_type": "code",
   "execution_count": 64,
   "metadata": {},
   "outputs": [
    {
     "name": "stdout",
     "output_type": "stream",
     "text": [
      "La media de los salarios de los departamentos POLICE, POLICE BOARD y FIRE es: 79262$\n"
     ]
    }
   ],
   "source": [
    "print 'La media de los salarios de los departamentos POLICE, POLICE BOARD y FIRE es: %d$' % df_small['salary'].mean()"
   ]
  }
 ],
 "metadata": {
  "kernelspec": {
   "display_name": "Python 2",
   "language": "python",
   "name": "python2"
  },
  "language_info": {
   "codemirror_mode": {
    "name": "ipython",
    "version": 2
   },
   "file_extension": ".py",
   "mimetype": "text/x-python",
   "name": "python",
   "nbconvert_exporter": "python",
   "pygments_lexer": "ipython2",
   "version": "2.7.12"
  }
 },
 "nbformat": 4,
 "nbformat_minor": 1
}
