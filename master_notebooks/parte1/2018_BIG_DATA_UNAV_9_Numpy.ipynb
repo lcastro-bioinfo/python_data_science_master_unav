{
 "cells": [
  {
   "cell_type": "markdown",
   "metadata": {},
   "source": [
    "---\n",
    "# Experto Big Data UNAV 2018 - Notebook 9 - Numpy\n",
    "---"
   ]
  },
  {
   "cell_type": "markdown",
   "metadata": {},
   "source": [
    "# NumPy"
   ]
  },
  {
   "cell_type": "markdown",
   "metadata": {},
   "source": [
    "* Es una librería que nos permite representar de manera sencilla vectores multidimensionales.\n",
    "* Proporciona funciones y herramientas matemáticas para trabajar con los vectores.\n",
    "* Es muy eficiente y rápida a la hora de hacer cálculos con grandes cantidades de datos.\n",
    "\n",
    "Las matrices NumPy tienen varias ventajas sobre las listas de Python. Estos beneficios se centran en proporcionar la manipulación de alto rendimiento de secuencias de elementos de datos homogéneos. Varios de estos beneficios son los siguientes:\n",
    "- Asignación contigua en la memoria\n",
    "- Operaciones vectorizadas\n",
    "- Selección booleana\n",
    "- Sliceability\n",
    "\n",
    "Vamos a testear los beneficios de utilizar numpy vs listas."
   ]
  },
  {
   "cell_type": "code",
   "execution_count": null,
   "metadata": {
    "collapsed": true
   },
   "outputs": [],
   "source": [
    "def squares(values):\n",
    "    result = []\n",
    "    for v in values:\n",
    "        result.append(v * v)\n",
    "    return result\n",
    "   # creamos lista de  100K elementos\n",
    "to_square = list(range(100000))\n",
    "# medimos tiempo de ejecucion con \n",
    "%timeit squares(to_square) "
   ]
  },
  {
   "cell_type": "code",
   "execution_count": null,
   "metadata": {},
   "outputs": [],
   "source": [
    "import numpy as np # directiva para importar libreria\n",
    "\n",
    "# mismo codigo lo hacemos con numpy\n",
    "array_to_square = np.arange(0, 100000)\n",
    "# medimos tiempo de la operacion vectorizada\n",
    "%timeit array_to_square ** 2"
   ]
  },
  {
   "cell_type": "markdown",
   "metadata": {},
   "source": [
    "Puedes ver como la vectorizacion ha reducido el tiempo de ejecucion de nuestro codigo en mas de 100 veces!!  \n",
    "\n",
    "Esto saca a la luz algo a tener en cuenta cuando se trabaja con datos en NumPy y Pandas: si estas escribendo un _loop_ para iterar a través de elementos de una matriz NumPy, un _series_ de pandas o un DataFrame, entonces estás probablemente hacien algo incorrecto. Siempre has de tener en cuenta escribir código que haga uso de la vectorización. Casi siempre es más rápido, y se expresa de forma más elegante de forma vectorizada.\n",
    "\n",
    "La **selección booleana** es un patrón común que veremos con NumPy y pandas donde la selección de elementos de una matriz se basa en criterios específicos. Esto consiste en calcular una matriz de valores booleanos donde True representa que el elemento dado que debe estar en el conjunto de resultados. Esta matriz se puede usar para seleccionar eficientemente los elementos que coinciden."
   ]
  },
  {
   "cell_type": "markdown",
   "metadata": {},
   "source": [
    "## Creacion de arrays en NumPy"
   ]
  },
  {
   "cell_type": "markdown",
   "metadata": {},
   "source": [
    "Antes de poder crear un array NumPy tenemos que importar la libreria. Esto se hace como ya hemos visto con otras a traves del comando _import numpy_."
   ]
  },
  {
   "cell_type": "code",
   "execution_count": 2,
   "metadata": {
    "collapsed": true
   },
   "outputs": [],
   "source": [
    "import numpy as np # importamos y le decimos a python que lo llamaremos np"
   ]
  },
  {
   "cell_type": "markdown",
   "metadata": {},
   "source": [
    "Un vector NumPy puede crearse de multiples formas, todas estas crean un vector NumPy."
   ]
  },
  {
   "cell_type": "code",
   "execution_count": null,
   "metadata": {
    "collapsed": true
   },
   "outputs": [],
   "source": [
    "# un array simple\n",
    "a1 = np.array([1, 2, 3, 4, 5])\n",
    "print(a1) # ojo no es una lista es un objeto numpy\n",
    "print(type(a1)) # el tipo es numpy.array\n",
    "print(np.size(a1)) # cual es el tamanio de nuestro vector\n",
    "print(a1.dtype) # que tipo de datos contiene nuestro vector"
   ]
  },
  {
   "cell_type": "markdown",
   "metadata": {},
   "source": [
    "En NumPy, las matrices n-dimensionales se denotan como ndarray, la de nuestro ejemplo contiene cinco elementos, como informa la función _np.size()_.\n",
    "Las matrices NumPy deben tener todos sus elementos del mismo tipo. Si especificas diferentes tipos en la lista, NumPy intentará realizar un casting de todos los elementos al mismo tipo (al tipo mas general). El siguiente ejemplo de código demuestra el uso de valores enteros y de coma flotante al inicializar la matriz, que luego se convierten a números de coma flotante por NumPy."
   ]
  },
  {
   "cell_type": "code",
   "execution_count": null,
   "metadata": {
    "collapsed": true
   },
   "outputs": [],
   "source": [
    "# creando un array de enteros y floats\n",
    "a2 = np.array([1, 2, 3, 4.0, 5.0])\n",
    "print(a2) # numpy lo convierte a uno de floats"
   ]
  },
  {
   "cell_type": "markdown",
   "metadata": {},
   "source": [
    "Si realizamos las misma operacion con una cadena dentro, NumPy nos convertira el tipo de los elementos del vector a str."
   ]
  },
  {
   "cell_type": "code",
   "execution_count": null,
   "metadata": {
    "collapsed": true
   },
   "outputs": [],
   "source": [
    "# creando un array de enteros y floats y cadenas\n",
    "a2 = np.array([1, 2, 3, 4.0, 5.0, 'hola'])\n",
    "print(a2) # numpy lo convierte a uno de floats\n",
    "print(a2.dtype) # <US32 es un tipo interno de numpy para representar una cadena."
   ]
  },
  {
   "cell_type": "markdown",
   "metadata": {},
   "source": [
    "**Aunque lo anterior funciona, NumPy es una libreria orientada al calculo numerico de modo que se desaconseja el almacenamiento de strings en su interior.** Pronto veremos librerias para el manejo mas sencillo y eficiente de cadenas."
   ]
  },
  {
   "cell_type": "code",
   "execution_count": null,
   "metadata": {
    "collapsed": true
   },
   "outputs": [],
   "source": [
    "a = np.array([1, 2, 3])  # Crea un array de rango 1\n",
    "print(type(a))            # imprime \"<type 'numpy.ndarray'>\"\n",
    "print(a.shape)           # imprime \"(3,)\"\n",
    "print(a[0], a[1], a[2])   # imprime \"1 2 3\"\n",
    "a[0] =(5)                 # cambia un elemento del \n",
    "print(a)                  # imprime \"[5, 2, 3]\"\n",
    "\n",
    "b = np.array([[1,2,3],[4,5,6]])   # crea de dos dimensiones\n",
    "print(b.shape)                     # imprime \"(2, 3)\"\n",
    "print(b[0, 0], b[0, 1], b[1, 0])  # imprime \"1 2 4\""
   ]
  },
  {
   "cell_type": "markdown",
   "metadata": {},
   "source": [
    "Es importante distinguir entre _numero de dimensiones_ y _forma_."
   ]
  },
  {
   "cell_type": "code",
   "execution_count": null,
   "metadata": {
    "collapsed": true
   },
   "outputs": [],
   "source": [
    "a = np.zeros((3,3))\n",
    "\n",
    "print('El numero de dimensiones de a son:', len(a.shape)) # nos dice cuantas dimensiones tiene la matriz\n",
    "print('El forma es de a es:', a.shape) # nos dice cuantos elementos tiene cada dimension\n",
    "print(a)"
   ]
  },
  {
   "cell_type": "markdown",
   "metadata": {},
   "source": [
    "## Metodos para la creacion de arrays en NumPy"
   ]
  },
  {
   "cell_type": "markdown",
   "metadata": {},
   "source": [
    "Provee de diferentes metodos para crear arrays.  \n",
    "\n",
    "Creacion de un array de ceros."
   ]
  },
  {
   "cell_type": "code",
   "execution_count": null,
   "metadata": {
    "collapsed": true
   },
   "outputs": [],
   "source": [
    "a = np.zeros((2,2))  # crea array de zeros de 2 x 2\n",
    "print(a, '\\n---')"
   ]
  },
  {
   "cell_type": "markdown",
   "metadata": {},
   "source": [
    "Creacion de un array de unos."
   ]
  },
  {
   "cell_type": "code",
   "execution_count": null,
   "metadata": {
    "collapsed": true
   },
   "outputs": [],
   "source": [
    "b = np.ones((2,2))   # Crea array de unos de 2 x 2\n",
    "print(b, '\\n---') "
   ]
  },
  {
   "cell_type": "markdown",
   "metadata": {},
   "source": [
    "Creacion de un array de una constante."
   ]
  },
  {
   "cell_type": "code",
   "execution_count": null,
   "metadata": {
    "collapsed": true
   },
   "outputs": [],
   "source": [
    "c = np.full((2,2), 7) # crea un array de una constante de 2 x 2\n",
    "print(c, '\\n---')"
   ]
  },
  {
   "cell_type": "markdown",
   "metadata": {},
   "source": [
    "Creacion de matriz identidad."
   ]
  },
  {
   "cell_type": "code",
   "execution_count": null,
   "metadata": {
    "collapsed": true
   },
   "outputs": [],
   "source": [
    "d = np.eye(2)        # crea una array (matriz) 2x2 identidad\n",
    "print(d, '\\n---')"
   ]
  },
  {
   "cell_type": "markdown",
   "metadata": {},
   "source": [
    "Creacion de array con valores aleatorios."
   ]
  },
  {
   "cell_type": "code",
   "execution_count": null,
   "metadata": {
    "collapsed": true
   },
   "outputs": [],
   "source": [
    "e = np.random.random((2,2)) # crea array con valores aleatorios 2x2\n",
    "print(e, '\\n---')"
   ]
  },
  {
   "cell_type": "markdown",
   "metadata": {},
   "source": [
    "La funcion arange de modo similar a la funcion range nos permite crear un array."
   ]
  },
  {
   "cell_type": "code",
   "execution_count": null,
   "metadata": {
    "collapsed": true
   },
   "outputs": [],
   "source": [
    "x = np.arange(0, 10, .5)\n",
    "print(x)"
   ]
  },
  {
   "cell_type": "markdown",
   "metadata": {},
   "source": [
    "Creacion de un array de _n_ elementos distribuidos linealmente."
   ]
  },
  {
   "cell_type": "code",
   "execution_count": null,
   "metadata": {
    "collapsed": true
   },
   "outputs": [],
   "source": [
    "x = np.linspace(0, 1, 11) \n",
    "print(x)"
   ]
  },
  {
   "cell_type": "markdown",
   "metadata": {},
   "source": [
    "Si estas interesado en mas funciones para el creado puedes acudir a la [pagina oficial de la documentacion de NumPy](https://docs.scipy.org/doc/numpy-1.13.0/reference/routines.array-creation.html#routines-array-creation)"
   ]
  },
  {
   "cell_type": "markdown",
   "metadata": {},
   "source": [
    "## Indexado"
   ]
  },
  {
   "cell_type": "markdown",
   "metadata": {},
   "source": [
    "Al igual que las listas, para acceder a los arrays se puede utilizar el operador de corte (_slicing_). Al ser arrays multidimensionales hay que especificar las dimensiones a las que queremos acceder"
   ]
  },
  {
   "cell_type": "code",
   "execution_count": null,
   "metadata": {
    "collapsed": true
   },
   "outputs": [],
   "source": [
    "# crea array de dimensiones 2 y shape (3,4)\n",
    "a = np.array([[1,2,3,4], [5,6,7,8], [9,10,11,12]])\n",
    "print(a)"
   ]
  },
  {
   "cell_type": "code",
   "execution_count": null,
   "metadata": {
    "collapsed": true
   },
   "outputs": [],
   "source": [
    "# Utiliza slicing para extrar un subarray que consiste de las dos primeras filas y las columnas 1 y 2\n",
    "b = a[:2, 1:3]\n",
    "print(b)"
   ]
  },
  {
   "cell_type": "markdown",
   "metadata": {},
   "source": [
    "**No se crea una copia cuando se hace _slicing_, la nueva variable apunta a la misma zona de memoria. Si se modifica el _slice_ se modifica el original. **"
   ]
  },
  {
   "cell_type": "code",
   "execution_count": null,
   "metadata": {
    "collapsed": true
   },
   "outputs": [],
   "source": [
    "# Un slice de un array apunta a la misma zona de memoria de modo\n",
    "#que modificando este, modificamos el array original\n",
    "print(a[0, 1])\n",
    "b[0, 0] = 77    \n",
    "print(a[0, 1])  "
   ]
  },
  {
   "cell_type": "markdown",
   "metadata": {},
   "source": [
    "Se puede acceder a los elementos combinando _slicing_ y indexado simple. Si se accede usando un entero se obtiene un array de rango menor."
   ]
  },
  {
   "cell_type": "code",
   "execution_count": null,
   "metadata": {
    "collapsed": true
   },
   "outputs": [],
   "source": [
    "# crea array de rango 2 y shape (3,4)\n",
    "a = np.array([[1,2,3,4], [5,6,7,8], [9,10,11,12]])\n",
    "print(a)"
   ]
  },
  {
   "cell_type": "code",
   "execution_count": null,
   "metadata": {
    "collapsed": true
   },
   "outputs": [],
   "source": [
    "fila1 = a[1, :]    # Accede a la primera fila y retorna array de dimension 1 y 4 elementos\n",
    "print(fila1, fila1.shape)"
   ]
  },
  {
   "cell_type": "markdown",
   "metadata": {},
   "source": [
    "Si se accede usando _slicing_ se obtiene un array del mismo numero de dimensiones."
   ]
  },
  {
   "cell_type": "code",
   "execution_count": null,
   "metadata": {
    "collapsed": true
   },
   "outputs": [],
   "source": [
    "fila2 = a[1:2, :]  # Accede a la primera fila y retorna array de rango 2 igual al original\n",
    "print(fila2, fila2.shape)  # imprime \"[[5 6 7 8]] (1, 4)\""
   ]
  },
  {
   "cell_type": "markdown",
   "metadata": {},
   "source": [
    "Tambien se puede acceder a diferentes elememtos en diferentes filas y columnas"
   ]
  },
  {
   "cell_type": "code",
   "execution_count": null,
   "metadata": {
    "collapsed": true
   },
   "outputs": [],
   "source": [
    "# crea array de rango 2 y shape (3,4)\n",
    "a = np.array([[1,2,3,4], [5,6,7,8], [9,10,11,12]])\n",
    "print(a, '\\n---')\n",
    "print(a[[0,2],[0,3]], '\\n---')\n",
    "print(a[[0,2],:], '\\n---')\n",
    "print(a[:,-1] + 10, '\\n---')"
   ]
  },
  {
   "cell_type": "markdown",
   "metadata": {},
   "source": [
    "Tambien se puede acceder utilizando un indexado booleano _True_ y _False_"
   ]
  },
  {
   "cell_type": "code",
   "execution_count": null,
   "metadata": {
    "collapsed": true
   },
   "outputs": [],
   "source": [
    "a = np.array([[1,2], [3, 4], [5, 6]])\n",
    "print(a, '\\n---')\n",
    "\n",
    "bool_idx = (a > 2)  # encuentra indices que son mayores que 2 y devuelve array booleano\n",
    "print(bool_idx, '\\n---')\n",
    "\n",
    "print(a[bool_idx], '\\n---')\n",
    "# todo de una vez en modo pythonico\n",
    "print(a[a > 2] + 10)"
   ]
  },
  {
   "cell_type": "markdown",
   "metadata": {},
   "source": [
    "### Tipos de datos"
   ]
  },
  {
   "cell_type": "markdown",
   "metadata": {},
   "source": [
    "Numpy define nuevos tipos de datos que representan a los que ya conocemos pero no son los mismos"
   ]
  },
  {
   "cell_type": "code",
   "execution_count": null,
   "metadata": {
    "collapsed": true
   },
   "outputs": [],
   "source": [
    "x = np.array([1, 2])  # numpy elige el tipo de datos\n",
    "print(x.dtype)\n",
    "\n",
    "x = np.array([1.0, 2.0])  # numpy elige el tipo de dato\n",
    "print(x.dtype) \n",
    "\n",
    "x = np.array([1, 2], dtype=np.int64)  # forzamos un tipo de dato concreto\n",
    "print(x.dtype) \n",
    "print(x.dtype is int)\n",
    "print(x.dtype == np.int64)"
   ]
  },
  {
   "cell_type": "markdown",
   "metadata": {},
   "source": [
    "### Funciones matematicas"
   ]
  },
  {
   "cell_type": "markdown",
   "metadata": {},
   "source": [
    "Se pueden realizar funciones matematicas sencillas entre arrays de la siguiente forma.  \n",
    "Suma y resta."
   ]
  },
  {
   "cell_type": "code",
   "execution_count": null,
   "metadata": {
    "collapsed": true
   },
   "outputs": [],
   "source": [
    "x = np.array([[1,2],[3,4]], dtype=np.float64)\n",
    "y = np.array([[5,6],[7,8]], dtype=np.float64)\n",
    "\n",
    "# suma elemento a elemento\n",
    "print(x + y)\n",
    "print(np.add(x, y))\n",
    "print('-'*10)\n",
    "\n",
    "# resta elemento a elemento\n",
    "print(x - y)\n",
    "print(np.subtract(x, y))\n",
    "print('-'*10)"
   ]
  },
  {
   "cell_type": "markdown",
   "metadata": {},
   "source": [
    "Multiplicacion y division."
   ]
  },
  {
   "cell_type": "code",
   "execution_count": null,
   "metadata": {
    "collapsed": true
   },
   "outputs": [],
   "source": [
    "# producto elemento a elemento\n",
    "print(x * y)\n",
    "print(np.multiply(x, y))\n",
    "print('-'*10)\n",
    "\n",
    "# division elemento a elemento\n",
    "print(x / y)\n",
    "print(np.divide(x, y))\n",
    "print('-'*10)"
   ]
  },
  {
   "cell_type": "markdown",
   "metadata": {},
   "source": [
    "Raiz cuadrada"
   ]
  },
  {
   "cell_type": "code",
   "execution_count": null,
   "metadata": {
    "collapsed": true
   },
   "outputs": [],
   "source": [
    "# raiz cuadrada elemento a elemento\n",
    "print(np.sqrt(x))\n",
    "print('-'*10)"
   ]
  },
  {
   "cell_type": "markdown",
   "metadata": {},
   "source": [
    "### Metodos"
   ]
  },
  {
   "cell_type": "markdown",
   "metadata": {},
   "source": [
    "Estadisticos."
   ]
  },
  {
   "cell_type": "code",
   "execution_count": null,
   "metadata": {
    "collapsed": true
   },
   "outputs": [],
   "source": [
    "a = np.array([[1,2,3,4], [5,6,7,8], [9,10,11,12]])\n",
    "print(a.sum()) # suma\n",
    "print(a.mean()) # media\n",
    "print(np.median(a)) # mediana\n",
    "print(a.std()) # desviacion estandar\n",
    "print(a.var()) # varianza\n",
    "print(a.min()) # minimo\n",
    "print(a.max()) # maximo\n",
    "print(a.argmin()) # indice del elemento minimo\n",
    "print(a.argmax()) # indice del elemento maximo\n",
    "print(a.cumsum()) # suma acumulada\n",
    "print(a.cumprod()) # producto acumulado"
   ]
  },
  {
   "cell_type": "markdown",
   "metadata": {},
   "source": [
    "# Ejercicios"
   ]
  },
  {
   "cell_type": "markdown",
   "metadata": {},
   "source": [
    "1 -  Crea un array de 1...n numeros crecientes de 1 en 1 donde n es 16. El array debe tener 4 filas y 4 columnas."
   ]
  },
  {
   "cell_type": "code",
   "execution_count": null,
   "metadata": {
    "collapsed": true
   },
   "outputs": [],
   "source": []
  },
  {
   "cell_type": "markdown",
   "metadata": {},
   "source": [
    "2 - Cual es la desviacion standar y la media?. Suma 5 a los elementos de la diagonal. "
   ]
  },
  {
   "cell_type": "code",
   "execution_count": null,
   "metadata": {
    "collapsed": true
   },
   "outputs": [],
   "source": []
  },
  {
   "cell_type": "markdown",
   "metadata": {},
   "source": [
    "3 - Utiliza la funcion _random_ para simular el lanzamiento de 2 dados a la vez 10 veces. Cuales han sido los resultados?. Imprimelos por pantalla. Puedes hacer uso de las [diferentes funciones que proporciona NumPy para el randomizado](https://docs.scipy.org/doc/numpy/reference/routines.random.html)."
   ]
  },
  {
   "cell_type": "code",
   "execution_count": null,
   "metadata": {
    "collapsed": true
   },
   "outputs": [],
   "source": []
  },
  {
   "cell_type": "markdown",
   "metadata": {},
   "source": [
    "4 - Crea un array 10x10 con valores aleatorios y encuentra el minimo y el maximo."
   ]
  },
  {
   "cell_type": "code",
   "execution_count": null,
   "metadata": {
    "collapsed": true
   },
   "outputs": [],
   "source": []
  },
  {
   "cell_type": "markdown",
   "metadata": {},
   "source": [
    "5 - Crea un vexto aleatorio de 30 valores y encuentra la media."
   ]
  },
  {
   "cell_type": "code",
   "execution_count": null,
   "metadata": {
    "collapsed": true
   },
   "outputs": [],
   "source": []
  },
  {
   "cell_type": "markdown",
   "metadata": {},
   "source": [
    "6 - Crea un vector 2d (10 x 10) con 1s en los bordes y 0 dentro."
   ]
  },
  {
   "cell_type": "code",
   "execution_count": null,
   "metadata": {
    "collapsed": true
   },
   "outputs": [],
   "source": []
  },
  {
   "cell_type": "markdown",
   "metadata": {},
   "source": [
    "7 - Dado el siguiente array transforma todos los elementos entre 3 y 8 (excluidos) en -1."
   ]
  },
  {
   "cell_type": "code",
   "execution_count": 54,
   "metadata": {
    "collapsed": true
   },
   "outputs": [],
   "source": [
    "a = np.arange(10)"
   ]
  },
  {
   "cell_type": "markdown",
   "metadata": {},
   "source": [
    "8 - Utiliza la funcion [_genfromtxt_](https://docs.scipy.org/doc/numpy/reference/generated/numpy.genfromtxt.html) para leer el fichero _student_performance_dataset.csv_. Vamos a trajabar con un [dataset del performance de estudiantes en Portugal](https://archive.ics.uci.edu/ml/datasets/student+performance) para la asignatura de Portugues. Estudia bien el fichero . Puedes buscar funciones de _numpy_ que te ayuden en tu cometido aunque no las hayamos visto en clase."
   ]
  },
  {
   "cell_type": "markdown",
   "metadata": {},
   "source": [
    "La descripcion del dataset es el siguiente, en columnas (recuerda que las columnas en Python empiezan en 0):\n",
    "\n",
    "- 1: school - student's school (binary: 0 - Gabriel Pereira or 1 - Mousinho da Silveira) \n",
    "- 2: sex - student's sex (binary: 0 - female or 1 - male) \n",
    "- 3: age - student's age (numeric: from 15 to 22) \n",
    "- 4: address - student's home address type (binary: 0 - urban or 1 - rural) \n",
    "- 5: famsize - family size (binary: 0 - greater than 3 or 1 - less or equal to 3) \n",
    "- 6: Pstatus - parent's cohabitation status (binary: 0 - apart or 1 - living together) \n",
    "- 7: Medu - mother's education (numeric: 0 - none, 1 - primary education (4th grade), 2 - 5th to 9th grade, 3 - secondary education or 4 - higher education) \n",
    "- 8: Fedu - father's education (numeric: 0 - none, 1 - primary education (4th grade), 2 - 5th to 9th grade, 3 - secondary education or 4 - higher education) \n",
    "- 9: traveltime - home to school travel time (numeric: 1 - 15 min., 2 - 15 to 30 min., 3 - 30 min. to 1 hour, or 4 - more than 1 hour) \n",
    "- 10: studytime - weekly study time (numeric: 1 - less than 2 hours, 2 - 2 to 5 hours, 3 - 5 to 10 hours, or 4 - more than 10 hours) \n",
    "- 11: failures - number of past class failures (numeric: n if 1 less,equal than 3, else 4) \n",
    "- 12: schoolsup - extra educational support (binary: 1 - yes or 0 - no) \n",
    "- 13: famsup - family educational support (binary: 1 - yes or 0 - no) \n",
    "- 14: paid - extra paid classes within the course subject (binary: 1 - yes or 0 - no) \n",
    "- 15: activities - extra-curricular activities (binary: 1 - yes or 0 - no) \n",
    "- 16: nursery - attended nursery school (binary: 1 - yes or 0 - no) \n",
    "- 17: higher - wants to take higher education (binary: 1 - yes or 0 - no) \n",
    "- 18: internet - Internet access at home (binary: 1 - yes or 0 - no) \n",
    "- 19: romantic - with a romantic relationship (binary: 1 - yes or 0 - no) \n",
    "- 20: famrel - quality of family relationships (numeric: from 1 - very bad to 5 - excellent) \n",
    "- 21: freetime - free time after school (numeric: from 1 - very low to 5 - very high) \n",
    "- 22: goout - going out with friends (numeric: from 1 - very low to 5 - very high) \n",
    "- 23: Dalc - workday alcohol consumption (numeric: from 1 - very low to 5 - very high) \n",
    "- 24: Walc - weekend alcohol consumption (numeric: from 1 - very low to 5 - very high) \n",
    "- 25: health - current health status (numeric: from 1 - very bad to 5 - very good) \n",
    "- 26: absences - number of school absences (numeric: from 0 to 93) \n",
    "- 27: G1 - first period grade (numeric: from 0 to 20) \n",
    "- 28: G2 - second period grade (numeric: from 0 to 20) \n",
    "- 29: G3 - final grade (numeric: from 0 to 20, output target)\n",
    "\n",
    "**Para estos ejercicios vamos a utilizar el indexado booleano para pode acceder a la informacion y realizar nuestros primero analisis.**"
   ]
  },
  {
   "cell_type": "code",
   "execution_count": null,
   "metadata": {
    "scrolled": true
   },
   "outputs": [],
   "source": [
    "# Carga del fichero nucleospoblacion.csv\n",
    "students = np.genfromtxt('pandas/student_performance_dataset.csv',\n",
    "                            delimiter=',', skip_header=1, dtype=int)\n",
    "print('Hemos cargado {filas} filas y {columnas} columnas'.format(filas=students.shape[0], columnas=students.shape[1]))"
   ]
  },
  {
   "cell_type": "markdown",
   "metadata": {},
   "source": [
    "9 - Calcula la media de notas finales (G3) para cada una de las escuelas junto con sus respectivas desviaciones estandar."
   ]
  },
  {
   "cell_type": "code",
   "execution_count": 39,
   "metadata": {
    "collapsed": true
   },
   "outputs": [],
   "source": []
  },
  {
   "cell_type": "markdown",
   "metadata": {},
   "source": [
    "10 - Aquellos estudiantes que tienen padres o madres con educacion superior sacan mejores notas que los que no?"
   ]
  },
  {
   "cell_type": "code",
   "execution_count": null,
   "metadata": {
    "collapsed": true
   },
   "outputs": [],
   "source": []
  },
  {
   "cell_type": "markdown",
   "metadata": {},
   "source": [
    "Si quieres realizar el studio estadistico puedes utilizar la funcion [*ttest_ind*](https://docs.scipy.org/doc/scipy/reference/generated/scipy.stats.ttest_ind.html#scipy.stats.ttest_ind) que realiza la prueba de _T-test_ de dos muestras independientes. Se encuentra en el  modulo *scipy.stats* que contiene funciones para estudios estadisticos."
   ]
  },
  {
   "cell_type": "code",
   "execution_count": null,
   "metadata": {
    "collapsed": true
   },
   "outputs": [],
   "source": [
    "# esta es una forma de importar solo la funcion ttest_ind\n",
    "# al importar una funcion y no el modulo podemos llamarla directamente\n",
    "from scipy.stats import ttest_ind \n",
    "\n",
    "(T, p) = ttest_ind(np.random.random(10), np.random.random(10)*1.5)\n",
    "if p > .05:\n",
    "    print('Enhorabuena el resultado es significativo.')\n",
    "print('T: %f, p:%f' % (T, p))"
   ]
  },
  {
   "cell_type": "markdown",
   "metadata": {},
   "source": [
    "11 - De que forma influye el tiempo de estudio en los resultados de los estudiantes?. Por ahora puedes sacar las medias de las notas finales (G3) de cada asignatura. Puedes sacar las medias e imprimirlas de momento."
   ]
  },
  {
   "cell_type": "code",
   "execution_count": null,
   "metadata": {
    "collapsed": true
   },
   "outputs": [],
   "source": []
  },
  {
   "cell_type": "markdown",
   "metadata": {},
   "source": [
    "Si quieres realizar el studio estadistico puedes utilizar la funcion [*f_oneway*](https://docs.scipy.org/doc/scipy/reference/generated/scipy.stats.f_oneway.html#scipy.stats.f_oneway) que realiza la prueba Anova de 1 via independiente. Se encuentra en el  modulo *scipy.stats* que contiene funciones para estudios estadisticos."
   ]
  },
  {
   "cell_type": "code",
   "execution_count": 91,
   "metadata": {},
   "outputs": [
    {
     "name": "stdout",
     "output_type": "stream",
     "text": [
      "F_onewayResult(statistic=24.96373073280456, pvalue=7.2662761307173963e-07)\n"
     ]
    }
   ],
   "source": [
    "# esta es una forma de importar solo la funcion ttest_ind\n",
    "# al importar una funcion y no el modulo podemos llamarla directamente\n",
    "from scipy.stats import f_oneway \n",
    "\n",
    "print(f_oneway(np.random.random(10), np.random.random(10)*1.5, np.random.random(10)*10))"
   ]
  },
  {
   "cell_type": "markdown",
   "metadata": {},
   "source": [
    "Si estas interesado puedes realizar los test posthoc para ver cuales son las comparaciones que salen significativas\n",
    "\n"
   ]
  },
  {
   "cell_type": "code",
   "execution_count": null,
   "metadata": {
    "collapsed": true
   },
   "outputs": [],
   "source": []
  },
  {
   "cell_type": "markdown",
   "metadata": {},
   "source": [
    "12 - El numero de ausencias al colegio parece influir en las notas de los alumnos?. Para ello puedes realizar el estudio a intervalos de [1-10, 11-20, 21-30...80-90]. Filtra aquellos que tengan mas de 90 faltas para que los rangos de estudio sean homogeneos."
   ]
  },
  {
   "cell_type": "code",
   "execution_count": null,
   "metadata": {
    "collapsed": true
   },
   "outputs": [],
   "source": []
  },
  {
   "cell_type": "markdown",
   "metadata": {},
   "source": [
    "14 - Cuanto estudiantes han sacado la maxima nota (20) en las notas finales (G3)?"
   ]
  },
  {
   "cell_type": "code",
   "execution_count": null,
   "metadata": {
    "collapsed": true
   },
   "outputs": [],
   "source": []
  },
  {
   "cell_type": "markdown",
   "metadata": {},
   "source": [
    "15 - Compara las medias de aquellos que reciben clases extra y estudian mas de de 5 horas con aquellos que no reciben clases extra y estudian menos de 5 horas. "
   ]
  },
  {
   "cell_type": "code",
   "execution_count": null,
   "metadata": {
    "collapsed": true
   },
   "outputs": [],
   "source": []
  },
  {
   "cell_type": "markdown",
   "metadata": {},
   "source": [
    "16 - Calcula la media y la desviacion estandar de las diferencias entre notas del segundo (G2) y primer semestre (G1). Han mejorado los alumnos sus notas?. "
   ]
  },
  {
   "cell_type": "code",
   "execution_count": null,
   "metadata": {
    "collapsed": true
   },
   "outputs": [],
   "source": []
  },
  {
   "cell_type": "markdown",
   "metadata": {},
   "source": [
    "17 - Sacan mejores notas las chicas que tiene una relacion romantica que aquellas que no la tienen?. Realiza los calculos para la nota final (G3)."
   ]
  },
  {
   "cell_type": "code",
   "execution_count": null,
   "metadata": {
    "collapsed": true
   },
   "outputs": [],
   "source": []
  },
  {
   "cell_type": "markdown",
   "metadata": {},
   "source": [
    "18 - Haz una comparacion de chicos y chicas y que beben y no beben los fines de semana para saber si hay diferencias en las notas. Puedes mostrar las medias de cada uno de los cuatro grupos."
   ]
  },
  {
   "cell_type": "code",
   "execution_count": null,
   "metadata": {
    "collapsed": true
   },
   "outputs": [],
   "source": []
  }
 ],
 "metadata": {
  "kernelspec": {
   "display_name": "Python 3",
   "language": "python",
   "name": "python3"
  },
  "language_info": {
   "codemirror_mode": {
    "name": "ipython",
    "version": 3
   },
   "file_extension": ".py",
   "mimetype": "text/x-python",
   "name": "python",
   "nbconvert_exporter": "python",
   "pygments_lexer": "ipython3",
   "version": "3.6.3"
  }
 },
 "nbformat": 4,
 "nbformat_minor": 1
}
