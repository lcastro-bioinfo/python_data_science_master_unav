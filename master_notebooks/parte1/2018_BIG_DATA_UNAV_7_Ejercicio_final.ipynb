{
 "cells": [
  {
   "cell_type": "markdown",
   "metadata": {},
   "source": [
    "# Ejercicio final\n",
    "\n",
    "Este es un ejercicion final en el que revisaremos todos los conceptos basicos de Python. El objetivo es revisar cada uno de los conceptos aprendidos en este capítulo y ponerlos en práctica. Se evaluará la correcta ejecución, así como la originalidad y enfoques utilizados para la resolución de los ejercicions.\n"
   ]
  },
  {
   "cell_type": "markdown",
   "metadata": {},
   "source": [
    "## Ejercicios\n",
    "\n",
    "Responder las preguntas o completar las tareas indicadas en negrita debajo, utilizar el método indicado si aplica."
   ]
  },
  {
   "cell_type": "markdown",
   "metadata": {},
   "source": [
    "**¿Cuánto es 7 elevado a 4?**"
   ]
  },
  {
   "cell_type": "code",
   "execution_count": 1,
   "metadata": {},
   "outputs": [
    {
     "data": {
      "text/plain": [
       "2401"
      ]
     },
     "execution_count": 1,
     "metadata": {},
     "output_type": "execute_result"
    }
   ],
   "source": []
  },
  {
   "cell_type": "markdown",
   "metadata": {},
   "source": [
    "**Convertir este string:**\n",
    "\n",
    "s = \"Hola, Pedro ¿que tal?\"\n",
    "\n",
    "**en una lista.**"
   ]
  },
  {
   "cell_type": "code",
   "execution_count": 3,
   "metadata": {},
   "outputs": [
    {
     "name": "stdout",
     "output_type": "stream",
     "text": [
      "['Hola,', 'Pedro', '¿que', 'tal?']\n"
     ]
    }
   ],
   "source": []
  },
  {
   "cell_type": "markdown",
   "metadata": {},
   "source": [
    "**Dadas las variables:**\n",
    "\n",
    "planeta = \"Tierra\"\n",
    "diametero = 12742\n",
    "\n",
    "**Usar .format() para obtener el siguiente string:**\n",
    "\n",
    "*El diametro de la Tierra es 12742 kilometros.*"
   ]
  },
  {
   "cell_type": "code",
   "execution_count": 5,
   "metadata": {},
   "outputs": [
    {
     "name": "stdout",
     "output_type": "stream",
     "text": [
      "El diametro de la Tierra is 12742 kilometros\n"
     ]
    }
   ],
   "source": []
  },
  {
   "cell_type": "markdown",
   "metadata": {},
   "source": [
    "**Dada la siguiente lista, utilizar indexación para obtener la palabra \"hola\"**\n"
   ]
  },
  {
   "cell_type": "code",
   "execution_count": 6,
   "metadata": {},
   "outputs": [],
   "source": [
    "lst = [1,2,[3,4],[5,[100,200,['hola']],23,11],1,7]"
   ]
  },
  {
   "cell_type": "code",
   "execution_count": 7,
   "metadata": {},
   "outputs": [
    {
     "data": {
      "text/plain": [
       "'hola'"
      ]
     },
     "execution_count": 7,
     "metadata": {},
     "output_type": "execute_result"
    }
   ],
   "source": []
  },
  {
   "cell_type": "markdown",
   "metadata": {},
   "source": [
    "**Dado el siguiente diccionario anidado, obtener la palabra \"hola\"**"
   ]
  },
  {
   "cell_type": "code",
   "execution_count": 8,
   "metadata": {},
   "outputs": [],
   "source": [
    "d = {'k1':[1,2,3,{'gracioso':['oh','no','engaño',{'destino':[1,2,3,'hola']}]}]}"
   ]
  },
  {
   "cell_type": "code",
   "execution_count": 10,
   "metadata": {},
   "outputs": [
    {
     "data": {
      "text/plain": [
       "'hola'"
      ]
     },
     "execution_count": 10,
     "metadata": {},
     "output_type": "execute_result"
    }
   ],
   "source": []
  },
  {
   "cell_type": "markdown",
   "metadata": {},
   "source": [
    "**¿Cúal es la principal diferencia entre una tupla y una lista?**"
   ]
  },
  {
   "cell_type": "code",
   "execution_count": null,
   "metadata": {},
   "outputs": [],
   "source": []
  },
  {
   "cell_type": "markdown",
   "metadata": {},
   "source": [
    "**Crear una función que obtenga el dominio de una dirección de correo electrónico, por ejemplo:**\n",
    "\n",
    "*user@domain.com*\n",
    "\n",
    "**Por ejemplo, pasando 'user@domain.com' debería devolver 'domain.com'**"
   ]
  },
  {
   "cell_type": "code",
   "execution_count": 12,
   "metadata": {},
   "outputs": [
    {
     "data": {
      "text/plain": [
       "'domain.com'"
      ]
     },
     "execution_count": 12,
     "metadata": {},
     "output_type": "execute_result"
    }
   ],
   "source": []
  },
  {
   "cell_type": "markdown",
   "metadata": {},
   "source": [
    "**Escribir una función que devuelva True si la palabra 'perro' se encuentra contenida dentro del string suministrado. No te preocupes por contemplar todos los casos posibles, pero tener en cuenta mayúsculas y minúsculas'**"
   ]
  },
  {
   "cell_type": "code",
   "execution_count": 13,
   "metadata": {},
   "outputs": [
    {
     "data": {
      "text/plain": [
       "True"
      ]
     },
     "execution_count": 13,
     "metadata": {},
     "output_type": "execute_result"
    }
   ],
   "source": []
  },
  {
   "cell_type": "markdown",
   "metadata": {},
   "source": [
    "**Utilizar una expersión lambda y el método filter() para filtrar las palabras de una lista que no comienzen con la letra 's'. Por ejemplo:**\n",
    "\n",
    "*secuencia = ['sarten', 'silla', 'gato', 'genial', 'pastilla']*\n",
    "\n",
    "**deberian filtrarse a:**\n",
    "\n",
    "*['sarten', 'silla']*"
   ]
  },
  {
   "cell_type": "code",
   "execution_count": 14,
   "metadata": {},
   "outputs": [
    {
     "data": {
      "text/plain": [
       "['sarten', 'silla']"
      ]
     },
     "execution_count": 14,
     "metadata": {},
     "output_type": "execute_result"
    }
   ],
   "source": [
    "    "
   ]
  },
  {
   "cell_type": "markdown",
   "metadata": {},
   "source": [
    "### Problema final\n",
    "\n",
    "**Vas conduciendo y te pasas un poco de velocidad, un agente te detiene. Escribe una función que devuelva uno de los 3 posibles resultados que nos dará el agente:**\n",
    "\n",
    "* Sin multa\n",
    "* Multa pequeña\n",
    "* Multa grande\n",
    "\n",
    "**Si la velocidad es 60km/h o menos, el resultado es 'Sin Multa'. Si la velocidad se encuentra entre 61 y 80 ambos inclusive el resultado es 'Multa Pequeña'. Para velocidades superiores a 81 el resultado siempre es 'Multa Grande'. **\n",
    "\n",
    "**Si resulta que hoy es tu cumpleaños, el agente hace la vista gorda y permite un incremento de 5km/h en el limite normal. Este valor se para como un boolean a la función**"
   ]
  },
  {
   "cell_type": "code",
   "execution_count": 18,
   "metadata": {},
   "outputs": [],
   "source": [
    "def multado(speed, is_birthday):\n",
    "    from IPython.core.debugger import set_trace\n",
    "    # set_trace()\n",
    "    messages = ('Sin multa',\n",
    "               'Multa pequeña',\n",
    "               'Multa grande')\n",
    "    if is_birthday:\n",
    "        speed -= 5\n",
    "\n",
    "    if speed <= 60:\n",
    "        return messages[0]\n",
    "    elif speed > 60 and speed <= 80:\n",
    "        return messages[1]\n",
    "    elif speed > 80:\n",
    "        return messages[2]"
   ]
  },
  {
   "cell_type": "code",
   "execution_count": 19,
   "metadata": {},
   "outputs": [
    {
     "data": {
      "text/plain": [
       "'Multa pequeña'"
      ]
     },
     "execution_count": 19,
     "metadata": {},
     "output_type": "execute_result"
    }
   ],
   "source": [
    "multado(81,True)"
   ]
  },
  {
   "cell_type": "code",
   "execution_count": 21,
   "metadata": {},
   "outputs": [
    {
     "data": {
      "text/plain": [
       "'Multa grande'"
      ]
     },
     "execution_count": 21,
     "metadata": {},
     "output_type": "execute_result"
    }
   ],
   "source": [
    "multado(81,False)"
   ]
  },
  {
   "cell_type": "code",
   "execution_count": 22,
   "metadata": {},
   "outputs": [
    {
     "data": {
      "text/plain": [
       "'Multa grande'"
      ]
     },
     "execution_count": 22,
     "metadata": {},
     "output_type": "execute_result"
    }
   ],
   "source": [
    "multado(81,False)"
   ]
  },
  {
   "cell_type": "markdown",
   "metadata": {},
   "source": [
    "## ¡Felicidades por haber finalizado el ejercicio!"
   ]
  }
 ],
 "metadata": {
  "celltoolbar": "Hide code",
  "kernelspec": {
   "display_name": "Python 3",
   "language": "python",
   "name": "python3"
  },
  "language_info": {
   "codemirror_mode": {
    "name": "ipython",
    "version": 3
   },
   "file_extension": ".py",
   "mimetype": "text/x-python",
   "name": "python",
   "nbconvert_exporter": "python",
   "pygments_lexer": "ipython3",
   "version": "3.6.2"
  }
 },
 "nbformat": 4,
 "nbformat_minor": 1
}
