{
 "cells": [
  {
   "cell_type": "markdown",
   "metadata": {},
   "source": [
    "---\n",
    "# Experto Big Data UNAV 2018 - Notebook 3 - Mas Listas y tuplas\n",
    "---"
   ]
  },
  {
   "cell_type": "markdown",
   "metadata": {},
   "source": [
    "# Listas"
   ]
  },
  {
   "cell_type": "markdown",
   "metadata": {},
   "source": [
    "En el notebook anterior vimos que una lista es una coleccion de valores que se almacena en una variable. Los valores deberian estar relacionados entre si de alguna manera aunque no hay restricciones de lo que se puede almacenar en una lista. La lista se designa poniendo elementos entre corchetes y separados por coma."
   ]
  },
  {
   "cell_type": "code",
   "execution_count": 1,
   "metadata": {
    "collapsed": true
   },
   "outputs": [],
   "source": [
    "nombres = ['Juan', 'Ana', 'Luis', 'Maria']"
   ]
  },
  {
   "cell_type": "markdown",
   "metadata": {},
   "source": [
    "Ahora vamos a ver que operaciones se pueden realizar con las listas."
   ]
  },
  {
   "cell_type": "markdown",
   "metadata": {},
   "source": [
    "# Operaciones comunes en listas"
   ]
  },
  {
   "cell_type": "markdown",
   "metadata": {},
   "source": [
    "La listas son estructuras que llevan funciones y metodos asociados que nos permitiran realizar operaciones sobre ellas."
   ]
  },
  {
   "cell_type": "markdown",
   "metadata": {},
   "source": [
    "### Modificar elementos en una lista"
   ]
  },
  {
   "cell_type": "markdown",
   "metadata": {},
   "source": [
    "Se puede cambiar el valor de cualquiera de los elementos en la lista si sabes la posicion del elemento."
   ]
  },
  {
   "cell_type": "code",
   "execution_count": 3,
   "metadata": {},
   "outputs": [
    {
     "name": "stdout",
     "output_type": "stream",
     "text": [
      "['Pedro', 'Ana', 'Luis', 'Maria']\n"
     ]
    }
   ],
   "source": [
    "nombres = ['Juan', 'Ana', 'Luis', 'Maria']\n",
    "\n",
    "nombres[0] = 'Pedro'\n",
    "print(nombres)"
   ]
  },
  {
   "cell_type": "markdown",
   "metadata": {},
   "source": [
    "### Encontrar elementos en una lista"
   ]
  },
  {
   "cell_type": "markdown",
   "metadata": {},
   "source": [
    "Si quieres encontrar la posicion de un elemento en una lista, puedes usar el metodo *index()*."
   ]
  },
  {
   "cell_type": "code",
   "execution_count": 4,
   "metadata": {},
   "outputs": [
    {
     "name": "stdout",
     "output_type": "stream",
     "text": [
      "2\n"
     ]
    }
   ],
   "source": [
    "nombres = ['Juan', 'Ana', 'Luis', 'Maria']\n",
    "\n",
    "print(nombres.index('Luis'))"
   ]
  },
  {
   "cell_type": "markdown",
   "metadata": {},
   "source": [
    "El metodo *index()* devuelve la posicion en la que se encuentra el elemento buscado. Si el elemento existe mas de una vez devuelve el primer elemento con el indice mas bajo. Si el elemento no existe, Python produce un error."
   ]
  },
  {
   "cell_type": "code",
   "execution_count": 5,
   "metadata": {},
   "outputs": [
    {
     "ename": "ValueError",
     "evalue": "'Manuel' is not in list",
     "output_type": "error",
     "traceback": [
      "\u001b[0;31m---------------------------------------------------------------------------\u001b[0m",
      "\u001b[0;31mValueError\u001b[0m                                Traceback (most recent call last)",
      "\u001b[0;32m<ipython-input-5-1853588476ce>\u001b[0m in \u001b[0;36m<module>\u001b[0;34m()\u001b[0m\n\u001b[0;32m----> 1\u001b[0;31m \u001b[0mprint\u001b[0m\u001b[0;34m(\u001b[0m\u001b[0mnombres\u001b[0m\u001b[0;34m.\u001b[0m\u001b[0mindex\u001b[0m\u001b[0;34m(\u001b[0m\u001b[0;34m'Manuel'\u001b[0m\u001b[0;34m)\u001b[0m\u001b[0;34m)\u001b[0m \u001b[0;31m# esto produce un error porque no encuentra elemento\u001b[0m\u001b[0;34m\u001b[0m\u001b[0m\n\u001b[0m",
      "\u001b[0;31mValueError\u001b[0m: 'Manuel' is not in list"
     ]
    }
   ],
   "source": [
    "print(nombres.index('Manuel')) # esto produce un error porque no encuentra elemento"
   ]
  },
  {
   "cell_type": "markdown",
   "metadata": {},
   "source": [
    "### Chequear si un elemento esta en una lista"
   ]
  },
  {
   "cell_type": "markdown",
   "metadata": {},
   "source": [
    "Se puede testear si un elemento esta en una lista usando el comando *in*. "
   ]
  },
  {
   "cell_type": "code",
   "execution_count": 6,
   "metadata": {},
   "outputs": [
    {
     "name": "stdout",
     "output_type": "stream",
     "text": [
      "True\n",
      "False\n"
     ]
    }
   ],
   "source": [
    "nombres = ['Juan', 'Ana', 'Luis', 'Maria']\n",
    "\n",
    "print('Juan' in nombres)\n",
    "print('Manuel' in nombres)"
   ]
  },
  {
   "cell_type": "markdown",
   "metadata": {},
   "source": [
    "### Anadiendo elementos a una lista"
   ]
  },
  {
   "cell_type": "markdown",
   "metadata": {},
   "source": [
    "#### Anadiendo elementos al final de la lista\n",
    "Se pueden anadir elementos a una lista usando el metodo *insert()*. Este metodo anade un nuevo elemento en la posicion que le indiquemos."
   ]
  },
  {
   "cell_type": "code",
   "execution_count": 12,
   "metadata": {},
   "outputs": [
    {
     "name": "stdout",
     "output_type": "stream",
     "text": [
      "Juan es mi amigo/a.\n",
      "Ana es mi amigo/a.\n",
      "Luis es mi amigo/a.\n",
      "Maria es mi amigo/a.\n",
      "Manuel es mi amigo/a.\n",
      "['Juan', 'Ana', 'Luis', 'Maria', 'Manuel', 'Pedrito']\n"
     ]
    }
   ],
   "source": [
    "nombres = ['Juan', 'Ana', 'Luis', 'Maria']\n",
    "nombres.append('Manuel')\n",
    "\n",
    "for nombre in nombres:\n",
    "    print(nombre + ' es mi amigo/a.')\n",
    "\n",
    "#Los siguiente no es eficiente computacionalmente aunque se puede ejecutar\n",
    "nombres += ['Pedrito']\n",
    "print (nombres)"
   ]
  },
  {
   "cell_type": "markdown",
   "metadata": {},
   "source": [
    "#### Insertando elementos en una posicion concreta  "
   ]
  },
  {
   "cell_type": "markdown",
   "metadata": {},
   "source": [
    "Se pueden insertar elementos a una lista en una posicion concreta usando el metodo *insert()*. Este metodo anade el nuevo elemento en el \n"
   ]
  },
  {
   "cell_type": "code",
   "execution_count": 14,
   "metadata": {},
   "outputs": [
    {
     "name": "stdout",
     "output_type": "stream",
     "text": [
      "3\n",
      "Juan es mi amigo/a.\n",
      "Manuel es mi amigo/a.\n",
      "Ana es mi amigo/a.\n",
      "Luis es mi amigo/a.\n",
      "Maria es mi amigo/a.\n",
      "1\n",
      "3\n"
     ]
    }
   ],
   "source": [
    "nombres = ['Juan', 'Ana', 'Luis', 'Maria']\n",
    "nombres.insert(1, 'Manuel')\n",
    "print(nombres.index('Luis'))\n",
    "#Insert añade\n",
    "for nombre in nombres:\n",
    "    print(nombre + ' es mi amigo/a.')\n",
    "    \n",
    "\n",
    "print(nombres.index('Manuel'))\n",
    "print(nombres.index('Luis'))\n"
   ]
  },
  {
   "cell_type": "markdown",
   "metadata": {},
   "source": [
    "### La lista vacia"
   ]
  },
  {
   "cell_type": "markdown",
   "metadata": {},
   "source": [
    "Ahora que sabemos cómo anadir elementos a una lista después de crearla, podemos usar las listas de forma más dinámica.  Un enfoque común con las listas es definir una lista vacía y luego dejar el programa agregue elementos a la lista según sea necesario. Este enfoque funciona, por ejemplo, cuando se comienza a construir un sitio web interactivo. La lista de usuarios podría comenzar vacía y luego, a medida que las personas se registran, hacerla crecer. Esta es una visión simplificada de cómo funcionan realmente los sitios web. Aquí hay un breve ejemplo de cómo comenzar con una lista vacía, comenzar a llenarla y trabajar con los elementos de la lista. Lo único nuevo aquí es la forma en que definimos una lista vacía, que es solo un conjunto vacío de corchetes."
   ]
  },
  {
   "cell_type": "code",
   "execution_count": 10,
   "metadata": {},
   "outputs": [
    {
     "name": "stdout",
     "output_type": "stream",
     "text": [
      "Bienvenido/a, Juan!\n",
      "Bienvenido/a, Ivan!\n",
      "Bienvenido/a, Luisa!\n"
     ]
    }
   ],
   "source": [
    "# Creamos la lista vacia.\n",
    "users = []\n",
    "\n",
    "# Agregamos usuarios\n",
    "users.append('juan')\n",
    "users.append('ivan')\n",
    "users.append('luisa')\n",
    "\n",
    "# Saludamos a los usuarios\n",
    "for user in users:\n",
    "    print(\"Bienvenido/a, \" + user.title() + '!')"
   ]
  },
  {
   "cell_type": "markdown",
   "metadata": {},
   "source": [
    "Si no cambiamos el orden en nuestra lista, podemos usar la lista para descubrir quiénes son nuestros usuarios más antiguos y más nuevos."
   ]
  },
  {
   "cell_type": "code",
   "execution_count": 15,
   "metadata": {},
   "outputs": [
    {
     "name": "stdout",
     "output_type": "stream",
     "text": [
      "Bienvenido/a, Juan!\n",
      "Bienvenido/a, Ivan!\n",
      "Bienvenido/a, Luisa!\n",
      "\n",
      "Fuiste el primer usuario, Juan!\n",
      "Bienvenido eres el usuario mas reciente, Luisa!\n"
     ]
    }
   ],
   "source": [
    "# Creamos la lista vacia.\n",
    "users = []\n",
    "\n",
    "# Agregamos usuarios\n",
    "users.append('juan')\n",
    "users.append('ivan')\n",
    "users.append('luisa')\n",
    "\n",
    "# Saludamos a los usuarios\n",
    "for user in users:\n",
    "    print(\"Bienvenido/a, \" + user.title() + '!')\n",
    "\n",
    "# Reconoce el primer y ultimo usuario\n",
    "print(\"\\nFuiste el primer usuario, \" + users[0].title() + '!')\n",
    "print(\"Bienvenido eres el usuario mas reciente, \" + users[-1].title() + '!')"
   ]
  },
  {
   "cell_type": "markdown",
   "metadata": {},
   "source": [
    "Ten en cuenta que el código que da la bienvenida a nuestro usuario más nuevo siempre funcionará, porque hemos utilizado el índice -1. Si hubiéramos utilizado el índice 2, siempre obtendríamos el tercer usuario, incluso si nuestra lista de usuarios creciera y creciera."
   ]
  },
  {
   "cell_type": "markdown",
   "metadata": {},
   "source": [
    "### Ordenando una lista  "
   ]
  },
  {
   "cell_type": "markdown",
   "metadata": {},
   "source": [
    "Podemos ordenar una lista de forma alfabetica. El metodo *sort()* ordena la lista."
   ]
  },
  {
   "cell_type": "code",
   "execution_count": 18,
   "metadata": {},
   "outputs": [
    {
     "name": "stdout",
     "output_type": "stream",
     "text": [
      "Nuestros pacientes ordenados alfabeticamente.\n",
      "Juana\n",
      "Maria\n",
      "Pepa\n",
      "Ahora los pacientes se ordenaron de forma alfabetica invertida.\n",
      "Pepa\n",
      "Maria\n",
      "Juana\n"
     ]
    }
   ],
   "source": [
    "pacientes = ['pepa', 'maria', 'juana']\n",
    "\n",
    "# ordena la lista alfabeticamente\n",
    "pacientes.sort()\n",
    "\n",
    "# Muestra pacientes \n",
    "print(\"Nuestros pacientes ordenados alfabeticamente.\")\n",
    "for paciente in pacientes:\n",
    "    print(paciente.title())\n",
    "\n",
    "# Ordenalos de forma alfabetiza empezando desde el final\n",
    "pacientes.sort(reverse=True)\n",
    "\n",
    "# Muestra pacientes\n",
    "print(\"Ahora los pacientes se ordenaron de forma alfabetica invertida.\")\n",
    "for paciente in pacientes:\n",
    "    print(paciente.title())"
   ]
  },
  {
   "cell_type": "markdown",
   "metadata": {},
   "source": [
    "**sorted() vs sort()**"
   ]
  },
  {
   "cell_type": "markdown",
   "metadata": {},
   "source": [
    "Siempre que quieras clasificar una lista, ten en cuenta que no puedes recuperar el orden original. Si deseas visualizar una lista en ordenada, pero conservar el orden original, puedes usar la función *sorted()*. La función *sorted()* también acepta el argumento opcional *reverse = True*"
   ]
  },
  {
   "cell_type": "code",
   "execution_count": 19,
   "metadata": {},
   "outputs": [
    {
     "name": "stdout",
     "output_type": "stream",
     "text": [
      "Nuestros pacientes ordenados alfabeticamente.\n",
      "Juana\n",
      "Maria\n",
      "Pepa\n",
      "Ahora los pacientes se ordenaron de forma alfabetica invertida.\n",
      "Pepa\n",
      "Maria\n",
      "Juana\n",
      "Ahora los pacientes en el orden original.\n",
      "Maria\n",
      "Pepa\n",
      "Juana\n"
     ]
    }
   ],
   "source": [
    "pacientes = ['maria', 'pepa', 'juana']\n",
    "\n",
    "# Muestra pacientes ordenado alfabeticamente\n",
    "print(\"Nuestros pacientes ordenados alfabeticamente.\")\n",
    "for paciente in sorted(pacientes):\n",
    "    print(paciente.title())\n",
    "\n",
    "# Muestra pacientes ordenado reverso alfabeticamente\n",
    "print(\"Ahora los pacientes se ordenaron de forma alfabetica invertida.\")\n",
    "for paciente in sorted(pacientes, reverse=True):\n",
    "    print(paciente.title())\n",
    "    \n",
    "# Muestra pacientes lista original\n",
    "print(\"Ahora los pacientes en el orden original.\")\n",
    "for paciente in pacientes:\n",
    "    print(paciente.title())"
   ]
  },
  {
   "cell_type": "markdown",
   "metadata": {
    "collapsed": true
   },
   "source": [
    "### Invirtiendo una lista"
   ]
  },
  {
   "cell_type": "markdown",
   "metadata": {
    "collapsed": true
   },
   "source": [
    "\n",
    "Hemos visto tres posibles formas de ordenar una lista:\n",
    "- El orden original en el que se creó la lista\n",
    "- Orden alfabetico\n",
    "- Invertir orden alfabético\n",
    "\n",
    "Hay una función más que podemos usar, y eso es la inversion del orden original de la lista. La función *reverse()* nos da este orden."
   ]
  },
  {
   "cell_type": "code",
   "execution_count": 21,
   "metadata": {},
   "outputs": [
    {
     "name": "stdout",
     "output_type": "stream",
     "text": [
      "None\n",
      "['juana', 'pepa', 'maria']\n"
     ]
    }
   ],
   "source": [
    "pacientes = ['maria', 'pepa', 'juana']\n",
    "\n",
    "print(pacientes.reverse()) #Modifica la variable, pero no imprime, da error.\n",
    "print (pacientes)"
   ]
  },
  {
   "cell_type": "markdown",
   "metadata": {},
   "source": [
    "**NOTA:** La inversion de una lista es permanente, aunque se puede realizar seguido otra llamado a *reverse()* para volver a obtener la lista original."
   ]
  },
  {
   "cell_type": "markdown",
   "metadata": {},
   "source": [
    "### Ordenando listas numericas"
   ]
  },
  {
   "cell_type": "markdown",
   "metadata": {},
   "source": [
    "Por supuesto las funciones y metodos mencionados anteriormente tambien funcionan en listas numericas."
   ]
  },
  {
   "cell_type": "code",
   "execution_count": 24,
   "metadata": {},
   "outputs": [
    {
     "name": "stdout",
     "output_type": "stream",
     "text": [
      "original\n",
      "[1, 3, 4, 2]\n",
      "sort()\n",
      "[1, 2, 3, 4]\n",
      "sort(reverse=True)\n",
      "[4, 3, 2, 1]\n",
      "sorted()\n",
      "[1, 2, 3, 4]\n",
      "original\n",
      "[1, 3, 4, 2]\n",
      "reverse()\n",
      "[2, 4, 3, 1]\n",
      "[-131.23, 33213, 4454, 566, -33, 465, -377.312, 5.6656]\n",
      "[-377.312, -131.23, -33, 5.6656, 465, 566, 4454, 33213]\n"
     ]
    }
   ],
   "source": [
    "enteros = [1, 3, 4, 2]\n",
    "print('original')\n",
    "print(enteros)\n",
    "\n",
    "# sort() ordena creciente.\n",
    "enteros.sort()\n",
    "print('sort()')\n",
    "print(enteros)\n",
    "\n",
    "# sort(reverse=True) ordena decreciente.\n",
    "enteros.sort(reverse=True)\n",
    "print('sort(reverse=True)')\n",
    "print(enteros)\n",
    "\n",
    "enteros = [1, 3, 4, 2]\n",
    "\n",
    "# sorted() guarda orden original\n",
    "print('sorted()')\n",
    "print(sorted(enteros))\n",
    "print('original')\n",
    "print(enteros)\n",
    "\n",
    "# reverse() tambien funciona en listas numericas\n",
    "enteros.reverse()\n",
    "print('reverse()')\n",
    "print(enteros)\n",
    "\n"
   ]
  },
  {
   "cell_type": "code",
   "execution_count": 25,
   "metadata": {},
   "outputs": [
    {
     "name": "stdout",
     "output_type": "stream",
     "text": [
      "[-131.23, 33213, 4454, 566, -33, 465, -377.312, 5.6656]\n",
      "[-377.312, -131.23, -33, 5.6656, 465, 566, 4454, 33213]\n"
     ]
    }
   ],
   "source": [
    "mixed = [-131.23, 33213, 4454, 566, -33, 465, -377.312, 5.6656]\n",
    "print (mixed)\n",
    "print (sorted(mixed, key = float))"
   ]
  },
  {
   "cell_type": "markdown",
   "metadata": {},
   "source": [
    "### Longitud de una lista"
   ]
  },
  {
   "cell_type": "markdown",
   "metadata": {
    "collapsed": true
   },
   "source": [
    "La funcion *len()* nos permite calcular la longitud de una lista. Hay muchas situaciones en las que es posible que quieras saber cuántos elementos tiene una lista. Si tienes una lista que almacena a tus usuarios, puedes encontrar su longitud en cualquier momento y saber cuántos usuarios tenemos."
   ]
  },
  {
   "cell_type": "code",
   "execution_count": null,
   "metadata": {
    "collapsed": true
   },
   "outputs": [],
   "source": [
    "# Creamos la lista vacia.\n",
    "users = []\n",
    "\n",
    "# Agregamos usuarios\n",
    "users.append('juan')\n",
    "\n",
    "user_count = len(users)\n",
    "print(\"Tenemos \" + str(user_count) + \" usuarios!\")\n",
    "\n",
    "users.append('ivan')\n",
    "users.append('luisa')\n",
    "\n",
    "user_count = len(users)\n",
    "print(\"Tenemos \" + str(user_count) + \" usuarios!\")"
   ]
  },
  {
   "cell_type": "markdown",
   "metadata": {},
   "source": [
    "**NOTA:** La función *len()* devuelve un entero, al que hay que realizar el casting a *str* si queremos imprimirlo. "
   ]
  },
  {
   "cell_type": "markdown",
   "metadata": {},
   "source": [
    "### Eliminando elementos de una lista"
   ]
  },
  {
   "cell_type": "markdown",
   "metadata": {},
   "source": [
    "A estas alturas ya te habras dado cuenta de que las listas son una estructura dinámica. Podemos definir una lista vacía y luego llenarla a medida que ingrese información en nuestro programa. Para ser realmente dinámico, necesitamos formas de eliminar elementos de una lista cuando ya no los necesitemos. Esta operación se puede realizar a través de su posición o a través de su valor."
   ]
  },
  {
   "cell_type": "markdown",
   "metadata": {},
   "source": [
    "#### Eliminando elementos por posición"
   ]
  },
  {
   "cell_type": "markdown",
   "metadata": {},
   "source": [
    "Si sabes la posición de un elemento en una lista, puedes eliminar ese elemento con el comando *del *. Utiliza el comando *del * y el nombre de la lista, con el índice del elemento que deseas eliminar entre corchetes:"
   ]
  },
  {
   "cell_type": "code",
   "execution_count": null,
   "metadata": {
    "collapsed": true
   },
   "outputs": [],
   "source": [
    "nombres = ['Juan', 'Ana', 'Luis', 'Maria']\n",
    "# elimina el elemento en la posicion 2 (Luis)\n",
    "del nombres[2]\n",
    "\n",
    "print(nombres)"
   ]
  },
  {
   "cell_type": "markdown",
   "metadata": {
    "collapsed": true
   },
   "source": [
    "#### Eliminando elementos por valor"
   ]
  },
  {
   "cell_type": "markdown",
   "metadata": {
    "collapsed": true
   },
   "source": [
    "También puedes eliminar un elemento de una lista si conoces su valor. Para hacer esto, utilizamos el método *remove()*. Indica el nombre de la lista, seguido del elemento a eliminar. Python busca en la lista, encuentra el primer elemento con este valor y lo elimina. Si el elemento no existe Python genera un error."
   ]
  },
  {
   "cell_type": "code",
   "execution_count": null,
   "metadata": {
    "collapsed": true
   },
   "outputs": [],
   "source": [
    "nombres = ['Juan', 'Ana', 'Luis', 'Maria']\n",
    "# elimina el elemento en la posicion 2 (Luis)\n",
    "nombres.remove('Ana')\n",
    "\n",
    "print(nombres)"
   ]
  },
  {
   "cell_type": "markdown",
   "metadata": {
    "collapsed": true
   },
   "source": [
    "**NOTA:** El borrado solo elimina una instancia del elemento en la lista quedando otros elementos en la lista con el mismo valor despues de eliminar."
   ]
  },
  {
   "cell_type": "code",
   "execution_count": null,
   "metadata": {
    "collapsed": true
   },
   "outputs": [],
   "source": [
    "letras = ['a', 'b', 'c', 'a', 'b', 'c']\n",
    "# remueve a de la lista\n",
    "letras.remove('a')\n",
    "\n",
    "print(letras) # todavia quedan aes, solo borramos una"
   ]
  },
  {
   "cell_type": "markdown",
   "metadata": {},
   "source": [
    "Hay un concepto en programación llamado \"popping\" de elementos de una lista. Cada lenguaje de programación tiene algún tipo de estructura de datos similar a las listas de Python. Estas estructuras se pueden usar como colas, y hay varias formas de procesar los elementos en una cola.\n",
    "Un enfoque simple es comenzar con una lista vacía y luego agregar elementos a esa lista. Cuando quieras trabajar con los elementos de la lista, siempre toma el último elemento de la lista, haz algo con él y luego elimina ese elemento. El método *pop()* lo hace sencillo. Elimina el último elemento de la lista y nos lo facilita para que podamos trabajar con él."
   ]
  },
  {
   "cell_type": "code",
   "execution_count": null,
   "metadata": {
    "collapsed": true
   },
   "outputs": [],
   "source": [
    "nombres = ['Juan', 'Ana', 'Luis', 'Maria']\n",
    "\n",
    "ultimo_nombre = nombres.pop()\n",
    "\n",
    "print(ultimo_nombre)\n",
    "print(nombres)"
   ]
  },
  {
   "cell_type": "markdown",
   "metadata": {},
   "source": [
    "En realidad, se puede extraer cualquier elemento que se desee de una lista, dando el índice del elemento que se desea extraer."
   ]
  },
  {
   "cell_type": "code",
   "execution_count": null,
   "metadata": {
    "collapsed": true
   },
   "outputs": [],
   "source": [
    "nombres = ['Juan', 'Ana', 'Luis', 'Maria']\n",
    "\n",
    "primer_nombre = nombres.pop(0)\n",
    "\n",
    "print(primer_nombre)\n",
    "print(nombres)"
   ]
  },
  {
   "cell_type": "markdown",
   "metadata": {},
   "source": [
    "# *Slicing* (corte) de una lista   \n",
    "\n",
    "Ya hemos visto como una lista es una colección de elementos. Ahora vamos a ver como podemos obtener cualquier subconjunto de esos elementos. Por ejemplo, si queremos obtener solo los primeros tres elementos de la lista  los tres elementos en el medio de la lista, o los últimos tres elementos, o cualquier elemento x de cualquier parte de la lista. Estos subconjuntos de una lista se llaman cortes.  \n",
    "\n",
    "Para obtener un subconjunto de una lista, indicamos la posición del primer elemento que queremos y la posición del primer elemento que no queremos incluir en el subconjunto. Por lo tanto, el cort *lista[0:3]* devolverá una lista que contiene los elementos 0, 1 y 2, pero no el elemento 3."
   ]
  },
  {
   "cell_type": "code",
   "execution_count": null,
   "metadata": {
    "collapsed": true
   },
   "outputs": [],
   "source": [
    "usuarios = ['Juan', 'Ana', 'Luis', 'Maria']\n",
    "\n",
    "# Recoge los primeros 3 usuarios de la lista.\n",
    "primeros_users = usuarios[0:3]\n",
    "\n",
    "for user in primeros_users:\n",
    "    print(user.title())"
   ]
  },
  {
   "cell_type": "markdown",
   "metadata": {
    "collapsed": true
   },
   "source": [
    "Si quieres obtener todo hasta una determinada posición en la lista, debes dejar el primer índice en blanco."
   ]
  },
  {
   "cell_type": "code",
   "execution_count": null,
   "metadata": {
    "collapsed": true
   },
   "outputs": [],
   "source": [
    "print(usuarios[:3]) # obtiene los tres primeros elementos de la lista"
   ]
  },
  {
   "cell_type": "markdown",
   "metadata": {
    "collapsed": true
   },
   "source": [
    "Cuando se secciona una lista, la lista original no se ve afectada."
   ]
  },
  {
   "cell_type": "code",
   "execution_count": null,
   "metadata": {
    "collapsed": true
   },
   "outputs": [],
   "source": [
    "usuarios = ['Juan', 'Ana', 'Luis', 'Maria', 'Pepe']\n",
    "\n",
    "# Recoge los primeros 3 usuarios de la lista.\n",
    "primeros_users = usuarios[0:3]\n",
    "\n",
    "# la lista original no cambia\n",
    "for user in usuarios:\n",
    "    print(user.title())"
   ]
  },
  {
   "cell_type": "markdown",
   "metadata": {},
   "source": [
    "Podemos obtener cualquier corte de una lista que deseemos, utilizando el método de *slicing*."
   ]
  },
  {
   "cell_type": "code",
   "execution_count": 11,
   "metadata": {},
   "outputs": [
    {
     "name": "stdout",
     "output_type": "stream",
     "text": [
      "Ana\n",
      "Luis\n"
     ]
    }
   ],
   "source": [
    "usuarios = ['Juan', 'Ana', 'Luis', 'Maria', 'Pepe']\n",
    "\n",
    "# Recoge usuarios del indice 1 al 3\n",
    "primeros_users = usuarios[1:3]\n",
    "\n",
    "for user in primeros_users:\n",
    "    print(user.title())"
   ]
  },
  {
   "cell_type": "markdown",
   "metadata": {},
   "source": [
    "Para obtener todos los elementos de una posición en la lista hasta el final de la lista, podemos dejar fuera el segundo índice."
   ]
  },
  {
   "cell_type": "code",
   "execution_count": null,
   "metadata": {
    "collapsed": true
   },
   "outputs": [],
   "source": [
    "usuarios = ['Juan', 'Ana', 'Luis', 'Maria', 'Pepe']\n",
    "\n",
    "# Recoge todos los usuarios desde el indice 2 en adelante\n",
    "primeros_users = usuarios[2:]\n",
    "\n",
    "for user in primeros_users:\n",
    "    print(user.title())"
   ]
  },
  {
   "cell_type": "markdown",
   "metadata": {},
   "source": [
    "De igual forma se puede utilizar el indexado con índice negativo para delimitar el corte y podemos indicar hasta que elemento queremos acceder."
   ]
  },
  {
   "cell_type": "code",
   "execution_count": null,
   "metadata": {
    "collapsed": true
   },
   "outputs": [],
   "source": [
    "usuarios = ['Juan', 'Ana', 'Luis', 'Maria', 'Pepe']\n",
    "\n",
    "# Recoge todos los usuarios desde hasta el ultimo elemento\n",
    "primeros_users = usuarios[:-1]\n",
    "\n",
    "for user in primeros_users:\n",
    "    print(user.title())"
   ]
  },
  {
   "cell_type": "markdown",
   "metadata": {},
   "source": [
    "### Cortes extendidos\n",
    "Python entiende una forma extendida de los cortes. Esta forma acepta tres valores separados por el caracter ((:)). El tercer valor equivale al tercer parametro de la funcion range: indica el incremento del indice en cada iteracion. Por ejemplo, si c contiene la cadena 'Ejemplo', el corte c[0:len(c):2] selecciona los caracteres de indice par, o sea, devuelve la cadena 'Eepo'. El tercer valor puede ser negativo. Ello permite invertir una cadena con una expresion muy sencilla: c[::-1]. Haz la prueba."
   ]
  },
  {
   "cell_type": "code",
   "execution_count": null,
   "metadata": {
    "collapsed": true
   },
   "outputs": [],
   "source": [
    "lista = [1, 2, 3, 4, 5, 6]\n",
    "print(lista[0:5:2])\n",
    "print(lista[::])\n",
    "print(lista[::-1])"
   ]
  },
  {
   "cell_type": "code",
   "execution_count": null,
   "metadata": {
    "collapsed": true
   },
   "outputs": [],
   "source": [
    "cadena = 'hola'\n",
    "print(cadena[0:3:2])\n",
    "print(cadena[::-1])"
   ]
  },
  {
   "cell_type": "markdown",
   "metadata": {},
   "source": [
    "# Copiando una lista\n",
    "\n",
    "El copiado de listas funciona de una manera peculiar aunque habitual en programación. Python realiza un copiado por referencia de las listas de forma que no copiamos los valores de la lista sino la dirección de memoria en la que empieza. A esto se le llama copiado suave (*soft*) de una variable. Esto es interesante porque si tenemos una lista muy grande asi evitamos duplicar la información y llenar la memoria del ordenador. La consecuencia de todo esto es que si modificamos una de las variables, estaremos modificando en realidad la lista original. Veamos un ejemplo."
   ]
  },
  {
   "cell_type": "code",
   "execution_count": null,
   "metadata": {
    "collapsed": true
   },
   "outputs": [],
   "source": [
    "lista1 = [7, 0, 2, 5]\n",
    "lista2 = lista1 # aqui realmente copiamos la direccion de memoria de lista1\n",
    "print('Lista1',lista1)\n",
    "lista2[0] = 99 # si modificamos lista2 tambien se ve modificada lista1\n",
    "print('Lista1',lista1)\n",
    "print('Lista2',lista2)"
   ]
  },
  {
   "cell_type": "markdown",
   "metadata": {},
   "source": [
    "Existe sin embargo una forma de realizar un copiado profundo (*deep*) de una lista en otra y es utilizando el operador de indexación de la siguenten forma: *[:]*"
   ]
  },
  {
   "cell_type": "code",
   "execution_count": null,
   "metadata": {
    "collapsed": true
   },
   "outputs": [],
   "source": [
    "lista1 = [7, 0, 2, 5]\n",
    "lista2 = lista1[:] # aqui realmente copiamos los valores\n",
    "print('Lista1',lista1)\n",
    "lista2[0] = 99 # si modificamos lista2 la lista1 sigue intacta\n",
    "print('Lista1',lista1)\n",
    "print('Lista2',lista2)\n",
    "\n",
    "del lista2[-1] # eliminamos el ultimo elemento de lista2\n",
    "print('Lista1',lista1) # lista1 sigue intacta\n",
    "print('Lista2',lista2) # lista2 se actualice"
   ]
  },
  {
   "cell_type": "markdown",
   "metadata": {},
   "source": [
    "#### En realidad cualquier operación de indexación produce como resultado una *deep* copy de los valores de la lista."
   ]
  },
  {
   "cell_type": "markdown",
   "metadata": {},
   "source": [
    "# Listas numericas"
   ]
  },
  {
   "cell_type": "markdown",
   "metadata": {},
   "source": [
    "Ya hemos visto las listas pueden contener cualquier tipo entre ellos números. Hay algunas funciones que se pueden usar para hacer que trabajar con listas numéricas sea más eficiente. Hagamos una lista de los primeros diez números y comencemos a trabajar con ella para ver cómo podemos usar los números en una lista."
   ]
  },
  {
   "cell_type": "code",
   "execution_count": null,
   "metadata": {
    "collapsed": true
   },
   "outputs": [],
   "source": [
    "# primeros 10 numeros\n",
    "l_num = [1, 2, 3, 4, 5, 6, 7, 8, 9, 10]\n",
    "\n",
    "for num in l_num:\n",
    "    print(num)"
   ]
  },
  {
   "cell_type": "markdown",
   "metadata": {},
   "source": [
    "La funccion *range()*\n",
    "---\n",
    "\n",
    "Esto funciona, aunque no es muy eficiente si queremos trabajar con un gran conjunto de números. La función *range()* nos ayuda a generar largas listas de números. Aquí hay un ejemplo de como hacer generar la lista de los primeros 10 números, usando la función *range()*."
   ]
  },
  {
   "cell_type": "code",
   "execution_count": null,
   "metadata": {
    "collapsed": true
   },
   "outputs": [],
   "source": [
    "# lista 10 primeros numeros\n",
    "print(range(1,10))"
   ]
  },
  {
   "cell_type": "markdown",
   "metadata": {},
   "source": [
    "Por defecto *range* generar números consecutivos en orden creciente aunque también se le puede indicar un paso en la generación. Por defecto el paso es 1."
   ]
  },
  {
   "cell_type": "code",
   "execution_count": 23,
   "metadata": {
    "collapsed": true
   },
   "outputs": [],
   "source": [
    "print range(0,100,5) # el paso es 5."
   ]
  },
  {
   "cell_type": "markdown",
   "metadata": {},
   "source": [
    "Se puede crear una lista en orden decreciente poniendo un paso negativo-5."
   ]
  },
  {
   "cell_type": "code",
   "execution_count": null,
   "metadata": {
    "collapsed": true
   },
   "outputs": [],
   "source": [
    "print range(100,5,-5) # el paso es 5"
   ]
  },
  {
   "cell_type": "markdown",
   "metadata": {},
   "source": [
    "Se suele utilizar en bucles for-in para recorrer secuencias."
   ]
  },
  {
   "cell_type": "code",
   "execution_count": null,
   "metadata": {
    "collapsed": true
   },
   "outputs": [],
   "source": [
    "for num in range(0,5):\n",
    "    print(num)"
   ]
  },
  {
   "cell_type": "markdown",
   "metadata": {},
   "source": [
    "Esto es increíblemente poderoso. Ahora podemos crear una lista de varios millones de números tan fácil como creamos una lista de los primeros diez números. En realidad no tiene sentido imprimir el millón de números aquí, pero podemos mostrar que la lista realmente tiene un millón de elementos, y podemos imprimir los últimos elementos para mostrar que la lista es correcta."
   ]
  },
  {
   "cell_type": "code",
   "execution_count": null,
   "metadata": {
    "collapsed": true
   },
   "outputs": [],
   "source": [
    "# guarda el primer millon de numeros\n",
    "numeros = list(range(1,1000001))\n",
    "\n",
    "# muestra la longitud de la lista\n",
    "print(\"La lista de numeros tiene: \" + str(len(numeros)) + \" numeros en ella.\")\n",
    "\n",
    "# muestra los ultimos numeros\n",
    "print(\"Los ultimos numeros son:\")\n",
    "for numero in numeros[-5:]:\n",
    "    print(numero)"
   ]
  },
  {
   "cell_type": "markdown",
   "metadata": {},
   "source": [
    "Aquí hay un par de cosas que merece recordar. La expresión\n",
    "\n",
    "    str (len (números))\n",
    "    \n",
    "toma la longitud de la lista de números y la convierte en una cadena para que se pueda imprimir.\n",
    "La expresión \n",
    "\n",
    "    números [-5:]\n",
    "\n",
    "nos da una parte de la lista. El índice -1 es el último elemento en la lista, y el índice -5 es el elemento cinco lugares desde el final de la lista. Entonces, el corte [-5:] nos da todo, desde ese elemento hasta el final de la lista."
   ]
  },
  {
   "cell_type": "markdown",
   "metadata": {},
   "source": [
    "Las funciones *min()*, *max()*, y *sum()*\n",
    "---\n",
    "Hay tres funciones que se usan habitualmente con listas numéricas. La función *min()* devuelve el número más pequeño de la lista, la función *max()* devuelve el número más grande de la lista y la función *sum()* devuelve la suma de todos los números la lista."
   ]
  },
  {
   "cell_type": "code",
   "execution_count": null,
   "metadata": {
    "collapsed": true
   },
   "outputs": [],
   "source": [
    "edades = [23, 16, 14, 28, 19, 11, 38]\n",
    "\n",
    "joven = min(edades)\n",
    "viejo = max(edades)\n",
    "suma_edades = sum(edades)\n",
    "\n",
    "print(\"El más joven tiene: \" + str(joven) +  \" años.\")\n",
    "print(\"El más mayor tiene: \" + str(viejo) + \" años.\")\n",
    "print(\"La suma de edades de todos es: \" + str(suma_edades) + \" años.\")"
   ]
  },
  {
   "cell_type": "markdown",
   "metadata": {},
   "source": [
    "# Comprensión de listas (list comprehension)"
   ]
  },
  {
   "cell_type": "markdown",
   "metadata": {},
   "source": [
    "Si eres nuevo en programación, las comprensiones de la lista pueden parecer confusas al principio. Son una forma abreviada de crear y trabajar con listas. Es bueno estar al tanto de las listas de comprensión, porque las verás en el código de otros programadores, y son realmente útiles cuando entiende cómo usarlas. Por ahora, es suficiente saber que existen y reconocerlas cuando las veas.  \n",
    "\n",
    "Vemos como podemos crear una lista que contenga los cuadrados de los primeros 10 números de la forma que ya sabemos."
   ]
  },
  {
   "cell_type": "code",
   "execution_count": null,
   "metadata": {
    "collapsed": true
   },
   "outputs": [],
   "source": [
    "# almacena el cuadrado de los primeros 10 numeros en una lista\n",
    "cuadrados = []\n",
    "\n",
    "for numero in range(1,11):\n",
    "    nuevo_cuadrado = numero**2\n",
    "    cuadrados.append(nuevo_cuadrado)\n",
    "    \n",
    "# mostrar que la lista es correct\n",
    "print(cuadrados)"
   ]
  },
  {
   "cell_type": "markdown",
   "metadata": {},
   "source": [
    "A estas alturas, esto debería tener sentido. Si no es así, repasa el código con estos pensamientos en mente:\n",
    "- Creamos una lista vacía llamada *cuadrados* que contendrá los valores que nos interesan.\n",
    "- Usando la función *range()*, comenzamos un _loop_ que recorrerá los números 1-10.\n",
    "- Cada vez que pasamos por el _loop_, calculamos el cuadrado del número actual elevándolo a la segunda potencia.\n",
    "- Agregamos este nuevo valor a nuestra lista *cuadrados*.\n",
    "- Revisamos nuestra lista y la imprimimos.\n",
    "\n",
    "Ahora hagamos este código más eficiente. Realmente no necesitamos almacenar el nuevo cuadrado en su propia variable *nuevo_cuadrado*; podemos simplemente agregarlo directamente a la lista de cuadrados. La línea\n",
    "\n",
    "    nuevo_cuadrado = número ** 2\n",
    "\n",
    "se saca, y la siguiente línea se ocupa de la operación."
   ]
  },
  {
   "cell_type": "code",
   "execution_count": null,
   "metadata": {
    "collapsed": true
   },
   "outputs": [],
   "source": [
    "# almacena el cuadrado de los primeros 10 numeros en una lista\n",
    "cuadrados = []\n",
    "\n",
    "for numero in range(1,11):\n",
    "    cuadrados.append(numero**2)\n",
    "    \n",
    "# mostrar que la lista es correct\n",
    "print(cuadrados)"
   ]
  },
  {
   "cell_type": "markdown",
   "metadata": {},
   "source": [
    "Las comprensiones de listas nos permiten colapsar las primeras tres líneas de código en una línea de la siguiente forma."
   ]
  },
  {
   "cell_type": "code",
   "execution_count": null,
   "metadata": {
    "collapsed": true
   },
   "outputs": [],
   "source": [
    "cuadrados = [numero**2 for numero in range(1,11)]\n",
    "\n",
    "# mostrar que la lista es correct\n",
    "print(cuadrados)"
   ]
  },
  {
   "cell_type": "markdown",
   "metadata": {},
   "source": [
    "Debería quedar bastante claro que este código es más eficiente que nuestro enfoque anterior, pero puede no estar claro lo que está sucediendo. Echemos un vistazo a todo lo que está sucediendo en esa primera línea:\n",
    "\n",
    "Definimos una lista llamada *cuadrados*.\n",
    "\n",
    "Mira la segunda parte de lo que está entre corchetes:\n",
    "\n",
    "    for numero in range(1,11)\n",
    "\n",
    "Esto crea un _loop_ que pasa por los números del 1 al 10, almacenando cada valor en la variable *numero*. Ahora podemos ver qué ocurre con cada *numero* en el _loop_:\n",
    "\n",
    "    numero**2\n",
    "\n",
    "Cada número se eleva a la segunda potencia, y este es el valor que se almacena en la lista que definimos. Podríamos leer esta línea de la siguiente manera:\n",
    "\n",
    "cuadrados = [eleva *numero* a la segunda potencia, for nuemro in range(1-10)]"
   ]
  },
  {
   "cell_type": "markdown",
   "metadata": {},
   "source": [
    "### Más ejemplos"
   ]
  },
  {
   "cell_type": "markdown",
   "metadata": {},
   "source": [
    "Una Comprensión de listas para calcular los primeros pares. Como puedes ver, en número de líneas se reduce y el código se simplifica."
   ]
  },
  {
   "cell_type": "code",
   "execution_count": null,
   "metadata": {
    "collapsed": true
   },
   "outputs": [],
   "source": [
    "pares = [numero*2 for numero in range(1,11)]\n",
    "\n",
    "print(pares)"
   ]
  },
  {
   "cell_type": "markdown",
   "metadata": {},
   "source": [
    "## Listas no númericas"
   ]
  },
  {
   "cell_type": "markdown",
   "metadata": {},
   "source": [
    "También podemos usar comprensiones con listas no numéricas. En este caso, crearemos una lista inicial, y luego usaremos una comprensión para hacer una segunda lista de la primera. Aquí hay un ejemplo simple, sin usar comprensiones."
   ]
  },
  {
   "cell_type": "code",
   "execution_count": null,
   "metadata": {
    "collapsed": true
   },
   "outputs": [],
   "source": [
    "estudiantes = ['juan', 'ana', 'fran']\n",
    "\n",
    "# transformelos en buenos estudiantes\n",
    "buenos_estudiantes = []\n",
    "for estudiante in estudiantes:\n",
    "    buenos_estudiantes.append(estudiante.title() + \" eres buen estudiante!\")\n",
    "\n",
    "# Saludemos a los estudiantes\n",
    "for buen_estudiante in buenos_estudiantes:\n",
    "    print(\"Hola, \" + buen_estudiante)"
   ]
  },
  {
   "cell_type": "markdown",
   "metadata": {},
   "source": [
    "Para usar una comprensión de listas en este código, debemos escribir algo como esto:  \n",
    "    \n",
    "    buenos_estudiantes = [agrega 'eres buen estudiante!' a cada estudiante, para cada estudiante en la lista de estudiantes]"
   ]
  },
  {
   "cell_type": "code",
   "execution_count": null,
   "metadata": {
    "collapsed": true
   },
   "outputs": [],
   "source": [
    "estudiantes = ['juan', 'ana', 'fran']\n",
    "\n",
    "# lista de comprension para transformarlos en buenos estudiantes\n",
    "buenos_estudiantes = [estudiante.title() + \" eres buen estudiante!\" for estudiante in estudiantes]\n",
    "\n",
    "# Saludemos a los estudiantes\n",
    "for buen_estudiante in buenos_estudiantes:\n",
    "    print(\"Hola, \" + buen_estudiante)"
   ]
  },
  {
   "cell_type": "code",
   "execution_count": null,
   "metadata": {
    "collapsed": true
   },
   "outputs": [],
   "source": []
  },
  {
   "cell_type": "markdown",
   "metadata": {},
   "source": [
    "*Slicing* cadenas\n",
    "===\n",
    "\n",
    "Ahora que nos hemos familiarizado bastante con las listas, podemos echar un vistazo a las cadenas. Recordad que una cadena es realmente una lista de caracteres, por lo que muchos de los conceptos que se trabajan con listas se pueden utilizar de la misma manera con cadenas."
   ]
  },
  {
   "cell_type": "code",
   "execution_count": null,
   "metadata": {
    "collapsed": true
   },
   "outputs": [],
   "source": [
    "mensaje = \"Hola!\"\n",
    "\n",
    "for letra in mensaje:\n",
    "    print(letra)"
   ]
  },
  {
   "cell_type": "markdown",
   "metadata": {},
   "source": [
    "Podemos acceder a cualquier carácter en una cadena por su posición, del mismo modo que accedemos a los elementos individuales en una lista."
   ]
  },
  {
   "cell_type": "code",
   "execution_count": null,
   "metadata": {
    "collapsed": true
   },
   "outputs": [],
   "source": [
    "mensaje = \"Hola!\"\n",
    "\n",
    "primer_char = mensaje[0]\n",
    "ultimo_char = mensaje[-1]\n",
    "\n",
    "print(primer_char, ultimo_char)"
   ]
  },
  {
   "cell_type": "markdown",
   "metadata": {},
   "source": [
    "Podemos extender esto para realizar cortes en la cadena."
   ]
  },
  {
   "cell_type": "code",
   "execution_count": null,
   "metadata": {
    "collapsed": true
   },
   "outputs": [],
   "source": [
    "mensaje = \"Hola Mundo!\"\n",
    "\n",
    "primeros_tres = mensaje[:3]\n",
    "ultimos_tres = mensaje[-3:]\n",
    "\n",
    "print(primeros_tres, ultimos_tres)"
   ]
  },
  {
   "cell_type": "markdown",
   "metadata": {},
   "source": [
    "Encontrando subcadenas\n",
    "---\n",
    "Ahora que hemos visto qué significan los índices para las cadenas, podemos buscar *subcadenas*. Una subcadena es una serie de caracteres que aparecen en una cadena.\n",
    "\n",
    "Usando la palabra clave *in* para averiguar si una subcadena particular aparece en una cadena."
   ]
  },
  {
   "cell_type": "code",
   "execution_count": null,
   "metadata": {
    "collapsed": true
   },
   "outputs": [],
   "source": [
    "mensaje = \"Me gusta Pamplona.\"\n",
    "pamplona_esta = 'Pamplona' in mensaje\n",
    "print(pamplona_esta)"
   ]
  },
  {
   "cell_type": "markdown",
   "metadata": {},
   "source": [
    "\n",
    "Si deseas saber dónde aparece una subcadena en una cadena, puedes usar el método *find()*. El método *find()* te dice el índice en el que comienza la subcadena."
   ]
  },
  {
   "cell_type": "code",
   "execution_count": null,
   "metadata": {
    "collapsed": true
   },
   "outputs": [],
   "source": [
    "mensaje = \"Me gusta Pamplona.\"\n",
    "indice_pamplona = mensaje.find('Pamplona')\n",
    "print('Pamplona empieza en el caracter numero: ' + str(indice_pamplona))"
   ]
  },
  {
   "cell_type": "markdown",
   "metadata": {},
   "source": [
    "Sin embargo, ten en cuenta que esta función solo devuelve el índice de la primera aparición de la subcadena que está buscando. Si la subcadena aparece más de una vez, perderá las otras subcadenas."
   ]
  },
  {
   "cell_type": "code",
   "execution_count": null,
   "metadata": {
    "collapsed": true
   },
   "outputs": [],
   "source": [
    "mensaje = \"Me gusta Pamplona. En Pamplona se celebran los San Fermines\"\n",
    "indice_pamplona = mensaje.find('Pamplona')\n",
    "print('Pamplona empieza en el caracter numero: ' + str(indice_pamplona))"
   ]
  },
  {
   "cell_type": "markdown",
   "metadata": {},
   "source": [
    "Si deseas buscar la última aparición de una subcadena, puedes usar la función *rfind()*."
   ]
  },
  {
   "cell_type": "code",
   "execution_count": null,
   "metadata": {
    "collapsed": true
   },
   "outputs": [],
   "source": [
    "mensaje = \"Me gusta Pamplona. En Pamplona se celebran los San Fermines\"\n",
    "indice_pamplona = mensaje.rfind('Pamplona')\n",
    "print('Pamplona empieza en el caracter numero: ' + str(indice_pamplona))"
   ]
  },
  {
   "cell_type": "markdown",
   "metadata": {},
   "source": [
    "Reemplazando subcadenas\n",
    "---\n",
    "\n",
    "Puedes usar la función *replace()* para reemplazar cualquier subcadena con otra subcadena. Para usar la función *replace()*, proporciona la subcadena que deseas reemplazar y luego la subcadena con la que deseas reemplazarla. También necesitaras almacenar la nueva cadena, ya sea en la misma variable de cadena o en una nueva variable."
   ]
  },
  {
   "cell_type": "code",
   "execution_count": null,
   "metadata": {
    "collapsed": true
   },
   "outputs": [],
   "source": [
    "mensaje = \"Me gusta Pamplona. En Pamplona hay verano.\"\n",
    "mensaje = mensaje.replace('Pamplona', 'Madrid')\n",
    "print(mensaje)"
   ]
  },
  {
   "cell_type": "markdown",
   "metadata": {},
   "source": [
    "Contar subcadenas \n",
    "---\n",
    "Si quieres saber cuántas veces aparece una subcadena dentro de una cadena, puedes usar el método *count()*."
   ]
  },
  {
   "cell_type": "code",
   "execution_count": null,
   "metadata": {
    "collapsed": true
   },
   "outputs": [],
   "source": [
    "mensaje = \"Me gusta Pamplona. En Pamplona se celebran los San Fermines\"\n",
    "n_pamplonas = mensaje.count('Pamplona')\n",
    "print('Pamplona aparece: ' + str(n_pamplonas) + ' veces en la cadena.')"
   ]
  },
  {
   "cell_type": "markdown",
   "metadata": {},
   "source": [
    "De cadenas a listas y viceversa\n",
    "---\n",
    "### Split\n",
    "En muchas ocasiones nos encontraremos convirtiendo cadenas en listas y viceversa. Python nos ofrece una serie de utilidades que conviene conocer si queremos ahorrarnos muchas horas de programacion. Una accion frecuente consiste en obtener una lista con todas las palabras de una cadena. Para ello utilizamos el metodo _split_."
   ]
  },
  {
   "cell_type": "code",
   "execution_count": null,
   "metadata": {
    "collapsed": true
   },
   "outputs": [],
   "source": [
    "cadena = 'uno dos tres'\n",
    "lista_cadena = cadena.split()\n",
    "print(lista_cadena)"
   ]
  },
  {
   "cell_type": "markdown",
   "metadata": {},
   "source": [
    "De esta forma es muy sencillo contar el numero de palabras de una frase."
   ]
  },
  {
   "cell_type": "code",
   "execution_count": null,
   "metadata": {
    "collapsed": true
   },
   "outputs": [],
   "source": [
    "cadena = 'Esto es una frase con varias palabras'\n",
    "lista_cadena = cadena.split()\n",
    "print(len(lista_cadena))"
   ]
  },
  {
   "cell_type": "markdown",
   "metadata": {},
   "source": [
    "Por defecto Python crea una lista de la cadena separando por el caracter espacio en blanco. Si queremos que tome como separador otro caracter necesitamos indicarlo como parametro en la funcion _split_."
   ]
  },
  {
   "cell_type": "code",
   "execution_count": null,
   "metadata": {
    "collapsed": true
   },
   "outputs": [],
   "source": [
    "hora = '19:25:33'\n",
    "print(hora.split(':')) # utilizamos el caracter : como separador"
   ]
  },
  {
   "cell_type": "markdown",
   "metadata": {},
   "source": [
    "Que ocurre con las cadenas maliciosas que estan separadas por diferentes caracteres?. Para obtener un resultado correcto es necesario los separadores sean siempre los mismos"
   ]
  },
  {
   "cell_type": "code",
   "execution_count": null,
   "metadata": {
    "collapsed": true
   },
   "outputs": [],
   "source": [
    "cadena = 'uno dos:tres cuatro'\n",
    "lista_cadena = cadena.split()\n",
    "print(lista_cadena)"
   ]
  },
  {
   "cell_type": "markdown",
   "metadata": {},
   "source": [
    "### Join\n",
    "El metodo que hace lo contrario a _split_ es _join_. Nos permite una lista de palabras en una frase. Se utiliza poniendo delante el caracter a utilizar para unir las palabras seguido de _.join_ . A continuacion un ejemplo con diferentes caracteres de union."
   ]
  },
  {
   "cell_type": "code",
   "execution_count": null,
   "metadata": {
    "collapsed": true
   },
   "outputs": [],
   "source": [
    "print(' '.join(['uno','dos','tres']))"
   ]
  },
  {
   "cell_type": "code",
   "execution_count": null,
   "metadata": {
    "collapsed": true
   },
   "outputs": [],
   "source": [
    "print(':'.join(['19','15','23']))"
   ]
  },
  {
   "cell_type": "code",
   "execution_count": null,
   "metadata": {
    "collapsed": true
   },
   "outputs": [],
   "source": [
    "print('----'.join(['uno', 'dos', 'tres']))"
   ]
  },
  {
   "cell_type": "markdown",
   "metadata": {},
   "source": [
    "Otros métodos para manipular cadenas\n",
    "---\n",
    "Hay una serie de [otros métodos de cadena](http://docs.python.org/3.3/library/stdtypes.html#string-methods) que no vamos a estudiar aquí, pero es posible echarles un vistazo a ellos si quieres. La mayoría de estos métodos deberían tener sentido en este punto. Es posible que no tengas uso para ninguno de ellos ahora mismo, pero es bueno saber qué se puede hacer con las cadenas. De esta manera tendrás una idea de cómo resolver ciertos problemas, incluso si esto significa volver a consultar la lista de métodos para recordar cómo escribir la sintaxis correcta cuando lo necesites."
   ]
  },
  {
   "cell_type": "markdown",
   "metadata": {},
   "source": [
    "# Tuplas"
   ]
  },
  {
   "cell_type": "markdown",
   "metadata": {},
   "source": [
    "Las tuplas son básicamente listas que no se pueden cambiar. Las listas son bastante dinámicas; pueden crecer a medida que se inserta elementos, y pueden reducirse a medida que eliminan. Puedes modificar cualquier elemento que desees en una lista. A veces nos gusta este comportamiento, pero otras veces queremos asegurarnos de que ningún usuario o parte de un programa pueda cambiar una lista. Para eso son las tuplas.  \n",
    "\n",
    "Técnicamente, las listas son objetos mutables y las tuplas son objetos inmutables. Los objetos mutables pueden cambiar (pensar en mutaciones) y los objetos inmutables no pueden cambiar.\n",
    "\n",
    "Definiendo tuplas y accediendo a sus elementos\n",
    "---\n",
    "\n",
    "Una tupla se define tal y como se define una lista, excepto que se usa paréntesis en lugar de corchetes. Una vez que tengamos una tupla, podemos acceder a los elementos individuales como hacemos con una lista, y podemos recorrer la tupla con un bucle *for*:"
   ]
  },
  {
   "cell_type": "code",
   "execution_count": null,
   "metadata": {
    "collapsed": true
   },
   "outputs": [],
   "source": [
    "colores = ('rojo', 'verde', 'azul')\n",
    "print(\"El primer color es: \" + colores[0])\n",
    "\n",
    "print(\"\\nLa variable colores contiene:\")\n",
    "for color in colores:\n",
    "    print(\"- \" + color)"
   ]
  },
  {
   "cell_type": "markdown",
   "metadata": {},
   "source": [
    "Si intentas modificar el contenido de una tupla, Python dara error."
   ]
  },
  {
   "cell_type": "code",
   "execution_count": null,
   "metadata": {
    "collapsed": true
   },
   "outputs": [],
   "source": [
    "colores = ('rojo', 'verde', 'azul')\n",
    "colores.append('amarillo') # esto produce error"
   ]
  },
  {
   "cell_type": "markdown",
   "metadata": {},
   "source": [
    "Lo mismo ocurre cuando intentas eliminar algo de una tupla, o modificar uno de sus elementos. Una vez que define una tupla, puedes estar seguro de que sus valores no cambiarán."
   ]
  },
  {
   "cell_type": "code",
   "execution_count": null,
   "metadata": {
    "collapsed": true
   },
   "outputs": [],
   "source": [
    "colores = ('rojo', 'verde', 'azul')\n",
    "colores[0] = 'amarillo' # esto produce un error"
   ]
  },
  {
   "cell_type": "markdown",
   "metadata": {},
   "source": [
    "Usando tuplas para construir cadenas\n",
    "---\n",
    "Hemos visto que es muy útil poder mezclar cadenas en castellano sin procesar con valores que están almacenados en variables, como en el siguiente ejemplo:"
   ]
  },
  {
   "cell_type": "code",
   "execution_count": null,
   "metadata": {
    "collapsed": true
   },
   "outputs": [],
   "source": [
    "animal = 'perro'\n",
    "print(\"Tengo un \" + animal + \".\")"
   ]
  },
  {
   "cell_type": "markdown",
   "metadata": {},
   "source": [
    "Esto es especialmente útil si tenemos que hacer lo siguiente."
   ]
  },
  {
   "cell_type": "code",
   "execution_count": null,
   "metadata": {
    "collapsed": true
   },
   "outputs": [],
   "source": [
    "animales = ['perro', 'gato', 'oso']\n",
    "for animal in animales:\n",
    "    print(\"Tengo un \" + animal + \".\")"
   ]
  },
  {
   "cell_type": "markdown",
   "metadata": {},
   "source": [
    "Este enfoque de usar el signo + para construir cadenas es bastante intuitivo. Podemos ver que estamos agregando varias cadenas más pequeñas para formar una cadena más larga. Esto es intuitivo, pero requiere mucha escritura. Hay una manera más corta de hacerlo, usando marcadores de sustitución. Ya vimos anteriormente este concepto. Es hora de repasarlo y expandirlo un poco más.\n",
    "\n",
    "Python ignora la mayoría de los caracteres que ponemos dentro de las cadenas. Hay unos pocos caracteres a los que Python presta atención, como vimos con cadenas como \"\\t\" y \"\\n\". Python también presta atención a \"%s\" y \"%d\". Estos son marcadores de sustitución. Cuando Python ve el marcador de sustitución \"%s\", mira hacia adelante y extrae el primer argumento después del signo %:"
   ]
  },
  {
   "cell_type": "code",
   "execution_count": null,
   "metadata": {
    "collapsed": true
   },
   "outputs": [],
   "source": [
    "animal = 'perro'\n",
    "print(\"Tengo un %s.\" % animal)"
   ]
  },
  {
   "cell_type": "markdown",
   "metadata": {},
   "source": [
    "Esta es una forma mucho más limpia de generar cadenas que incluyen valores. Redactamos nuestra oración en una lista, y luego le decimos a Python qué valores debe insertar en la cadena, en los lugares apropiados.\n",
    "\n",
    "Esto se denomina _formato de cadena_, y tiene el mismo aspecto cuando utiliza una lista.\n"
   ]
  },
  {
   "cell_type": "code",
   "execution_count": null,
   "metadata": {
    "collapsed": true
   },
   "outputs": [],
   "source": [
    "animales = ['perro', 'gato', 'oso']\n",
    "for animal in animales:\n",
    "    print(\"Tengo un %s.\" % animal)"
   ]
  },
  {
   "cell_type": "markdown",
   "metadata": {},
   "source": [
    "Si tenemos más de un valor para poner en la cadena que se está componiendo, debemos empacar los valores en una tupla."
   ]
  },
  {
   "cell_type": "code",
   "execution_count": null,
   "metadata": {
    "collapsed": true
   },
   "outputs": [],
   "source": [
    "animales = ['perro', 'gato', 'oso']\n",
    "print(\"Tengo un %s, un %s y un %s.\" % (animales[0], animales[1], animales[2]))"
   ]
  },
  {
   "cell_type": "markdown",
   "metadata": {
    "collapsed": true
   },
   "source": [
    "### Formateo de cadenas con números\n",
    "\n",
    "Si recuerdas, imprimir un número con una cadena puede causar un error."
   ]
  },
  {
   "cell_type": "code",
   "execution_count": null,
   "metadata": {
    "collapsed": true
   },
   "outputs": [],
   "source": [
    "entero = 23\n",
    "# esto produce un error\n",
    "print(\"Mi número favorito es el: \" + entero + \".\") "
   ]
  },
  {
   "cell_type": "markdown",
   "metadata": {},
   "source": [
    "Python piensa que podrías estar hablando del valor 23 o de los caracteres '23'. Entonces presenta un error, obligándonos a aclarar que queremos que Python trate el número como una cadena. Hacemos esto al convertir el número en una cadena usando la función que realiza el casting a _str()_:"
   ]
  },
  {
   "cell_type": "code",
   "execution_count": null,
   "metadata": {
    "collapsed": true
   },
   "outputs": [],
   "source": [
    "entero = 23\n",
    "print(\"Mi número favorito es el: \" + str(entero) + \".\") "
   ]
  },
  {
   "cell_type": "markdown",
   "metadata": {},
   "source": [
    "La cadena de formato \"%d\" se ocupa de esto por nosotros. Mira cómo está limpio este código."
   ]
  },
  {
   "cell_type": "code",
   "execution_count": null,
   "metadata": {
    "collapsed": true
   },
   "outputs": [],
   "source": [
    "enteros = [7, 23, 42]\n",
    "print(\"Mi número favorito es el: %d, %d, y %d.\" % (enteros[0], enteros[1], enteros[2]))"
   ]
  },
  {
   "cell_type": "markdown",
   "metadata": {},
   "source": [
    "Puedes combinar tipos de distintas clases en el _print_."
   ]
  },
  {
   "cell_type": "code",
   "execution_count": null,
   "metadata": {
    "collapsed": true
   },
   "outputs": [],
   "source": [
    "print(\"Entero: %d, Flotante: %f, y Cadena: %s.\" % (8, 5.5, 'hola'))"
   ]
  },
  {
   "cell_type": "markdown",
   "metadata": {},
   "source": [
    "Hay formas más sofisticadas de hacer cadenas de formato en Python 3, pero guardaremos eso para más adelante porque es un poco menos intuitivo que este enfoque. Por ahora, puedes usar el enfoque que te proporcione de manera consistente el resultado que deseas ver."
   ]
  },
  {
   "cell_type": "markdown",
   "metadata": {},
   "source": [
    "# Terminando bucles antes de tiempo"
   ]
  },
  {
   "cell_type": "markdown",
   "metadata": {},
   "source": [
    "## Break"
   ]
  },
  {
   "cell_type": "markdown",
   "metadata": {},
   "source": [
    "La sentencia break, termina el bucle for-in ."
   ]
  },
  {
   "cell_type": "code",
   "execution_count": null,
   "metadata": {
    "collapsed": true
   },
   "outputs": [],
   "source": [
    "for n in range(2, 10):\n",
    "    if n == 5:\n",
    "        break\n",
    "    print(n)"
   ]
  },
  {
   "cell_type": "markdown",
   "metadata": {},
   "source": [
    "Si hay más de un bucle se termina el más anidado antes de tiempo."
   ]
  },
  {
   "cell_type": "code",
   "execution_count": null,
   "metadata": {
    "collapsed": true
   },
   "outputs": [],
   "source": [
    "# este programa calcula primos hasta el numero 10\n",
    "for n in range(2, 10):\n",
    "    for x in range(2, n):\n",
    "        if n % x == 0:\n",
    "            print n, 'es igual a', x, '*', n/x\n",
    "            break\n",
    "    else:\n",
    "         # sigue el bucle sin encontrar un factor\n",
    "        print n, 'es un numero primo'"
   ]
  },
  {
   "cell_type": "markdown",
   "metadata": {},
   "source": [
    "## Continue"
   ]
  },
  {
   "cell_type": "markdown",
   "metadata": {},
   "source": [
    "La sentencia _continue_ es usada dentro de un bucle _while_ o _loop_ para retomar el control de la parte superior del loop sin ejecutar el resto de de las instrucciones que hay dentro del bucle."
   ]
  },
  {
   "cell_type": "code",
   "execution_count": null,
   "metadata": {
    "collapsed": true
   },
   "outputs": [],
   "source": [
    "# Gracias a continue no imprimimos los valores 3 y 6\n",
    "for x in range(6):  \n",
    "    if (x == 3 or x==6):  \n",
    "        continue  \n",
    "    print(x)  "
   ]
  },
  {
   "cell_type": "markdown",
   "metadata": {},
   "source": [
    "# Ejercicios"
   ]
  },
  {
   "cell_type": "markdown",
   "metadata": {},
   "source": [
    "1 - La lista de trabajo\n",
    "- Haz una lista que incluya cuatro profesiones, como 'programador' y 'conductor de camión'.\n",
    "- Usa la función _list.index()_ para encontrar el índice de una carrera en su lista.\n",
    "- Usa la función _in_ para mostrar que una carrera está en su lista.\n",
    "- Usa la función _append()_ para agregar una nueva carrera a tu lista.\n",
    "- Usa la función de _insert()_ para agregar una nueva carrera al comienzo de la lista.\n",
    "- Usa un loop for-in para mostrar todas las carreras en su lista."
   ]
  },
  {
   "cell_type": "code",
   "execution_count": null,
   "metadata": {
    "collapsed": true
   },
   "outputs": [],
   "source": []
  },
  {
   "cell_type": "markdown",
   "metadata": {},
   "source": [
    "2 - Comenzando desde la lista vacía\n",
    "- Crea la lista de profesiones, pero esta vez inicia una lista vacía y llénala usando la función _append()_.\n",
    "- Imprime un mensaje que imprima cual es la primera carrera en la que pensaste. \n",
    "- Imprime un mensaje que imprima cual es la última carrera en la que pensaste. "
   ]
  },
  {
   "cell_type": "code",
   "execution_count": null,
   "metadata": {
    "collapsed": true
   },
   "outputs": [],
   "source": []
  },
  {
   "cell_type": "markdown",
   "metadata": {},
   "source": [
    "3 - Lista de trabajo ordenada\n",
    "- Comienza con la lista que creaste en el ejercicio 1.\n",
    "- Imprime la lista en diferentes órdenes.\n",
    "- Cada vez que imprimas la lista, usa un bucle _for-in_ en lugar de imprimir la lista entera.\n",
    "    - Imprime un mensaje cada vez que diga en qué orden deberíamos ver la lista.\n",
    "    - Imprime la lista en su orden original.\n",
    "    - Imprime la lista en orden alfabético.\n",
    "    - Imprime la lista en su orden original.\n",
    "    - Imprime la lista en orden alfabético inverso.\n",
    "    - Imprime la lista en su orden original.\n",
    "    - Imprime la lista en el orden inverso al que comenzó.\n",
    "    - Imprime la lista en su orden original\n",
    "    - Ordena de forma permanente la lista en orden alfabético y luego imprímela.\n",
    "    - Ordena de forma permanente la lista en orden alfabético inverso y luego imprímela."
   ]
  },
  {
   "cell_type": "code",
   "execution_count": null,
   "metadata": {
    "collapsed": true
   },
   "outputs": [],
   "source": []
  },
  {
   "cell_type": "markdown",
   "metadata": {},
   "source": [
    "4 - Números ordenados\n",
    "- Haz una lista de 5 números, en orden aleatorio.\n",
    "- Vas a imprimir la lista en varios órdenes diferentes.\n",
    "- Cada vez que imprima la lista, usa un bucle _for-in_ en lugar de imprimir la lista entera.\n",
    "    - Imprime un mensaje cada vez que nos diga en qué orden deberíamos ver la lista.\n",
    "    - Imprime los números en el orden original.\n",
    "    - Imprime los números en orden creciente.\n",
    "    - Imprime los números en el orden original.\n",
    "    - Imprime los números en orden decreciente.\n",
    "    - Imprime los números en su orden original.\n",
    "    - Imprime los números en el orden inverso desde cómo comenzaron.\n",
    "    - Imprime los números en el orden original.\n",
    "    - Ordena de forma permanente los números en orden creciente y luego imprímelos.\n",
    "    - Ordena los números de forma permanente en orden decreciente y luego imprímelos."
   ]
  },
  {
   "cell_type": "code",
   "execution_count": null,
   "metadata": {
    "collapsed": true
   },
   "outputs": [],
   "source": []
  },
  {
   "cell_type": "markdown",
   "metadata": {},
   "source": [
    "5 - Longitudes de lista\n",
    "- Copia dos o tres de las listas que hiciste en los ejercicios anteriores, o crea dos o tres listas nuevas.\n",
    "- Imprime una serie de mensajes que nos digan la longitude de cada lista."
   ]
  },
  {
   "cell_type": "code",
   "execution_count": null,
   "metadata": {
    "collapsed": true
   },
   "outputs": [],
   "source": []
  },
  {
   "cell_type": "markdown",
   "metadata": {},
   "source": [
    "6 - Lista de gente Famosa\n",
    "- Crea una lista que incluya los nombres de cuatro personas famosas.\n",
    "- Elimina a cada persona de la lista, una cada vez, usando cada uno de los cuatro métodos que acabamos de ver:\n",
    "    - _Popea_ el último elemento de la lista y _popea_ cualquier elemento excepto el último.\n",
    "    - Elimina un elemento por su posición y un elemento por su valor.\n",
    "- Imprime un mensaje de no quedan personas famosas en su lista, e imprime la lista para mostrar que está vacía."
   ]
  },
  {
   "cell_type": "code",
   "execution_count": null,
   "metadata": {
    "collapsed": true
   },
   "outputs": [],
   "source": []
  },
  {
   "cell_type": "markdown",
   "metadata": {},
   "source": [
    "7 - Cortes del alfabeto\n",
    "- Almacena las primeras diez letras del alfabeto en una lista.\n",
    "- Usa un _slice_ para imprimir las primeras tres letras del alfabeto.\n",
    "- Usa un _slice_ para imprimir tres letras del medio de la lista.\n",
    "- Usa un _slice_ para imprimir las letras desde cualquier punto en el medio de la lista, hasta el final."
   ]
  },
  {
   "cell_type": "code",
   "execution_count": null,
   "metadata": {
    "collapsed": true
   },
   "outputs": [],
   "source": []
  },
  {
   "cell_type": "code",
   "execution_count": null,
   "metadata": {
    "collapsed": true
   },
   "outputs": [],
   "source": []
  },
  {
   "cell_type": "markdown",
   "metadata": {},
   "source": [
    "8 - Lista protegida\n",
    "- El objetivo en este ejercicio es demostrar que la copia de una lista protege la lista original.\n",
    "- Haz una lista con los nombres de tres personas.\n",
    "- Usa un _slice_ para hacer una copia de la lista completa. Recuerda como se realizaba la compia completa.\n",
    "- Agrega al menos dos nombres nuevos a la nueva copia de la lista.\n",
    "- Haz un _loop_ que imprima todos los nombres en la lista original, junto con un mensaje de que esta es la lista original.\n",
    "- Haga un _loop_ que imprima todos los nombres en la lista copiada, junto con un mensaje de que esta es la lista copiada."
   ]
  },
  {
   "cell_type": "code",
   "execution_count": null,
   "metadata": {
    "collapsed": true
   },
   "outputs": [],
   "source": []
  },
  {
   "cell_type": "markdown",
   "metadata": {},
   "source": [
    "9 - Utiliza la función _range()_ para almacenar los primeros veinte números (1-20) en una lista e imprimirlos."
   ]
  },
  {
   "cell_type": "code",
   "execution_count": null,
   "metadata": {
    "collapsed": true
   },
   "outputs": [],
   "source": []
  },
  {
   "cell_type": "markdown",
   "metadata": {},
   "source": [
    "10 - Coge el codigo del ejercicio anterior y cambia el número final a un número mucho más grande. ¿Cuánto tiempo le toma al ordenador imprimir el primer millón de números? (La mayoría de la gente nunca verá un millón de números desplazarse ante sus ojos. Cuidado que esto puede ralentizar mucho tu ordenador)."
   ]
  },
  {
   "cell_type": "code",
   "execution_count": null,
   "metadata": {
    "collapsed": true
   },
   "outputs": [],
   "source": []
  },
  {
   "cell_type": "markdown",
   "metadata": {},
   "source": [
    "11 - Imagina cinco carteras con diferentes cantidades de efectivo en ellas. Almacena estos cinco valores en una lista e imprime los siguientes mensajes:\n",
    "- \"La cartera más gorda tiene euros _valor_ en ella\".\n",
    "- \"La cartera más delgada tiene euros _valor_ en ella\".\n",
    "- \"Todas juntas, estas carteras tienen euros _valor_ en ellas\"."
   ]
  },
  {
   "cell_type": "code",
   "execution_count": null,
   "metadata": {
    "collapsed": true
   },
   "outputs": [],
   "source": []
  },
  {
   "cell_type": "markdown",
   "metadata": {},
   "source": [
    "12 - Creando listas de comprensión\n",
    "- Haz una lista de los primeros diez múltiplos de diez (10, 20, 30 ... 90, 100) usando una lista de comprensión. Imprime tu lista.\n",
    "\n",
    "- Vimos cómo hacer una lista de los primeros diez cuadrados. Haz una lista de los primeros diez cubos (1, 8, 27 ... 1000) usando una lista de comprensión, e imprímelos.\n",
    "\n",
    "- Almacena cinco nombres en una lista. Haz una segunda lista que agregue la frase \"¡es increíble!\" a cada nombre, usando una lista de comprensión. Imprime la increíble versión de los nombres.\n",
    "\n",
    "- Trabajando al revés. Escribe el siguiente código sin usar una lista de comprensión:\n",
    "\n",
    "    mas_13 = [numero + 13 for numero in range(1,11)]"
   ]
  },
  {
   "cell_type": "code",
   "execution_count": null,
   "metadata": {
    "collapsed": true
   },
   "outputs": [],
   "source": []
  },
  {
   "cell_type": "markdown",
   "metadata": {},
   "source": [
    "13 - Trabajo con cadenas y listas.\n",
    "\n",
    "- Almacenar una frase en una variable. Usa un bucle for para imprimir cada carácter de la frase en una línea separada.\n",
    "- Almacena una frase en una variable. Crea una lista de tu frase. Imprime la lista.\n",
    "- Almacena una frase en una variable. Utilizando _slicing_ imprime los primeros cinco caracteres, cinco caracteres consecutivos del medio y los últimos cinco caracteres de la oración."
   ]
  },
  {
   "cell_type": "code",
   "execution_count": null,
   "metadata": {
    "collapsed": true
   },
   "outputs": [],
   "source": []
  },
  {
   "cell_type": "markdown",
   "metadata": {},
   "source": [
    "14 - Buscando Python\n",
    "- Almacena una frase en una variable, asegurándote de usar la palabra *Python* al menos dos veces en la frase.\n",
    "- Usa la palabra clave *in* para probar que la palabra *Python* está realmente en la frase.\n",
    "- Usa la función *find()* para mostrar dónde aparece la palabra *Python* en la frase.\n",
    "- Utilice la función *rfind()* para mostrar el último lugar donde aparece * Python * en la frase.\n",
    "- Usa la función *count()* para mostrar cuántas veces aparece la palabra *Python*.\n",
    "- Usa la función *split()* para dividir la frase en una lista de palabras. Imprime la lista sin formato y utiliza un _loop_ para imprimir cada palabra en su propia línea.\n",
    "- Usa la función *replace()* para cambiar *Python* a *Ruby* en la frase."
   ]
  },
  {
   "cell_type": "code",
   "execution_count": null,
   "metadata": {
    "collapsed": true
   },
   "outputs": [],
   "source": []
  },
  {
   "cell_type": "markdown",
   "metadata": {},
   "source": [
    "15 - Puntuaciones de gimnastas\n",
    "- Un gimnasta puede obtener una puntuación  entre 1 y 10 de cada juez; nada más bajo, nada más elevado. Todos las puntuatciones son valores enteros; no hay puntuaciones decimales de ningún juez.\n",
    "- Almacena las puntuaciones que un posible gimnasta puede obtener de un juez en una tupla.\n",
    "- Imprime la frase 'La puntuación mas baja posible es ... y la puntuación más alta posible es .... Utiliza los valores de la tupla creada anteriormente.\n",
    "- Imprime una serie de mensajes, \"Un juez puede darle a un gimnasta ... puntos\" con todas las posibilidades de puntos que se pueden dar."
   ]
  },
  {
   "cell_type": "code",
   "execution_count": null,
   "metadata": {
    "collapsed": true
   },
   "outputs": [],
   "source": []
  },
  {
   "cell_type": "markdown",
   "metadata": {},
   "source": [
    "16 - Imprimiendo con formato\n",
    "- Elige un programa que ya hayas escrito que utilice concatenación de cadenas.\n",
    "- Reescribe tus secciones de cadena usando *%s* y *%d* en lugar de concatenación.\n",
    "- Repita esto con otros dos programas que ya ha escrito."
   ]
  },
  {
   "cell_type": "code",
   "execution_count": null,
   "metadata": {
    "collapsed": true
   },
   "outputs": [],
   "source": []
  },
  {
   "cell_type": "markdown",
   "metadata": {},
   "source": [
    "17 - Escribe un programa que calcule la descomposición en factores primos de un número."
   ]
  },
  {
   "cell_type": "code",
   "execution_count": null,
   "metadata": {
    "collapsed": true
   },
   "outputs": [],
   "source": []
  },
  {
   "cell_type": "markdown",
   "metadata": {},
   "source": [
    "18 - Escribe un programa que calcule el factorial de un número."
   ]
  },
  {
   "cell_type": "code",
   "execution_count": null,
   "metadata": {
    "collapsed": true
   },
   "outputs": [],
   "source": []
  },
  {
   "cell_type": "markdown",
   "metadata": {},
   "source": [
    "19 - Escribe un programa que dado un número, escriba la lista de todos los números primos hasta él."
   ]
  },
  {
   "cell_type": "code",
   "execution_count": null,
   "metadata": {
    "collapsed": true
   },
   "outputs": [],
   "source": []
  },
  {
   "cell_type": "markdown",
   "metadata": {},
   "source": [
    "20 - Escriba un programa que dada la siguiente lista cree dos listas diferentes con el nombre y los apellidos"
   ]
  },
  {
   "cell_type": "code",
   "execution_count": 3,
   "metadata": {
    "collapsed": true
   },
   "outputs": [],
   "source": [
    "lista = ['Maria','Lopez','Juan','Garcia','Ivan','Martinez']"
   ]
  },
  {
   "cell_type": "markdown",
   "metadata": {},
   "source": [
    "21 - Escribe un programa que elimine los duplicados de una lista"
   ]
  },
  {
   "cell_type": "code",
   "execution_count": null,
   "metadata": {
    "collapsed": true
   },
   "outputs": [],
   "source": [
    "lista = [1, 1, 2, 2, 3, 1, 2, 5, 6, 7, 8]"
   ]
  },
  {
   "cell_type": "markdown",
   "metadata": {},
   "source": [
    "22 - Escribe un programa que invierta una lista"
   ]
  },
  {
   "cell_type": "code",
   "execution_count": 4,
   "metadata": {
    "collapsed": true
   },
   "outputs": [],
   "source": [
    "lista = ['Di', 'buen', 'dia', 'a', 'papa']"
   ]
  },
  {
   "cell_type": "markdown",
   "metadata": {},
   "source": [
    "23 - Vamos con algo de biotecnología\n",
    "#### Contando Nucleótidos de ADN\n",
    "- [El proyecto Rosalind](http://rosalind.info/problems/locations/) es un [conjunto de problemas](http://rosalind.info/problems/list-view/) basado en conceptos de biotecnología. Está destinado a mostrar cómo las habilidades de programación pueden ayudar a resolver problemas en genética y biología.\n",
    "- Si has entendido la sección sobre cadenas, tienes suficiente información para resolver el primer problema en el Proyecto Rosalind, [Contando ADN Nucleótidos](http://rosalind.info/problems/dna/). Prueba el problema.\n",
    "- Si resuelves el problema, logueate y prueba la versión completa del problema.\n",
    "\n",
    "#### Transcribir ADN en ARN\n",
    "- También tienes suficiente información para probar el segundo problema, [Transcribir ADN en ARN](http://rosalind.info/problems/rna/). Prueba el problema.\n",
    "- Si resuelves el problema, logueate y prueba la versión completa del problema.\n",
    "\n",
    "#### Complemento de un filamento de ADN\n",
    "- Lo adivinaste!, ahora puedes probar el tercer problema también: [Complemento de un filamento de ADN](http://rosalind.info/problems/revc/). Prueba el problema y luego prueba la versión completa si has tenido éxito."
   ]
  },
  {
   "cell_type": "markdown",
   "metadata": {},
   "source": [
    "24 - Crea las siguientes listas de comprension que formulen las expresiones siguientes:\n",
    "    \n",
    " S = x<sup>2</sup> : x in {0...9}  \n",
    " V = (1, 2, 4, 8, ... 2<sup>12</sup>)  \n",
    " M = {x | x in S and x even}"
   ]
  },
  {
   "cell_type": "code",
   "execution_count": null,
   "metadata": {
    "collapsed": true
   },
   "outputs": [],
   "source": []
  },
  {
   "cell_type": "markdown",
   "metadata": {},
   "source": [
    "25 - Genera una lista de comprension con los numeros primos hasta 50. HINT: Puede ser mas sencillo generar una lista con los numeros no primos primero y generar  la de primos a partir de esa."
   ]
  },
  {
   "cell_type": "code",
   "execution_count": null,
   "metadata": {
    "collapsed": true
   },
   "outputs": [],
   "source": []
  },
  {
   "cell_type": "markdown",
   "metadata": {},
   "source": [
    "26 - Genera en una comprension de listas los elementos de la siguiente lista en minusculas, mayusculas y la longitude de cada uno. HINT: El resultado sera una lista de listas."
   ]
  },
  {
   "cell_type": "code",
   "execution_count": null,
   "metadata": {
    "collapsed": true
   },
   "outputs": [],
   "source": []
  }
 ],
 "metadata": {
  "kernelspec": {
   "display_name": "Python 3",
   "language": "python",
   "name": "python3"
  },
  "language_info": {
   "codemirror_mode": {
    "name": "ipython",
    "version": 3
   },
   "file_extension": ".py",
   "mimetype": "text/x-python",
   "name": "python",
   "nbconvert_exporter": "python",
   "pygments_lexer": "ipython3",
   "version": "3.6.3"
  }
 },
 "nbformat": 4,
 "nbformat_minor": 1
}
