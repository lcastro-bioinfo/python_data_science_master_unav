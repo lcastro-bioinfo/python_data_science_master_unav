{
 "cells": [
  {
   "cell_type": "markdown",
   "metadata": {},
   "source": [
    "Introducción\n",
    "=======\n",
    "Uno de los principios básicos de cualquier lenguaje de programación es \"No te repitas\" o \"No hagas tareas repetitivas todo el tiempo\", esto se conoce como código DRY (Don't Repeat Yourself). Si tenemos una acción que debería ocurrir muchas veces, podemos definir esa acción una vez (implementarla) y luego llamar a ese código cada vez que necesite llevar a cabo esa acción.\n",
    "\n",
    "La forma de no repetirnos constantemente (aparte del copiar + pegar), es a través de funciones. Las funciones significan menos trabajo para nosotros como programadores, y el uso efectivo de las funciones da como resultado un código que es menos propenso a errores."
   ]
  },
  {
   "cell_type": "markdown",
   "metadata": {},
   "source": [
    "Índice\n",
    "====\n",
    "- [¿Qúe es una función?](#%C2%BFQu%C3%A9-es-una-funci%C3%B3n?)\n",
    "    - [Sintaxis general](#%C2%BFQu%C3%A9-es-una-funci%C3%B3n?)\n",
    "- [Ejemplos](#Ejemplos-b%C3%A1sicos)\n",
    "    - [Devolviendo un valor](#Devolviendo-un-valor)\n",
    "    - [Ejercicios](#Ejercicios)\n",
    "- [Bonus](#Bonus)"
   ]
  },
  {
   "cell_type": "markdown",
   "metadata": {},
   "source": [
    "¿Qué es una función?\n",
    "===========\n",
    "\n",
    "Las funciones son un conjunto de acciones que agrupamos juntas y a las cuales damos un nombre. Ya hemos utilizado una serie de funciones del lenguaje básico de Python de forma implícita, como * string.title () * y * print().\n",
    "\n",
    "Podemos definir nuestras propias funciones, lo que nos permite \"enseñar\" a Python nueva funcionalidad que queramos obtener. Veámos como."
   ]
  },
  {
   "cell_type": "markdown",
   "metadata": {},
   "source": [
    "Sintaxis general\n",
    "------------------\n",
    "En general, una función tiene la siguiente forma:"
   ]
  },
  {
   "cell_type": "code",
   "execution_count": 2,
   "metadata": {},
   "outputs": [],
   "source": [
    "# Definamos una función\n",
    "def nombre_funcion(argumento_1, argumento_2):\n",
    "\t# Hacemos cualquier cosa que queramos,\n",
    "\t# usando el argumento 1 y el argumento 2\n",
    "\n",
    "# Para usar la funcion, basta con escribir el nombre.\n",
    "    nombre_funcion(valor_1, valor_2)"
   ]
  },
  {
   "cell_type": "markdown",
   "metadata": {},
   "source": [
    "Este código no se ejecutará porque es incorrecto, pero nos sirve para mostrarnos como se usan las funciones en general\n",
    "\n",
    "- **Definición de la función**\n",
    "    - Utiliza la palabra reservada `def`, que le indica a Python que vamos a \"definir\" una función.\n",
    "    - Dale un nombre a tu función. Un nombre de variable te dice qué tipo de valor contiene la variable; un nombre de función debería indicarte a tu yo futuro qué hace la función, y al resto de la gente.\n",
    "    - Dar nombres para cada valor que la función necesita para hacer su trabajo.\n",
    "        - Estos son básicamente nombres de variables, pero solo se usan en la función (el ámbito está restringido a dentro de la función).\n",
    "        - Pueden ser nombres diferentes a los que usa en el resto de su programa.\n",
    "        - Estos se conocen como * argumentos * de la función.\n",
    "    - Hay que asegurárse de que la línea de definición de función termine con dos puntos \":\".\n",
    "    - Dentro de la función, escribimos el código que queramos que haga la función.\n",
    "- **Usando tu función**\n",
    "    - Para * llamar * a la función, escribimos su nombre seguido de paréntesis.\n",
    "    - Dentro de los paréntesis, indicamos los valores con los que deseamos que la función trabaje.\n",
    "        - Pueden ser variables como ` nombre_actual` y `edad_actual`, o pueden ser valores reales como 'Pedro' y 15."
   ]
  },
  {
   "cell_type": "markdown",
   "metadata": {},
   "source": [
    "Ejemplos básicos\n",
    "=========\n",
    "\n",
    "Veamos un primer ejemplo simple, un programa que incentiva a las personas. Miremos el ejemplo y luego intentemos comprender el código. \n",
    "\n",
    "Primero veamos una versión de este programa como lo habríamos escrito antes, es decir, sin usar funciones."
   ]
  },
  {
   "cell_type": "code",
   "execution_count": 7,
   "metadata": {},
   "outputs": [
    {
     "name": "stdout",
     "output_type": "stream",
     "text": [
      "¡Buen trabajo, Adriana!\n",
      "Muchas gracias por tu dedicación al proyecto.\n",
      "\n",
      "¡Buen trabajo, Pedro!\n",
      "Muchas gracias por tu dedicación al proyecto.\n",
      "\n",
      "¡Buen trabajo, Carolina!\n",
      "Muchas gracias por tu dedicación al proyecto.\n"
     ]
    }
   ],
   "source": [
    "print(\"¡Buen trabajo, Adriana!\")\n",
    "print(\"Muchas gracias por tu dedicación al proyecto.\")\n",
    "\n",
    "print(\"\\n¡Buen trabajo, Pedro!\")\n",
    "print(\"Muchas gracias por tu dedicación al proyecto.\")\n",
    "\n",
    "print(\"\\n¡Buen trabajo, Carolina!\")\n",
    "print(\"Muchas gracias por tu dedicación al proyecto.\")"
   ]
  },
  {
   "cell_type": "markdown",
   "metadata": {},
   "source": [
    "Las funciones toman código \"repetible\", lo ponen en un lugar y luego llaman a ese código cuando se quiere usarlo. Vamos a ver como escribir lo mismo que antes usando una función."
   ]
  },
  {
   "cell_type": "code",
   "execution_count": 8,
   "metadata": {},
   "outputs": [
    {
     "name": "stdout",
     "output_type": "stream",
     "text": [
      "\n",
      "¡Buen trabajo, Adriana!\n",
      "Muchas gracias por tu dedicación al proyecto.\n",
      "\n",
      "¡Buen trabajo, Pedro!\n",
      "Muchas gracias por tu dedicación al proyecto.\n",
      "\n",
      "¡Buen trabajo, Carolina!\n",
      "Muchas gracias por tu dedicación al proyecto.\n"
     ]
    }
   ],
   "source": [
    "def agradecimiento(nombre):\n",
    "    # Esta función saca por pantalla un mensaje de agradecimiento en dos líneas\n",
    "    print(\"\\n¡Buen trabajo, %s!\" % nombre)\n",
    "    print(\"Muchas gracias por tu dedicación al proyecto.\")\n",
    "    \n",
    "agradecimiento('Adriana')\n",
    "agradecimiento('Pedro')\n",
    "agradecimiento('Carolina')"
   ]
  },
  {
   "cell_type": "markdown",
   "metadata": {},
   "source": [
    "\n",
    "En nuestro código original, cada par de instrucciones de impresión (print) se ejecutaba tres veces, y la única diferencia era el nombre de la persona a la que se daba las gracias. Cuando vemos una repetición como esta, generalmente podemos hacer que el programa sea más eficiente definiendo una función.\n",
    "\n",
    "La palabra clave * def * le dice a Python que estamos a punto de definir una función. Le damos a nuestra función un nombre, * agradecimiento () * en este caso. El nombre de una variable debe decirnos qué tipo de información contiene; el nombre de una función debería decirnos qué hace la función. Luego ponemos paréntesis. Dentro de estos paréntesis, creamos nombres de variables para cualquier variable que la función tendrá que ser dada para hacer su trabajo. En este caso, la función necesitará un nombre para incluir en el mensaje de agradecimiento. La variable `name` mantendrá el valor que se pasa a la función * agradecimiento () *.\n",
    "\n",
    "Para usar una función escribimos el nombre de la función, y luego ponemos cualquier valor que la función necesite para hacer su trabajo. En este caso llamamos a la función tres veces, cada vez que le damos un nombre diferente."
   ]
  },
  {
   "cell_type": "markdown",
   "metadata": {},
   "source": [
    "### Un error muy común\n",
    "\n",
    "Se debe definir una función antes de usarla en un programa. Por ejemplo, poner la función al final del programa no funcionaría, en caso contrario nos pasará lo siguiente"
   ]
  },
  {
   "cell_type": "code",
   "execution_count": 10,
   "metadata": {},
   "outputs": [
    {
     "ename": "NameError",
     "evalue": "name 'agradecimiento_dos' is not defined",
     "output_type": "error",
     "traceback": [
      "\u001b[0;31m---------------------------------------------------------------------------\u001b[0m",
      "\u001b[0;31mNameError\u001b[0m                                 Traceback (most recent call last)",
      "\u001b[0;32m<ipython-input-10-ecc9bba00637>\u001b[0m in \u001b[0;36m<module>\u001b[0;34m()\u001b[0m\n\u001b[0;32m----> 1\u001b[0;31m \u001b[0magradecimiento_dos\u001b[0m\u001b[0;34m(\u001b[0m\u001b[0;34m'Adriana'\u001b[0m\u001b[0;34m)\u001b[0m\u001b[0;34m\u001b[0m\u001b[0m\n\u001b[0m\u001b[1;32m      2\u001b[0m \u001b[0magradecimiento_dos\u001b[0m\u001b[0;34m(\u001b[0m\u001b[0;34m'Pedro'\u001b[0m\u001b[0;34m)\u001b[0m\u001b[0;34m\u001b[0m\u001b[0m\n\u001b[1;32m      3\u001b[0m \u001b[0magradecimiento_dos\u001b[0m\u001b[0;34m(\u001b[0m\u001b[0;34m'Carolina'\u001b[0m\u001b[0;34m)\u001b[0m\u001b[0;34m\u001b[0m\u001b[0m\n\u001b[1;32m      4\u001b[0m \u001b[0;34m\u001b[0m\u001b[0m\n\u001b[1;32m      5\u001b[0m \u001b[0;32mdef\u001b[0m \u001b[0magradecimiento_dos\u001b[0m\u001b[0;34m(\u001b[0m\u001b[0mnombre\u001b[0m\u001b[0;34m)\u001b[0m\u001b[0;34m:\u001b[0m\u001b[0;34m\u001b[0m\u001b[0m\n",
      "\u001b[0;31mNameError\u001b[0m: name 'agradecimiento_dos' is not defined"
     ]
    }
   ],
   "source": [
    "agradecimiento_dos('Adriana')\n",
    "agradecimiento_dos('Pedro')\n",
    "agradecimiento_dos('Carolina')\n",
    "\n",
    "def agradecimiento_dos(nombre):\n",
    "    # Esta función saca por pantalla un mensaje de agradecimiento en dos líneas\n",
    "    print(\"\\n¡Buen trabajo, %s!\" % nombre)\n",
    "    print(\"Muchas gracias por tu dedicación al proyecto.\")"
   ]
  },
  {
   "cell_type": "markdown",
   "metadata": {},
   "source": [
    "\n",
    "En la primera línea le pedimos a Python que ejecute la función * agradecimiento_dos () *, pero Python aún no sabe cómo nada de esta función. En general, definimos nuestras funciones al comienzo de nuestros programas, y luego podemos usarlos cuando sea necesario, o por lo menos antes de ser utilizadas."
   ]
  },
  {
   "cell_type": "markdown",
   "metadata": {},
   "source": [
    "Otro ejemplo\n",
    "--------------\n",
    "\n",
    "\n",
    "Cuando presentamos los diferentes métodos para ordenar una lista, nuestro código obtuvo muy repetitivo Se necesitan dos líneas de código para imprimir una lista mediante un ciclo for, de modo que estas dos líneas se repiten siempre que desee imprimir el contenido de una lista. Esta es la oportunidad perfecta para usar una función, así que veamos cómo se escribir el código con una función.\n",
    "\n",
    "Primero, veamos el código que teníamos sin una función:"
   ]
  },
  {
   "cell_type": "code",
   "execution_count": 3,
   "metadata": {},
   "outputs": [
    {
     "name": "stdout",
     "output_type": "stream",
     "text": [
      "Nuestros estudiantes ordenados alfabéticamente\n",
      "Alberto\n",
      "Leire\n",
      "Pedro\n",
      "Xavier\n",
      "\n",
      "Nuestros estudiantes ordenados alfabéticamente en sentido inverso\n",
      "Xavier\n",
      "Pedro\n",
      "Leire\n",
      "Alberto\n"
     ]
    }
   ],
   "source": [
    "estudiantes = ['leire', 'xavier', 'pedro', 'alberto']\n",
    "\n",
    "# Ordenamos la lista por orden alfabético\n",
    "estudiantes.sort()\n",
    "\n",
    "# Muestra los estudiantes por pantalla\n",
    "print(\"Nuestros estudiantes ordenados alfabéticamente\")\n",
    "for estudiante in estudiantes:\n",
    "    print(estudiante.title())\n",
    "\n",
    "# Ordenamos la lista otra vez en sentido inverso\n",
    "estudiantes.sort(reverse=True)\n",
    "\n",
    "# Mostramos la lista otra vez\n",
    "print(\"\\nNuestros estudiantes ordenados alfabéticamente en sentido inverso\")\n",
    "for estudiante in estudiantes:\n",
    "    print(estudiante.title())"
   ]
  },
  {
   "cell_type": "markdown",
   "metadata": {},
   "source": [
    "\n",
    "Veamos como haríamos este codigo con una funcion"
   ]
  },
  {
   "cell_type": "code",
   "execution_count": 4,
   "metadata": {},
   "outputs": [
    {
     "name": "stdout",
     "output_type": "stream",
     "text": [
      "\n",
      "Nuestros estudiantes ordenados alfabéticamente\n",
      "Alberto\n",
      "Leire\n",
      "Pedro\n",
      "Xavier\n",
      "\n",
      "Nuestros estudiantes ordenados alfabéticamente en sentido inverso\n",
      "Xavier\n",
      "Pedro\n",
      "Leire\n",
      "Alberto\n"
     ]
    }
   ],
   "source": [
    "# Muestra los estudiantes en el orden especificado\n",
    "def mostrar_estudiantes(estudiantes, mensaje, orden):\n",
    "    # Sacamos un mensaje y luego mostramos los estudiantes en el orden especificado\n",
    "    print(mensaje)\n",
    "    estudiantes.sort(reverse=orden)\n",
    "    for estudiante in estudiantes:\n",
    "        print(estudiante.title())\n",
    "\n",
    "estudiantes = ['leire', 'xavier', 'pedro', 'alberto']\n",
    "\n",
    "mostrar_estudiantes(estudiantes, \"\\nNuestros estudiantes ordenados alfabéticamente\", False)\n",
    "mostrar_estudiantes(estudiantes, \"\\nNuestros estudiantes ordenados alfabéticamente en sentido inverso\", True)"
   ]
  },
  {
   "cell_type": "code",
   "execution_count": 5,
   "metadata": {},
   "outputs": [
    {
     "name": "stdout",
     "output_type": "stream",
     "text": [
      "\n",
      "Nuestros estudiantes ordenados alfabéticamente\n",
      "* Alberto\n",
      "* Leire\n",
      "* Pedro\n",
      "* Xavier\n",
      "\n",
      "Nuestros estudiantes ordenados alfabéticamente en sentido inverso\n",
      "* Xavier\n",
      "* Pedro\n",
      "* Leire\n",
      "* Alberto\n",
      "['hola', 'adios', 'buenas', 'noches']\n",
      "* Alberto\n",
      "* Leire\n",
      "* Pedro\n",
      "* Xavier\n"
     ]
    }
   ],
   "source": [
    "# Muestra los estudiantes en el orden especificado\n",
    "def mostrar_estudiantes(estudiantes, mensaje, orden):\n",
    "    # Sacamos un mensaje y luego mostramos los estudiantes en el orden especificado\n",
    "    print(mensaje)\n",
    "    estudiantes.sort(reverse=orden)\n",
    "    for estudiante in estudiantes:\n",
    "        print(\"* \" + estudiante.title())\n",
    "\n",
    "estudiantes = ['leire', 'xavier', 'pedro', 'alberto']\n",
    "\n",
    "mensajes = ['hola', 'adios', 'buenas', 'noches']\n",
    "\n",
    "mostrar_estudiantes(estudiantes, \"\\nNuestros estudiantes ordenados alfabéticamente\", False)\n",
    "mostrar_estudiantes(estudiantes, \"\\nNuestros estudiantes ordenados alfabéticamente en sentido inverso\", True)\n",
    "mostrar_estudiantes(estudiantes, mensajes, False)"
   ]
  },
  {
   "cell_type": "markdown",
   "metadata": {},
   "source": [
    "Este es un código mucho más limpio. Tenemos una acción que queremos tomar, que es mostrar a los estudiantes en nuestra lista junto con un mensaje y un orden (inverso o normal). Le damos a esta acción un nombre, * mostrar_estudiantes () *.\n",
    "\n",
    "Esta función necesita tres piezas de información para hacer su trabajo, la lista de estudiantes, un mensaje para mostrar y el sentido de ordenación. Dentro de la función, el código para imprimir el mensaje y recorrer la lista es exactamente como en el código sin función.\n",
    "\n",
    "Ahora el resto de nuestro programa es más limpio, porque se enfoca en las cosas que estamos cambiando en la lista, en lugar de tener un código para imprimir la lista. Definimos la lista y llamamos a nuestra función para imprimir la lista en el orden que queramos y con el mensaje que queramos. Este es un código mucho más legible, mantenible y escalable.\n",
    "\n",
    "### Ventajas de usar funciones\n",
    "\n",
    "Veamos algunas ventajas de usar funciones a través de este ejemplo:\n",
    "\n",
    "- Escribimos un conjunto de instrucciones una vez. Ahorramos algo de trabajo en este simple ejemplo, y ahorramos aún más trabajo en programas más grandes.\n",
    "- Cuando nuestra función \"funciona\", ya no tenemos que preocuparnos por ese código (en general). Cada vez que repites el código en tu programa, introduces la oportunidad de cometer un error. Escribir una función significa que hay un lugar para corregir errores, y cuando esos errores se solucionan, podemos estar seguros de que esta función continuará funcionando correctamente.\n",
    "- Podemos modificar el comportamiento de nuestra función, y ese cambio tiene efecto cada vez que se llama a la función. Esto es mucho mejor que decidir que necesitamos un comportamiento nuevo y luego tener que cambiar el código en muchos lugares diferentes de nuestro programa.\n"
   ]
  },
  {
   "cell_type": "markdown",
   "metadata": {},
   "source": [
    "\n",
    "Para un ejemplo rápido, digamos que decidimos que nuestra salida impresa en la función anterior se vería mejor con algún tipo de lista puntuada. Sin funciones, tendríamos que cambiar cada vez que  imprimimos por pantalla. Con una función, cambiamos solo la declaración de impresión en la función. Vamos a ver esto."
   ]
  },
  {
   "cell_type": "code",
   "execution_count": 6,
   "metadata": {},
   "outputs": [
    {
     "name": "stdout",
     "output_type": "stream",
     "text": [
      "\n",
      "Nuestros estudiantes ordenados alfabéticamente\n",
      "* Alberto\n",
      "* Leire\n",
      "* Pedro\n",
      "* Xavier\n",
      "\n",
      "Nuestros estudiantes ordenados alfabéticamente en sentido inverso\n",
      "* Xavier\n",
      "* Pedro\n",
      "* Leire\n",
      "* Alberto\n",
      "['hola', 'adios', 'buenas', 'noches']\n",
      "* Alberto\n",
      "* Leire\n",
      "* Pedro\n",
      "* Xavier\n"
     ]
    }
   ],
   "source": [
    "# Muestra los estudiantes en el orden especificado\n",
    "def mostrar_estudiantes(estudiantes, mensaje, orden):\n",
    "    # Sacamos un mensaje y luego mostramos los estudiantes en el orden especificado\n",
    "    print(mensaje)\n",
    "    estudiantes.sort(reverse=orden)\n",
    "    for estudiante in estudiantes:\n",
    "        print(\"* \" + estudiante.title())\n",
    "\n",
    "estudiantes = ['leire', 'xavier', 'pedro', 'alberto']\n",
    "\n",
    "mostrar_estudiantes(estudiantes, \"\\nNuestros estudiantes ordenados alfabéticamente\", False)\n",
    "mostrar_estudiantes(estudiantes, \"\\nNuestros estudiantes ordenados alfabéticamente en sentido inverso\", True)\n",
    "mostrar_estudiantes(estudiantes, mensajes, False)"
   ]
  },
  {
   "cell_type": "markdown",
   "metadata": {},
   "source": [
    "\n",
    "Puede pensar en funciones como una forma de \"enseñarle\" a Python algún comportamiento nuevo. En este caso, le enseñamos a Python cómo crear una lista de estudiantes usando asteríscos; ahora podemos decirle a Python que haga esto con nuestros estudiantes cuando queramos."
   ]
  },
  {
   "cell_type": "markdown",
   "metadata": {},
   "source": [
    "Devolviendo un valor\n",
    "-----------------------\n",
    "\n",
    "Cada función que creamos puede devolver un valor. Esto puede ser adicional al trabajo principal que realiza la función, o puede ser el trabajo principal de la función. \n",
    "\n",
    "Veamos esto con La siguiente función quye toma un número y devuelve la palabra correspondiente para ese número:"
   ]
  },
  {
   "cell_type": "code",
   "execution_count": 8,
   "metadata": {},
   "outputs": [
    {
     "name": "stdout",
     "output_type": "stream",
     "text": [
      "0 None\n",
      "1 uno\n",
      "2 dos\n",
      "3 tres\n",
      "4 None\n"
     ]
    }
   ],
   "source": [
    "def obtener_palabra_numero(numero):\n",
    "    # Dado un numero, devuelve la palabra\n",
    "    # correspondiente a ese número\n",
    "    if numero == 1:\n",
    "        return 'uno'\n",
    "    elif numero == 2:\n",
    "        return 'dos'\n",
    "    elif numero == 3:\n",
    "        return 'tres'\n",
    "    # ...\n",
    "    \n",
    "# Probemos nuestra funcion\n",
    "for numero in range(0,4):\n",
    "    palabra = obtener_palabra_numero(numero)\n",
    "    print(numero, palabra)\n",
    "    \n",
    "    \n",
    "#El 0 no está definido, por eso ha puesto en el índece 0 un none\n",
    "#en el siguiente script modifica la función:"
   ]
  },
  {
   "cell_type": "markdown",
   "metadata": {},
   "source": [
    "\n",
    "A veces es útil ver programas que no funcionan del todo como deberían y luego ver cómo se pueden mejorar esos programas. En este caso, no hay errores de Python; todo el código tiene la sintaxis de Python adecuada. Pero hay un error lógico, en la primera línea que sacamos por pantalla.\n",
    "\n",
    "Queremos no incluir 0 en el rango que enviamos a la función, o hacer que la función devuelva algo que no sea `None`  cuando recibe un valor que desconoce. Enseñemos a nuestra función la palabra 'cero', pero vamos a agregar también una cláusula `else` que devuelve un mensaje más informativo para los números que no están en la cadena if."
   ]
  },
  {
   "cell_type": "code",
   "execution_count": 9,
   "metadata": {},
   "outputs": [
    {
     "name": "stdout",
     "output_type": "stream",
     "text": [
      "0 cero\n",
      "1 uno\n",
      "2 dos\n",
      "3 tres\n",
      "4 No tengo ni idea que numero es!\n",
      "5 No tengo ni idea que numero es!\n"
     ]
    }
   ],
   "source": [
    "#Aqui añadimos un 0, y al final aádims un else para que haya lo que haya, nos evalue el mensaje y diga algo\n",
    "def obtener_palabra_numero(numero):\n",
    "    # Dado un numero, devuelve la palabra\n",
    "    # correspondiente a ese número\n",
    "    if numero == 0:\n",
    "        return 'cero'\n",
    "    elif numero == 1:\n",
    "        return 'uno'\n",
    "    elif numero == 2:\n",
    "        return 'dos'\n",
    "    elif numero == 3:\n",
    "        return 'tres'\n",
    "    else:\n",
    "        return 'No tengo ni idea que numero es!'\n",
    "    \n",
    "# Probemos nuestra funcion\n",
    "for numero in range(0, 6):\n",
    "    palabra = obtener_palabra_numero(numero)\n",
    "    print(numero, palabra)"
   ]
  },
  {
   "cell_type": "markdown",
   "metadata": {},
   "source": [
    "If you use a return statement in one of your functions, keep in mind that the function stops executing as soon as it hits a return statement. For example, we can add a line to the *get\\_number\\_word()* function that will never execute, because it comes after the function has returned a value:\n",
    "\n",
    "Si usamos la palabra reservada `return` en una de función, hay que tener en cuenta que la función deja de ejecutarse tan pronto como llega a esta instrucción. Por ejemplo, podemos agregar una línea a la función * obtener_palabra_numero () * que nunca se ejecutará, porque se produce después de que la función haya devuelto un valor:"
   ]
  },
  {
   "cell_type": "code",
   "execution_count": 10,
   "metadata": {},
   "outputs": [
    {
     "name": "stdout",
     "output_type": "stream",
     "text": [
      "0 cero\n",
      "1 uno\n",
      "2 dos\n",
      "3 tres\n",
      "4 No tengo ni idea que numero es!\n",
      "5 No tengo ni idea que numero es!\n"
     ]
    }
   ],
   "source": [
    "def obtener_palabra_numero(numero):\n",
    "    # Dado un numero, devuelve la palabra\n",
    "    # correspondiente a ese número\n",
    "    if numero == 0:\n",
    "        return 'cero'\n",
    "    elif numero == 1:\n",
    "        return 'uno'\n",
    "    elif numero == 2:\n",
    "        return 'dos'\n",
    "    elif numero == 3:\n",
    "        return 'tres'\n",
    "    else:\n",
    "        return 'No tengo ni idea que numero es!'\n",
    "    \n",
    "#El siguiente print no se ejecuta por las clausulas con return que le hemos dado.     \n",
    "    print('Esta línea nunca se ejecutará porque ya habremos devuelto algún valor')\n",
    "    \n",
    "# Probemos nuestra funcion\n",
    "for numero in range(0, 6):\n",
    "    palabra = obtener_palabra_numero(numero)\n",
    "    print(numero, palabra)"
   ]
  },
  {
   "cell_type": "markdown",
   "metadata": {},
   "source": [
    "En el siguiente capítulo\n",
    "----------------------------\n",
    "\n",
    "Hay mucho más que aprender sobre las funciones, pero llegaremos a esos detalles más adelante. Por ahora, hay que asgurarse de usar funciones cada vez que nos encontremos escribiendo el mismo código varias veces en un programa. Algunas de las cosas que aprenderemos en el siguiente notebook:\n",
    "\n",
    "- Cómo dar los argumentos con valores por defecto a las funciones.\n",
    "- Cómo permitir que tus funciones acepten diferentes números de argumentos."
   ]
  },
  {
   "cell_type": "markdown",
   "metadata": {},
   "source": [
    "Ejercicios\n",
    "-----------\n",
    "\n",
    "\n",
    "#### Felicitador automático\n",
    "- Escribir una función que incluya el nombre de una persona e imprima una felicitación.\n",
    "    - El saludo debe tener al menos tres líneas, y el nombre de la persona debe estar en cada línea.\n",
    "- Usa tu función para saludar al menos a tres personas diferentes.\n",
    "- ** Bonus: ** Guarde tres personas en una lista y llama a la función desde un bucle `for`.\n",
    "\n",
    "#### Nombres completos\n",
    "- Escribir una función que incluya un nombre y un apellido, e imprima un nombre completo con buen formato, en una oración. La frase podría ser tan simple como, \"Hola, * nombre_completo *!\".\n",
    "- Llamar a la función tres veces, con un nombre diferente cada vez.\n",
    "\n",
    "#### Calculadora de sumas\n",
    "- Escribe una función que toma dos números y los suma. Hacer que la función imprima una frase que muestre los dos números y el resultado.\n",
    "- Llamar a la función con tres conjuntos diferentes de números.\n",
    "\n",
    "#### Calculadora de devolución\n",
    "- Modificar * Calculadora de sumas * para que su función devuelva la suma de los dos números. La impresión debe ocurrir fuera de la función.\n",
    "\n",
    "\n"
   ]
  },
  {
   "cell_type": "markdown",
   "metadata": {},
   "source": [
    "Bonus\n",
    "------\n",
    "\n",
    "#### Letras de caciones\n",
    "\n",
    "- Muchas canciones siguen una variación familiar del patrón de * verso *, * estribillo *, * verso *, * estribillo *. Los versos son las partes de la canción que cuentan una historia, no se repiten en la canción. El estribillo es la parte de la canción que se repite a lo largo de la canción.\n",
    "- Encuentra las letras de una [canción como esta por ejemplo](https://genius.com/Journey-dont-stop-believin-lyrics) que sigue este patrón. \n",
    "- Escribir un programa que imprima las letras de esta canción, usando el menor número posible de líneas de código Python."
   ]
  },
  {
   "cell_type": "code",
   "execution_count": 14,
   "metadata": {},
   "outputs": [
    {
     "name": "stdout",
     "output_type": "stream",
     "text": [
      "\n",
      " Muchas felicidades, Laura \n",
      "\n",
      " Eres muy buena estudiante, Laura \n",
      "\n",
      " Sigue así, Laura \n",
      "\n",
      " Muchas felicidades, Miguel \n",
      "\n",
      " Eres muy buena estudiante, Miguel \n",
      "\n",
      " Sigue así, Miguel \n",
      "\n",
      " Muchas felicidades, Oscar \n",
      "\n",
      " Eres muy buena estudiante, Oscar \n",
      "\n",
      " Sigue así, Oscar \n",
      "\n",
      "Sois los mejores: \n",
      "\n",
      "Ana\n",
      "Rosa\n",
      "Pedro\n",
      "Laura\n",
      "Miguel\n"
     ]
    }
   ],
   "source": [
    "def felicitar (persona):\n",
    "    print (\"\\n Muchas felicidades, %s \" % persona)\n",
    "    print (\"\\n Eres muy buena estudiante, %s \" % persona)\n",
    "    print (\"\\n Sigue así, %s \" % persona)\n",
    "    \n",
    "felicitar('Laura')  \n",
    "felicitar('Miguel')\n",
    "felicitar('Oscar')\n",
    "    \n",
    "    \n",
    "def congrats (personas, mensaje):\n",
    "    print (mensaje)\n",
    "    for persona in personas:\n",
    "        print(persona.title())\n",
    "\n",
    "personas = ['ana', 'rosa', 'pedro','laura', 'miguel']\n",
    "congrats (personas,\"\\nSois los mejores: \\n\")"
   ]
  },
  {
   "cell_type": "code",
   "execution_count": 31,
   "metadata": {},
   "outputs": [
    {
     "name": "stdout",
     "output_type": "stream",
     "text": [
      "\n",
      "Buenos días, Juan Sanchez:¿qué tal estás?\n",
      "\n",
      "Buenos días, Miguel Placeres:¿qué tal estás?\n",
      "\n",
      "Buenos días, Pepito Castro:¿qué tal estás?\n"
     ]
    }
   ],
   "source": [
    "def saludar(nombre):\n",
    "    print(\"\\nBuenos días, %s:¿qué tal estás?\" % nombre.title())\n",
    "    \n",
    "saludar(\"juan sanchez\")\n",
    "saludar(\"miguel placeres\")\n",
    "saludar(\"pepito castro\")"
   ]
  },
  {
   "cell_type": "code",
   "execution_count": null,
   "metadata": {
    "collapsed": true
   },
   "outputs": [],
   "source": []
  }
 ],
 "metadata": {
  "kernelspec": {
   "display_name": "Python 3",
   "language": "python",
   "name": "python3"
  },
  "language_info": {
   "codemirror_mode": {
    "name": "ipython",
    "version": 3
   },
   "file_extension": ".py",
   "mimetype": "text/x-python",
   "name": "python",
   "nbconvert_exporter": "python",
   "pygments_lexer": "ipython3",
   "version": "3.6.3"
  }
 },
 "nbformat": 4,
 "nbformat_minor": 1
}
