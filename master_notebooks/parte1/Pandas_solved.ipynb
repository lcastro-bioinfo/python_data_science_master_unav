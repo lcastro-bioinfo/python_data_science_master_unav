{
 "cells": [
  {
   "cell_type": "markdown",
   "metadata": {},
   "source": [
    "# Pandas"
   ]
  },
  {
   "cell_type": "code",
   "execution_count": 2,
   "metadata": {
    "collapsed": true
   },
   "outputs": [],
   "source": [
    "import pandas as pd # import pandas\n",
    "import numpy as np # import numpy\n",
    "import matplotlib.pyplot as plt # import libreria para plotear\n",
    "pd.set_option('max_columns', 50) # maximo de columnas a mostrar cuando se muestra un pandas dataframe\n",
    "# indica a python que plotee en el notebook\n",
    "%matplotlib inline "
   ]
  },
  {
   "cell_type": "markdown",
   "metadata": {},
   "source": [
    "## Series"
   ]
  },
  {
   "cell_type": "markdown",
   "metadata": {},
   "source": [
    "Crear una estructura _Series_ con indice por defecto"
   ]
  },
  {
   "cell_type": "code",
   "execution_count": 43,
   "metadata": {
    "collapsed": true
   },
   "outputs": [],
   "source": [
    "# crear una estructura Series desde una lista arbitraria\n",
    "s = pd.Series([7, 'Heisenberg', 3.14, -1789710578, 'Happy Eating!'])\n",
    "#print s"
   ]
  },
  {
   "cell_type": "code",
   "execution_count": null,
   "metadata": {
    "collapsed": true
   },
   "outputs": [],
   "source": [
    "print s[0]\n",
    "print s[1]\n",
    "print s[2]\n",
    "print s[3]\n",
    "print s[4]"
   ]
  },
  {
   "cell_type": "markdown",
   "metadata": {},
   "source": [
    "Crear una estructura _Series_ con indicando un indice"
   ]
  },
  {
   "cell_type": "code",
   "execution_count": 22,
   "metadata": {
    "collapsed": true
   },
   "outputs": [],
   "source": [
    "s = pd.Series([7, 'Heisenberg', 3.14, -1789710578, 'Happy Eating!'],\n",
    "              index=['A', 'Z', 'C', 'Y', 'E'])\n",
    "print s"
   ]
  },
  {
   "cell_type": "markdown",
   "metadata": {},
   "source": [
    "Se puede acceder a los elementos utilizando el indice"
   ]
  },
  {
   "cell_type": "code",
   "execution_count": null,
   "metadata": {
    "collapsed": true
   },
   "outputs": [],
   "source": [
    "print s['A']\n",
    "print s['Z']\n",
    "print s['C']\n",
    "print s['Y']\n",
    "print s['E']"
   ]
  },
  {
   "cell_type": "markdown",
   "metadata": {},
   "source": [
    "Se puede acceder a los elementos igualmente utilizando el indice numerico"
   ]
  },
  {
   "cell_type": "code",
   "execution_count": null,
   "metadata": {
    "collapsed": true
   },
   "outputs": [],
   "source": [
    "print s[0]\n",
    "print s[1]\n",
    "print s[2]\n",
    "print s[3]\n",
    "print s[4]"
   ]
  },
  {
   "cell_type": "markdown",
   "metadata": {},
   "source": [
    "Tambien se puede convertir un diccionario a una estructura _Series_"
   ]
  },
  {
   "cell_type": "code",
   "execution_count": 3,
   "metadata": {},
   "outputs": [
    {
     "data": {
      "text/plain": [
       "Austin            450\n",
       "Boston            NaN\n",
       "Chicago          1000\n",
       "New York         1300\n",
       "Portland          900\n",
       "San Francisco    1100\n",
       "dtype: float64"
      ]
     },
     "execution_count": 3,
     "metadata": {},
     "output_type": "execute_result"
    }
   ],
   "source": [
    "d = {'Chicago': 1000, 'New York': 1300, 'Portland': 900, 'San Francisco': 1100,\n",
    "     'Austin': 450, 'Boston': None}\n",
    "cities = pd.Series(d)\n",
    "cities"
   ]
  },
  {
   "cell_type": "markdown",
   "metadata": {},
   "source": [
    "Se puede usar el indice para acceder a la estructura"
   ]
  },
  {
   "cell_type": "code",
   "execution_count": null,
   "metadata": {
    "collapsed": true
   },
   "outputs": [],
   "source": [
    "print cities['Chicago']"
   ]
  },
  {
   "cell_type": "code",
   "execution_count": null,
   "metadata": {
    "collapsed": true
   },
   "outputs": [],
   "source": [
    "print cities[['Chicago', 'Portland', 'San Francisco']]"
   ]
  },
  {
   "cell_type": "markdown",
   "metadata": {},
   "source": [
    "O se puede utilizar indexado booleano (como en numpy) para el acceso"
   ]
  },
  {
   "cell_type": "code",
   "execution_count": null,
   "metadata": {
    "collapsed": true
   },
   "outputs": [],
   "source": [
    "print cities[cities < 1000]"
   ]
  },
  {
   "cell_type": "markdown",
   "metadata": {},
   "source": [
    "Que ocurrio arriba? cities < 1000 devuelve un _Series_ de valores _True/False_ que depues se pasan a la estructura _Series_ idexando los items que corresponden con los valore _True_"
   ]
  },
  {
   "cell_type": "code",
   "execution_count": null,
   "metadata": {
    "collapsed": true
   },
   "outputs": [],
   "source": [
    "less_than_1000 = cities < 1000\n",
    "print(less_than_1000)\n",
    "print('\\n')\n",
    "print(cities[less_than_1000])"
   ]
  },
  {
   "cell_type": "markdown",
   "metadata": {},
   "source": [
    "Se puede cambiar el valor de _Series_ "
   ]
  },
  {
   "cell_type": "code",
   "execution_count": null,
   "metadata": {
    "collapsed": true
   },
   "outputs": [],
   "source": [
    "# cambiando valores basado en el indice\n",
    "print('Old value:', cities['Chicago'])\n",
    "cities['Chicago'] = 1400\n",
    "print('New value:', cities['Chicago'])"
   ]
  },
  {
   "cell_type": "code",
   "execution_count": null,
   "metadata": {
    "collapsed": true
   },
   "outputs": [],
   "source": [
    "# cambiando valores usando logica booleana\n",
    "print(cities[cities < 1000])\n",
    "print('\\n')\n",
    "cities[cities < 1000] = 750\n",
    "\n",
    "print cities[cities < 1000]"
   ]
  },
  {
   "cell_type": "markdown",
   "metadata": {},
   "source": [
    "Se puede comprobar si un item esta contenido en la _Series_"
   ]
  },
  {
   "cell_type": "code",
   "execution_count": null,
   "metadata": {
    "collapsed": true
   },
   "outputs": [],
   "source": [
    "print('Seattle' in cities)\n",
    "print('San Francisco' in cities)"
   ]
  },
  {
   "cell_type": "markdown",
   "metadata": {},
   "source": [
    "Se pueden hacer operaciones aritmeticas"
   ]
  },
  {
   "cell_type": "code",
   "execution_count": null,
   "metadata": {
    "collapsed": true
   },
   "outputs": [],
   "source": [
    "# dividir por 3\n",
    "print cities / 3"
   ]
  },
  {
   "cell_type": "code",
   "execution_count": null,
   "metadata": {
    "collapsed": true
   },
   "outputs": [],
   "source": [
    "# elevar al cuadrado\n",
    "print np.square(cities)"
   ]
  },
  {
   "cell_type": "code",
   "execution_count": null,
   "metadata": {
    "collapsed": true
   },
   "outputs": [],
   "source": [
    "print(cities[['Chicago', 'New York', 'Portland']])\n",
    "print('\\n')\n",
    "print(cities[['Austin', 'New York']])\n",
    "print('\\n')\n",
    "print(cities[['Chicago', 'New York', 'Portland']] + cities[['Austin', 'New York']])"
   ]
  },
  {
   "cell_type": "markdown",
   "metadata": {},
   "source": [
    "Nota que Austin, Chicago y Portlan no se encontraron en ambas _Series_, fueron retornadas con valores NULL/NaN.\n",
    "\n",
    "Se puede comprobar si un valor es NULL a traves de _isnull_ y _notnull_ ."
   ]
  },
  {
   "cell_type": "code",
   "execution_count": null,
   "metadata": {
    "collapsed": true
   },
   "outputs": [],
   "source": [
    "# devuelve una Serie booleana diciendo cuales no son Null\n",
    "print cities.notnull()"
   ]
  },
  {
   "cell_type": "markdown",
   "metadata": {},
   "source": [
    "Se puede usar logica booleana para indexar las ciudades que no son NULL"
   ]
  },
  {
   "cell_type": "code",
   "execution_count": null,
   "metadata": {
    "collapsed": true
   },
   "outputs": [],
   "source": [
    "# usando logica booleana para indexar las ciudades que no son NULL\n",
    "print(cities.isnull())\n",
    "print('\\n')\n",
    "print(cities[cities.isnull()])"
   ]
  },
  {
   "cell_type": "markdown",
   "metadata": {},
   "source": [
    "## Dataframe"
   ]
  },
  {
   "cell_type": "markdown",
   "metadata": {},
   "source": [
    "Puedes pensar en un _Dataframe_ como una estructura de datos tabular que almacena cualquier clase de informacion en filas y columnas. Por hacer un simil, uno podria pensar en un hoja de Excel como algo similar (no es lo mismo pero se parecen)."
   ]
  },
  {
   "cell_type": "markdown",
   "metadata": {},
   "source": [
    "En realidad un _Dataframe_ no es mas que un conjunto de estructuras _Series_ que comparten un mismo indice. Por defecto el indice va de 0 hasta N-1 donde N es el numero de filas del _Dataframe_. Se puede crear de forma manual un _Dataframe_ como sigue."
   ]
  },
  {
   "cell_type": "code",
   "execution_count": 3,
   "metadata": {},
   "outputs": [
    {
     "data": {
      "text/html": [
       "<div>\n",
       "<table border=\"1\" class=\"dataframe\">\n",
       "  <thead>\n",
       "    <tr style=\"text-align: right;\">\n",
       "      <th></th>\n",
       "      <th>year</th>\n",
       "      <th>team</th>\n",
       "      <th>wins</th>\n",
       "      <th>losses</th>\n",
       "    </tr>\n",
       "  </thead>\n",
       "  <tbody>\n",
       "    <tr>\n",
       "      <th>0</th>\n",
       "      <td>2010</td>\n",
       "      <td>Barca</td>\n",
       "      <td>11</td>\n",
       "      <td>5</td>\n",
       "    </tr>\n",
       "    <tr>\n",
       "      <th>1</th>\n",
       "      <td>2011</td>\n",
       "      <td>Barca</td>\n",
       "      <td>8</td>\n",
       "      <td>8</td>\n",
       "    </tr>\n",
       "    <tr>\n",
       "      <th>2</th>\n",
       "      <td>2012</td>\n",
       "      <td>Barca</td>\n",
       "      <td>10</td>\n",
       "      <td>6</td>\n",
       "    </tr>\n",
       "    <tr>\n",
       "      <th>3</th>\n",
       "      <td>2011</td>\n",
       "      <td>Madrid</td>\n",
       "      <td>15</td>\n",
       "      <td>1</td>\n",
       "    </tr>\n",
       "    <tr>\n",
       "      <th>4</th>\n",
       "      <td>2012</td>\n",
       "      <td>Madrid</td>\n",
       "      <td>11</td>\n",
       "      <td>5</td>\n",
       "    </tr>\n",
       "  </tbody>\n",
       "</table>\n",
       "</div>"
      ],
      "text/plain": [
       "   year    team  wins  losses\n",
       "0  2010   Barca    11       5\n",
       "1  2011   Barca     8       8\n",
       "2  2012   Barca    10       6\n",
       "3  2011  Madrid    15       1\n",
       "4  2012  Madrid    11       5"
      ]
     },
     "execution_count": 3,
     "metadata": {},
     "output_type": "execute_result"
    }
   ],
   "source": [
    "data = {'year': [2010, 2011, 2012, 2011, 2012, 2010, 2011, 2012],\n",
    "        'team': ['Barca', 'Barca', 'Barca', 'Madrid', 'Madrid', 'Mallorca', 'Mallorca', 'Mallorca'],\n",
    "        'wins': [11, 8, 10, 15, 11, 6, 10, 4],\n",
    "        'losses': [5, 8, 6, 1, 5, 10, 6, 12]}\n",
    "football = pd.DataFrame(data, columns=['year', 'team', 'wins', 'losses'])\n",
    "football.head()"
   ]
  },
  {
   "cell_type": "markdown",
   "metadata": {},
   "source": [
    "Es mucho mas habitual leer un _Dataframe_ desde un fichero de texto _csv_ con la funcion de _Pandas_ _pd.read\\_csv_"
   ]
  },
  {
   "cell_type": "code",
   "execution_count": 4,
   "metadata": {
    "collapsed": true
   },
   "outputs": [],
   "source": [
    "nuc_pob = pd.read_csv('NucleosPoblacion.csv')"
   ]
  },
  {
   "cell_type": "markdown",
   "metadata": {},
   "source": [
    "La funcion _head()_ nos permite explorar las primeras filas del _Dataframe_ y la funcion _tail()_ las ultimas."
   ]
  },
  {
   "cell_type": "code",
   "execution_count": 5,
   "metadata": {},
   "outputs": [
    {
     "data": {
      "text/html": [
       "<div>\n",
       "<table border=\"1\" class=\"dataframe\">\n",
       "  <thead>\n",
       "    <tr style=\"text-align: right;\">\n",
       "      <th></th>\n",
       "      <th>FID</th>\n",
       "      <th>OBJECTID</th>\n",
       "      <th>Texto</th>\n",
       "      <th>Poblacion</th>\n",
       "      <th>CodMun</th>\n",
       "      <th>Municipio</th>\n",
       "      <th>CodProvin</th>\n",
       "      <th>Provincia</th>\n",
       "      <th>X</th>\n",
       "      <th>Y</th>\n",
       "    </tr>\n",
       "  </thead>\n",
       "  <tbody>\n",
       "    <tr>\n",
       "      <th>0</th>\n",
       "      <td>0</td>\n",
       "      <td>1</td>\n",
       "      <td>Agüimes</td>\n",
       "      <td>29431</td>\n",
       "      <td>35002</td>\n",
       "      <td>Agüimes</td>\n",
       "      <td>35</td>\n",
       "      <td>Las Palmas</td>\n",
       "      <td>-15.446012</td>\n",
       "      <td>27.900542</td>\n",
       "    </tr>\n",
       "    <tr>\n",
       "      <th>1</th>\n",
       "      <td>1</td>\n",
       "      <td>2</td>\n",
       "      <td>Antigua</td>\n",
       "      <td>10458</td>\n",
       "      <td>35003</td>\n",
       "      <td>Antigua</td>\n",
       "      <td>35</td>\n",
       "      <td>Las Palmas</td>\n",
       "      <td>-14.013301</td>\n",
       "      <td>28.418966</td>\n",
       "    </tr>\n",
       "    <tr>\n",
       "      <th>2</th>\n",
       "      <td>2</td>\n",
       "      <td>3</td>\n",
       "      <td>Arrecife</td>\n",
       "      <td>58156</td>\n",
       "      <td>35004</td>\n",
       "      <td>Arrecife</td>\n",
       "      <td>35</td>\n",
       "      <td>Las Palmas</td>\n",
       "      <td>-13.551451</td>\n",
       "      <td>28.960649</td>\n",
       "    </tr>\n",
       "    <tr>\n",
       "      <th>3</th>\n",
       "      <td>3</td>\n",
       "      <td>4</td>\n",
       "      <td>Arucas</td>\n",
       "      <td>36745</td>\n",
       "      <td>35006</td>\n",
       "      <td>Arucas</td>\n",
       "      <td>35</td>\n",
       "      <td>Las Palmas</td>\n",
       "      <td>-15.521512</td>\n",
       "      <td>28.117496</td>\n",
       "    </tr>\n",
       "    <tr>\n",
       "      <th>4</th>\n",
       "      <td>4</td>\n",
       "      <td>5</td>\n",
       "      <td>Gáldar</td>\n",
       "      <td>24473</td>\n",
       "      <td>35009</td>\n",
       "      <td>Gáldar</td>\n",
       "      <td>35</td>\n",
       "      <td>Las Palmas</td>\n",
       "      <td>-15.654111</td>\n",
       "      <td>28.143873</td>\n",
       "    </tr>\n",
       "  </tbody>\n",
       "</table>\n",
       "</div>"
      ],
      "text/plain": [
       "   FID  OBJECTID     Texto  Poblacion  CodMun Municipio  CodProvin  \\\n",
       "0    0         1   Agüimes      29431   35002   Agüimes         35   \n",
       "1    1         2   Antigua      10458   35003   Antigua         35   \n",
       "2    2         3  Arrecife      58156   35004  Arrecife         35   \n",
       "3    3         4    Arucas      36745   35006    Arucas         35   \n",
       "4    4         5    Gáldar      24473   35009    Gáldar         35   \n",
       "\n",
       "    Provincia          X          Y  \n",
       "0  Las Palmas -15.446012  27.900542  \n",
       "1  Las Palmas -14.013301  28.418966  \n",
       "2  Las Palmas -13.551451  28.960649  \n",
       "3  Las Palmas -15.521512  28.117496  \n",
       "4  Las Palmas -15.654111  28.143873  "
      ]
     },
     "execution_count": 5,
     "metadata": {},
     "output_type": "execute_result"
    }
   ],
   "source": [
    "nuc_pob.head() # primeras lineas del dataframe"
   ]
  },
  {
   "cell_type": "code",
   "execution_count": 6,
   "metadata": {},
   "outputs": [
    {
     "data": {
      "text/html": [
       "<div>\n",
       "<table border=\"1\" class=\"dataframe\">\n",
       "  <thead>\n",
       "    <tr style=\"text-align: right;\">\n",
       "      <th></th>\n",
       "      <th>FID</th>\n",
       "      <th>OBJECTID</th>\n",
       "      <th>Texto</th>\n",
       "      <th>Poblacion</th>\n",
       "      <th>CodMun</th>\n",
       "      <th>Municipio</th>\n",
       "      <th>CodProvin</th>\n",
       "      <th>Provincia</th>\n",
       "      <th>X</th>\n",
       "      <th>Y</th>\n",
       "    </tr>\n",
       "  </thead>\n",
       "  <tbody>\n",
       "    <tr>\n",
       "      <th>847</th>\n",
       "      <td>847</td>\n",
       "      <td>848</td>\n",
       "      <td>Infante Juan Manuel</td>\n",
       "      <td>14192</td>\n",
       "      <td>30030</td>\n",
       "      <td>Murcia</td>\n",
       "      <td>30</td>\n",
       "      <td>Murcia</td>\n",
       "      <td>-1.124304</td>\n",
       "      <td>37.979033</td>\n",
       "    </tr>\n",
       "    <tr>\n",
       "      <th>848</th>\n",
       "      <td>848</td>\n",
       "      <td>849</td>\n",
       "      <td>Santa Maria de Gracia</td>\n",
       "      <td>13349</td>\n",
       "      <td>30030</td>\n",
       "      <td>Murcia</td>\n",
       "      <td>30</td>\n",
       "      <td>Murcia</td>\n",
       "      <td>-1.202069</td>\n",
       "      <td>37.984024</td>\n",
       "    </tr>\n",
       "    <tr>\n",
       "      <th>849</th>\n",
       "      <td>849</td>\n",
       "      <td>850</td>\n",
       "      <td>Vista Alegre</td>\n",
       "      <td>15208</td>\n",
       "      <td>30030</td>\n",
       "      <td>Murcia</td>\n",
       "      <td>30</td>\n",
       "      <td>Murcia</td>\n",
       "      <td>-1.130564</td>\n",
       "      <td>37.995715</td>\n",
       "    </tr>\n",
       "    <tr>\n",
       "      <th>850</th>\n",
       "      <td>850</td>\n",
       "      <td>851</td>\n",
       "      <td>Poligono Sta M de Benquerencia</td>\n",
       "      <td>19177</td>\n",
       "      <td>45168</td>\n",
       "      <td>Toledo</td>\n",
       "      <td>45</td>\n",
       "      <td>Toledo</td>\n",
       "      <td>-3.948364</td>\n",
       "      <td>39.866699</td>\n",
       "    </tr>\n",
       "    <tr>\n",
       "      <th>851</th>\n",
       "      <td>851</td>\n",
       "      <td>852</td>\n",
       "      <td>Grao</td>\n",
       "      <td>16367</td>\n",
       "      <td>12040</td>\n",
       "      <td>Castellón de la Plana/Castelló de la Plana</td>\n",
       "      <td>12</td>\n",
       "      <td>Castelló/Castellón</td>\n",
       "      <td>0.012911</td>\n",
       "      <td>39.973568</td>\n",
       "    </tr>\n",
       "  </tbody>\n",
       "</table>\n",
       "</div>"
      ],
      "text/plain": [
       "     FID  OBJECTID                           Texto  Poblacion  CodMun  \\\n",
       "847  847       848             Infante Juan Manuel      14192   30030   \n",
       "848  848       849           Santa Maria de Gracia      13349   30030   \n",
       "849  849       850                    Vista Alegre      15208   30030   \n",
       "850  850       851  Poligono Sta M de Benquerencia      19177   45168   \n",
       "851  851       852                            Grao      16367   12040   \n",
       "\n",
       "                                      Municipio  CodProvin  \\\n",
       "847                                      Murcia         30   \n",
       "848                                      Murcia         30   \n",
       "849                                      Murcia         30   \n",
       "850                                      Toledo         45   \n",
       "851  Castellón de la Plana/Castelló de la Plana         12   \n",
       "\n",
       "              Provincia         X          Y  \n",
       "847              Murcia -1.124304  37.979033  \n",
       "848              Murcia -1.202069  37.984024  \n",
       "849              Murcia -1.130564  37.995715  \n",
       "850              Toledo -3.948364  39.866699  \n",
       "851  Castelló/Castellón  0.012911  39.973568  "
      ]
     },
     "execution_count": 6,
     "metadata": {},
     "output_type": "execute_result"
    }
   ],
   "source": [
    "nuc_pob.tail() # ultimas lineas del dataframe"
   ]
  },
  {
   "cell_type": "markdown",
   "metadata": {},
   "source": [
    "Al igual que en el modulo _Numpy_ se pueden realizar operaciones de forma muy sencilla con el indexado booleano"
   ]
  },
  {
   "cell_type": "code",
   "execution_count": 7,
   "metadata": {},
   "outputs": [
    {
     "name": "stdout",
     "output_type": "stream",
     "text": [
      "Mean Poblacion 45710.8568075\n",
      "STD Poblacion 140598.143397\n",
      "Min Poblacion 10037.0\n",
      "Max Poblacion 3273049.0\n"
     ]
    }
   ],
   "source": [
    "print 'Mean Poblacion', nuc_pob['Poblacion'].mean()\n",
    "print 'STD Poblacion', nuc_pob['Poblacion'].std()\n",
    "print 'Min Poblacion', nuc_pob['Poblacion'].min()\n",
    "print 'Max Poblacion', nuc_pob['Poblacion'].max()"
   ]
  },
  {
   "cell_type": "markdown",
   "metadata": {},
   "source": [
    "Y se pueden combinar las operaciones para obtener resultados mas interesantes"
   ]
  },
  {
   "cell_type": "code",
   "execution_count": 8,
   "metadata": {
    "scrolled": false
   },
   "outputs": [
    {
     "data": {
      "text/html": [
       "<div>\n",
       "<table border=\"1\" class=\"dataframe\">\n",
       "  <thead>\n",
       "    <tr style=\"text-align: right;\">\n",
       "      <th></th>\n",
       "      <th>FID</th>\n",
       "      <th>OBJECTID</th>\n",
       "      <th>Texto</th>\n",
       "      <th>Poblacion</th>\n",
       "      <th>CodMun</th>\n",
       "      <th>Municipio</th>\n",
       "      <th>CodProvin</th>\n",
       "      <th>Provincia</th>\n",
       "      <th>X</th>\n",
       "      <th>Y</th>\n",
       "    </tr>\n",
       "  </thead>\n",
       "  <tbody>\n",
       "    <tr>\n",
       "      <th>2</th>\n",
       "      <td>2</td>\n",
       "      <td>3</td>\n",
       "      <td>Arrecife</td>\n",
       "      <td>58156</td>\n",
       "      <td>35004</td>\n",
       "      <td>Arrecife</td>\n",
       "      <td>35</td>\n",
       "      <td>Las Palmas</td>\n",
       "      <td>-13.551451</td>\n",
       "      <td>28.960649</td>\n",
       "    </tr>\n",
       "    <tr>\n",
       "      <th>9</th>\n",
       "      <td>9</td>\n",
       "      <td>10</td>\n",
       "      <td>Las Palmas de Gran Canaria</td>\n",
       "      <td>383308</td>\n",
       "      <td>35016</td>\n",
       "      <td>Las Palmas de Gran Canaria</td>\n",
       "      <td>35</td>\n",
       "      <td>Las Palmas</td>\n",
       "      <td>-15.413387</td>\n",
       "      <td>28.099775</td>\n",
       "    </tr>\n",
       "    <tr>\n",
       "      <th>13</th>\n",
       "      <td>13</td>\n",
       "      <td>14</td>\n",
       "      <td>Santa Lucía de Tirajana</td>\n",
       "      <td>64845</td>\n",
       "      <td>35022</td>\n",
       "      <td>Santa Lucía de Tirajana</td>\n",
       "      <td>35</td>\n",
       "      <td>Las Palmas</td>\n",
       "      <td>-15.540409</td>\n",
       "      <td>27.911841</td>\n",
       "    </tr>\n",
       "    <tr>\n",
       "      <th>16</th>\n",
       "      <td>16</td>\n",
       "      <td>17</td>\n",
       "      <td>Telde</td>\n",
       "      <td>100900</td>\n",
       "      <td>35026</td>\n",
       "      <td>Telde</td>\n",
       "      <td>35</td>\n",
       "      <td>Las Palmas</td>\n",
       "      <td>-15.416666</td>\n",
       "      <td>27.994202</td>\n",
       "    </tr>\n",
       "    <tr>\n",
       "      <th>22</th>\n",
       "      <td>22</td>\n",
       "      <td>23</td>\n",
       "      <td>Arona</td>\n",
       "      <td>79377</td>\n",
       "      <td>38006</td>\n",
       "      <td>Arona</td>\n",
       "      <td>38</td>\n",
       "      <td>Santa Cruz de Tenerife</td>\n",
       "      <td>-16.679684</td>\n",
       "      <td>28.099518</td>\n",
       "    </tr>\n",
       "  </tbody>\n",
       "</table>\n",
       "</div>"
      ],
      "text/plain": [
       "    FID  OBJECTID                       Texto  Poblacion  CodMun  \\\n",
       "2     2         3                    Arrecife      58156   35004   \n",
       "9     9        10  Las Palmas de Gran Canaria     383308   35016   \n",
       "13   13        14     Santa Lucía de Tirajana      64845   35022   \n",
       "16   16        17                       Telde     100900   35026   \n",
       "22   22        23                       Arona      79377   38006   \n",
       "\n",
       "                     Municipio  CodProvin               Provincia          X  \\\n",
       "2                     Arrecife         35              Las Palmas -13.551451   \n",
       "9   Las Palmas de Gran Canaria         35              Las Palmas -15.413387   \n",
       "13     Santa Lucía de Tirajana         35              Las Palmas -15.540409   \n",
       "16                       Telde         35              Las Palmas -15.416666   \n",
       "22                       Arona         38  Santa Cruz de Tenerife -16.679684   \n",
       "\n",
       "            Y  \n",
       "2   28.960649  \n",
       "9   28.099775  \n",
       "13  27.911841  \n",
       "16  27.994202  \n",
       "22  28.099518  "
      ]
     },
     "execution_count": 8,
     "metadata": {},
     "output_type": "execute_result"
    }
   ],
   "source": [
    "nuc_pob[nuc_pob['Poblacion'] >50000].head()"
   ]
  },
  {
   "cell_type": "code",
   "execution_count": 9,
   "metadata": {},
   "outputs": [
    {
     "data": {
      "text/html": [
       "<div>\n",
       "<table border=\"1\" class=\"dataframe\">\n",
       "  <thead>\n",
       "    <tr style=\"text-align: right;\">\n",
       "      <th></th>\n",
       "      <th>FID</th>\n",
       "      <th>OBJECTID</th>\n",
       "      <th>Texto</th>\n",
       "      <th>Poblacion</th>\n",
       "      <th>CodMun</th>\n",
       "      <th>Municipio</th>\n",
       "      <th>CodProvin</th>\n",
       "      <th>Provincia</th>\n",
       "      <th>X</th>\n",
       "      <th>Y</th>\n",
       "    </tr>\n",
       "  </thead>\n",
       "  <tbody>\n",
       "    <tr>\n",
       "      <th>272</th>\n",
       "      <td>272</td>\n",
       "      <td>273</td>\n",
       "      <td>Granada</td>\n",
       "      <td>239154</td>\n",
       "      <td>18087</td>\n",
       "      <td>Granada</td>\n",
       "      <td>18</td>\n",
       "      <td>Granada</td>\n",
       "      <td>-3.600019</td>\n",
       "      <td>37.176419</td>\n",
       "    </tr>\n",
       "    <tr>\n",
       "      <th>278</th>\n",
       "      <td>278</td>\n",
       "      <td>279</td>\n",
       "      <td>Motril</td>\n",
       "      <td>60884</td>\n",
       "      <td>18140</td>\n",
       "      <td>Motril</td>\n",
       "      <td>18</td>\n",
       "      <td>Granada</td>\n",
       "      <td>-3.521234</td>\n",
       "      <td>36.745746</td>\n",
       "    </tr>\n",
       "  </tbody>\n",
       "</table>\n",
       "</div>"
      ],
      "text/plain": [
       "     FID  OBJECTID    Texto  Poblacion  CodMun Municipio  CodProvin Provincia  \\\n",
       "272  272       273  Granada     239154   18087   Granada         18   Granada   \n",
       "278  278       279   Motril      60884   18140    Motril         18   Granada   \n",
       "\n",
       "            X          Y  \n",
       "272 -3.600019  37.176419  \n",
       "278 -3.521234  36.745746  "
      ]
     },
     "execution_count": 9,
     "metadata": {},
     "output_type": "execute_result"
    }
   ],
   "source": [
    "nuc_pob[(nuc_pob['Poblacion'] >50000) & (nuc_pob['Provincia'] == 'Granada') ].head()"
   ]
  },
  {
   "cell_type": "markdown",
   "metadata": {},
   "source": [
    "Ordenar los valores en base a una columna nunca fue tan sencillo"
   ]
  },
  {
   "cell_type": "code",
   "execution_count": 10,
   "metadata": {},
   "outputs": [
    {
     "data": {
      "text/html": [
       "<div>\n",
       "<table border=\"1\" class=\"dataframe\">\n",
       "  <thead>\n",
       "    <tr style=\"text-align: right;\">\n",
       "      <th></th>\n",
       "      <th>FID</th>\n",
       "      <th>OBJECTID</th>\n",
       "      <th>Texto</th>\n",
       "      <th>Poblacion</th>\n",
       "      <th>CodMun</th>\n",
       "      <th>Municipio</th>\n",
       "      <th>CodProvin</th>\n",
       "      <th>Provincia</th>\n",
       "      <th>X</th>\n",
       "      <th>Y</th>\n",
       "    </tr>\n",
       "  </thead>\n",
       "  <tbody>\n",
       "    <tr>\n",
       "      <th>355</th>\n",
       "      <td>355</td>\n",
       "      <td>356</td>\n",
       "      <td>Madrid</td>\n",
       "      <td>3273049</td>\n",
       "      <td>28079</td>\n",
       "      <td>Madrid</td>\n",
       "      <td>28</td>\n",
       "      <td>Madrid</td>\n",
       "      <td>-3.703797</td>\n",
       "      <td>40.416630</td>\n",
       "    </tr>\n",
       "    <tr>\n",
       "      <th>623</th>\n",
       "      <td>623</td>\n",
       "      <td>624</td>\n",
       "      <td>Barcelona</td>\n",
       "      <td>1619337</td>\n",
       "      <td>8019</td>\n",
       "      <td>Barcelona</td>\n",
       "      <td>8</td>\n",
       "      <td>Barcelona</td>\n",
       "      <td>2.176349</td>\n",
       "      <td>41.384247</td>\n",
       "    </tr>\n",
       "    <tr>\n",
       "      <th>561</th>\n",
       "      <td>561</td>\n",
       "      <td>562</td>\n",
       "      <td>Valencia</td>\n",
       "      <td>809267</td>\n",
       "      <td>46250</td>\n",
       "      <td>Valencia</td>\n",
       "      <td>46</td>\n",
       "      <td>València/Valencia</td>\n",
       "      <td>-0.375657</td>\n",
       "      <td>39.475344</td>\n",
       "    </tr>\n",
       "    <tr>\n",
       "      <th>492</th>\n",
       "      <td>492</td>\n",
       "      <td>493</td>\n",
       "      <td>Sevilla</td>\n",
       "      <td>704198</td>\n",
       "      <td>41091</td>\n",
       "      <td>Sevilla</td>\n",
       "      <td>41</td>\n",
       "      <td>Sevilla</td>\n",
       "      <td>-5.992514</td>\n",
       "      <td>37.386205</td>\n",
       "    </tr>\n",
       "    <tr>\n",
       "      <th>591</th>\n",
       "      <td>591</td>\n",
       "      <td>592</td>\n",
       "      <td>Zaragoza</td>\n",
       "      <td>675121</td>\n",
       "      <td>50297</td>\n",
       "      <td>Zaragoza</td>\n",
       "      <td>50</td>\n",
       "      <td>Zaragoza</td>\n",
       "      <td>-0.879287</td>\n",
       "      <td>41.656457</td>\n",
       "    </tr>\n",
       "  </tbody>\n",
       "</table>\n",
       "</div>"
      ],
      "text/plain": [
       "     FID  OBJECTID      Texto  Poblacion  CodMun  Municipio  CodProvin  \\\n",
       "355  355       356     Madrid    3273049   28079     Madrid         28   \n",
       "623  623       624  Barcelona    1619337    8019  Barcelona          8   \n",
       "561  561       562   Valencia     809267   46250   Valencia         46   \n",
       "492  492       493    Sevilla     704198   41091    Sevilla         41   \n",
       "591  591       592   Zaragoza     675121   50297   Zaragoza         50   \n",
       "\n",
       "             Provincia         X          Y  \n",
       "355             Madrid -3.703797  40.416630  \n",
       "623          Barcelona  2.176349  41.384247  \n",
       "561  València/Valencia -0.375657  39.475344  \n",
       "492            Sevilla -5.992514  37.386205  \n",
       "591           Zaragoza -0.879287  41.656457  "
      ]
     },
     "execution_count": 10,
     "metadata": {},
     "output_type": "execute_result"
    }
   ],
   "source": [
    "nuc_pob.sort_values('Poblacion', ascending = False).head() # si pones ascending = True los ordena en orden ascendente "
   ]
  },
  {
   "cell_type": "markdown",
   "metadata": {},
   "source": [
    "Puedes resetear el indice para que despues de ordenarlos cambie. Observa como cambia el indice y ahora se ha reseteado y aparece el nuevo indice con las ciudades ordenadas. "
   ]
  },
  {
   "cell_type": "code",
   "execution_count": 11,
   "metadata": {},
   "outputs": [
    {
     "data": {
      "text/html": [
       "<div>\n",
       "<table border=\"1\" class=\"dataframe\">\n",
       "  <thead>\n",
       "    <tr style=\"text-align: right;\">\n",
       "      <th></th>\n",
       "      <th>FID</th>\n",
       "      <th>OBJECTID</th>\n",
       "      <th>Texto</th>\n",
       "      <th>Poblacion</th>\n",
       "      <th>CodMun</th>\n",
       "      <th>Municipio</th>\n",
       "      <th>CodProvin</th>\n",
       "      <th>Provincia</th>\n",
       "      <th>X</th>\n",
       "      <th>Y</th>\n",
       "    </tr>\n",
       "  </thead>\n",
       "  <tbody>\n",
       "    <tr>\n",
       "      <th>0</th>\n",
       "      <td>355</td>\n",
       "      <td>356</td>\n",
       "      <td>Madrid</td>\n",
       "      <td>3273049</td>\n",
       "      <td>28079</td>\n",
       "      <td>Madrid</td>\n",
       "      <td>28</td>\n",
       "      <td>Madrid</td>\n",
       "      <td>-3.703797</td>\n",
       "      <td>40.416630</td>\n",
       "    </tr>\n",
       "    <tr>\n",
       "      <th>1</th>\n",
       "      <td>623</td>\n",
       "      <td>624</td>\n",
       "      <td>Barcelona</td>\n",
       "      <td>1619337</td>\n",
       "      <td>8019</td>\n",
       "      <td>Barcelona</td>\n",
       "      <td>8</td>\n",
       "      <td>Barcelona</td>\n",
       "      <td>2.176349</td>\n",
       "      <td>41.384247</td>\n",
       "    </tr>\n",
       "    <tr>\n",
       "      <th>2</th>\n",
       "      <td>561</td>\n",
       "      <td>562</td>\n",
       "      <td>Valencia</td>\n",
       "      <td>809267</td>\n",
       "      <td>46250</td>\n",
       "      <td>Valencia</td>\n",
       "      <td>46</td>\n",
       "      <td>València/Valencia</td>\n",
       "      <td>-0.375657</td>\n",
       "      <td>39.475344</td>\n",
       "    </tr>\n",
       "    <tr>\n",
       "      <th>3</th>\n",
       "      <td>492</td>\n",
       "      <td>493</td>\n",
       "      <td>Sevilla</td>\n",
       "      <td>704198</td>\n",
       "      <td>41091</td>\n",
       "      <td>Sevilla</td>\n",
       "      <td>41</td>\n",
       "      <td>Sevilla</td>\n",
       "      <td>-5.992514</td>\n",
       "      <td>37.386205</td>\n",
       "    </tr>\n",
       "    <tr>\n",
       "      <th>4</th>\n",
       "      <td>591</td>\n",
       "      <td>592</td>\n",
       "      <td>Zaragoza</td>\n",
       "      <td>675121</td>\n",
       "      <td>50297</td>\n",
       "      <td>Zaragoza</td>\n",
       "      <td>50</td>\n",
       "      <td>Zaragoza</td>\n",
       "      <td>-0.879287</td>\n",
       "      <td>41.656457</td>\n",
       "    </tr>\n",
       "  </tbody>\n",
       "</table>\n",
       "</div>"
      ],
      "text/plain": [
       "   FID  OBJECTID      Texto  Poblacion  CodMun  Municipio  CodProvin  \\\n",
       "0  355       356     Madrid    3273049   28079     Madrid         28   \n",
       "1  623       624  Barcelona    1619337    8019  Barcelona          8   \n",
       "2  561       562   Valencia     809267   46250   Valencia         46   \n",
       "3  492       493    Sevilla     704198   41091    Sevilla         41   \n",
       "4  591       592   Zaragoza     675121   50297   Zaragoza         50   \n",
       "\n",
       "           Provincia         X          Y  \n",
       "0             Madrid -3.703797  40.416630  \n",
       "1          Barcelona  2.176349  41.384247  \n",
       "2  València/Valencia -0.375657  39.475344  \n",
       "3            Sevilla -5.992514  37.386205  \n",
       "4           Zaragoza -0.879287  41.656457  "
      ]
     },
     "execution_count": 11,
     "metadata": {},
     "output_type": "execute_result"
    }
   ],
   "source": [
    "# Esto puede servirte muy util para ordenar y encontrar luego posiciones\n",
    "nuc_pob.sort_values('Poblacion', ascending = False).reset_index(drop=True).head() # con drop nos deshacemos del antiguo indice"
   ]
  },
  {
   "cell_type": "markdown",
   "metadata": {},
   "source": [
    "# Ejercicios"
   ]
  },
  {
   "cell_type": "markdown",
   "metadata": {},
   "source": [
    "1 - Carga el fichero 'NucleosPoblacion.csv' explora con las funciones _head_ y _tail_ el principio y el final."
   ]
  },
  {
   "cell_type": "code",
   "execution_count": 16,
   "metadata": {
    "collapsed": true,
    "scrolled": false
   },
   "outputs": [],
   "source": [
    "nuc_pob = pd.read_csv('NucleosPoblacion.csv')"
   ]
  },
  {
   "cell_type": "markdown",
   "metadata": {},
   "source": [
    "2 - Cual es la ciudad mas poblada?"
   ]
  },
  {
   "cell_type": "code",
   "execution_count": 17,
   "metadata": {},
   "outputs": [
    {
     "data": {
      "text/html": [
       "<div>\n",
       "<table border=\"1\" class=\"dataframe\">\n",
       "  <thead>\n",
       "    <tr style=\"text-align: right;\">\n",
       "      <th></th>\n",
       "      <th>FID</th>\n",
       "      <th>OBJECTID</th>\n",
       "      <th>Texto</th>\n",
       "      <th>Poblacion</th>\n",
       "      <th>CodMun</th>\n",
       "      <th>Municipio</th>\n",
       "      <th>CodProvin</th>\n",
       "      <th>Provincia</th>\n",
       "      <th>X</th>\n",
       "      <th>Y</th>\n",
       "    </tr>\n",
       "  </thead>\n",
       "  <tbody>\n",
       "    <tr>\n",
       "      <th>355</th>\n",
       "      <td>355</td>\n",
       "      <td>356</td>\n",
       "      <td>Madrid</td>\n",
       "      <td>3273049</td>\n",
       "      <td>28079</td>\n",
       "      <td>Madrid</td>\n",
       "      <td>28</td>\n",
       "      <td>Madrid</td>\n",
       "      <td>-3.703797</td>\n",
       "      <td>40.41663</td>\n",
       "    </tr>\n",
       "  </tbody>\n",
       "</table>\n",
       "</div>"
      ],
      "text/plain": [
       "     FID  OBJECTID   Texto  Poblacion  CodMun Municipio  CodProvin Provincia  \\\n",
       "355  355       356  Madrid    3273049   28079    Madrid         28    Madrid   \n",
       "\n",
       "            X         Y  \n",
       "355 -3.703797  40.41663  "
      ]
     },
     "execution_count": 17,
     "metadata": {},
     "output_type": "execute_result"
    }
   ],
   "source": [
    "nuc_pob[nuc_pob['Poblacion']==nuc_pob['Poblacion'].max()]"
   ]
  },
  {
   "cell_type": "markdown",
   "metadata": {},
   "source": [
    "3 - Que posicion ocupa Granada en las mas pobladas?. La funcion _sort_values puede ayudarte en tu cometido"
   ]
  },
  {
   "cell_type": "code",
   "execution_count": 21,
   "metadata": {},
   "outputs": [
    {
     "data": {
      "text/html": [
       "<div>\n",
       "<table border=\"1\" class=\"dataframe\">\n",
       "  <thead>\n",
       "    <tr style=\"text-align: right;\">\n",
       "      <th></th>\n",
       "      <th>FID</th>\n",
       "      <th>OBJECTID</th>\n",
       "      <th>Texto</th>\n",
       "      <th>Poblacion</th>\n",
       "      <th>CodMun</th>\n",
       "      <th>Municipio</th>\n",
       "      <th>CodProvin</th>\n",
       "      <th>Provincia</th>\n",
       "      <th>X</th>\n",
       "      <th>Y</th>\n",
       "    </tr>\n",
       "  </thead>\n",
       "  <tbody>\n",
       "    <tr>\n",
       "      <th>17</th>\n",
       "      <td>272</td>\n",
       "      <td>273</td>\n",
       "      <td>Granada</td>\n",
       "      <td>239154</td>\n",
       "      <td>18087</td>\n",
       "      <td>Granada</td>\n",
       "      <td>18</td>\n",
       "      <td>Granada</td>\n",
       "      <td>-3.600019</td>\n",
       "      <td>37.176419</td>\n",
       "    </tr>\n",
       "  </tbody>\n",
       "</table>\n",
       "</div>"
      ],
      "text/plain": [
       "    FID  OBJECTID    Texto  Poblacion  CodMun Municipio  CodProvin Provincia  \\\n",
       "17  272       273  Granada     239154   18087   Granada         18   Granada   \n",
       "\n",
       "           X          Y  \n",
       "17 -3.600019  37.176419  "
      ]
     },
     "execution_count": 21,
     "metadata": {},
     "output_type": "execute_result"
    }
   ],
   "source": [
    "nuc_pob = nuc_pob.sort_values('Poblacion', ascending=False).reset_index(drop=True)\n",
    "#nuc_pob.loc[17]\n",
    "nuc_pob[nuc_pob['Municipio'] == 'Granada']"
   ]
  },
  {
   "cell_type": "markdown",
   "metadata": {},
   "source": [
    "4 - Escribe el nombre de los 10 municipios con menor poblacion"
   ]
  },
  {
   "cell_type": "code",
   "execution_count": 141,
   "metadata": {},
   "outputs": [
    {
     "data": {
      "text/plain": [
       "851         Zumarraga\n",
       "850    Caldas de Reis\n",
       "849           Amurrio\n",
       "848    Premià de Dalt\n",
       "847             Buñol\n",
       "846          Bembibre\n",
       "845             Ocaña\n",
       "844               Sax\n",
       "843      Marina-Oasis\n",
       "842       Playa Honda\n",
       "Name: Texto, dtype: object"
      ]
     },
     "execution_count": 141,
     "metadata": {},
     "output_type": "execute_result"
    }
   ],
   "source": [
    "nuc_pob.sort_values('Poblacion')[:10]['Texto']"
   ]
  },
  {
   "cell_type": "markdown",
   "metadata": {},
   "source": [
    "5 - Cuantos municipios en Extremadura tienen mas de 5000 habitantes?"
   ]
  },
  {
   "cell_type": "code",
   "execution_count": 22,
   "metadata": {},
   "outputs": [
    {
     "data": {
      "text/html": [
       "<div>\n",
       "<table border=\"1\" class=\"dataframe\">\n",
       "  <thead>\n",
       "    <tr style=\"text-align: right;\">\n",
       "      <th></th>\n",
       "      <th>FID</th>\n",
       "      <th>OBJECTID</th>\n",
       "      <th>Texto</th>\n",
       "      <th>Poblacion</th>\n",
       "      <th>CodMun</th>\n",
       "      <th>Municipio</th>\n",
       "      <th>CodProvin</th>\n",
       "      <th>Provincia</th>\n",
       "      <th>X</th>\n",
       "      <th>Y</th>\n",
       "    </tr>\n",
       "  </thead>\n",
       "  <tbody>\n",
       "    <tr>\n",
       "      <th>43</th>\n",
       "      <td>42</td>\n",
       "      <td>43</td>\n",
       "      <td>Badajoz</td>\n",
       "      <td>150376</td>\n",
       "      <td>6015</td>\n",
       "      <td>Badajoz</td>\n",
       "      <td>6</td>\n",
       "      <td>Badajoz</td>\n",
       "      <td>-6.970997</td>\n",
       "      <td>38.878743</td>\n",
       "    </tr>\n",
       "    <tr>\n",
       "      <th>67</th>\n",
       "      <td>48</td>\n",
       "      <td>49</td>\n",
       "      <td>Cáceres</td>\n",
       "      <td>94179</td>\n",
       "      <td>10037</td>\n",
       "      <td>Cáceres</td>\n",
       "      <td>10</td>\n",
       "      <td>Cáceres</td>\n",
       "      <td>-6.371211</td>\n",
       "      <td>39.473168</td>\n",
       "    </tr>\n",
       "    <tr>\n",
       "      <th>131</th>\n",
       "      <td>43</td>\n",
       "      <td>44</td>\n",
       "      <td>Mérida</td>\n",
       "      <td>57127</td>\n",
       "      <td>6083</td>\n",
       "      <td>Mérida</td>\n",
       "      <td>6</td>\n",
       "      <td>Badajoz</td>\n",
       "      <td>-6.344172</td>\n",
       "      <td>38.917388</td>\n",
       "    </tr>\n",
       "  </tbody>\n",
       "</table>\n",
       "</div>"
      ],
      "text/plain": [
       "     FID  OBJECTID    Texto  Poblacion  CodMun Municipio  CodProvin Provincia  \\\n",
       "43    42        43  Badajoz     150376    6015   Badajoz          6   Badajoz   \n",
       "67    48        49  Cáceres      94179   10037   Cáceres         10   Cáceres   \n",
       "131   43        44   Mérida      57127    6083    Mérida          6   Badajoz   \n",
       "\n",
       "            X          Y  \n",
       "43  -6.970997  38.878743  \n",
       "67  -6.371211  39.473168  \n",
       "131 -6.344172  38.917388  "
      ]
     },
     "execution_count": 22,
     "metadata": {},
     "output_type": "execute_result"
    }
   ],
   "source": [
    "nuc_pob[(nuc_pob['Poblacion']>50000) & \n",
    "        ((nuc_pob['Provincia']=='Badajoz') | \n",
    "       (nuc_pob['Provincia']=='C\\xc3\\xa1ceres'))]"
   ]
  },
  {
   "cell_type": "markdown",
   "metadata": {},
   "source": [
    "6 - ¿Cuál es el municipio situado más al Norte? (Usar el valor de la coordenada \"Y\" que representa la latitud en grados). Proporcione también la provincia a la que pertenece y su población."
   ]
  },
  {
   "cell_type": "code",
   "execution_count": 23,
   "metadata": {},
   "outputs": [
    {
     "name": "stdout",
     "output_type": "stream",
     "text": [
      "534    Viveiro\n",
      "Name: Municipio, dtype: object\n",
      "534    Viveiro\n",
      "Name: Municipio, dtype: object\n"
     ]
    }
   ],
   "source": [
    "print nuc_pob[(nuc_pob['Y']==nuc_pob['Y'].max())]['Municipio']\n",
    "print nuc_pob.sort_values('Y', ascending=False)[:1].Municipio"
   ]
  },
  {
   "cell_type": "markdown",
   "metadata": {},
   "source": [
    "7 - ¿Cual es el municipio de la provincia de Granada situado más al Este?. ¿Cual es el situado más al Oeste?."
   ]
  },
  {
   "cell_type": "code",
   "execution_count": 27,
   "metadata": {},
   "outputs": [
    {
     "name": "stdout",
     "output_type": "stream",
     "text": [
      "378    Baza\n",
      "Name: Municipio, dtype: object\n",
      "388    Loja\n",
      "Name: Municipio, dtype: object\n"
     ]
    }
   ],
   "source": [
    "a = nuc_pob[(nuc_pob['Provincia']=='Granada')]\n",
    "print a[a['X']==a['X'].max()].Municipio\n",
    "print a[a['X']==a['X'].min()].Municipio"
   ]
  },
  {
   "cell_type": "markdown",
   "metadata": {},
   "source": [
    "8 - ¿Cuántos Municipios hay en un radio de 5 grados de la ciudad de Barcelona?."
   ]
  },
  {
   "cell_type": "code",
   "execution_count": 72,
   "metadata": {
    "scrolled": false
   },
   "outputs": [
    {
     "data": {
      "text/plain": [
       "(391, 10)"
      ]
     },
     "execution_count": 72,
     "metadata": {},
     "output_type": "execute_result"
    }
   ],
   "source": [
    "X_bcn = nuc_pob[nuc_pob['Municipio'] == 'Barcelona'].X.iloc[0]\n",
    "Y_bcn = nuc_pob[nuc_pob['Municipio'] == 'Barcelona'].Y.iloc[0]\n",
    "\n",
    "nuc_pob[(nuc_pob['X']<X_bcn+5) & (nuc_pob['X']>X_bcn-5) &\n",
    "       (nuc_pob['Y']<Y_bcn+5) & (nuc_pob['Y']>Y_bcn-5)].shape"
   ]
  },
  {
   "cell_type": "markdown",
   "metadata": {},
   "source": [
    "9 - Obtenga la media, mediana, desviación estándar, valor máximo y valor mínimo de la población de los municipios de la provincia de Granada"
   ]
  },
  {
   "cell_type": "code",
   "execution_count": 77,
   "metadata": {},
   "outputs": [
    {
     "name": "stdout",
     "output_type": "stream",
     "text": [
      "Minimo: 10037.0\n",
      "Maximo: 3273049.0\n",
      "Mediana: 19865.0\n",
      "STD: 140598.143397\n",
      "Mean: 45710.8568075\n"
     ]
    }
   ],
   "source": [
    "print 'Minimo:',nuc_pob['Poblacion'].min()\n",
    "print 'Maximo:',nuc_pob['Poblacion'].max()\n",
    "print 'Mediana:',nuc_pob['Poblacion'].median()\n",
    "print 'STD:',nuc_pob['Poblacion'].std()\n",
    "print 'Mean:',nuc_pob['Poblacion'].mean()"
   ]
  },
  {
   "cell_type": "code",
   "execution_count": null,
   "metadata": {
    "collapsed": true
   },
   "outputs": [],
   "source": []
  }
 ],
 "metadata": {
  "kernelspec": {
   "display_name": "Python 3",
   "language": "python",
   "name": "python3"
  },
  "language_info": {
   "codemirror_mode": {
    "name": "ipython",
    "version": 3
   },
   "file_extension": ".py",
   "mimetype": "text/x-python",
   "name": "python",
   "nbconvert_exporter": "python",
   "pygments_lexer": "ipython3",
   "version": "3.6.2"
  }
 },
 "nbformat": 4,
 "nbformat_minor": 1
}
