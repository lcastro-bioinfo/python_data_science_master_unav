{
 "cells": [
  {
   "cell_type": "markdown",
   "metadata": {},
   "source": [
    "Clases\n",
    "====\n",
    "\n",
    "Hasta ahora, hemos aprendido sobre los tipos de datos básicos de Python: cadenas, números, listas, tuplas y diccionarios, así como funciones (aunque esto no es un tipo de de datos). En esta sección, aprenderemos sobre la última estructura de datos importante, las clases. Las clases son bastante diferentes de los otros tipos de datos, ya que son mucho más flexibles. Las clases permiten definir la información y el comportamiento que caracterizan todo lo que deseamos modelar en un programa. Las clases son un tema extenso, por lo que eb esta sección aprenderemos lo suficiente aquí para sumergirnos en proyectos que queramos comenzar.\n",
    "\n",
    "Hay muchos nuevos terminos a tener en cuenta cuando empezamos a aprender acerca de clases. Si estamos familiarizados con la programación orientada a objetos (OOP), esta será una lectura rápida sobre cómo Python se acerca a OOP. Si eres nuevo en la programación en general, aquí encontrarás muchas ideas nuevas. Simplemente comienza a leer, prueba los ejemplos en tu propia máquina y todo empezará a tener sentido a medida que avanzamos en la materia."
   ]
  },
  {
   "cell_type": "markdown",
   "metadata": {},
   "source": [
    "Índice\n",
    "====\n",
    "\n",
    "- [¿Qué son las clases?](#%C2%BFQu%C3%A9-son-las-clases?)\n",
    "- [Terminología orientada a objetos](#Terminolog%C3%ADa-de-la-Orientaci%C3%B3n-a-Objetos)\n",
    "    - [Terminología general](#Terminolog%C3%ADa-general)\n",
    "    - [Una revisión de la clase Cohete](#Una-revisi%C3%B3n-de-la-clase-Cohete)\n",
    "        - [El método \\_\\_init\\_\\_()](#El-m%C3%A9todo-__init__)\n",
    "        - [Un método simple](#Un-m%C3%A9todo-simple)\n",
    "        - [Creando varios objetos de una clase](#Creando-varios-objetos-de-una-clase)\n",
    "        - [Repaso rápido](#Repaso-r%C3%A1pido)\n",
    "        - [Ejercicios](#Ejercicios-oop)\n",
    "- [Redefiniendo la clase Cohete](#Redefiniendo-la-clase-Cohete)\n",
    "    - [Aceptando parametros en el método \\_\\_init\\_\\_()](#Aceptando-argumentos-en-el-m%C3%A9todo-__init__)\n",
    "    - [Aceptando parámetros en un método](#Aceptando-par%C3%A1metros-en-el-un-m%C3%A9todo)\n",
    "    - [Añadiendo un nuevo método](#A%C3%B1adiendo-un-nuevo-m%C3%A9todo)\n",
    "    - [Ejercicios](#Ejercicios-refining)\n",
    "- [Herencia](#Herencia)\n",
    "    - [La Clase Transbordador](#La-clase-TransbordadorEspacial)\n",
    "    - [Ejercicios](#Ejercicios-herencia)\n",
    "- [Modulos y clases](#M%C3%B3dulos-y-clases)\n",
    "    - [Almacenando una clase en un módulo](#Guardando-una-clase-en-un-m%C3%B3dulo)\n",
    "    - [Almacenando varias clases en un módulo](#Almacenando-varias-clases-en-un-m%C3%B3dulo)\n",
    "    - [Distintas formas de importar modulos y clases](#Distintos-modos-de-importar-clases-y-m%C3%B3dulos)\n",
    "    - [Un módulo de funciones](#Un-m%C3%B3dulo-de-funciones)\n",
    "    - [Ejercicios](#Exercises-imports)\n",
    "    "
   ]
  },
  {
   "cell_type": "markdown",
   "metadata": {},
   "source": [
    "¿Qué son las clases?\n",
    "===========\n",
    "\n",
    "Las clases son una forma de combinar información y comportamiento. Por ejemplo, consideremos qué necesitarías hacer si estuvieras construyendo un cohete en un juego o en una simulación física. Una de las primeras cosas que querrá  es poder trazear del las coordenadas X e Y del cohete (como mínimo). Así es como se ve una simple clase Cohete en código:"
   ]
  },
  {
   "cell_type": "code",
   "execution_count": 11,
   "metadata": {},
   "outputs": [],
   "source": [
    "class Cohete():\n",
    "    # Clase que simula un cohete para un juego o simulaciones físicas\n",
    "    \n",
    "    def __init__(self):\n",
    "        # Cada cohete tiene unas coordenadas x e y \n",
    "        self.x = 0\n",
    "        self.y = 0"
   ]
  },
  {
   "cell_type": "markdown",
   "metadata": {},
   "source": [
    "\n",
    "Una de las primeras cosas que haces con una clase es definir el método **__init__()**. El método __init__() establece los valores para cualquier parámetro que deba definirse cuando se crea un objeto por primera vez. La parte *self* se explicará más adelante; básicamente, es una sintaxis que le permite acceder a una variable desde cualquier otro lugar de la clase. Este método se conoce como el \"constructor\".\n",
    "\n",
    "La clase Cohete almacena dos piezas de información hasta el momento, pero no puede hacer nada. El primer comportamiento para definir es el de subir de nivel o altura. Esto es lo que podría verse en el siguiente código:"
   ]
  },
  {
   "cell_type": "code",
   "execution_count": 10,
   "metadata": {},
   "outputs": [],
   "source": [
    "class Cohete():\n",
    "    # Clase que simula un cohete para un juego o simulaciones físicas\n",
    "    \n",
    "    def __init__(self):\n",
    "        # Cada cohete tiene unas coordenadas x e y \n",
    "        self.x = 0\n",
    "        self.y = 0\n",
    "        \n",
    "    def subir(self):\n",
    "        # Aumentar la coordenada Y del cohete en una unidad\n",
    "        self.y += 1"
   ]
  },
  {
   "cell_type": "markdown",
   "metadata": {},
   "source": [
    "\n",
    "La clase Cohete ahora puede almacenar cierta información, y puede hacer algo con ella también. Pero este código aún no ha creado un cohete. Así es como \"creamos un cohete\":"
   ]
  },
  {
   "cell_type": "code",
   "execution_count": 2,
   "metadata": {},
   "outputs": [
    {
     "name": "stdout",
     "output_type": "stream",
     "text": [
      "<__main__.Cohete object at 0x7f4244194470>\n"
     ]
    }
   ],
   "source": [
    "class Cohete():\n",
    "    # Clase que simula un cohete para un juego o simulaciones físicas\n",
    "    \n",
    "    def __init__(self):\n",
    "        # Cada cohete tiene unas coordenadas x e y \n",
    "        self.x = 0\n",
    "        self.y = 0\n",
    "        \n",
    "    def subir(self):\n",
    "        # Aumentar la coordenada Y del cohete en una unidad\n",
    "        self.y += 1\n",
    "\n",
    "# Creamos un objeto cohete\n",
    "mi_cohete = Cohete()\n",
    "print(mi_cohete)"
   ]
  },
  {
   "cell_type": "markdown",
   "metadata": {},
   "source": [
    "\n",
    "Para usar realmente una clase, creamos una variable como *mi_cohete*. Luego asignamos a esa variable el nombre de la clase y después paréntesis. Python crea un **objeto** de la clase Cohete. \n",
    "\n",
    "Un objeto es una instancia única de la clase Cohete; tiene una copia de cada una de las variables de la clase, y puede realizar cualquier acción que esté definida para la clase. En este caso, podemos ver que la variable mi_cohete es un objeto Cohete del archivo de programa **\\__main\\__**, que se almacena en una ubicación particular de la memoria.\n",
    "\n",
    "Una vez que hemos definido una clase, podemos N objetos de esa clase y usar sus métodos. Veámos cómo definir un cohete y hacer que comience a moverse hacia arriba:"
   ]
  },
  {
   "cell_type": "code",
   "execution_count": 3,
   "metadata": {},
   "outputs": [
    {
     "name": "stdout",
     "output_type": "stream",
     "text": [
      "Altitud de cohete: 0\n",
      "Altitud de cohete: 1\n",
      "Altitud de cohete: 2\n",
      "Altitud de cohete: 3\n",
      "Altitud de cohete: 4\n",
      "Altitud de cohete: 5\n",
      "Altitud de cohete: 6\n",
      "Altitud de cohete: 7\n",
      "Altitud de cohete: 8\n",
      "Altitud de cohete: 9\n",
      "Altitud de cohete: 10\n"
     ]
    }
   ],
   "source": [
    "class Cohete():\n",
    "    # Clase que simula un cohete para un juego o simulaciones físicas\n",
    "    \n",
    "    def __init__(self):\n",
    "        # Cada cohete tiene unas coordenadas x e y \n",
    "        self.x = 0\n",
    "        self.y = 0\n",
    "        \n",
    "    def subir(self):\n",
    "        # Aumentar la coordenada Y del cohete en una unidad\n",
    "        self.y += 1\n",
    "\n",
    "# Creamos un objeto cohete\n",
    "mi_cohete = Cohete()\n",
    "print('Altitud de cohete:', mi_cohete.y)\n",
    "\n",
    "for i in range(0, 10):\n",
    "    mi_cohete.subir()\n",
    "    print('Altitud de cohete:', mi_cohete.y)\n"
   ]
  },
  {
   "cell_type": "markdown",
   "metadata": {},
   "source": [
    "\n",
    "Para acceder a las variables o métodos de un objeto, debemos usar el nombre del objeto (la variable) y luego usar la notación *punto* \".\" para acceder a las variables y métodos. En nuestro caso, para obtener el valor y de *mi\\_cohete*, usamos *mi\\_cohete.y*. Para usar el método subir() en mi_cohete, escriba *mi\\_cohete.subir()*.\n",
    "\n",
    "Una vez que hemos definido una clase, podemos crear tantos objetos de esa clase como deseemos. Cada objeto es su propia instancia de esa clase, con sus propias variables separadas (salvo que las definamos como variables de clase, lo explicaremos más adelante). Todos los objetos son capaces de tener el mismo comportamiento, pero las acciones particulares de cada objeto no afectan a ninguno de los otros objetos. Así es como podemos hacer una simple flota de cohetes:"
   ]
  },
  {
   "cell_type": "code",
   "execution_count": 4,
   "metadata": {},
   "outputs": [
    {
     "name": "stdout",
     "output_type": "stream",
     "text": [
      "<__main__.Cohete object at 0x7f42441a0438>\n",
      "<__main__.Cohete object at 0x7f42441a0208>\n",
      "<__main__.Cohete object at 0x7f42441a0240>\n",
      "<__main__.Cohete object at 0x7f42441a0278>\n",
      "<__main__.Cohete object at 0x7f42441a02b0>\n"
     ]
    }
   ],
   "source": [
    "class Cohete():\n",
    "    # Clase que simula un cohete para un juego o simulaciones físicas\n",
    "    \n",
    "    def __init__(self):\n",
    "        # Cada cohete tiene unas coordenadas x e y \n",
    "        self.x = 0\n",
    "        self.y = 0\n",
    "        \n",
    "    def subir(self):\n",
    "        # Aumentar la coordenada Y del cohete en una unidad\n",
    "        self.y += 1\n",
    "        \n",
    "# Creamos una flota de 5 cohetes y lo almacenamos en una lista\n",
    "mis_cohetes = []\n",
    "for x in range(0,5):\n",
    "    nuevo_cohete = Cohete()\n",
    "    mis_cohetes.append(nuevo_cohete)\n",
    "\n",
    "# Mostramos que cada cohete efectivamente es un objeto distinto\n",
    "for cohete in mis_cohetes:\n",
    "    print(cohete)"
   ]
  },
  {
   "cell_type": "markdown",
   "metadata": {},
   "source": [
    "\n",
    "Aqui vemos como efectiavmente cada cohete es un objeto que apunta a zonas distintas de memoria, por lo tanto, son objetos distintos."
   ]
  },
  {
   "cell_type": "markdown",
   "metadata": {},
   "source": [
    "You can prove that each rocket has its own x and y values by moving just one of the rockets:"
   ]
  },
  {
   "cell_type": "markdown",
   "metadata": {},
   "source": [
    "The syntax for classes may not be very clear at this point, but consider for a moment how you might create a rocket without using classes. You might store the x and y values in a dictionary, but you would have to write a lot of ugly, hard-to-maintain code to manage even a small set of rockets. As more features become incorporated into the Rocket class, you will see how much more efficiently real-world objects can be modeled with classes than they could be using just lists and dictionaries."
   ]
  },
  {
   "cell_type": "markdown",
   "metadata": {},
   "source": [
    "Clases en Python 2.7\n",
    "-----------------------\n",
    "\n",
    "\n",
    "Cuando escribe una clase en Python 2.7, siempre debe incluir la palabra `object` entre paréntesis cuando definimos la clase. Esto asegura que nuestras clases de Python 2.7 actúen como las clases de Python 3, lo que será útil a medida que los proyectos se vuelven más complicados.\n",
    "\n",
    "La versión simple de la clase de cohete se vería así en Python 2.7:"
   ]
  },
  {
   "cell_type": "code",
   "execution_count": 2,
   "metadata": {
    "collapsed": true
   },
   "outputs": [],
   "source": [
    "class Cohete(object):\n",
    "    # Clase que simula un cohete para un juego o simulaciones físicas\n",
    "    \n",
    "    def __init__(self):\n",
    "        # Cada cohete tiene unas coordenadas x e y \n",
    "        self.x = 0\n",
    "        self.y = 0"
   ]
  },
  {
   "cell_type": "markdown",
   "metadata": {},
   "source": [
    "Esta sintáxis tambien es válida en Python 3"
   ]
  },
  {
   "cell_type": "markdown",
   "metadata": {},
   "source": [
    "<a id=\"Ejercicios-oop\"></a>\n",
    "Ejercicios\n",
    "------------\n",
    "\n",
    "\n",
    "#### Cohete sin clase\n",
    "- Usando solo lo que ya sabes, intenta escribir un programa que simule el ejemplo anterior sobre los cohetes.\n",
    "    - Almacenar los valores de x e y para un cohete.\n",
    "    - Almacenar los valores de x e y para cada cohete en un conjunto de 5 cohetes. Almacena estos 5 cohetes en una lista.\n",
    "    \n",
    "- No te extengas demasiado haciendo este ejercicio; en realidad es solo un ejercicio rápido para ayudar a comprender cuán útil es la estructura de clase, especialmente a medida que comenzemos a extender la clase Cohete."
   ]
  },
  {
   "cell_type": "markdown",
   "metadata": {},
   "source": [
    "Terminología de la Orientación a Objetos\n",
    "======================\n",
    "\n",
    "Las clases son parte de un paradigma de programación llamado **programación orientada a objetos**. La programación orientada a objetos, u OOP (Object Oriented Programming del inglés) para abreviar, se centra en la construcción de bloques reutilizables de código llamados clases. \n",
    "\n",
    "Cuando desea utilizar una clase en uno de sus programas, creamos un **objeto** de esa clase, que es de donde proviene la frase \"orientado a objetos\". Python no está en sí mismo vinculado a la programación orientada a objetos, ya que se puede usar para otras muchas cosas, pero usaremos objetos en la mayoría o en todos sus proyectos de Python. Para comprender las clases, debemos comprender parte del lenguaje que se usa en OOP."
   ]
  },
  {
   "cell_type": "markdown",
   "metadata": {},
   "source": [
    "Terminología general\n",
    "-----------------------\n",
    "\n",
    "Una **clase** es un conjunto de código que define los **atributos** y **comportamientos** (funciones o métodos) requeridos para modelar con precisión algo que necesitamos para nuestro programa. Podemos modelar algo del mundo real, como un cohete o una cuerda de guitarra, o podemos modelar algo de un mundo virtual como un cohete en un juego o un conjunto de leyes físicas para un motor de juego.\n",
    "\n",
    "Un **atributo** es una información. En el código, un atributo es solo una variable que es parte de una clase.\n",
    "\n",
    "Un **comportamiento** es una acción que se define dentro de una clase. Estos están formados por **métodos**, que son solo funciones que se definen para la clase.\n",
    "\n",
    "Un **objeto** es una instancia particular de una clase. Un objeto tiene un cierto conjunto de valores para todos los atributos (variables) en la clase. Podemos tener tantos objetos como deseemos para cualquier clase.\n"
   ]
  },
  {
   "cell_type": "markdown",
   "metadata": {},
   "source": [
    "Una revisión de la clase Cohete\n",
    "------------------------------------\n",
    "\n",
    "Ahora que hemos visto un ejemplo simple de una clase y que hemos aprendido algo de terminología OOP básica, será útil echar un vistazo más de cerca a la clase Cohete."
   ]
  },
  {
   "cell_type": "markdown",
   "metadata": {},
   "source": [
    "El método \\_\\_init\\_\\_\n",
    "--------------------------\n",
    "\n",
    "Veamos el código inicial de codigo que definia la clase Cohete.\n"
   ]
  },
  {
   "cell_type": "code",
   "execution_count": 16,
   "metadata": {},
   "outputs": [],
   "source": [
    "class Cohete():\n",
    "    # Clase que simula un cohete para un juego o simulaciones físicas\n",
    "    \n",
    "    def __init__(self):\n",
    "        # Cada cohete tiene unas coordenadas x e y \n",
    "        self.x = 0\n",
    "        self.y = 0"
   ]
  },
  {
   "cell_type": "markdown",
   "metadata": {},
   "source": [
    "La primera línea muestra cómo se crea una clase en Python. La palabra clave **class** le dice a Python que se está a punto de definir una clase. Las reglas para nombrar una clase son las mismas reglas que aprendimos sobre cómo nombrar variables, pero existe una fuerte convención entre los programadores de Python de que las clases deberían nombrarse utilizando CamelCase. \n",
    "\n",
    "CamelCase es una convención en la que cada letra que comienza una palabra está en mayúscula, sin guiones bajos en el nombre. El nombre de la clase es seguido por un conjunto de paréntesis. Estos paréntesis estarán vacíos por ahora, pero más adelante pueden contener una clase en la que se basa la nueva clase. Por ejemplo, una clase en CamelCase podría ser EnviadorCorreo ó SuprimidorSpam.\n",
    " \n",
    "Es una buena práctica escribir un comentario al comienzo de tu clase, describiendo la clase. Hay una [sintaxis más formal] (http://www.python.org/dev/peps/pep-0257/) para documentar tus clases, pero no es obligatorio. Por ahora, solo escribe un comentario al comienzo de tu clase que resuma lo que quieres que haga la clase. Escribir más documentación formal para tus clases será más fácil en adelante si comienzas escribiendo comentarios simples ahora. Esta documentación, aparte de servinos de recordatorio, puede utilizarse para generar manuales de forma automática (si se hace bien).\n",
    "\n",
    "Los nombres de funciones que comienzan y terminan con dos guiones bajos son funciones incorporadas especiales que Python usa de ciertas maneras. El método \\_\\_init()\\_\\_ es una de estas funciones especiales. Se llama automáticamente cuando creas un objeto de tu clase. El método \\_\\_init()\\_\\_ nos permite asegurarson de que todos los atributos relevantes tengan valores correctos cuando se crea un objeto a partir de la clase, antes de que se use el objeto. En este caso, el método \\_\\_init\\_\\_() inicializa los valores x e y de Cohete a el valor 0.\n",
    "\n",
    "La palabra clave **self** a menudo le cuesta  un poco de tiempo a la gente entenderla. La palabra \"self\" se refiere al objeto actual con el que está trabajando. Cuando estás escribiendo una clase, te permite consultar ciertos atributos de cualquier otra parte de la clase. Básicamente, todos los métodos en una clase necesitan el objeto * self * como su primer argumento, para que puedan acceder a cualquier atributo que sea parte de la clase.\n",
    "\n",
    "Ahora echemos un vistazo más de cerca a un **método**."
   ]
  },
  {
   "cell_type": "markdown",
   "metadata": {},
   "source": [
    "Un método simple\n",
    "-------------------\n",
    "\n",
    "Este es el único método que definimos en la clase Cohete:"
   ]
  },
  {
   "cell_type": "code",
   "execution_count": 17,
   "metadata": {},
   "outputs": [],
   "source": [
    "class Cohete():\n",
    "    # Clase que simula un cohete para un juego o simulaciones físicas\n",
    "    \n",
    "    def __init__(self):\n",
    "        # Cada cohete tiene unas coordenadas x e y \n",
    "        self.x = 0\n",
    "        self.y = 0\n",
    "        \n",
    "    def subir(self):\n",
    "        # Aumentar la coordenada Y del cohete en una unidad\n",
    "        self.y += 1"
   ]
  },
  {
   "cell_type": "markdown",
   "metadata": {},
   "source": [
    "\n",
    "Un método es solo una función que es parte de una clase. Como es solo una función, puede hacer cualquier cosa con un método que hayamos aprendido ya con funciones. Un método puede aceptar argumentos posicionales, argumentos palabra clave, una lista de valores de longitud variable, un diccionario de palabras clave de longitud variable o cualquier combinación de estos. Sus argumentos pueden devolver un valor o un conjunto de valores si queremos, o simplemente pueden hacer algún trabajo sin devolver ningún valor.\n",
    "\n",
    "Cada método tiene que aceptar un argumento por defecto, el valor **self**. Esta es una referencia al objeto particular que llama al método. Este argumento *self* nos da acceso a los atributos del objeto que llama. En este ejemplo, el auto argumento se usa para acceder al valor \"y\" de un objeto Cohete. Ese valor se incrementa en 1, cada vez que un determinado objeto Cohete llama al método subir(). Probablemente esto aún sea algo confuso, pero debería comenzar a tener sentido a medida que veámos más ejemplos.\n",
    "\n",
    "Si echas un segundo vistazo a lo que ocurre cuando se llama a un método, las cosas pueden que tengan un poco más de sentido:"
   ]
  },
  {
   "cell_type": "code",
   "execution_count": 5,
   "metadata": {},
   "outputs": [
    {
     "name": "stdout",
     "output_type": "stream",
     "text": [
      "Altitud de cohete: 0\n",
      "Altitud de cohete: 1\n",
      "Altitud de cohete: 2\n"
     ]
    }
   ],
   "source": [
    "class Cohete():\n",
    "    # Clase que simula un cohete para un juego o simulaciones físicas\n",
    "    \n",
    "    def __init__(self):\n",
    "        # Cada cohete tiene unas coordenadas x e y \n",
    "        self.x = 0\n",
    "        self.y = 0\n",
    "        \n",
    "    def subir(self):\n",
    "        # Aumentar la coordenada Y del cohete en una unidad\n",
    "        self.y += 1\n",
    "\n",
    "# Creamos un objeto cohete y empezamos a hacer que suba\n",
    "mi_cohete = Cohete()\n",
    "print('Altitud de cohete:', mi_cohete.y)\n",
    "\n",
    "mi_cohete.subir()\n",
    "print('Altitud de cohete:', mi_cohete.y)\n",
    "\n",
    "mi_cohete.subir()\n",
    "print('Altitud de cohete:', mi_cohete.y)\n",
    "\n"
   ]
  },
  {
   "cell_type": "markdown",
   "metadata": {},
   "source": [
    "En este ejemplo, se crea un objeto Cohete y se almacena en la variable mi_cohete. Después de crear este objeto, se imprime su valor y. Se accede al valor del atributo **y** utilizando la notación de punto. La frase **mi_cohete.y** le pide a Python que devuelva \"el valor de la variable **y** que pertenece al objeto mi_cohete\".\n",
    "\n",
    "Después de que se crea el objeto mi_cohete y se imprime su valor **y** inicial, se llama al método subir(). Esto le dice a Python que aplique el método subit() al objeto mi_cohete. Python encuentra el valor **y** que pertenece al objeto mi_cohete y agrega 1 a ese valor. Este proceso se repite varias veces, y se puede ver en el resultado que el valor **y** está de hecho aumentando."
   ]
  },
  {
   "cell_type": "markdown",
   "metadata": {},
   "source": [
    "Creando varios objetos de una clase\n",
    "-----------------------------------------\n",
    "\n",
    "Uno de los objetivos de la programación orientada a objetos es crear código reutilizable. Una vez que hayamos escrito el código para una clase, podemos crear tantos objetos de esa clase como necesitemos. Vale la pena mencionar en este punto que las clases generalmente se guardan en un archivo separado y luego se importan al programa en el que se está trabajando. Entonces podemos construir una biblioteca de clases y usar esas clases una y otra vez en diferentes programas. Una vez que sepamos que una clase funciona bien, puede dejarla en paz y saber que los objetos que creemos en un nuevo programa funcionarán como siempre.\n",
    "\n",
    "Podemos ver esta \"reutilización del código\" cuando la clase Cohete se usa para crear más de un objeto Cohete. Aquí está el código que hizo una flota de objetos Cohete:"
   ]
  },
  {
   "cell_type": "code",
   "execution_count": 7,
   "metadata": {},
   "outputs": [
    {
     "name": "stdout",
     "output_type": "stream",
     "text": [
      "<__main__.Cohete object at 0x7f42441a0240>\n",
      "<__main__.Cohete object at 0x7f42441a0278>\n",
      "<__main__.Cohete object at 0x7f4244196080>\n",
      "<__main__.Cohete object at 0x7f42441b81d0>\n",
      "<__main__.Cohete object at 0x7f42441b8278>\n"
     ]
    }
   ],
   "source": [
    "class Cohete():\n",
    "    # Clase que simula un cohete para un juego o simulaciones físicas\n",
    "    \n",
    "    def __init__(self):\n",
    "        # Cada cohete tiene unas coordenadas x e y \n",
    "        self.x = 0\n",
    "        self.y = 0\n",
    "        \n",
    "    def subir(self):\n",
    "        # Aumentar la coordenada Y del cohete en una unidad\n",
    "        self.y += 1\n",
    "        \n",
    "# Creamos una flota de 5 cohetes y lo almacenamos en una lista\n",
    "mis_cohetes = []\n",
    "for x in range(0,5):\n",
    "    nuevo_cohete = Cohete()\n",
    "    mis_cohetes.append(nuevo_cohete)\n",
    "\n",
    "# Mostramos que cada cohete efectivamente es un objeto distinto\n",
    "for cohete in mis_cohetes:\n",
    "    print(cohete)"
   ]
  },
  {
   "cell_type": "markdown",
   "metadata": {},
   "source": [
    "¿Qué sucede exactamente en este ciclo for? La línea *mis\\_cohetes.append(nuevo\\_cohete)* se ejecuta 5 veces. Cada vez, se crea un nuevo objeto Cohete y luego se agrega a la lista mis\\_cohetes. El método \\_\\_init\\_\\_() se ejecuta una vez para cada uno de estos objetos, por lo que cada objeto obtiene su propio valor **x** e **y**. Cuando se invoca un método en uno de estos objetos, la variable *self* permite el acceso solo a los atributos de ese objeto, y se asegura de que la modificación de un objeto no afecte a ninguno de los otros objetos que se han creado a partir de la clase.\n",
    "\n",
    "Cada uno de estos objetos se puede trabajar de forma individual. En este punto, estamos listos para continuar y ver cómo agregar más funcionalidad a la clase Cohete. Vamos a trabajar despacio y veremos como podemos empezar a escribir nuestras propias clases"
   ]
  },
  {
   "cell_type": "markdown",
   "metadata": {},
   "source": [
    "Repaso rápido\n",
    "---------------\n",
    "\n",
    "Si todo esto tiene sentido, entonces el resto del trabajo con las clases implicará aprender muchos detalles sobre cómo las clases se pueden utilizar de maneras más flexibles y potentes. Si esto no tiene sentido, prueba lo siguiente:\n",
    "\n",
    "- Volver a leer las secciones anteriores y ver si las cosas empiezan a tener más sentido.\n",
    "- Escribe estos ejemplos en tu propio editor y ejecútelos. Intenta hacer algunos cambios y mira qué sucede.\n",
    "- Prueba el siguiente ejercicio y mira a ver si te ayuda a solidificar algunos de los conceptos sobre los que ha estado leyendo.\n",
    "- Sigue leyendo. Las siguientes secciones agregarán más funcionalidades a la clase Cohete. Estos pasos implicarán repasar algo de lo que ya se ha cubierto, de una manera ligeramente diferente.\n",
    "\n",
    "Las clases son un tema extenso, y una vez que las entiendas, probablemente las usarás en tus programas en el futuro. Si eres nuevo en esto, sé paciente y confía en que las cosas comenzarán a tener sentido más adelante."
   ]
  },
  {
   "cell_type": "markdown",
   "metadata": {},
   "source": [
    "<a id=\"Ejercicios-oop\"></a>\n",
    "Ejercicios\n",
    "------------\n",
    "\n",
    "#### Tu propio cohete\n",
    "- Sin mirar atrás en los ejemplos anteriores, intenta recrear la clase Cohete como se ha mostrado hasta ahora.\n",
    "    - Definir la clase Cohete().\n",
    "    - Define el método \\_\\_init\\_\\_(), que establece un valor x e y para cada objeto Cohete.\n",
    "    - Define el método subir().\n",
    "    - Crea un objeto Cohete.\n",
    "    - Imprime el objeto.\n",
    "    - Imprime el valor **y** del objeto.\n",
    "    - Mueva el cohete hacia arriba, e imprime el valor de **y** nuevamente.\n",
    "    - Crea una flota de cohetes y demuestra que son objetos de la clase Cohete separados."
   ]
  },
  {
   "cell_type": "markdown",
   "metadata": {},
   "source": [
    "Redefiniendo la clase Cohete\n",
    "================\n",
    "\n",
    "La clase Rocket hasta ahora es muy simple. Podemos intentar hacerla un poco más interesante con algunos refinamientos del método \\_\\_init\\_\\_() y mediante la adición de algunos métodos."
   ]
  },
  {
   "cell_type": "markdown",
   "metadata": {},
   "source": [
    "Aceptando argumentos en el método \\_\\_init\\_\\_\n",
    "-----------------------------------------------------\n",
    "\n",
    "El método \\_\\_init\\_\\_() hasta ahora es muy sencillo:"
   ]
  },
  {
   "cell_type": "code",
   "execution_count": null,
   "metadata": {},
   "outputs": [],
   "source": [
    "class Cohete():\n",
    "    # Clase que simula un cohete para un juego o simulaciones físicas\n",
    "    \n",
    "    def __init__(self):\n",
    "        # Cada cohete tiene unas coordenadas x e y \n",
    "        self.x = 0\n",
    "        self.y = 0\n",
    "        \n",
    "    def subir(self):\n",
    "        # Aumentar la coordenada Y del cohete en una unidad\n",
    "        self.y += 1"
   ]
  },
  {
   "cell_type": "markdown",
   "metadata": {},
   "source": [
    "\n",
    "Todo lo que el método **__init __()** hace hasta ahora es establecer los valores **x** e **y** con valor 0. Podemos agregar fácilmente un par de argumentos clave para que los nuevos cohetes se puedan inicializar en cualquier posición:"
   ]
  },
  {
   "cell_type": "code",
   "execution_count": null,
   "metadata": {},
   "outputs": [],
   "source": [
    "class Cohete():\n",
    "    # Clase que simula un cohete para un juego o simulaciones físicas\n",
    "    \n",
    "    def __init__(self, x, y):\n",
    "        # Cada cohete tiene unas coordenadas x e y \n",
    "        self.x = x\n",
    "        self.y = y\n",
    "        \n",
    "    def subir(self):\n",
    "        # Aumentar la coordenada Y del cohete en una unidad\n",
    "        self.y += 1"
   ]
  },
  {
   "cell_type": "markdown",
   "metadata": {},
   "source": [
    "Ahora cuando creamos un nuevo objeto Cohete, tiene la opción de pasar valores iniciales arbitrarios para **x** e **y**:"
   ]
  },
  {
   "cell_type": "code",
   "execution_count": 9,
   "metadata": {},
   "outputs": [
    {
     "name": "stdout",
     "output_type": "stream",
     "text": [
      "El cohete 0 esta en (0, 0).\n",
      "El cohete 1 esta en (0, 10).\n",
      "El cohete 2 esta en (100, 0).\n"
     ]
    }
   ],
   "source": [
    "class Cohete():\n",
    "    # Clase que simula un cohete para un juego o simulaciones físicas\n",
    "    \n",
    "    def __init__(self, x=0, y=0):\n",
    "        # Cada cohete tiene unas coordenadas x e y \n",
    "        self.x = x\n",
    "        self.y = y\n",
    "        \n",
    "    def subir(self):\n",
    "        # Aumentar la coordenada Y del cohete en una unidad\n",
    "        self.y += 1\n",
    "        \n",
    "# Creamos una serie de cohetes empezando en distintas posiciones\n",
    "cohetes = []\n",
    "cohetes.append(Cohete())\n",
    "cohetes.append(Cohete(0,10))\n",
    "cohetes.append(Cohete(100,0))\n",
    "\n",
    "# Mostramos donde esta cada cohete\n",
    "for index, cohete in enumerate(cohetes):\n",
    "    print(\"El cohete %d esta en (%d, %d).\" % (index, cohete.x, cohete.y))"
   ]
  },
  {
   "cell_type": "markdown",
   "metadata": {},
   "source": [
    "Aceptando parámetros en el un método\n",
    "-----------------------------------------\n",
    "\n",
    "El método \\_\\_init\\_\\_() es solo un método especial que sirve para un propósito particular, que es ayudar a crear nuevos objetos de una clase. Cualquier método en una clase puede aceptar parámetros de cualquier tipo. Con esto en mente, el método subir() puede hacerse mucho más flexible. Al aceptar argumentos de palabras clave, el método subir() se puede reescribir como un método mover_cohete() más general. Este nuevo método permitirá que el cohete se mueva cualquier cantidad, en cualquier dirección:"
   ]
  },
  {
   "cell_type": "code",
   "execution_count": 23,
   "metadata": {},
   "outputs": [],
   "source": [
    "class Cohete():\n",
    "    # Clase que simula un cohete para un juego o simulaciones físicas\n",
    "    \n",
    "    def __init__(self, x=0, y=0):\n",
    "        # Cada cohete tiene unas coordenadas x e y \n",
    "        self.x = x\n",
    "        self.y = y\n",
    "        \n",
    "    def mover_cohete(self, incremento_x=0, incremento_y=1):\n",
    "        # Mover el cohete de acuerdo a los parámetros indicados\n",
    "        self.x += x_increment\n",
    "        self.y += y_increment"
   ]
  },
  {
   "cell_type": "markdown",
   "metadata": {},
   "source": [
    "Los parámetros del método mover\\_cohete() se denominan incremento\\_x y increment\\o_x en lugar de x e y. Es bueno enfatizar que estos son cambios en la posición x e y, no valores nuevos para la posición real del cohete. Al elegir cuidadosamente los valores predeterminados correctos, podemos definir un comportamiento predeterminado significativo. \n",
    "\n",
    "Si alguien llama al método mover_cohete() sin parámetros, el cohete simplemente se moverá hacia arriba una unidad en la dirección y. Tenga en cuenta que a este método se le pueden dar valores negativos para mover el cohete hacia la izquierda o hacia la derecha, o hacia abajo:"
   ]
  },
  {
   "cell_type": "code",
   "execution_count": 11,
   "metadata": {},
   "outputs": [
    {
     "name": "stdout",
     "output_type": "stream",
     "text": [
      "El Cohete 0 esta en (0, 1).\n",
      "El Cohete 1 esta en (10, 10).\n",
      "El Cohete 2 esta en (-10, 0).\n"
     ]
    }
   ],
   "source": [
    "class Cohete():\n",
    "    # Clase que simula un cohete para un juego o simulaciones físicas\n",
    "    \n",
    "    def __init__(self, x=0, y=0):\n",
    "        # Cada cohete tiene unas coordenadas x e y \n",
    "        self.x = x\n",
    "        self.y = y\n",
    "        \n",
    "    def mover_cohete(self, incremento_x=0, incremento_y=1):\n",
    "        # Mover el cohete de acuerdo a los parámetros indicados\n",
    "        self.x += incremento_x\n",
    "        self.y += incremento_y\n",
    "        \n",
    "# Creamos 3 cohetes\n",
    "cohetes = [Cohete() for x in range(0,3)]\n",
    "\n",
    "# Movemos cada cohete \n",
    "cohetes[0].mover_cohete()\n",
    "cohetes[1].mover_cohete(10,10)\n",
    "cohetes[2].mover_cohete(-10,0)\n",
    "          \n",
    "# Show where each rocket is.\n",
    "for index, cohete in enumerate(cohetes):\n",
    "    print(\"El Cohete %d esta en (%d, %d).\" % (index, cohete.x, cohete.y))"
   ]
  },
  {
   "cell_type": "markdown",
   "metadata": {},
   "source": [
    "Añadiendo un nuevo método\n",
    "-----------------------------\n",
    "\n",
    "Una de las fortalezas de la programación orientada a objetos es la capacidad de modelar de cerca los fenómenos del mundo real al agregar atributos y comportamientos apropiados a las clases. Uno de los trabajos de un equipo que pilota un cohete es asegurarse de que el cohete no se acerque demasiado a ningún otro cohete. Vamos a añaidr un método que indicará la distancia de un cohete a cualquier otro cohete.\n",
    "\n",
    "Si no estás familiarizado con los cálculos de distancia, hay una fórmula bastante simple para indicar la distancia entre dos puntos si conocemos los valores **x** e **y** de cada punto. Este nuevo método realiza ese cálculo y luego devuelve la distancia resultante."
   ]
  },
  {
   "cell_type": "code",
   "execution_count": 16,
   "metadata": {},
   "outputs": [
    {
     "name": "stdout",
     "output_type": "stream",
     "text": [
      "Los cohetes estan a 11.180340 unidades de distancia.\n"
     ]
    }
   ],
   "source": [
    "from math import sqrt\n",
    "\n",
    "class Cohete():\n",
    "    # Clase que simula un cohete para un juego o simulaciones físicas\n",
    "    \n",
    "    def __init__(self, x=0, y=0):\n",
    "        # Cada cohete tiene unas coordenadas x e y \n",
    "        self.x = x\n",
    "        self.y = y\n",
    "        \n",
    "    def mover_cohete(self, incremento_x=0, incremento_y=1):\n",
    "        # Mover el cohete de acuerdo a los parámetros indicados\n",
    "        self.x += incremento_x\n",
    "        self.y += incremento_y\n",
    "        \n",
    "    def distancia(self, otro_cohete):\n",
    "        # Calcula la distancia entre este cohete y el especificado y devuelve un valor\n",
    "        distancia = sqrt((self.x - otro_cohete.x) **2 + \n",
    "                         (self.y - otro_cohete.y) **2)\n",
    "        return distancia\n",
    "    \n",
    "# Hacemos dos cohetes en lugares distintos\n",
    "cohete_0 = Cohete()\n",
    "cohete_1 = Cohete(10,5)\n",
    "\n",
    "# Mostrar la distancia entre los dos\n",
    "distancia = cohete_0.distancia(cohete_1)\n",
    "print(\"Los cohetes estan a %f unidades de distancia.\" % distancia)"
   ]
  },
  {
   "cell_type": "markdown",
   "metadata": {},
   "source": [
    "Es de esperar que estos pequeños refinamientos muestren que se puede ampliar los atributos y el comportamiento de una clase para modelar los fenómenos que nos interesan tan de cerca como lo deseemos. El cohete podría tener un nombre, una capacidad de tripulación, una carga útil, una cierta cantidad de combustible y cualquier cantidad de otros atributos. Podríamos definir cualquier comportamiento que deseemos para el cohete, incluidas las interacciones con otros cohetes y las instalaciones de lanzamiento, los campos gravitacionales y todo lo que necesitemos. Existen técnicas para gestionar estas interacciones más complejas, pero lo que acabamos de ver es el núcleo de la programación orientada a objetos.\n",
    "\n",
    "En este punto, debemos intentar escribir algunas clases propias. Después de probar algunos ejercicios, veremos la herencia de objetos y luego estaremos listo para seguir adelante."
   ]
  },
  {
   "cell_type": "markdown",
   "metadata": {},
   "source": [
    "<a id=\"Ejercicios-refining\"></a>\n",
    "Ejercicios\n",
    "-----------\n",
    "\n",
    "#### Tu propio cohete 2\n",
    "\n",
    "- Tenemos suficientes conceptos nuevos que tal vez queramos intentar volver a crear la clase Cohete, tal como se ha desarrollado hasta ahora, mirando los ejemplos lo menos posible. Una vez que tengas tu propia versión, independientemente de cuánto necesites ver en el ejemplo, puedes modificar la clase y explorar las posibilidades de lo que ya has aprendido.\n",
    "\n",
    "    - Volver a crear la clase Cohete tal como se ha desarrollado hasta ahora:\n",
    "        - Definir la clase Cohete().\n",
    "        - Definir el método \\_\\_init\\_\\_(). Deja que tu método \\_\\_init\\_\\_() acepte valores x e y para la posición inicial del cohete. Asegúrate de que el comportamiento predeterminado es colocar el cohete en (0,0).\n",
    "        - Definir el método mover\\_cohete(). El método debe aceptar una cantidad para mover hacia la izquierda o hacia la derecha, y una cantidad para subir o bajar el cohete.\n",
    "        - Crea un objeto Cohete. Mueve el cohete e imprime su posición después de cada movimiento por pantalla.\n",
    "        - Crea una pequeña flota de cohetes. Mueve varios de ellos e imprime sus posiciones finales para demostrar que cada cohete puede moverse independientemente de los otros cohetes.\n",
    "        - Definir el método distnacia(). El método debe aceptar un objeto Cohete y calcular la distancia entre el cohete actual y el cohete que se pasa al método.\n",
    "        - Usa el método get_distance () para imprimir las distancias entre varios de los cohetes de tu flota.\n",
    "        \n",
    "#### Atributos de la clase Cohete\n",
    "\n",
    "- Comienza con una copia de la clase Cohete, ya sea una que haya hecho de un ejercicio anterior o la última versión de la última sección.\n",
    "- Agrega varios de sus propios atributos a la función \\_\\_init\\_\\_(). Los valores de sus atributos pueden ser configurados automáticamente por la función \\_\\_init\\_\\_, o pueden ser configurados por parámetros pasados a \\_\\_init\\_\\_().\n",
    "- Crea un cohete e imprime los valores para los atributos que has creado, para mostrar que se han configurado correctamente.\n",
    "- Crea una pequeña flota de cohetes y establece diferentes valores para uno de los atributos que has creado. Imprima los valores de estos atributos para cada cohete de su flota, para mostrar que se han configurado correctamente para cada cohete.\n",
    "- Si no estas seguro de qué tipo de atributos agregar, puedes considerar almacenar la altura del cohete, el tamaño de la tripulación, el nombre del cohete, la velocidad del cohete u otras muchas características posibles de un cohete.\n",
    "\n",
    "#### Métodos de la clase Cohete\n",
    "\n",
    "- Comienza con una copia de la clase Rocket, ya sea una que hayas hecho de un ejercicio anterior o la última versión de la última sección.\n",
    "- Agregue un nuevo método a la clase. Esto es probablemente un poco más desafiante que agregar atributos, pero pruébalo.\n",
    "    - Piensa en lo que hacen los cohetes, y haz una versión muy simple de ese comportamiento usando declaraciones impresas. Por ejemplo, los cohetes se levantan cuando son lanzados. Podrías hacer un método llamado *lanzar()*, y todo lo que haría sería imprimir una declaración como \"¡El cohete ha despegado!\" Si su cohete tiene un nombre, esta frase podría ser más descriptiva.\n",
    "    - Podrías hacer un método muy sencillo *aterrizar\\_cohete()* que simplemente establezca los valores x e y del cohete en 0. Imprima la posición antes y después de llamar al método *aterrizar\\_cohete()* para asegurarse de que tu método está haciendo lo que se supone que debe.\n",
    "    - Si te gusta trabajar con las matemáticas, podrías implementar un método *chequeo()*. Este método tomaría otro objeto cohete y llamaría al método distancia() en ese cohete. Luego verificará si ese cohete está demasiado cerca, e imprimirá un mensaje de advertencia si el cohete está demasiado cerca. Si hay una distancia cero entre los dos cohetes, tu método podría imprimir un mensaje como, \"¡Los cohetes se han estrellado!\" (Tenga cuidado: obtener una distancia cero podría significar que accidentalmente encontró la distancia entre un cohete y él mismo, en lugar de un segundo cohete).\n",
    "    \n",
    "#### Clase Persona\n",
    "\n",
    "- Modelar a una persona es un ejercicio clásico para las personas que intentan aprender a escribir clases. Todos estamos familiarizados con las características y el comportamiento de las personas, por lo que es un buen ejercicio para probar.\n",
    "    - Definir una clase Persona().\n",
    "    - En la función \\_\\_init\\_\\_(), define varios atributos de una persona. Los buenos atributos que debes tener en cuenta son el nombre, la edad, el lugar de nacimiento y cualquier otra cosa que desees saber sobre las personas.\n",
    "    - Escribe un método. Esto podría ser tan simple como *presentarse() *. Este método imprimirá una declaración como, \"Hola, mi nombre es María\".\n",
    "    - También puedes hacer un método como * incrementar\\_edad() *. Una versión simple de este método simplemente agregaría 1 a la edad de la persona.\n",
    "        - Una versión más complicada de este método implicaría almacenar la fecha de nacimiento de la persona en lugar de su edad, y luego calcular la edad cada vez que se solicite la edad. Pero lidiar con fechas y horas no es particularmente fácil si nunca antes lo ha hecho en otro lenguaje de programación.\n",
    "    - Crea una persona, establece los valores de los atributos de manera apropiada e imprime información sobre la persona.\n",
    "    - Llama a tu método con la persona que creaste. Asegúrate de que su método se ejecute correctamente; si el método no imprime nada directamente, imprime algo antes y después de llamar al método para asegurarte de que hiziste lo que se suponía."
   ]
  },
  {
   "cell_type": "markdown",
   "metadata": {},
   "source": [
    "Herencia\n",
    "=====\n",
    "\n",
    "Uno de los objetivos más importantes del enfoque de la programación orientado a objetos es la creación de un código estable, confiable y reutilizable. Si tuvieramos que crear una nueva clase para cada tipo de objeto que quisieramos modelar, difícilmente tendríamos ningún código reutilizable. En Python y en cualquier otro lenguaje que admita OOP, una clase puede **heredar** de otra clase. Esto significa que podemos basar una nueva clase en una clase existente; la nueva clase *hereda* todos los atributos y el comportamiento de la clase en la que se basa. Una nueva clase puede anular cualquier atributo o comportamiento indeseable de la clase de la que hereda, y puede agregar cualquier atributo o comportamiento nuevos que sean apropiados. La clase original se denomina clase **padre** y la nueva clase es **hija** de la clase principal. La clase principal también se denomina **superclase** y la clase secundaria también se denomina **subclase**.\n",
    "\n",
    "La clase secundaria hereda todos los atributos y el comportamiento de la clase principal, pero los atributos definidos en la clase secundaria no están disponibles para la clase principal. Esto puede ser obvio para muchas personas, pero vale la pena mencionarlo. Esto también significa que una clase hija puede anular el comportamiento de la clase principal. Si una clase secundaria define un método que también aparece en la clase principal, los objetos de la clase secundaria usarán el método nuevo en lugar del método de clase principal.\n",
    "\n",
    "Para comprender mejor la herencia, veamos un ejemplo de una clase que puede basarse en la clase Cohete."
   ]
  },
  {
   "cell_type": "markdown",
   "metadata": {},
   "source": [
    "La clase TransbordadorEspacial\n",
    "-----------------------------------\n",
    "\n",
    "Si quisieras modelar un transbordador espacial, podrías escribir una clase completamente nueva. Pero un transbordador espacial es solo un tipo especial de cohete. En lugar de escribir una clase completamente nueva, puedes heredar todos los atributos y el comportamiento de un Cohete, y luego agregar algunos atributos y comportamientos apropiados para un Shuttle.\n",
    "\n",
    "Una de las características más importantes de un transbordador espacial es que puede ser reutilizado. Entonces, la única diferencia que agregaremos en este punto es registrar la cantidad de vuelos que el transbordador ha completado. Todo lo demás que necesitas saber sobre un transbordador ya ha sido codificado en la clase Cohete.\n",
    "\n",
    "Así es como se ve la clase Transbordador:"
   ]
  },
  {
   "cell_type": "code",
   "execution_count": 17,
   "metadata": {},
   "outputs": [
    {
     "name": "stdout",
     "output_type": "stream",
     "text": [
      "<__main__.Transbordador object at 0x7f42441a7400>\n"
     ]
    }
   ],
   "source": [
    "from math import sqrt\n",
    "\n",
    "class Cohete():\n",
    "    # Clase que simula un cohete para un juego o simulaciones físicas\n",
    "    \n",
    "    def __init__(self, x=0, y=0):\n",
    "        # Cada cohete tiene unas coordenadas x e y \n",
    "        self.x = x\n",
    "        self.y = y\n",
    "        \n",
    "    def mover_cohete(self, incremento_x=0, incremento_y=1):\n",
    "        # Mover el cohete de acuerdo a los parámetros indicados\n",
    "        self.x += incremento_x\n",
    "        self.y += incremento_y\n",
    "        \n",
    "    def distancia(self, otro_cohete):\n",
    "        # Calcula la distancia entre este cohete y el especificado y devuelve un valor\n",
    "        distancia = sqrt((self.x - otro_cohete.x) **2 + \n",
    "                         (self.y - otro_cohete.y) **2)\n",
    "        return distancia\n",
    "    \n",
    "class Transbordador(Cohete):\n",
    "    # Transbordador es un tipo de Cohete despues de todo, reutilizable\n",
    "    \n",
    "    def __init__(self, x=0, y=0, vuelos_completados=0):\n",
    "        super().__init__(x, y)\n",
    "        self.vuelos_completados = vuelos_completados\n",
    "        \n",
    "transbordador = Transbordador(10,0,3)\n",
    "print(transbordador)"
   ]
  },
  {
   "cell_type": "markdown",
   "metadata": {},
   "source": [
    "\n",
    "Cuando una nueva clase se basa en una clase existente, escribe el nombre de la clase principal entre paréntesis cuando defina la nueva clase:\n",
    "\n",
    "    "
   ]
  },
  {
   "cell_type": "code",
   "execution_count": null,
   "metadata": {},
   "outputs": [],
   "source": [
    "class NuevaClase(ClasePadre):"
   ]
  },
  {
   "cell_type": "markdown",
   "metadata": {},
   "source": [
    "La función \\_\\_init\\_\\_() de la nueva clase necesita llamar a la función \\_\\_init\\_\\_() de la clase padre. La función \\_\\_init\\_\\_() de la nueva clase necesita aceptar todos los parámetros necesarios para construir un objeto a partir de la clase padre, y estos parámetros deben pasarse a \\_\\_init\\_\\_() función de la clase padre. La función * super ().\\_\\_init\\_\\_(x, y)* se ocupa de esto:"
   ]
  },
  {
   "cell_type": "code",
   "execution_count": null,
   "metadata": {},
   "outputs": [],
   "source": [
    "class NuevaClase(ClasePadre):\n",
    "    \n",
    "    def __init__(self, argumentos_clase_hija, argumentos_clase_padre):\n",
    "        super().__init__(argumentos_clase_padre)\n",
    "        # Inicializamos la clase hija"
   ]
  },
  {
   "cell_type": "markdown",
   "metadata": {},
   "source": [
    "La función *super()* pasa el argumento *self* a la clase principal automáticamente. También podrías hacer esto nombrando explícitamente la clase padre cuando llame a la función \\_\\_init\\_\\_(), pero luego deberás incluir el argumento *self* manualmente:"
   ]
  },
  {
   "cell_type": "code",
   "execution_count": null,
   "metadata": {},
   "outputs": [],
   "source": [
    "class Transbordador(Cohete):\n",
    "    # Transbordador es un tipo de Cohete despues de todo, reutilizable\n",
    "    \n",
    "    def __init__(self, x=0, y=0, vuelos_completados=0):\n",
    "        super().__init__(x, y)\n",
    "        self.vuelos_completados = vuelos_completados"
   ]
  },
  {
   "cell_type": "markdown",
   "metadata": {},
   "source": [
    "Esto puede parecer un poco más fácil de leer, pero es preferible usar la sintaxis *super() *. Cuando usamos *super ()*, no necesitas nombrar explícitamente la clase principal, por lo que su código es más flexible para cambios posteriores. A medida que aprendas más sobre las clases, podrá escribir clases secundarias que heredan de múltiples clases principales, y la función *super()* llamará a las funciones de las clases principales \\_\\_init \\_\\_() por ti. Este enfoque explícito para llamar a la clase padre \\_\\_init \\_\\_() función se incluye para que estés menos confundido si lo ves en el código de otra persona."
   ]
  },
  {
   "cell_type": "markdown",
   "metadata": {},
   "source": [
    "El resultado anterior muestra que se creó un nuevo objeto Transbordador. Este nuevo objeto Transbordador puede almacenar la cantidad de vuelos completados, pero también tiene toda la funcionalidad de la clase cohete: tiene una posición que se puede cambiar y puede calcular la distancia entre sí mismo y otros cohetes o lanzaderas. Esto se puede demostrar creando varios cohetes y transbordadores, y luego encontrando la distancia entre una transbordador y todas los otros transbordadores y cohetes. Este ejemplo usa una función simple llamada [randint] (http://docs.python.org/2/library/random.html#random.randint), que genera un entero aleatorio entre un límite inferior y superior, para determinar la posición de cada cohete y transbordador:"
   ]
  },
  {
   "cell_type": "code",
   "execution_count": 19,
   "metadata": {},
   "outputs": [
    {
     "name": "stdout",
     "output_type": "stream",
     "text": [
      "El transbordador 0 ha completado 0 vuelos.\n",
      "El transbordador 1 ha completado 2 vuelos.\n",
      "El transbordador 2 ha completado 6 vuelos.\n",
      "\n",
      "\n",
      "El primer transbordador es 61.032778 unidades del transbordador 0.\n",
      "El primer transbordador es 61.032778 unidades del transbordador 1.\n",
      "El primer transbordador es 61.032778 unidades del transbordador 2.\n",
      "\n",
      "\n",
      "El primer transbordador esta 28.653098 unidadaes del cohete 0.\n",
      "El primer transbordador esta 26.248809 unidadaes del cohete 1.\n",
      "El primer transbordador esta 82.389320 unidadaes del cohete 2.\n"
     ]
    }
   ],
   "source": [
    "from math import sqrt\n",
    "from random import randint\n",
    "\n",
    "class Cohete():\n",
    "    # Clase que simula un cohete para un juego o simulaciones físicas\n",
    "    \n",
    "    def __init__(self, x=0, y=0):\n",
    "        # Cada cohete tiene unas coordenadas x e y \n",
    "        self.x = x\n",
    "        self.y = y\n",
    "        \n",
    "    def mover_cohete(self, incremento_x=0, incremento_y=1):\n",
    "        # Mover el cohete de acuerdo a los parámetros indicados\n",
    "        self.x += incremento_x\n",
    "        self.y += incremento_y\n",
    "        \n",
    "    def distancia(self, otro_cohete):\n",
    "        # Calcula la distancia entre este cohete y el especificado y devuelve un valor\n",
    "        distancia = sqrt((self.x - otro_cohete.x) **2 + \n",
    "                         (self.y - otro_cohete.y) **2)\n",
    "        return distancia\n",
    "    \n",
    "class Transbordador(Cohete):\n",
    "    # Transbordador es un tipo de Cohete despues de todo, reutilizable\n",
    "    \n",
    "    def __init__(self, x=0, y=0, vuelos_completados=0):\n",
    "        super().__init__(x, y)\n",
    "        self.vuelos_completados = vuelos_completados\n",
    "        \n",
    "        \n",
    "# Creamos varios cohetes y transbordadores\n",
    "transbordadores = []\n",
    "for x in range(0,3):\n",
    "    x = randint(0,100)\n",
    "    y = randint(1,100)\n",
    "    vuelos_completados = randint(0,10)\n",
    "    transbordadores.append(Transbordador(x, y, vuelos_completados))\n",
    "\n",
    "cohetes = []\n",
    "for x in range(0,3):\n",
    "    x = randint(0,100)\n",
    "    y = randint(1,100)\n",
    "    cohetes.append(Cohete(x, y))\n",
    "    \n",
    "# Mostrar vuelos completados por transbordador\n",
    "for index, transbordador in enumerate(transbordadores):\n",
    "    print(\"El transbordador %d ha completado %d vuelos.\" % (index, transbordador.vuelos_completados))\n",
    "    \n",
    "print(\"\\n\")    \n",
    "# Mostrar las distancia entre los transbordadores\n",
    "primer_transbordador = transbordadores[0]\n",
    "for index, Transbordador in enumerate(transbordadores):\n",
    "    distancia = primer_transbordador.distancia(transbordador)\n",
    "    print(\"El primer transbordador es %f unidades del transbordador %d.\" % (distancia, index))\n",
    "\n",
    "print(\"\\n\")\n",
    "# Mostrar la distancia del primer cohete al resto\n",
    "for index, cohete in enumerate(cohetes):\n",
    "    distancia = primer_transbordador.distancia(cohete)\n",
    "    print(\"El primer transbordador esta %f unidadaes del cohete %d.\" % (distancia, index))"
   ]
  },
  {
   "cell_type": "markdown",
   "metadata": {},
   "source": [
    "La herencia es una característica potente de la programación orientada a objetos. Utilizando solo lo que has visto hasta ahora sobre las clases, puedes modelar una increíble variedad de fenómenos virtuales y del mundo real con un alto grado de precisión. El código que escribes tiene el potencial de ser estable y reutilizable en una variedad de aplicaciones."
   ]
  },
  {
   "cell_type": "markdown",
   "metadata": {},
   "source": [
    "<a id=\"Ejercicios-herencia\"></a>\n",
    "Ejercicios\n",
    "-----------\n",
    "\n",
    "#### Clase Estudiante\n",
    "\n",
    "- Comienza tu programa retomando la clase Persona vista anteriormente.\n",
    "- Haz una nueva clase llamada Estudiante que hereda de Persona.\n",
    "- Define algunos atributos que tiene un alumno, que otras personas no tienen.\n",
    "    - Un alumno tiene una Universidad con la que están asociados, un año de graduación, un PFC y otros atributos particulares.\n",
    "- Cree un objeto Estudiante y demuestra que has usado la herencia correctamente.\n",
    "    - Establecer algunos valores de atributo para el estudiante, que solo están codificados en la clase Persona.\n",
    "    - Establecer algunos valores de atributo para el estudiante, que solo están codificados en la clase de Estudiante.\n",
    "    - Imprime los valores para todos estos atributos.\n",
    "\n",
    "#### Redefiniendo la clase Transbordador\n",
    "- Toma la última versión de la clase Transbordador y extiéndela.\n",
    "    - Agrega más atributos que son específicos de los transbordadores, como el número máximo de vuelos, la capacidad de apoyar paseos extra-vehiculares y la capacidad de acoplamiento con el ISS.\n",
    "    - Agrega un método más a la clase, que se relacione con el comportamiento de la lanzadera. Este método podría simplemente imprimir una declaración, como \"Acoplandose con la ISS\", para un método acoplar\\_ISS().\n",
    "    - Demuestra que tus nuevas definiciones funcionan al crear un objeto Transbordador con estos atributos, y luego llame a su nuevo método."
   ]
  },
  {
   "cell_type": "markdown",
   "metadata": {},
   "source": [
    "Módulos y clases\n",
    "=========\n",
    "\n",
    "Ahora que estás empezando a trabajar con clases, tus archivos crecerán más. Esto es bueno, porque significa que tus programas probablemente estén haciendo cosas más interesantes. Pero es malo, porque puede ser más difícil trabajar con archivos más grandes. Python te permite guardar sus clases en otro archivo y luego importarlas en el programa en el que está trabajando. Esto tiene la ventaja adicional de aislar tus clases en archivos que se pueden usar en cualquier cantidad de programas diferentes. A medida que usas tus clases repetidamente, las clases se vuelven más fiables y probadas en general."
   ]
  },
  {
   "cell_type": "markdown",
   "metadata": {},
   "source": [
    "Guardando una clase en un módulo\n",
    "-------------------------------------\n",
    "\n",
    "Cuando guardamos una clase en un archivo separado, ese archivo se denomina **módulo**. Puedes tener cualquier cantidad de clases en un solo módulo. Hay varias maneras en que puede importar la clase que le interesa.\n",
    "\n",
    "Comienza guardando solo la clase Cohete en un archivo llamado *cohete.py*. Observa la convención de nomenclatura que se usa aquí: el módulo se guarda con un nombre en minúscula y la clase comienza con una letra mayúscula. Esta convención es muy importante por una serie de razones, y es una muy buena idea seguir la convención para evitarte problemas en el futuro."
   ]
  },
  {
   "cell_type": "code",
   "execution_count": 21,
   "metadata": {},
   "outputs": [],
   "source": [
    "# Guardar como cohete.py\n",
    "from math import sqrt\n",
    "\n",
    "\n",
    "class Cohete():\n",
    "    # Clase que simula un cohete para un juego o simulaciones físicas\n",
    "    \n",
    "    def __init__(self, x=0, y=0):\n",
    "        # Cada cohete tiene unas coordenadas x e y \n",
    "        self.x = x\n",
    "        self.y = y\n",
    "        \n",
    "    def mover_cohete(self, incremento_x=0, incremento_y=1):\n",
    "        # Mover el cohete de acuerdo a los parámetros indicados\n",
    "        self.x += incremento_x\n",
    "        self.y += incremento_y\n",
    "        \n",
    "    def distancia(self, otro_cohete):\n",
    "        # Calcula la distancia entre este cohete y el especificado y devuelve un valor\n",
    "        distancia = sqrt((self.x - otro_cohete.x) **2 + \n",
    "                         (self.y - otro_cohete.y) **2)\n",
    "        return distancia"
   ]
  },
  {
   "cell_type": "markdown",
   "metadata": {},
   "source": [
    "Crea un archivo separado llamado *juego\\_cohete.py *. Si estás más interesado en la ciencia que en los juegos, no dudes en llamar a este archivo algo así como *simulacion\\_cohetes.py *. De nuevo, para usar las convenciones de nomenclatura estándar, asegúrate de estar utilizando un nombre en minúsculas para este archivo."
   ]
  },
  {
   "cell_type": "code",
   "execution_count": null,
   "metadata": {},
   "outputs": [],
   "source": [
    "# Guardar como juego_cohete.py\n",
    "from cohete import Cohete\n",
    "\n",
    "cohete = Cohete()\n",
    "print(\"El cohete esta en la posición (%d, %d).\" % (cohete.x, cohete.y))"
   ]
  },
  {
   "cell_type": "markdown",
   "metadata": {},
   "source": [
    "Este es un archivo realmente limpio y sencillo. Un cohete es ahora algo que puede definir en tus programas, sin los detalles de la implementación del cohete, es decir, de la clase. No tienes que incluir todo el código de clase para un cohete en cada uno de tus archivos que tratan con cohetes; el código que define los atributos y el comportamiento del cohete vive en un archivo y se puede usar en cualquier lugar.\n",
    "\n",
    "La primera línea le dice a Python que busque un archivo llamado *cohete.py*. Busca ese archivo en el mismo directorio que su programa actual. Puedes poner tus clases en otros directorios, pero llegaremos a ese tem un poco más tarde. \n",
    "\n",
    "Cuando Python encuentra el archivo *cohete.py *, busca una clase llamada *Cohete*. Cuando encuentra esa clase, importa ese código en el archivo actual, sin que tu lo veas. Entonces puedes usar la clase Cohete como lo has visto en los ejemplos anteriores."
   ]
  },
  {
   "cell_type": "markdown",
   "metadata": {},
   "source": [
    "Almacenando varias clases en un módulo\n",
    "--------------------------------------------\n",
    "\n",
    "\n",
    "Un módulo es simplemente un archivo que contiene una o más clases o funciones, por lo que la clase Transbordador también pertenece al módulo cohete:"
   ]
  },
  {
   "cell_type": "code",
   "execution_count": 23,
   "metadata": {},
   "outputs": [],
   "source": [
    "from math import sqrt\n",
    "\n",
    "# Guardamos en el modulo cohete.py\n",
    "class Cohete():\n",
    "    # Clase que simula un cohete para un juego o simulaciones físicas\n",
    "    \n",
    "    def __init__(self, x=0, y=0):\n",
    "        # Cada cohete tiene unas coordenadas x e y \n",
    "        self.x = x\n",
    "        self.y = y\n",
    "        \n",
    "    def mover_cohete(self, incremento_x=0, incremento_y=1):\n",
    "        # Mover el cohete de acuerdo a los parámetros indicados\n",
    "        self.x += incremento_x\n",
    "        self.y += incremento_y\n",
    "        \n",
    "    def distancia(self, otro_cohete):\n",
    "        # Calcula la distancia entre este cohete y el especificado y devuelve un valor\n",
    "        distancia = sqrt((self.x - otro_cohete.x) **2 + \n",
    "                         (self.y - otro_cohete.y) **2)\n",
    "        return distancia\n",
    "    \n",
    "class Transbordador(Cohete):\n",
    "    # Transbordador es un tipo de Cohete despues de todo, reutilizable\n",
    "    \n",
    "    def __init__(self, x=0, y=0, vuelos_completados=0):\n",
    "        super().__init__(x, y)\n",
    "        self.vuelos_completados = vuelos_completados"
   ]
  },
  {
   "cell_type": "markdown",
   "metadata": {},
   "source": [
    "Ahora puedes importar la clase Cohete y la clase Transbordador, y usarlas en un en cualquier otro programa:"
   ]
  },
  {
   "cell_type": "code",
   "execution_count": null,
   "metadata": {},
   "outputs": [],
   "source": [
    "# Guardar como juego_cohete.py\n",
    "from cohete import Cohete, Transbordador\n",
    "\n",
    "cohete = Cohete()\n",
    "print(\"El cohete esta en la posición (%d, %d).\" % (cohete.x, cohete.y))\n",
    "\n",
    "transbordador = Transbordador()\n",
    "print(\"\\nEl transbordador esta en la posición (%d, %d).\" % (transbordador.x, transbordador.y))\n",
    "print(\"El transbordador ha completado %d vuelos.\" % transbordador.vuelos_completados)"
   ]
  },
  {
   "cell_type": "markdown",
   "metadata": {},
   "source": [
    "La primera línea le dice a Python que importe las clases *Cohete* y *Transbordador* del módulo *cohete*. No tienes que importar todas las clases en un módulo; puedes elegir las clases que te interesan y Python solo dedicará tiempo a procesar esas clases en particular."
   ]
  },
  {
   "cell_type": "markdown",
   "metadata": {},
   "source": [
    "Distintos modos de importar clases y módulos\n",
    "---------------------------------------------------\n",
    "\n",
    "Hay varias formas de importar módulos y clases, y cada una tiene sus propias ventajas e inconvenientes."
   ]
  },
  {
   "cell_type": "markdown",
   "metadata": {},
   "source": [
    "### import *nombre_modulo*\n",
    "\n",
    "La sintaxis para importar clases que se acaba de mostrar:"
   ]
  },
  {
   "cell_type": "code",
   "execution_count": null,
   "metadata": {},
   "outputs": [],
   "source": [
    "from nombre_modulo import NombreClase"
   ]
  },
  {
   "cell_type": "markdown",
   "metadata": {},
   "source": [
    "es sencillo y se usa con bastante frecuencia. Nos permite usar los nombres de clase directamente en nuestros programa, por lo que se tiene un código muy limpio y muy legible. Sin embargo, esto puede ser un problema si los nombres de las clases que está importando entran en conflicto con los nombres que ya se han utilizado en el programa en el que está trabajando. Es poco probable que esto suceda en los programas cortos que hemos estado viendo aquí, pero si estaba trabajando en un programa más grande, es muy posible que la clase que desea importar del trabajo de otra persona tenga un nombre que ya hayamos utilizado en nuestro programa En este caso, podemos usar simplemente importar el módulo en sí:"
   ]
  },
  {
   "cell_type": "code",
   "execution_count": null,
   "metadata": {},
   "outputs": [],
   "source": [
    "# Guardar como juego_cohete.py\n",
    "import cohete\n",
    "\n",
    "cohete_0 = cohete.Cohete()\n",
    "print(\"El cohete está en la posición(%d, %d).\"% (cohete_0.x, cohete_0.y))\n",
    "\n",
    "transbordador_0 = cohete.Transbordador()\n",
    "print (\"\\ nEl transbordador está en la posición (%d,%d).\"% (transbordador_0.x, transbordador_0.y))\n",
    "imprimir (\"La lanzadera ha completado %d vuelos.\"% transbordador_0.vuelos_completados)"
   ]
  },
  {
   "cell_type": "markdown",
   "metadata": {},
   "source": [
    "La sintaxis general para este tipo de importación es:\n",
    "\n",
    "    "
   ]
  },
  {
   "cell_type": "code",
   "execution_count": null,
   "metadata": {},
   "outputs": [],
   "source": [
    "import nombre_modulo"
   ]
  },
  {
   "cell_type": "markdown",
   "metadata": {},
   "source": [
    "Después de esto, se accede a las clases usando notación de punto:"
   ]
  },
  {
   "cell_type": "code",
   "execution_count": null,
   "metadata": {},
   "outputs": [],
   "source": [
    "nombre_modulo.NombreClase"
   ]
  },
  {
   "cell_type": "markdown",
   "metadata": {},
   "source": [
    "Esto evita algunos conflictos de nombres. Sin embargo, si estabas leyendo detenidamente, es posible que hayas notado que el nombre de la variable *cohete*  del ejemplo anterior tuvo que cambiarse porque tiene el mismo nombre que el módulo en sí. Esto no es bueno, porque en un programa más largo eso podría significar un gran número de cambios."
   ]
  },
  {
   "cell_type": "markdown",
   "metadata": {},
   "source": [
    "### import *nombre_modulo* as *nombre_modulo_local*\n",
    "\n",
    "Hay otra sintaxis para las importaciones que es bastante útil:"
   ]
  },
  {
   "cell_type": "code",
   "execution_count": null,
   "metadata": {},
   "outputs": [],
   "source": [
    "import nombre_modulo as nombre_modulo_local"
   ]
  },
  {
   "cell_type": "markdown",
   "metadata": {},
   "source": [
    "Cuando estás importando un módulo en uno de tus proyectos, puedes elegir el nombre que desee para el módulo de tu proyecto. Por lo tanto, el último ejemplo podría reescribirse de forma tal que no sea necesario cambiar el nombre de la variable *cohete*:"
   ]
  },
  {
   "cell_type": "code",
   "execution_count": null,
   "metadata": {},
   "outputs": [],
   "source": [
    "# Save as juego_cohete.py\n",
    "import cohete as modulo_cohete\n",
    "\n",
    "cohete = modulo_cohete.Cohete()\n",
    "print(\"El cohete está en la posición(%d, %d).\"% (cohete.x, cohete.y))\n",
    "\n",
    "transbordador = modulo_cohete.Transbordador()\n",
    "print (\"\\ nEl transbordador está en la posición (%d,%d).\"% (transbordador.x, transbordador.y))\n",
    "imprimir (\"La lanzadera ha completado %d vuelos.\"% transbordador.vuelos_completados)"
   ]
  },
  {
   "cell_type": "markdown",
   "metadata": {},
   "source": [
    "Este enfoque se usa a menudo para acortar el nombre del módulo, por lo que no tienes que escribir un nombre de módulo largo antes de cada nombre de clase que desees utilizar. Pero es fácil acortar tanto un nombre que obligue a las personas que leen el código a desplazarse hacia la parte superior del archivo y ver qué significa el nombre abreviado. En este ejemplo,"
   ]
  },
  {
   "cell_type": "code",
   "execution_count": null,
   "metadata": {},
   "outputs": [],
   "source": [
    "import cohete as modulo_cohete"
   ]
  },
  {
   "cell_type": "markdown",
   "metadata": {},
   "source": [
    "es mucho más legible que:"
   ]
  },
  {
   "cell_type": "code",
   "execution_count": null,
   "metadata": {},
   "outputs": [],
   "source": [
    "import cohete as c"
   ]
  },
  {
   "cell_type": "markdown",
   "metadata": {},
   "source": [
    "### from *nombre_modulo* import *\n",
    "\n",
    "Hay una sintaxis de importación más que debes tener en cuenta, pero que probablemente deberías evitar usar. Esta sintaxis importa todas las clases y funciones disponibles en un módulo:"
   ]
  },
  {
   "cell_type": "code",
   "execution_count": null,
   "metadata": {},
   "outputs": [],
   "source": [
    "from nombre_modulo import *"
   ]
  },
  {
   "cell_type": "markdown",
   "metadata": {},
   "source": [
    "Esto no es recomendable, por un par de razones. En primer lugar, puede que no tengas idea de todos los nombres de las clases y funciones en un módulo. Si accidentalmente le das a una de tus variables el mismo nombre que un nombre del módulo, tendrás conflictos de nombres. Además, puedes estar importando más código de lo que necesitas en tu programa.\n",
    "\n",
    "Si realmente necesitas todas las funciones y clases de un módulo, solo importa el módulo y usa la sintaxis `nombre_modulo.NombreClase` en tu programa."
   ]
  },
  {
   "cell_type": "markdown",
   "metadata": {},
   "source": [
    "Tendrás una idea de cómo escribir tus imports a medida que leas más código Python, y mientras escribes y compartes parte de tu propio código."
   ]
  },
  {
   "cell_type": "markdown",
   "metadata": {},
   "source": [
    "Un módulo de funciones\n",
    "--------------------------\n",
    "\n",
    "También se pueden usar módulos para almacenar un conjunto de funciones que deseamos que estén disponibles en diferentes programas, incluso si esas funciones no están asociadas a ninguna clase. Para hacer esto, guarda las funciones en un archivo, y luego importa ese archivo tal como lo vimos en la última sección. Aquí hay un ejemplo realmente simple; guardar esto en un fichero llamado * multiplicando.py *:"
   ]
  },
  {
   "cell_type": "code",
   "execution_count": 2,
   "metadata": {},
   "outputs": [],
   "source": [
    "# Guardar como multiplicando.py\n",
    "def doble(x):\n",
    "    return 2*x\n",
    "\n",
    "def triple(x):\n",
    "    return 3*x\n",
    "\n",
    "def cuadruple(x):\n",
    "    return 4*x"
   ]
  },
  {
   "cell_type": "markdown",
   "metadata": {},
   "source": [
    "Ahora podemos importar el archivo * multiplicando.py * y usar estas funciones. Usando la sintaxis `from nombre_modulo import nombre_funcion`:"
   ]
  },
  {
   "cell_type": "code",
   "execution_count": null,
   "metadata": {},
   "outputs": [],
   "source": [
    "from multiplicando import doble, triple, cuadruple\n",
    "\n",
    "print(doble(5))\n",
    "print(triple(5))\n",
    "print(cuadruple(5))"
   ]
  },
  {
   "cell_type": "markdown",
   "metadata": {},
   "source": [
    "Usando la sintaxis `import nombre_modulo`:"
   ]
  },
  {
   "cell_type": "code",
   "execution_count": null,
   "metadata": {},
   "outputs": [],
   "source": [
    "import multiplicando\n",
    "\n",
    "print(multiplicando.doble(5))\n",
    "print(multiplicando.triple(5))\n",
    "print(multiplicando.cuadruple(5))"
   ]
  },
  {
   "cell_type": "markdown",
   "metadata": {},
   "source": [
    "Usando la sintaxis `import nombre_modulo as nombre_modulo_local`:"
   ]
  },
  {
   "cell_type": "code",
   "execution_count": null,
   "metadata": {},
   "outputs": [],
   "source": [
    "import multiplicando as m\n",
    "\n",
    "print(m.doble(5))\n",
    "print(m.triple(5))\n",
    "print(m.cuadruple(5))"
   ]
  },
  {
   "cell_type": "markdown",
   "metadata": {},
   "source": [
    "Usando la sintaxis`from nombre_modulo import *`:"
   ]
  },
  {
   "cell_type": "code",
   "execution_count": null,
   "metadata": {},
   "outputs": [],
   "source": [
    "from multiplicando import *\n",
    "\n",
    "print(doble(5))\n",
    "print(triple(5))\n",
    "print(cuadruple(5))"
   ]
  },
  {
   "cell_type": "markdown",
   "metadata": {},
   "source": [
    "<a id=\"Ejercicios-imports\"></a>\n",
    "Ejercicios\n",
    "------------\n",
    "\n",
    "#### Importación Estudiante\n",
    "\n",
    "- Empieza a partir de la clase Estudiante vista anteriormente\n",
    "    - Guarda las clases Persona y Estudiante en un archivo separado llamado *persona.py*.\n",
    "    - Guarda el código que usas estas clases en cuatro archivos separados.\n",
    "        - En el primer archivo, usa la sintaxis `from nombre_modulo import NombreClase` para hacer que tu programa se ejecute.\n",
    "        - En el segundo archivo, usa la sintaxis `import nombre_modulo`.\n",
    "        - En el tercer archivo, usa la sintaxis `import nombre_modulo as nombre_modulo_local`.\n",
    "        - En el cuarto archivo, usa la sintaxis `import *`.\n",
    "        "
   ]
  },
  {
   "cell_type": "code",
   "execution_count": null,
   "metadata": {},
   "outputs": [],
   "source": []
  }
 ],
 "metadata": {
  "kernelspec": {
   "display_name": "Python 3",
   "language": "python",
   "name": "python3"
  },
  "language_info": {
   "codemirror_mode": {
    "name": "ipython",
    "version": 3
   },
   "file_extension": ".py",
   "mimetype": "text/x-python",
   "name": "python",
   "nbconvert_exporter": "python",
   "pygments_lexer": "ipython3",
   "version": "3.6.2"
  }
 },
 "nbformat": 4,
 "nbformat_minor": 1
}
