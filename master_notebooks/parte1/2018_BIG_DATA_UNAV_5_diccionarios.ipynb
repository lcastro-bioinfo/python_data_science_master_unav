{
 "cells": [
  {
   "cell_type": "markdown",
   "metadata": {},
   "source": [
    "---\n",
    "# Experto Big Data UNAV 2018 - Notebook 5 - Diccionarios\n",
    "---"
   ]
  },
  {
   "cell_type": "markdown",
   "metadata": {},
   "source": [
    "¿Qué son los diccionarios?\n",
    "===\n",
    "Los diccionarios en Python son un tipo de estructuras de datos que permite guardar un conjunto no ordenado de pares clave-valor, siendo las claves únicas dentro de un mismo diccionario (es decir que no pueden existir dos elementos con una misma clave).\n",
    "\n",
    "Los diccionarios no almacenan su información en ningún orden en particular, por lo que es posible que no obtengas tu información en el mismo orden en que la introduciste."
   ]
  },
  {
   "cell_type": "markdown",
   "metadata": {},
   "source": [
    "Sintaxis general\n",
    "---\n",
    "Un diccionario en Python se ve más o menos así:"
   ]
  },
  {
   "cell_type": "markdown",
   "metadata": {},
   "source": [
    "dict_nombre = {clave_1: valor_1, clave_2:valor_2, clave_3: valor_3}"
   ]
  },
  {
   "cell_type": "markdown",
   "metadata": {},
   "source": [
    "### Creacion"
   ]
  },
  {
   "cell_type": "markdown",
   "metadata": {},
   "source": [
    "Para definir un diccionario, se encierra el listado de valores entre llaves. Las parejas de clave y valor se separan con comas, y la clave y el valor se separan con dos puntos.\n",
    "\n"
   ]
  },
  {
   "cell_type": "code",
   "execution_count": null,
   "metadata": {
    "collapsed": true
   },
   "outputs": [],
   "source": [
    "dic = {'nombre' : 'Carlos', 'edad' : 22, 'cursos': ['Python','Finanzas'] }\n",
    "print(dic)"
   ]
  },
  {
   "cell_type": "markdown",
   "metadata": {},
   "source": [
    "Tambien se puede definir un diccionario vacio e ir anadiendo valores"
   ]
  },
  {
   "cell_type": "code",
   "execution_count": null,
   "metadata": {
    "collapsed": true
   },
   "outputs": [],
   "source": [
    "dic = dict() # seria equivalente hacer {}\n",
    "dic['nombre'] = 'Carlos'\n",
    "dic['edad'] = 22\n",
    "dic['cursos'] = ['Python', 'Finanzas']\n",
    "print(dic)"
   ]
  },
  {
   "cell_type": "markdown",
   "metadata": {},
   "source": [
    "Podemos acceder al elemento de un Diccionario mediante la clave de este elemento"
   ]
  },
  {
   "cell_type": "code",
   "execution_count": null,
   "metadata": {
    "collapsed": true
   },
   "outputs": [],
   "source": [
    "print(dic['nombre'])\n",
    "print(dic['edad'])\n",
    "print(dic['cursos'])"
   ]
  },
  {
   "cell_type": "markdown",
   "metadata": {},
   "source": [
    "Si la clave contiene una lista se puede acceder a los elementos de esta con el operador de indexacion _[]_"
   ]
  },
  {
   "cell_type": "code",
   "execution_count": null,
   "metadata": {
    "collapsed": true
   },
   "outputs": [],
   "source": [
    "print(dic['cursos'][0])\n",
    "print(dic['cursos'][1])"
   ]
  },
  {
   "cell_type": "markdown",
   "metadata": {},
   "source": [
    "Acceso con claves que no existen en el diccionario producen un error"
   ]
  },
  {
   "cell_type": "code",
   "execution_count": null,
   "metadata": {
    "collapsed": true
   },
   "outputs": [],
   "source": [
    "print(dic['altura']) # la clave altura no existe en el diccionario"
   ]
  },
  {
   "cell_type": "markdown",
   "metadata": {},
   "source": [
    "Para recorrer todo el Diccionario, podemos hacer uso de la estructura _for_."
   ]
  },
  {
   "cell_type": "code",
   "execution_count": null,
   "metadata": {
    "collapsed": true
   },
   "outputs": [],
   "source": [
    "for key in dic:\n",
    "    print(key, \":\", dic[key])"
   ]
  },
  {
   "cell_type": "markdown",
   "metadata": {},
   "source": [
    "Otro ejemplo..."
   ]
  },
  {
   "cell_type": "code",
   "execution_count": null,
   "metadata": {
    "collapsed": true
   },
   "outputs": [],
   "source": [
    "# creamos diccionario con tres pares clave-valor\n",
    "python_words = {'lista': 'Una coleccion de valores que no estan conectado pero tienen un orden.',\n",
    "                'diccionario': 'Una coleccion de pares claves-valor.',\n",
    "                'funcion': 'Un bloque de instrucciones con nombre que definen acciones en Python'\n",
    "                }\n",
    "print(\"\\nPalabra: %s\" % 'lista')\n",
    "print(\"Significado: %s\" % python_words['lista'])\n",
    "      \n",
    "print(\"\\nPalabra: %s\" % 'dictionary')\n",
    "print(\"Significado: %s\" % python_words['diccionario'])\n",
    "\n",
    "print(\"\\nPalabra: %s\" % 'funcion')\n",
    "print(\"Significado: %s\" % python_words['funcion'])"
   ]
  },
  {
   "cell_type": "markdown",
   "metadata": {},
   "source": [
    "Una forma mas de recorrer los diccionarios es con un bucle _loop_ y la funcion _items()_."
   ]
  },
  {
   "cell_type": "code",
   "execution_count": null,
   "metadata": {
    "collapsed": true
   },
   "outputs": [],
   "source": [
    "for clave, valor in python_words.items():\n",
    "    print(clave) # imprime la clave\n",
    "    print(valor) # imprime el valor\n",
    "    print(20*'-') # imprime separador"
   ]
  },
  {
   "cell_type": "markdown",
   "metadata": {},
   "source": [
    "Agregar nuevos pares clave-valor a un diccionario\n",
    "---\n",
    "Para agregar un nuevo par de clave-valor, debes indicar el nombre del diccionario seguido de la nueva clave entre corchetes y asignarlo al nuevo valor. Mostraremos esto comenzando con un diccionario vacío y volviendo a crear el diccionario del ejemplo anterior."
   ]
  },
  {
   "cell_type": "code",
   "execution_count": 14,
   "metadata": {
    "collapsed": true
   },
   "outputs": [],
   "source": [
    "# creamos diccionario vacio\n",
    "python_words = {}\n",
    "# agregamos clave-valor\n",
    "python_words['lista'] = 'Una coleccion de valores que no estan conectado pero tienen un orden.'\n",
    "python_words['diccionario'] = 'Una coleccion de pares claves-valor.'\n",
    "python_words['funcion'] = 'Un bloque de instrucciones con nombre que definen acciones en Python'\n",
    "        \n",
    "# volvemos a imprmir el diccionario\n",
    "for clave, valor in python_words.items():\n",
    "    print(clave) # imprime la clave\n",
    "    print(valor) # imprime el valor\n",
    "    print(20*'-') # imprime separador"
   ]
  },
  {
   "cell_type": "markdown",
   "metadata": {},
   "source": [
    "Modificar valores en un diccionario\n",
    "---\n",
    "En algunas ocasiones, es posible que deseemos modificar uno de los valores del diccionario. Modificar un valor en un diccionario es bastante similar a modificar un elemento en una lista. Das el nombre del diccionario y luego la clave entre corchetes, y lo asignas al nuevo valor."
   ]
  },
  {
   "cell_type": "code",
   "execution_count": null,
   "metadata": {
    "collapsed": true
   },
   "outputs": [],
   "source": [
    "python_words = {'lista': 'Una coleccion de valores que no estan conectado pero tienen un orden.',\n",
    "                'diccionario': 'Una coleccion de pares claves-valor.',\n",
    "                'funcion': 'Un bloque de instrucciones con nombre que definen acciones en Python'\n",
    "                }\n",
    "\n",
    "print('diccionario: ' + python_words['diccionario'])\n",
    "    \n",
    "# Clarify one of the meanings.\n",
    "python_words['diccionario'] = 'Una coleccion de pares claves-valor. A traves de cada clave se accede a su correspondiente valor.'\n",
    "\n",
    "print('\\ndiccionario: ' + python_words['diccionario'])"
   ]
  },
  {
   "cell_type": "markdown",
   "metadata": {},
   "source": [
    "Eliminar valores de un diccionario\n",
    "---\n",
    "Es posible que queramos eliminar algunos pares clave-valor los diccionarios en algún momento. Podmeos hacerlo utilizando el mismo comando `del` que aprendimos a usar con las listas. Para eliminar un par clave-valor, tenemos que usar el comando `del`, seguido del nombre del diccionario, con la clave que queremos eliminar. Esto elimina la clave y el valor."
   ]
  },
  {
   "cell_type": "code",
   "execution_count": null,
   "metadata": {
    "collapsed": true
   },
   "outputs": [],
   "source": [
    "# creamos diccionario con tres pares clave-valor\n",
    "python_words = {'lista': 'Una coleccion de valores que no estan conectado pero tienen un orden.',\n",
    "                'diccionario': 'Una coleccion de pares claves-valor.',\n",
    "                'funcion': 'Un bloque de instrucciones con nombre que definen acciones en Python'\n",
    "                }\n",
    "# eliminamos el elemento lista\n",
    "del python_words['lista']\n",
    "\n",
    "# volvemos a imprmir el diccionario\n",
    "for clave, valor in python_words.items():\n",
    "    print(clave) # imprime la clave\n",
    "    print(valor) # imprime el valor\n",
    "    print(20*'-') # imprime separador"
   ]
  },
  {
   "cell_type": "markdown",
   "metadata": {},
   "source": [
    "Modificando claves en un diccionario\n",
    "---\n",
    "Modificar un valor en un diccionario es sencillo, porque nada más depende del valor. Modificar una clave es un poco más difícil, porque **cada clave se usa para desbloquear un valor y solo uno**. Podemos cambiar una clave en dos pasos:\n",
    "\n",
    "- Crea una nueva clave y copia el valor a la nueva clave.\n",
    "- Elimina la clave anterior, que también elimina el valor anterior.\n",
    "\n",
    "Este es un ejemplo. Usaremos un diccionario con solo un par clave-valor, para mantener las cosas simples."
   ]
  },
  {
   "cell_type": "code",
   "execution_count": null,
   "metadata": {
    "collapsed": true
   },
   "outputs": [],
   "source": [
    "# tenemos un error ortografico\n",
    "python_words = {'lissta': 'Una coleccion de valores que no estan conectado pero tienen un orden.'}\n",
    "\n",
    "# creamos la nueva clave-valor correcta llamada lista\n",
    "#  eliminamos la que tiene el error ortografico\n",
    "python_words['lista'] = python_words['lissta']\n",
    "del python_words['lissta']\n",
    "\n",
    "# imprimimos el diccionario\n",
    "print(python_words)"
   ]
  },
  {
   "cell_type": "markdown",
   "metadata": {},
   "source": [
    "_Looping_ a través de  un diccionario\n",
    "===\n",
    "Dado que en los diccionarios realmente se trata de conectar fragmentos de información, a menudo los usaremos de la forma descrita anteriormente, donde se agregan pares clave-valor cada vez que recibimos información nueva, y luego se recuperan los pares clave-valor que nos interesan. A veces, sin embargo, querremos recorrer todo el diccionario. Hay varias formas de hacer esto:\n",
    "\n",
    "- Podemos recorrer todos los pares clave-valor;\n",
    "- Podemos recorrer las teclas y extraer los valores de las claves que nos interesen;\n",
    "- Podemos recorrer los valores."
   ]
  },
  {
   "cell_type": "markdown",
   "metadata": {},
   "source": [
    "_Looping_ a través de todos los pares clave-valor\n",
    "---\n",
    "Este es el tipo de bucle ya se mostró en los primeros ejemplos."
   ]
  },
  {
   "cell_type": "code",
   "execution_count": null,
   "metadata": {
    "collapsed": true
   },
   "outputs": [],
   "source": [
    "my_dict = {'clave_1': 'valor_1',\n",
    "    'clave_2': 'valor_2',\n",
    "    'clave_3': 'valor_3',\n",
    "    }\n",
    "\n",
    "for clave, valor in my_dict.items():\n",
    "    print('\\nClave: %s' % clave)\n",
    "    print('Valor: %s' % valor)"
   ]
  },
  {
   "cell_type": "markdown",
   "metadata": {},
   "source": [
    "Esto funciona porque el método `.items ()` extrae todos los pares clave-valor de un diccionario en una lista de tuplas."
   ]
  },
  {
   "cell_type": "code",
   "execution_count": null,
   "metadata": {
    "collapsed": true
   },
   "outputs": [],
   "source": [
    "my_dict = {'clave_1': 'valor_1',\n",
    "    'clave_2': 'valor_2',\n",
    "    'clave_3': 'valor_3',\n",
    "    }\n",
    "\n",
    "print(my_dict.items())"
   ]
  },
  {
   "cell_type": "markdown",
   "metadata": {},
   "source": [
    "La sintaxis `for clave, valor in my_dict.items():` hace el trabajo de recorrer esta lista de tuplas, y extraer el primer y segundo elemento de cada tupla para nosotros.\n",
    "\n",
    "No hay nada de especial en ninguno de los nombres de las variables anteriores, por lo que el código de Python que usa esta sintaxis se vuelve realmente legible. Veamos un ejemplo en un contexto con significado:"
   ]
  },
  {
   "cell_type": "code",
   "execution_count": null,
   "metadata": {
    "collapsed": true
   },
   "outputs": [],
   "source": [
    "# creamos diccionario con tres pares clave-valor\n",
    "python_words = {'lista': 'Una coleccion de valores que no estan conectado pero tienen un orden.',\n",
    "                'diccionario': 'Una coleccion de pares claves-valor.',\n",
    "                'funcion': 'Un bloque de instrucciones con nombre que definen acciones en Python'\n",
    "                }\n",
    "\n",
    "for clave, valor in python_words.items():\n",
    "    print('\\nClave: %s' % clave)\n",
    "    print('Valor: %s' % valor)"
   ]
  },
  {
   "cell_type": "markdown",
   "metadata": {},
   "source": [
    "_Looping_ a través de todas las claves en un diccionario\n",
    "---\n",
    "Python proporciona una sintaxis clara para el _looping_ a través de las claves de un diccionario:"
   ]
  },
  {
   "cell_type": "code",
   "execution_count": null,
   "metadata": {
    "collapsed": true
   },
   "outputs": [],
   "source": [
    "my_dict = {'clave_1': 'valor_1',\n",
    "    'clave_2': 'valor_2',\n",
    "    'clave_3': 'valor_3',\n",
    "    }\n",
    "for clave in my_dict.keys():\n",
    "    print('Clave: %s' % clave)"
   ]
  },
  {
   "cell_type": "markdown",
   "metadata": {},
   "source": [
    "De hecho este es el comportamiento por defecto de Python si _loopeamos_ sobre el diccionario y no ponemos nada."
   ]
  },
  {
   "cell_type": "code",
   "execution_count": null,
   "metadata": {
    "collapsed": true
   },
   "outputs": [],
   "source": [
    "my_dict = {'clave_1': 'valor_1',\n",
    "    'clave_2': 'valor_2',\n",
    "    'clave_3': 'valor_3',\n",
    "    }\n",
    "for clave in my_dict: # nota que aqui no accedemos a nada solo ponemos el nombre del diccionario\n",
    "    print('Clave: %s' % clave)"
   ]
  },
  {
   "cell_type": "markdown",
   "metadata": {},
   "source": [
    "La única ventaja de usar _.keys()_ en el código es un poco de mas claridad. Pero cualquiera que conozca Python razonablemente bien reconocerá lo que hace la segunda versión. En el resto de nuestro código, omitiremos las _.keys()_ cuando queramos este comportamiento.\n",
    "Puedes extraer el valor de cualquier clave que le interese dentro del _loop_, usando la notación estándar para acceder a un valor de diccionario desde una clave:"
   ]
  },
  {
   "cell_type": "code",
   "execution_count": null,
   "metadata": {
    "collapsed": true
   },
   "outputs": [],
   "source": [
    "my_dict = {'clave_1': 'valor_1',\n",
    "    'clave_2': 'valor_2',\n",
    "    'clave_3': 'valor_3',\n",
    "    }\n",
    "for clave in my_dict: # nota que aqui no accedemos a nada solo ponemos el nombre del diccionario\n",
    "    print('\\nClave: %s' % clave)\n",
    "    print('Valor: %s' % my_dict[clave]) "
   ]
  },
  {
   "cell_type": "markdown",
   "metadata": {},
   "source": [
    "En un ejemplo mas realista..."
   ]
  },
  {
   "cell_type": "code",
   "execution_count": null,
   "metadata": {
    "collapsed": true
   },
   "outputs": [],
   "source": [
    "# creamos diccionario con tres pares clave-valor\n",
    "python_words = {'lista': 'Una coleccion de valores que no estan conectado pero tienen un orden.',\n",
    "                'diccionario': 'Una coleccion de pares claves-valor.',\n",
    "                'funcion': 'Un bloque de instrucciones con nombre que definen acciones en Python'\n",
    "                }\n",
    "\n",
    "# muestra las palabras que hay en el diccionario\n",
    "print(\"Se han definido las siguientes palabras:\")\n",
    "for palabra in python_words:\n",
    "    print(\"- %s\" % palabra)"
   ]
  },
  {
   "cell_type": "markdown",
   "metadata": {},
   "source": [
    "Podemos extender esto ligeramente para hacer que un programa que te permita buscar palabras. Primero dejamos que el usuario elija una palabra. Cuando el usuario ha elegido una palabra, obtenemos el significado de esa palabra y la mostramos:"
   ]
  },
  {
   "cell_type": "code",
   "execution_count": null,
   "metadata": {
    "collapsed": true
   },
   "outputs": [],
   "source": [
    "# creamos diccionario con tres pares clave-valor\n",
    "python_words = {'lista': 'Una coleccion de valores que no estan conectado pero tienen un orden.',\n",
    "                'diccionario': 'Una coleccion de pares claves-valor.',\n",
    "                'funcion': 'Un bloque de instrucciones con nombre que definen acciones en Python'\n",
    "                }\n",
    "\n",
    "# muestra las palabras que hay en el diccionario\n",
    "print(\"Se han definido las siguientes palabras:\")\n",
    "for palabra in python_words:\n",
    "    print(\"- %s\" % palabra)\n",
    "    \n",
    "# dejamos que el usuario introduzca una palabra mostramos su significado\n",
    "nueva_palabra = input(\"\\nQue palabra desea buscar? \")\n",
    "print(\"\\n%s: %s\" % (nueva_palabra, python_words[nueva_palabra]))"
   ]
  },
  {
   "cell_type": "markdown",
   "metadata": {},
   "source": [
    "Esto le permite al usuario seleccionar una palabra que ha sido definida. Si incluimos la parte de entrada del programa en un bucle while, el usuario podra ver tantas definiciones como desee:"
   ]
  },
  {
   "cell_type": "code",
   "execution_count": null,
   "metadata": {
    "collapsed": true
   },
   "outputs": [],
   "source": [
    "# creamos diccionario con tres pares clave-valor\n",
    "python_words = {'lista': 'Una coleccion de valores que no estan conectado pero tienen un orden.',\n",
    "                'diccionario': 'Una coleccion de pares claves-valor.',\n",
    "                'funcion': 'Un bloque de instrucciones con nombre que definen acciones en Python'\n",
    "                }\n",
    "\n",
    "# muestra las palabras que hay en el diccionario\n",
    "print(\"Se han definido las siguientes palabras:\")\n",
    "for palabra in python_words:\n",
    "    print(\"- %s\" % palabra)\n",
    "\n",
    "nueva_palabra = ''\n",
    "while nueva_palabra != 'quit':\n",
    "    # dejamos que el usuario introduzca una palabra mostramos su significado\n",
    "    nueva_palabra = input(\"\\nQue palabra desea buscar? (teclee quit para salir)\")\n",
    "    if nueva_palabra in python_words.keys(): # confirmamos que la palabra esta definida en el dic\n",
    "        print(\"\\n  %s: %s\" % (nueva_palabra, python_words[nueva_palabra]))\n",
    "    elif nueva_palabra != 'quit':\n",
    "        # manejo de palabras desconocidas\n",
    "        print(\"\\n  Lo siento, desconozco la palabra.\")\n",
    "    else:\n",
    "        # La palabra es quit para salir\n",
    "        print(\"\\n  Hasta Luego Lucas!\")"
   ]
  },
  {
   "cell_type": "markdown",
   "metadata": {},
   "source": [
    "Looping a través de todos los valores en un diccionario\n",
    "---\n",
    "Python también proporciona una sintaxis sencilla para recorrer todos los valores de un diccionario:"
   ]
  },
  {
   "cell_type": "code",
   "execution_count": null,
   "metadata": {
    "collapsed": true
   },
   "outputs": [],
   "source": [
    "my_dict = {'clave_1': 'valor_1',\n",
    "    'clave_2': 'valor_2',\n",
    "    'clave_3': 'valor_3',\n",
    "    }\n",
    "\n",
    "for valor in my_dict.values():\n",
    "    print('Valor: %s' % valor)"
   ]
  },
  {
   "cell_type": "markdown",
   "metadata": {},
   "source": [
    "Podemos usar esta sintaxis para divertirnos un poco con el ejemplo de diccionario, haciendo un pequeño programa de prueba. El programa mostrará un significado y le pedirá al usuario que adivine la palabra que coincida con ese significado. Comencemos mostrando todos los significados en el diccionario:"
   ]
  },
  {
   "cell_type": "code",
   "execution_count": null,
   "metadata": {
    "collapsed": true
   },
   "outputs": [],
   "source": [
    "# creamos diccionario con tres pares clave-valor\n",
    "python_words = {'lista': 'Una coleccion de valores que no estan conectado pero tienen un orden.',\n",
    "                'diccionario': 'Una coleccion de pares claves-valor.',\n",
    "                'funcion': 'Un bloque de instrucciones con nombre que definen acciones en Python'\n",
    "                }\n",
    "\n",
    "for significado in python_words.values():\n",
    "    print(\"Significado: %s\" % significado)"
   ]
  },
  {
   "cell_type": "markdown",
   "metadata": {},
   "source": [
    "Ahora podemos preguntar al usuario por cada definicion para ver si la adivina:"
   ]
  },
  {
   "cell_type": "code",
   "execution_count": null,
   "metadata": {
    "collapsed": true
   },
   "outputs": [],
   "source": [
    "# creamos diccionario con tres pares clave-valor\n",
    "python_words = {'lista': 'Una coleccion de valores que no estan conectado pero tienen un orden.',\n",
    "                'diccionario': 'Una coleccion de pares claves-valor.',\n",
    "                'funcion': 'Un bloque de instrucciones con nombre que definen acciones en Python'\n",
    "                }\n",
    "\n",
    "for significado in python_words.values():\n",
    "    print(\"Significado: %s\" % significado)\n",
    "    respuesta = input(\"Que palabra piensas que es? \")\n",
    "    \n",
    "    # hay acierto si la\n",
    "    if respuesta in python_words and python_words[respuesta] == significado:\n",
    "        print(\"Bravo, acertaste!\")\n",
    "    else:\n",
    "        print(\"Lo siento, esa no es la palabra.\")"
   ]
  },
  {
   "cell_type": "markdown",
   "metadata": {},
   "source": [
    "Looping a través de un diccionario en orden\n",
    "===\n",
    "Los diccionarios son bastante útiles porque permiten que se conecten bits de información. Uno de los problemas de los diccionarios es que no se almacenan en ningún orden en particular. Cuando recuperas todas las claves o valores en el diccionario, no puedes estar seguro del orden en que los recuperarás. Sin embargo, hay una manera rápida y fácil de hacer esto cuando los quieres en un orden particular utilizando la funcion _sorted()_."
   ]
  },
  {
   "cell_type": "code",
   "execution_count": null,
   "metadata": {
    "collapsed": true
   },
   "outputs": [],
   "source": [
    "# creamos diccionario con tres pares clave-valor\n",
    "python_words = {'lista': 'Una coleccion de valores que no estan conectado pero tienen un orden.',\n",
    "                'diccionario': 'Una coleccion de pares claves-valor.',\n",
    "                'funcion': 'Un bloque de instrucciones con nombre que definen acciones en Python'\n",
    "                }\n",
    "\n",
    "# muestra las palabras que hay en el diccionario\n",
    "print('Diccionario sin ordenar')\n",
    "for clave in python_words.keys():\n",
    "    print(\"- %s\" % clave)\n",
    " \n",
    "print('-'*20)\n",
    "print('Diccionario ordenado')\n",
    "for clave in sorted(python_words.keys()):\n",
    "    print(\"- %s\" % clave)"
   ]
  },
  {
   "cell_type": "markdown",
   "metadata": {},
   "source": [
    "En este ejemplo, las claves se han ordenado en orden alfabético solo en el bucle _for_. Python no ha cambiado la forma en que se almacenan el diccionario. Por lo tanto, la próxima vez que accedas al diccionario, las claves se devolveran en cualquier orden. No hay forma de especificar permanentemente un orden para los elementos en un diccionario, pero si deseas hacer esto, puedes usar la estructura de datos [OrderedDict](http://docs.python.org/3.3/library/collections.html#ordereddict-objects)."
   ]
  },
  {
   "cell_type": "markdown",
   "metadata": {},
   "source": [
    "_Nesting_ (Anidado)\n",
    "===\n",
    "_Nesting_ es uno de los conceptos más poderosos a los que hemos llegado hasta ahora. Anidar implica colocar una lista o diccionario dentro de otra lista o diccionario. Veremos dos ejemplos aquí, listas dentro de un diccionario y diccionarios dentro de un diccionario. Con la anidación, el tipo de información que podemos modelar en nuestros programas se amplía enormemente."
   ]
  },
  {
   "cell_type": "markdown",
   "metadata": {},
   "source": [
    "Listas en un diccionario\n",
    "---\n",
    "Un diccionario conecta dos piezas de información. Esas dos piezas de información pueden ser cualquier tipo de estructura de datos en Python. Sigamos usando cadenas como clave, pero intentemos dar una lista como valor.\n",
    "\n",
    "El primer ejemplo implica almacenar un número de números favoritos de las personas. Las claves consisten en nombres de personas, y los valores son listas de los números favoritos de cada persona. En este primer ejemplo, accederemos a la lista de cada persona de a una en una."
   ]
  },
  {
   "cell_type": "code",
   "execution_count": null,
   "metadata": {
    "collapsed": true
   },
   "outputs": [],
   "source": [
    "# diccionario para almacenar numeros favoritos\n",
    "nums_favs = {'juan': [3, 11, 19, 23, 42],\n",
    "             'marcos': [2, 4, 5],\n",
    "             'gabriel': [5, 35, 120],\n",
    "            }\n",
    "\n",
    "# Mostramos los numeros favoritos\n",
    "print(\"Los numeros de juan's son:\")\n",
    "print(nums_favs['juan'])\n",
    "\n",
    "print(\"\\nLos numeros de juan's son:\")\n",
    "print(nums_favs['marcos'])\n",
    "\n",
    "print(\"\\nLos numeros de juan's son:\")\n",
    "print(nums_favs['gabriel'])"
   ]
  },
  {
   "cell_type": "markdown",
   "metadata": {},
   "source": [
    "Solamente estamos trabajando en cada una de las claves del diccionario, así que usemos un bucle _for_ para ir a través de las claves en el diccionario:"
   ]
  },
  {
   "cell_type": "code",
   "execution_count": null,
   "metadata": {
    "collapsed": true
   },
   "outputs": [],
   "source": [
    "# diccionario para almacenar numeros favoritos\n",
    "nums_favs = {'juan': [3, 11, 19, 23, 42],\n",
    "             'marcos': [2, 4, 5],\n",
    "             'gabriel': [5, 35, 120],\n",
    "            }\n",
    "\n",
    "for nombre in nums_favs:\n",
    "    print(\"\\nLos numeros de %s son:\" % nombre.title())\n",
    "    print(nums_favs[nombre])   "
   ]
  },
  {
   "cell_type": "markdown",
   "metadata": {},
   "source": [
    "Esta estructura es bastante compleja, así que no te preocupes si tardas un poco para que las cosas cobren sentido. El diccionario en sí mismo probablemente tenga sentido; cada persona está conectada a una lista de sus números favoritos.\n",
    "\n",
    "Esto funciona, pero preferimos no imprimir las listas _a pelo_  en nuestra salida. Usemos un bucle for para imprimir los números favoritos individualmente, en lugar de en una lista de Python."
   ]
  },
  {
   "cell_type": "code",
   "execution_count": null,
   "metadata": {
    "collapsed": true
   },
   "outputs": [],
   "source": [
    "# diccionario para almacenar numeros favoritos\n",
    "nums_favs = {'juan': [3, 11, 19, 23, 42],\n",
    "             'marcos': [2, 4, 5],\n",
    "             'gabriel': [5, 35, 120],\n",
    "            }\n",
    "\n",
    "for nombre in nums_favs:\n",
    "    print(\"\\nLos numeros de %s son:\" % nombre.title())\n",
    "    for numero in nums_favs[nombre]:        \n",
    "        print(numero)   "
   ]
  },
  {
   "cell_type": "markdown",
   "metadata": {},
   "source": [
    "Las cosas se vuelven un poco más complicadas dentro del bucle _for_. El valor es una lista de números favoritos, por lo que el bucle _for_ saca cada *número favorito* de la lista de uno en uno."
   ]
  },
  {
   "cell_type": "markdown",
   "metadata": {},
   "source": [
    "Diccionarios en un diccionario\n",
    "---\n",
    "El concepto de anidación más poderoso que cubriremos en este momento es anidar un diccionario dentro de un diccionario.\n",
    "\n",
    "Para demostrar esto, hagamos un diccionario de mascotas, con información sobre cada mascota. Las claves para este diccionario consistirán en el nombre de la mascota. Los valores incluirán información como el tipo de animal, el propietario y si la mascota ha sido vacunada."
   ]
  },
  {
   "cell_type": "code",
   "execution_count": null,
   "metadata": {
    "collapsed": true
   },
   "outputs": [],
   "source": [
    "# almacenamos informacion de las mascotas\n",
    "mascotas = {'akira': {'tipo': 'perro', 'propietario': 'juan', 'vacunado': True},\n",
    "        'juana': {'tipo': 'gato', 'propietario': 'pepe', 'vacunado': False},\n",
    "        'tango': {'tipo': 'perro', 'propietario': 'luisa', 'vacunado': True},\n",
    "        }\n",
    "\n",
    "# Vamos a ver la informacion de cada una de las mascotas\n",
    "print(\"Esto es lo que se de akira:\")\n",
    "print(\"tipo: \" + mascotas['akira']['tipo'])\n",
    "print(\"propietario: \" + mascotas['akira']['propietario'])\n",
    "print(\"vacunado: \" + str(mascotas['akira']['vacunado']))\n",
    "\n",
    "print(\"\\nEsto es lo que se de juana:\")\n",
    "print(\"tipo: \" + mascotas['juana']['tipo'])\n",
    "print(\"propietario: \" + mascotas['juana']['propietario'])\n",
    "print(\"vacunado: \" + str(mascotas['juana']['vacunado']))\n",
    "\n",
    "print(\"\\nEsto es lo que se de tango:\")\n",
    "print(\"tipo: \" + mascotas['tango']['tipo'])\n",
    "print(\"propietario: \" + mascotas['tango']['propietario'])\n",
    "print(\"vacunado: \" + str(mascotas['tango']['vacunado']))"
   ]
  },
  {
   "cell_type": "markdown",
   "metadata": {},
   "source": [
    "Claramente, este es un código repetitivo, pero muestra exactamente cómo accedemos a la información en un diccionario anidado. En el primer conjunto de prints, usamos el nombre 'akira' para desbloquear el 'tipo' de animal que es, el 'propietario' que tiene, y si él o ella está 'vacunado'. Tenemos que ajustar el valor de vacunación en la función str para que Python sepa que queremos las palabras \"True\" y \"False\", no los valores True y False. Luego hacemos lo mismo para cada animal.  \n",
    "\n",
    "Vamos a reescribir este programa, usando un bucle _for_ para recorrer las claves del diccionario:"
   ]
  },
  {
   "cell_type": "code",
   "execution_count": null,
   "metadata": {
    "collapsed": true
   },
   "outputs": [],
   "source": [
    "# almacenamos informacion de las mascotas\n",
    "mascotas = {'akira': {'tipo': 'perro', 'propietario': 'juan', 'vacunado': True},\n",
    "        'juana': {'tipo': 'gato', 'propietario': 'pepe', 'vacunado': False},\n",
    "        'tango': {'tipo': 'perro', 'propietario': 'luisa', 'vacunado': True},\n",
    "        }\n",
    "\n",
    "# mostremos la informacion ahora\n",
    "for nombre_mascota, info_mascota in mascotas.items():\n",
    "    print(\"\\nEsto es lo que se de nombre_mascota:\")\n",
    "    print(\"tipo: \" + mascotas[nombre_mascota]['tipo'])\n",
    "    print(\"propietario: \" + mascotas[nombre_mascota]['propietario'])\n",
    "    print(\"vacunado: \" + str(mascotas[nombre_mascota]['vacunado']))"
   ]
  },
  {
   "cell_type": "markdown",
   "metadata": {},
   "source": [
    "Este código es mucho más corto y más fácil de mantener. Pero incluso este código no será correcto. Si agregamos más información al diccionario más adelante, tendremos que actualizar nuestros _prints_. Pongamos un segundo bucle dentro del primer bucle para ver toda la información sobre cada mascota:"
   ]
  },
  {
   "cell_type": "code",
   "execution_count": null,
   "metadata": {
    "collapsed": true
   },
   "outputs": [],
   "source": [
    "# almacenamos informacion de las mascotas\n",
    "mascotas = {'akira': {'tipo': 'perro', 'propietario': 'juan', 'vacunado': True},\n",
    "        'juana': {'tipo': 'gato', 'propietario': 'pepe', 'vacunado': False},\n",
    "        'tango': {'tipo': 'perro', 'propietario': 'luisa', 'vacunado': True},\n",
    "        }\n",
    "\n",
    "# mostremos la informacion ahora\n",
    "for nombre_mascota, info_mascota in mascotas.items():\n",
    "    print(\"\\nEsto es lo que se de nombre_mascota:\")\n",
    "    for clave in info_mascota:\n",
    "        print(clave + \": \" + str(info_mascota[clave]))"
   ]
  },
  {
   "cell_type": "markdown",
   "metadata": {},
   "source": [
    "Este bucle anidado puede parecer bastante complicado.\n",
    "\n",
    "- El primer bucle nos da todas las claves en el diccionario principal, que consisten en el nombre de cada mascota.\n",
    "- Cada uno de estos nombres se puede usar para 'desbloquear' el diccionario de cada mascota.\n",
    "- El bucle interno pasa por el diccionario de esa mascota individual y saca todas las claves del diccionario de cada mascota.\n",
    "- Imprimimos la clave, que nos dice el tipo de información que estamos a punto de ver, y el valor de esa clave."
   ]
  },
  {
   "cell_type": "markdown",
   "metadata": {},
   "source": [
    "Una nota importante sobre la _nesting_\n",
    "---\n",
    "Si bien un nivel de anidación es realmente útil, anidar mucho más profundo que eso se vuelve realmente complicado, muy rápido. Existen otras estructuras, como las clases, que pueden ser más útiles para modelar información. Además de esto, podemos usar Python para almacenar información en una base de datos, que es la herramienta adecuada para almacenar información profundamente anidada.\n",
    "\n",
    "A menudo, cuando se está almacenando información en una base de datos, se extrae un conjunto pequeño de esa información y se coloca en un diccionario, o en una estructura ligeramente anidada, y luego se trabaja con ella. Pero raramente, trabajaremos con estructuras de datos de Python anidadas a más de un nivel de profundidad."
   ]
  },
  {
   "cell_type": "markdown",
   "metadata": {},
   "source": [
    "## Metodos de los Diccionarios"
   ]
  },
  {
   "cell_type": "markdown",
   "metadata": {},
   "source": [
    "Creacion de un diccionario."
   ]
  },
  {
   "cell_type": "code",
   "execution_count": null,
   "metadata": {},
   "outputs": [],
   "source": [
    "# Creacion de un diccionario\n",
    "dict1 = dict()\n",
    "dict1['nombre'] = 'Carlos'\n",
    "dict1['edad'] = 34\n",
    "dict1['cursos'] = ['Python','Finanzas']\n",
    "dict2 = dict({'nombre' : 'Carlos', 'edad' : 33, 'cursos': ['Python','Matematicas'], 'altura' : 180})\n",
    "\n",
    "print(dict1)\n",
    "print(dict2)"
   ]
  },
  {
   "cell_type": "markdown",
   "metadata": {},
   "source": [
    "Longitud de un diccionario."
   ]
  },
  {
   "cell_type": "code",
   "execution_count": null,
   "metadata": {},
   "outputs": [],
   "source": [
    "# Devuelve el numero de elementos que tiene el diccionario\n",
    "print(len(dict1))"
   ]
  },
  {
   "cell_type": "markdown",
   "metadata": {},
   "source": [
    "Recoge las claves del diccionario."
   ]
  },
  {
   "cell_type": "code",
   "execution_count": null,
   "metadata": {},
   "outputs": [],
   "source": [
    "# Devuelve una lista con las claves del diccionario\n",
    "dict1.keys()"
   ]
  },
  {
   "cell_type": "markdown",
   "metadata": {},
   "source": [
    "Recoge los valores del diccionario."
   ]
  },
  {
   "cell_type": "code",
   "execution_count": null,
   "metadata": {
    "scrolled": true
   },
   "outputs": [],
   "source": [
    "# Devuelve una lista con los valores del diccionario\n",
    "dict1.values()"
   ]
  },
  {
   "cell_type": "markdown",
   "metadata": {},
   "source": [
    "Recoge valores con una clave especifica."
   ]
  },
  {
   "cell_type": "code",
   "execution_count": null,
   "metadata": {
    "scrolled": true
   },
   "outputs": [],
   "source": [
    "# Devuelve el valor del elemento con clave key. Sino devuelve None\n",
    "print(dict1.get('edad'))\n",
    "print(dict1.get('altura', None)) # si la clave no existe se devuelve None"
   ]
  },
  {
   "cell_type": "markdown",
   "metadata": {},
   "source": [
    "Insercion de elementos."
   ]
  },
  {
   "cell_type": "code",
   "execution_count": null,
   "metadata": {},
   "outputs": [],
   "source": [
    "# Insertamos un elemento en el diccionario con su clave:valor\n",
    "dict1['altura'] = '180'\n",
    "print(dict1)"
   ]
  },
  {
   "cell_type": "markdown",
   "metadata": {},
   "source": [
    "Comprueba si existe clave."
   ]
  },
  {
   "cell_type": "code",
   "execution_count": null,
   "metadata": {},
   "outputs": [],
   "source": [
    "# Devuelve true si existe la clave. Sino devuelve false\n",
    "print('altura' in dict1)"
   ]
  },
  {
   "cell_type": "markdown",
   "metadata": {},
   "source": [
    "Elimina elemento de diccionario mediante _pop_."
   ]
  },
  {
   "cell_type": "code",
   "execution_count": null,
   "metadata": {},
   "outputs": [],
   "source": [
    "# Eliminamos el elemento del diccionario con clave key.\n",
    "# Retorna el elemento eliminado, si no esta retorna None\n",
    "print dict1.pop('altura', None)"
   ]
  },
  {
   "cell_type": "markdown",
   "metadata": {},
   "source": [
    "Recoge tuplas con clave:valor."
   ]
  },
  {
   "cell_type": "code",
   "execution_count": null,
   "metadata": {},
   "outputs": [],
   "source": [
    "# devuelve un lista de tuplas formadas por los pares clave:valor\n",
    "print dict1.items()"
   ]
  },
  {
   "cell_type": "markdown",
   "metadata": {},
   "source": [
    "Agrega los elementos de un diccionario a otro."
   ]
  },
  {
   "cell_type": "code",
   "execution_count": 99,
   "metadata": {
    "collapsed": true
   },
   "outputs": [],
   "source": [
    "# Añade los elementos de un diccionario a otro\n",
    "# Si las claves e\n",
    "dict1.update(dict2)\n",
    "print(dict2)"
   ]
  },
  {
   "cell_type": "markdown",
   "metadata": {},
   "source": [
    "Crea un nuevo diccionario con claves de otro y valores por defecto."
   ]
  },
  {
   "cell_type": "code",
   "execution_count": null,
   "metadata": {},
   "outputs": [],
   "source": [
    "# Crea un nuevo diccionario poniendo como claves las que hay en la lista y los valores por defecto si se les pasa\n",
    "print(dict1.fromkeys(dict1.keys(), None))"
   ]
  },
  {
   "cell_type": "markdown",
   "metadata": {},
   "source": [
    "Copia los elementos de un diccionario a otro."
   ]
  },
  {
   "cell_type": "code",
   "execution_count": null,
   "metadata": {},
   "outputs": [],
   "source": [
    "# copia los elementos de un diccionario\n",
    "dict3 = dict1.copy()\n",
    "print(dict3)"
   ]
  },
  {
   "cell_type": "markdown",
   "metadata": {},
   "source": [
    "Eliminar todos los elementos de un diccionario."
   ]
  },
  {
   "cell_type": "code",
   "execution_count": null,
   "metadata": {},
   "outputs": [],
   "source": [
    "# Elimina todos los elementos de un diccionario\n",
    "print(dict1.clear())"
   ]
  },
  {
   "cell_type": "markdown",
   "metadata": {},
   "source": [
    "### Un ejemplo concreto..."
   ]
  },
  {
   "cell_type": "code",
   "execution_count": null,
   "metadata": {
    "collapsed": true
   },
   "outputs": [],
   "source": [
    "# Defino la variable 'futbolistas' como un diccionario. No es necesario declarar que tipo de dato es\n",
    "futbolistas = dict()\n",
    "\n",
    "futbolistas = {\n",
    "    1 : \"Casillas\", 15 : \"Ramos\",\n",
    "    3 : \"Pique\", 5 : \"Puyol\",\n",
    "    11 : \"Capdevila\", 14 : \"Xabi Alonso\",\n",
    "    16 : \"Busquets\", 8 : \"Xavi Hernandez\",\n",
    "    18 : \"Pedrito\", 6 : \"Iniesta\",\n",
    "    7 : \"Villa\"\n",
    "}"
   ]
  },
  {
   "cell_type": "code",
   "execution_count": null,
   "metadata": {},
   "outputs": [],
   "source": [
    "# Recorrer un diccionario, imprimiendo su clave-valor\n",
    "for k,v in futbolistas.items():\n",
    "    print(\"%s -> %s\" %(k,v))"
   ]
  },
  {
   "cell_type": "code",
   "execution_count": null,
   "metadata": {},
   "outputs": [],
   "source": [
    "# Vemos cuantos elementos tiene nuestro diccionario\n",
    "numElem = len(futbolistas)\n",
    "print(\"\\nNumero de elementos del diccionario len(futbolistas) = %i\" %numElem)"
   ]
  },
  {
   "cell_type": "code",
   "execution_count": null,
   "metadata": {},
   "outputs": [],
   "source": [
    "# Imprimimos una lista con las claves del diccionario\n",
    "keys = futbolistas.keys();\n",
    "print(\"\\nClaves del diccionario futbolistas.keys(): \\n%s\" %keys)"
   ]
  },
  {
   "cell_type": "code",
   "execution_count": null,
   "metadata": {},
   "outputs": [],
   "source": [
    "# Imprimimos en una lista los valores del diccionario\n",
    "values = futbolistas.values()\n",
    "print(\"\\nValores del diccionario futbolistas.values(): \\n%s\" %values)"
   ]
  },
  {
   "cell_type": "code",
   "execution_count": null,
   "metadata": {},
   "outputs": [],
   "source": [
    "# Obtenemos el valor de un elemento dada su clave\n",
    "elem = futbolistas.get(6)\n",
    "print(\"\\nObtenemos el valor cuya clave es '6' futbolistas.get(6): %s\" %elem)"
   ]
  },
  {
   "cell_type": "code",
   "execution_count": null,
   "metadata": {},
   "outputs": [],
   "source": [
    "# Insertamos un elemento en el array. Si la clave ya existe no inserta el elemento\n",
    "elem2 = futbolistas.setdefault(10,'Cesc')\n",
    "print(\"\\nInsertamos un elemento en el diccionario. Si la clave existe no lo inserta\" \\\n",
    "      \"\\nfutbolistas.setdefault(10,'Cesc'): %s\" %elem2)"
   ]
  },
  {
   "cell_type": "code",
   "execution_count": null,
   "metadata": {},
   "outputs": [],
   "source": [
    "# Añadimos un nuevo elemento a la lista\n",
    "futbolistas[22] = 'Navas'\n",
    "print(\"\\nDiccionario tras añadir un elemento: futbolistas[22] = 'Navas' \\n%s\" %futbolistas)"
   ]
  },
  {
   "cell_type": "code",
   "execution_count": null,
   "metadata": {},
   "outputs": [],
   "source": [
    "# Eliminamos un elemento del diccionario dada su clave\n",
    "futbolistas.pop(22)\n",
    "print(\"\\nDiccionario tras eliminar un elemento: futbolistas.pop(22) \\n%s\" %futbolistas)"
   ]
  },
  {
   "cell_type": "code",
   "execution_count": null,
   "metadata": {},
   "outputs": [],
   "source": [
    "# Hacemos una copia del diccionario\n",
    "futbolistasCopy = futbolistas.copy();\n",
    "print(\"\\nRealizamos una copia del diccionario futbolistasCopy=futbolistas.copy(): \\n%s\" %futbolistas)"
   ]
  },
  {
   "cell_type": "code",
   "execution_count": null,
   "metadata": {},
   "outputs": [],
   "source": [
    "# Eliminamos los elementos de un diccionario\n",
    "futbolistasCopy.clear()\n",
    "print(\"\\nEliminamos los elementos de un diccionario futbolistasCopy.clear(): %s\" %futbolistasCopy)"
   ]
  },
  {
   "cell_type": "code",
   "execution_count": null,
   "metadata": {},
   "outputs": [],
   "source": [
    "# Creamos un diccionario a partir de una lista con las claves\n",
    "keys = ['nombre', 'apellidos', 'edad']\n",
    "dictList = dict.fromkeys(keys, 'nada')\n",
    "print(\"\\nCreamos un diccionario a partir de una lista dictList = dict.fromkeys(keys, 'nada'): \\n%s\" %dictList)"
   ]
  },
  {
   "cell_type": "code",
   "execution_count": null,
   "metadata": {},
   "outputs": [],
   "source": [
    "# Comprobamos si existe o no una clave\n",
    "exit2 = 2 in futbolistas\n",
    "exit8 = 8 in futbolistas\n",
    "print(\"\\nComprobamos si existen los elementos 2 y 8 \\n\\t 2 in futbolistas = %s \" \\\n",
    "      \"\\n\\t 8 in futbolistas = %s\" %(exit2,exit8))"
   ]
  },
  {
   "cell_type": "code",
   "execution_count": null,
   "metadata": {},
   "outputs": [],
   "source": [
    "# Devolvemos los elementos del diccionario en tuplas\n",
    "tuplas = futbolistas.items()\n",
    "print(\"\\nPasamos el diccionario a tuplas con clave-valor: tuplas = futbolistas.items() \\n%s\" %tuplas)"
   ]
  },
  {
   "cell_type": "code",
   "execution_count": null,
   "metadata": {
    "collapsed": true
   },
   "outputs": [],
   "source": [
    "# Mergeamos dos diccionarios\n",
    "suplentes = {\n",
    "    4:'Marchena', 9:'Torres', 12:'Valdes',\n",
    "    13:'Mata' , 17:'Arbeloa', 19:'Llorente',\n",
    "    20:'Javi Martinez', 21:'Silva', 23:'Reina'\n",
    "}"
   ]
  },
  {
   "cell_type": "code",
   "execution_count": null,
   "metadata": {},
   "outputs": [],
   "source": [
    "futbolistas.update(suplentes)\n",
    "print(\"\\nAñadimos los elementos de un diccionario a otro futbolistas.update(suplentes): \\n%s\" %futbolistas)"
   ]
  },
  {
   "cell_type": "markdown",
   "metadata": {},
   "source": [
    "### Ejercicios "
   ]
  },
  {
   "cell_type": "markdown",
   "metadata": {},
   "source": [
    "1 - Crea un diccionario con nombres de mascotas como clave y el tipo de animal como valor. Pon al menos tres pares clave:valor en tu diccionario."
   ]
  },
  {
   "cell_type": "code",
   "execution_count": null,
   "metadata": {
    "collapsed": true
   },
   "outputs": [],
   "source": []
  },
  {
   "cell_type": "markdown",
   "metadata": {},
   "source": [
    "2 - Levantamiento de pesas\n",
    "- Crea un diccionario donde las claves sean los nombres de ejercicios de levantamiento de pesas, y los valores son la cantidad de veces que realizaste ese ejercicio:\n",
    "    - Usa un bucle _for_ para imprimir una serie de mensajes como \"Hice 10 press de banca\".\n",
    "    - Modifica uno de los valores en tu diccionario, para representar hacer más de ese ejercicio.\n",
    "    - Agrega un nuevo par clave-valor a tu diccionario.\n",
    "    - Elimina uno de los pares clave-valor de su diccionario."
   ]
  },
  {
   "cell_type": "code",
   "execution_count": null,
   "metadata": {
    "collapsed": true
   },
   "outputs": [],
   "source": []
  },
  {
   "cell_type": "markdown",
   "metadata": {},
   "source": [
    "3 - Las montañas más altas del mundo\n",
    "- Wikipedia tiene una lista de las [montañas más altas del mundo](http://en.wikipedia.org/wiki/List_of_mountains_by_elevation), con la elevación de cada montaña. Elige cinco montañas de esta lista.\n",
    "    - Crea un diccionario con los nombres de las montañas como claves, y las elevaciones como valores.\n",
    "    - Imprime solo los nombres de las montañas, recorriendo las claves del diccionario.\n",
    "    - Imprime solo las elevaciones de las montañas, recorriendo los valores del diccionario.\n",
    "    - Imprime una serie de mensajes que indiquen la altura de cada montaña: \"Everest tiene 8848 metros de altura\".\n",
    "- Revisa tu resultado, si es necesario.\n",
    "    - Asegúrate de que haya un mensaje introductorio que describa la salida de cada bucle que escribas.\n",
    "    - Asegúrate de que haya una línea en blanco entre cada grupo de declaraciones."
   ]
  },
  {
   "cell_type": "code",
   "execution_count": null,
   "metadata": {
    "collapsed": true
   },
   "outputs": [],
   "source": []
  },
  {
   "cell_type": "markdown",
   "metadata": {},
   "source": [
    "4 - Hemos definido un diccionario con el stock de la fruteria de Juan. Acaba de llegar el repartidor y nos ha traido 5 platanos, 6 mangos y 3 peras. Modifica el stock que hay almacenado en el diccionario. Finalmente imprime el diccionario"
   ]
  },
  {
   "cell_type": "code",
   "execution_count": 12,
   "metadata": {},
   "outputs": [
    {
     "name": "stdout",
     "output_type": "stream",
     "text": [
      "{'naranjas': 10, 'peras': 11, 'platanos': 10, 'mangos': 6}\n"
     ]
    }
   ],
   "source": [
    "stock = {'platanos':5, 'peras':8, 'naranjas':10}"
   ]
  },
  {
   "cell_type": "markdown",
   "metadata": {},
   "source": [
    "5 - Siguiendo con el diccionario anterior podemos definir otro diccionario que contenga los precios de la fruta. Crea un diccionario de precios sabiendo que: los platanos valen 1.5, las peras cuestan 2, las naranjas 0.90 y los mangos 3.5. Imprime ambos diccionarios por pantalla"
   ]
  },
  {
   "cell_type": "code",
   "execution_count": 37,
   "metadata": {},
   "outputs": [
    {
     "name": "stdout",
     "output_type": "stream",
     "text": [
      "stock:  {'naranjas': 10, 'peras': 11, 'platanos': 2, 'mangos': 4}\n",
      "precios: {'naranjas': 0.9, 'platanos': 1.5, 'peras': 2, 'mangos': 3.5}\n"
     ]
    }
   ],
   "source": [
    "precios = {'naranjas': .9, 'peras': 2, 'platanos': 1.5, 'mangos': 3.5}"
   ]
  },
  {
   "cell_type": "markdown",
   "metadata": {},
   "source": [
    "6 - Han venido a comprar tres clientas a la fruteria. Esto es lo que quieren:  \n",
    "Maria --> 2 peras y 5 naranjas  \n",
    "Andrea --> 5 platanos y 3 peras  \n",
    "Carmen --> 4 naranjas, 3 mangos y 2 cocos  \n",
    "Escribe un programa que vaya actualizando el stock y calcule los precios de las cuentas de cada una de las clientas. Tendras que controlar que exista stock e en cada uno de los casos a medida que las clientas vayan pidiendo. Imprime por pantalla diferentes mensajes que vayan informando del proceso y de lo que sucede."
   ]
  },
  {
   "cell_type": "code",
   "execution_count": null,
   "metadata": {},
   "outputs": [],
   "source": []
  },
  {
   "cell_type": "markdown",
   "metadata": {},
   "source": [
    "7 - Escribe un programa que pida al usuario introducir una frase por teclado y que genere un diccionario con a cantidad de apariciones de cada palabra en la frase.  \n",
    "Por ejemplo, si recibe \"Que lindo dia que hace hoy\" debe devolver:  \n",
    "\n",
    "'que': 2, 'lindo': 1, 'dia': 1, 'hace': 1, 'hoy': 1"
   ]
  },
  {
   "cell_type": "code",
   "execution_count": null,
   "metadata": {},
   "outputs": [],
   "source": []
  },
  {
   "cell_type": "markdown",
   "metadata": {},
   "source": [
    "8 - Escribe un programa que pida al usuario introducir una palabra por teclado y que genere un diccionario con a cantidad de apariciones de cada caracter en la palabra.\n",
    "Por ejemplo, si recibe \"pamplona\" deberia devolver:\n",
    "\n",
    "'p': 2, 'a': 2, 'm': 1, 'l': 1, 'o': 1, 'n': 1"
   ]
  },
  {
   "cell_type": "code",
   "execution_count": null,
   "metadata": {},
   "outputs": [],
   "source": []
  },
  {
   "cell_type": "markdown",
   "metadata": {},
   "source": [
    "9 - Escribe un programa que pida claves y valores para almacenar en un diccionario. El programa preguntara al usuario si quiere continuar introduciendo mas claves y valores y el usuario respondera S o N (en cuyo caso se terminara la ejecucion del programa). Si el usuario introduce una clave que ya existe el programa debera mostrar un mensaje comentando que la clave ya existia y ha sido modificada."
   ]
  },
  {
   "cell_type": "code",
   "execution_count": null,
   "metadata": {},
   "outputs": [],
   "source": []
  },
  {
   "cell_type": "markdown",
   "metadata": {},
   "source": [
    "10 - Crea un diccionario que almacene cuantas veces aparece cada palabra en el fichero del quijote.txt"
   ]
  },
  {
   "cell_type": "code",
   "execution_count": null,
   "metadata": {},
   "outputs": [],
   "source": []
  },
  {
   "cell_type": "markdown",
   "metadata": {},
   "source": [
    "11 - Escribe un programa que dado un numero entero introducido por un usuario genere un diccionario que contiene (i, i\\*i) de forma que i sea un numero entero entre 1 y n (ambos incluidos). Despues el programa deberia imprimir el diccionario.\n",
    "\n",
    "Supon que recibimos un 8 de un usuario, el output deberia ser:\n",
    "\n",
    "{1: 1, 2: 4, 3: 9, 4: 16, 5: 25, 6: 36, 7: 49, 8: 64}"
   ]
  },
  {
   "cell_type": "code",
   "execution_count": null,
   "metadata": {
    "collapsed": true
   },
   "outputs": [],
   "source": []
  },
  {
   "cell_type": "markdown",
   "metadata": {},
   "source": [
    "12 - Escribe un programa que dado un numero entero genere un diccionario con clave i y elemento cuadrado de i donde i es un entero que va desde 1 hasta n (ambos incluidos). Imprime el diccionario."
   ]
  },
  {
   "cell_type": "code",
   "execution_count": null,
   "metadata": {
    "collapsed": true
   },
   "outputs": [],
   "source": []
  },
  {
   "cell_type": "markdown",
   "metadata": {},
   "source": [
    "13 - Escribe un programa que cree un diccionario a partir del fichero companies.csv. El programa debe leer del fichero y crear un diccionario que tenga como clave el nombre (first_name) y el apellido (last_name) separados por el caracter _ y cuya clave sea el email de contacto (email). Explora el fichero de texto, piensa como lo lees y lo procesas para extraer la informacion y crear el diccionario. Finalmente imprime las diez primeras claves del diccionario.\n",
    "\n",
    "Por ejemplo para el primer contacto quedaria algo asi si hemos creado un diccionario llamado dict:\n",
    "\n",
    "dict['James_Butt'] --> 'jbutt@gmail.com'"
   ]
  },
  {
   "cell_type": "code",
   "execution_count": null,
   "metadata": {
    "collapsed": true
   },
   "outputs": [],
   "source": []
  },
  {
   "cell_type": "markdown",
   "metadata": {},
   "source": [
    "14 - Queremos crear un diccionario cuya clave sea el nombre de la compania y sus valores la direccion completa incluyendo la ciudad, el condado (county), el estado y el codigo postal (zip). De esta forma podremos saber cual es la direccion completa de una compania con solo introducir su nombre. Separa los diferentes campos que forman la direccion completa con una coma (,). Imprime finalmente las diez primeras claves del diccionario.\n",
    "\n",
    "Por ejemplo para el primer contacto quedaria algo asi si hemos creado un diccionario llamado dict:\n",
    "\n",
    "dict['Benton, John B Jr'] --> '6649 N Blue Gum St, New Orleans, Orleans, LA, 70116'\n"
   ]
  },
  {
   "cell_type": "code",
   "execution_count": null,
   "metadata": {
    "collapsed": true
   },
   "outputs": [],
   "source": []
  },
  {
   "cell_type": "markdown",
   "metadata": {},
   "source": [
    "15 - Esta es una extensión del ejercicio 3, Las montañas más altas del mundo. \n",
    "- La lista de [las montañas más altas del mundo](http://en.wikipedia.org/wiki/List_of_mountains_by_elevation) proporcionó todas las elevaciones en metros. Convierte cada una de estas elevaciones a pies, dado que un metro es aproximadamente 3.28 pies. Puedes hacer estos cálculos a mano en este punto.\n",
    "    - Crea un nuevo diccionario, donde las claves del diccionario sigan siendo los nombres de las montañas. Esta vez, sin embargo, los valores del diccionario deben ser una lista de la elevación de cada montaña en metros, y luego en pies: {'everest': [8848, 29029]}\n",
    "    - Imprime solo los nombres de las montañas, recorriendo las claves del diccionario.\n",
    "    - Imprime las elevaciones de las montañas en metros, recorriendo los valores del diccionario y extrayendo el primer número de cada lista.\n",
    "    - Imprime solo las elevaciones de las montañas en pies, recorriendo los valores de su diccionario y sacando el segundo número de cada lista.\n",
    "    - Imprime una serie de declaraciones que indiquen la altura de cada montaña: \"Everest tiene 8848 metros de altura, o 29029 pies\"."
   ]
  },
  {
   "cell_type": "code",
   "execution_count": null,
   "metadata": {
    "collapsed": true
   },
   "outputs": [],
   "source": []
  },
  {
   "cell_type": "markdown",
   "metadata": {},
   "source": [
    "16 - La tabla periódica\n",
    "- La [Tabla Periódica] (http://www.ptable.com/) de los Elementos fue desarrollada para organizar información sobre los elementos que componen el Universo. Escribe un programe te permita ingresar información sobre cada elemento en la tabla periódica.\n",
    "    - Asegúrate de incluir la siguiente información:\n",
    "        - símbolo, nombre, número atómico, fila y columna\n",
    "    - Elige al menos otro elemento de información para incluir en el programa.\n",
    "    - Proporciona un menú de opciones para que los usuarios puedan:\n",
    "        - Ver toda la información que se almacena sobre cualquier elemento, ingresando el símbolo de ese elemento.\n",
    "        - Elija una propiedad y vea esa propiedad para cada elemento de la tabla.\n",
    "    - Desarrolla una opción para imprimir los símbolos dispuestos como la tabla periódica. \n",
    "      **Pista:** puedes usar la fila y columna para ello."
   ]
  },
  {
   "cell_type": "code",
   "execution_count": null,
   "metadata": {
    "collapsed": true
   },
   "outputs": [],
   "source": []
  }
 ],
 "metadata": {
  "kernelspec": {
   "display_name": "Python 3",
   "language": "python",
   "name": "python3"
  },
  "language_info": {
   "codemirror_mode": {
    "name": "ipython",
    "version": 3
   },
   "file_extension": ".py",
   "mimetype": "text/x-python",
   "name": "python",
   "nbconvert_exporter": "python",
   "pygments_lexer": "ipython3",
   "version": "3.6.3"
  }
 },
 "nbformat": 4,
 "nbformat_minor": 1
}
