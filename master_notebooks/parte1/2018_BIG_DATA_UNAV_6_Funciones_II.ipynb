{
 "cells": [
  {
   "cell_type": "markdown",
   "metadata": {},
   "source": [
    "¡Más funciones!\n",
    "========\n",
    "\n",
    "Anteriormente aprendimos las versiones más simples de las funciones. En esta sección aprenderemos conceptos más generales sobre funciones, tales como cómo usar funciones para devolver valores y cómo pasar diferentes tipos de estructuras de datos entre funciones, así como una pequeña introducción a módulos"
   ]
  },
  {
   "cell_type": "markdown",
   "metadata": {},
   "source": [
    "Índice\n",
    "====\n",
    "\n",
    "- [Argumentos por defecto](#Argumentos-por-defecto)\n",
    "    - [Ejercicios](#Ejercicios-default)\n",
    "- [Argumentos posicionales](#Argumentos-posicionales)\n",
    "    - [Ejercicios](#Ejercicion-positional)\n",
    "- [Argumentos clave](#Argumentos-de-palabra-clave)\n",
    "    - [Mezclando argumentos posicionales y clave](#Mezclando-argumentos-posicionales-y-palabra-clave)\n",
    "    - [Ejercicios](#Ejercicios-keyword)\n",
    "- [Aceptando un número variable de argumentos](#Aceptando-un-numero-arbitrario-de-argumentos)\n",
    "    - [Aceptando una secuencia de longitud variable](#Aceptando-una-secuencia-de-elementos-de-longitud-variable)\n",
    "    - [Aceptando un numero variable de argumentos clave](#Aceptando-un-n%C3%BAmero-variable-de-argumentos-palabra-clave)\n",
    "- [Funciones lambda](#Funciones-lambda)"
   ]
  },
  {
   "cell_type": "markdown",
   "metadata": {},
   "source": [
    "Argumentos por defecto\n",
    "============\n",
    "\n",
    "En el notebook anterior empezamos con este ejemplo:"
   ]
  },
  {
   "cell_type": "code",
   "execution_count": 1,
   "metadata": {},
   "outputs": [
    {
     "name": "stdout",
     "output_type": "stream",
     "text": [
      "\n",
      "¡Buen trabajo, Adriana!\n",
      "Muchas gracias por tu dedicación al proyecto.\n",
      "\n",
      "¡Buen trabajo, Pedro!\n",
      "Muchas gracias por tu dedicación al proyecto.\n",
      "\n",
      "¡Buen trabajo, Carolina!\n",
      "Muchas gracias por tu dedicación al proyecto.\n"
     ]
    }
   ],
   "source": [
    "def agradecimiento(nombre):\n",
    "    # Esta función saca por pantalla un mensaje de agradecimiento en dos líneas\n",
    "    print(\"\\n¡Buen trabajo, %s!\" % nombre)\n",
    "    print(\"Muchas gracias por tu dedicación al proyecto.\")\n",
    "    \n",
    "agradecimiento('Adriana')\n",
    "agradecimiento('Pedro')\n",
    "agradecimiento('Carolina')"
   ]
  },
  {
   "cell_type": "markdown",
   "metadata": {},
   "source": [
    "Esta función hace lo que tiene que hacer, pero si no pasamos ningún argumento, falla:"
   ]
  },
  {
   "cell_type": "code",
   "execution_count": 2,
   "metadata": {},
   "outputs": [
    {
     "name": "stdout",
     "output_type": "stream",
     "text": [
      "\n",
      "¡Buen trabajo, Adriana!\n",
      "Muchas gracias por tu dedicación al proyecto.\n",
      "\n",
      "¡Buen trabajo, Pedro!\n",
      "Muchas gracias por tu dedicación al proyecto.\n",
      "\n",
      "¡Buen trabajo, Carolina!\n",
      "Muchas gracias por tu dedicación al proyecto.\n"
     ]
    },
    {
     "ename": "TypeError",
     "evalue": "agradecimiento() missing 1 required positional argument: 'nombre'",
     "output_type": "error",
     "traceback": [
      "\u001b[0;31m---------------------------------------------------------------------------\u001b[0m",
      "\u001b[0;31mTypeError\u001b[0m                                 Traceback (most recent call last)",
      "\u001b[0;32m<ipython-input-2-682f5d967559>\u001b[0m in \u001b[0;36m<module>\u001b[0;34m()\u001b[0m\n\u001b[1;32m      7\u001b[0m \u001b[0magradecimiento\u001b[0m\u001b[0;34m(\u001b[0m\u001b[0;34m'Pedro'\u001b[0m\u001b[0;34m)\u001b[0m\u001b[0;34m\u001b[0m\u001b[0m\n\u001b[1;32m      8\u001b[0m \u001b[0magradecimiento\u001b[0m\u001b[0;34m(\u001b[0m\u001b[0;34m'Carolina'\u001b[0m\u001b[0;34m)\u001b[0m\u001b[0;34m\u001b[0m\u001b[0m\n\u001b[0;32m----> 9\u001b[0;31m \u001b[0magradecimiento\u001b[0m\u001b[0;34m(\u001b[0m\u001b[0;34m)\u001b[0m\u001b[0;34m\u001b[0m\u001b[0m\n\u001b[0m",
      "\u001b[0;31mTypeError\u001b[0m: agradecimiento() missing 1 required positional argument: 'nombre'"
     ]
    }
   ],
   "source": [
    "def agradecimiento(nombre):\n",
    "    # Esta función saca por pantalla un mensaje de agradecimiento en dos líneas\n",
    "    print(\"\\n¡Buen trabajo, %s!\" % nombre)\n",
    "    print(\"Muchas gracias por tu dedicación al proyecto.\")\n",
    "    \n",
    "agradecimiento('Adriana')\n",
    "agradecimiento('Pedro')\n",
    "agradecimiento('Carolina')\n",
    "agradecimiento()\n"
   ]
  },
  {
   "cell_type": "markdown",
   "metadata": {},
   "source": [
    "\n",
    "Eso tiene sentido; la función necesita tener un nombre para hacer su trabajo, por lo que sin un nombre está bloqueada.\n",
    "\n",
    "Si queremos que la función haga algo por defecto, incluso si no se le pasa información, podemos hacerlo dando los valores predeterminados de sus argumentos. Para ello, especifique los valores predeterminados cuando definimos la función:"
   ]
  },
  {
   "cell_type": "code",
   "execution_count": 3,
   "metadata": {},
   "outputs": [
    {
     "name": "stdout",
     "output_type": "stream",
     "text": [
      "\n",
      "¡Buen trabajo, Adriana!\n",
      "Muchas gracias por tu dedicación al proyecto.\n",
      "\n",
      "¡Buen trabajo, Pedro!\n",
      "Muchas gracias por tu dedicación al proyecto.\n",
      "\n",
      "¡Buen trabajo, Carolina!\n",
      "Muchas gracias por tu dedicación al proyecto.\n",
      "\n",
      "¡Buen trabajo, cualquiera!\n",
      "Muchas gracias por tu dedicación al proyecto.\n"
     ]
    }
   ],
   "source": [
    "def agradecimiento(nombre='cualquiera'):\n",
    "    # Esta función saca por pantalla un mensaje de agradecimiento en dos líneas\n",
    "    print(\"\\n¡Buen trabajo, %s!\" % nombre)\n",
    "    print(\"Muchas gracias por tu dedicación al proyecto.\")\n",
    "    \n",
    "agradecimiento('Adriana')\n",
    "agradecimiento('Pedro')\n",
    "agradecimiento('Carolina')\n",
    "agradecimiento()"
   ]
  },
  {
   "cell_type": "markdown",
   "metadata": {},
   "source": [
    "\n",
    "Esto es particularmente útil cuando tenemos un número de argumentos en la función, y algunos de esos argumentos casi siempre tienen el mismo valor. Esto permite que las personas que usan la función solo especifiquen los valores que son únicos para su uso de la función y se puedan \"olvidar\" del resto."
   ]
  },
  {
   "cell_type": "markdown",
   "metadata": {},
   "source": [
    "<a id=\"Ejercicios-default\"></a>\n",
    "Ejercicios\n",
    "-----------\n",
    "\n",
    "#### Juegos de mesa\n",
    "\n",
    "- Escribe una función que acepte el nombre de un juego e imprima una frase como \"Me gusta jugar al ajedrez\".\n",
    "- Proporciona al argumento un valor predeterminado, por ejemplo `ajedrez`.\n",
    "- Llama a la función al menos tres veces. Asegúrate de que al menos una de las llamadas incluya un argumento, y al menos una llamada no incluya argumentos.\n",
    "\n",
    "#### Película favorita\n",
    "\n",
    "- Escribir una función que acepte el nombre de una película e imprima una frase como, \"Mi película favorita es Memorias de África\".\n",
    "- Dale al argumento un valor predeterminado, como `Memorias de África`.\n",
    "- Llama a la función al menos tres veces. Asegúrate de que al menos una de las llamadas incluya un argumento, y al menos una llamada no incluya argumentos."
   ]
  },
  {
   "cell_type": "code",
   "execution_count": 3,
   "metadata": {},
   "outputs": [
    {
     "name": "stdout",
     "output_type": "stream",
     "text": [
      "Me gusta jugar a cartas\n",
      "Me gusta jugar a damas\n",
      "Me gusta jugar a ajedrez\n"
     ]
    }
   ],
   "source": [
    "def juego_de_mesa (juego = \"ajedrez\"):\n",
    "    print (\"Me gusta jugar a %s\" %(juego))\n",
    "juego_de_mesa ( \"cartas\")\n",
    "juego_de_mesa ( \"damas\" )\n",
    "juego_de_mesa ()"
   ]
  },
  {
   "cell_type": "code",
   "execution_count": 4,
   "metadata": {},
   "outputs": [
    {
     "name": "stdout",
     "output_type": "stream",
     "text": [
      "Mi pelicula favorita es La vidad de Brian\n",
      "Mi pelicula favorita es Ola ke ase\n",
      "Mi pelicula favorita es Titanic\n"
     ]
    }
   ],
   "source": [
    "def pelicula_favorita (peli = \"Titanic\"):\n",
    "    print (\"Mi pelicula favorita es %s\"  % peli )\n",
    "pelicula_favorita (\"La vidad de Brian\")\n",
    "pelicula_favorita (\"Ola ke ase\")\n",
    "pelicula_favorita ()"
   ]
  },
  {
   "cell_type": "markdown",
   "metadata": {},
   "source": [
    "Argumentos posicionales\n",
    "=============\n",
    "\n",
    "Mucho de lo que tendrás que aprender sobre el uso de funciones implica cómo pasar valores cuando llamamos a la función a la función en sí. El ejemplo que acabamos de ver es bastante simple, ya que la función solo necesitaba un argumento para hacer su trabajo. Echemos un vistazo a una función que requiere dos argumentos para hacer su trabajo.\n",
    "\n",
    "Hagamos una función simple que tome en tres argumentos. Hagamos una función que tome el nombre y apellido de una persona, y luego imprima todo lo que sabe sobre la persona.\n",
    "\n",
    "Aquí tenemos una implementación simple de esta función:"
   ]
  },
  {
   "cell_type": "code",
   "execution_count": 1,
   "metadata": {},
   "outputs": [
    {
     "name": "stdout",
     "output_type": "stream",
     "text": [
      "Nombre: Pedro\n",
      "Apellido: Garcia\n",
      "Edad: 71\n",
      "\n",
      "Nombre: Leire\n",
      "Apellido: Ochoa\n",
      "Edad: 22\n",
      "\n",
      "Nombre: Adrian\n",
      "Apellido: Perez\n",
      "Edad: 33\n",
      "\n"
     ]
    }
   ],
   "source": [
    "def describir_persona(nombre, apellido, edad):\n",
    "    # Esta función toma el nombre, apellido y edad\n",
    "    # de una persona y lo saca por pantalla en un \n",
    "    # formato simple\n",
    "    print(\"Nombre: %s\" % nombre.title())\n",
    "    print(\"Apellido: %s\" % apellido.title())\n",
    "    print(\"Edad: %d\\n\" % edad)\n",
    "\n",
    "describir_persona('pedro', 'garcia', 71)\n",
    "describir_persona('leire', 'ochoa', 22)\n",
    "describir_persona('adrian', 'perez', 33)"
   ]
  },
  {
   "cell_type": "markdown",
   "metadata": {},
   "source": [
    "Los argumentos en esta función son nombre, apeliido y edad. Estos se llaman argumentos posicionales porque Python sabe qué valor asignar a cada uno por el orden en el que le da los valores de la función. En la línea de llamada\n",
    "\n",
    "`describir_persona('pedro', 'garcia', 71)`\n",
    "\n",
    "enviamos los valores pedro, garcia y 71 a la función. Python mapea con el primer valor pedro con el primer argumento nombre. Mapea con el segundo valor garcia con el segundo argumento apellido. Finalmente, mapea con el tercer valor 71 con el tercer argumento edad.\n",
    "\n",
    "Esto es bastante sencillo, pero significa que debemos asegurarnos de que los argumentos estén en el orden correcto. Si cambiamos el orden, obtenemos resultados sin sentido o un error:"
   ]
  },
  {
   "cell_type": "code",
   "execution_count": 5,
   "metadata": {},
   "outputs": [
    {
     "ename": "AttributeError",
     "evalue": "'int' object has no attribute 'title'",
     "output_type": "error",
     "traceback": [
      "\u001b[0;31m---------------------------------------------------------------------------\u001b[0m",
      "\u001b[0;31mAttributeError\u001b[0m                            Traceback (most recent call last)",
      "\u001b[0;32m<ipython-input-5-6cd651bbacef>\u001b[0m in \u001b[0;36m<module>\u001b[0;34m()\u001b[0m\n\u001b[1;32m      7\u001b[0m     \u001b[0mprint\u001b[0m\u001b[0;34m(\u001b[0m\u001b[0;34m\"Edad: %d\\n\"\u001b[0m \u001b[0;34m%\u001b[0m \u001b[0medad\u001b[0m\u001b[0;34m)\u001b[0m\u001b[0;34m\u001b[0m\u001b[0m\n\u001b[1;32m      8\u001b[0m \u001b[0;34m\u001b[0m\u001b[0m\n\u001b[0;32m----> 9\u001b[0;31m \u001b[0mdescribir_persona\u001b[0m\u001b[0;34m(\u001b[0m\u001b[0;36m71\u001b[0m\u001b[0;34m,\u001b[0m \u001b[0;34m'pedro'\u001b[0m\u001b[0;34m,\u001b[0m \u001b[0;34m'garcia'\u001b[0m\u001b[0;34m)\u001b[0m\u001b[0;34m\u001b[0m\u001b[0m\n\u001b[0m\u001b[1;32m     10\u001b[0m \u001b[0mdescribir_persona\u001b[0m\u001b[0;34m(\u001b[0m\u001b[0;36m22\u001b[0m\u001b[0;34m,\u001b[0m \u001b[0;34m'leire'\u001b[0m\u001b[0;34m,\u001b[0m \u001b[0;34m'ochoa'\u001b[0m\u001b[0;34m)\u001b[0m\u001b[0;34m\u001b[0m\u001b[0m\n\u001b[1;32m     11\u001b[0m \u001b[0mdescribir_persona\u001b[0m\u001b[0;34m(\u001b[0m\u001b[0;34m'adrian'\u001b[0m\u001b[0;34m,\u001b[0m \u001b[0;36m33\u001b[0m\u001b[0;34m,\u001b[0m \u001b[0;34m'perez'\u001b[0m\u001b[0;34m)\u001b[0m\u001b[0;34m\u001b[0m\u001b[0m\n",
      "\u001b[0;32m<ipython-input-5-6cd651bbacef>\u001b[0m in \u001b[0;36mdescribir_persona\u001b[0;34m(nombre, apellido, edad)\u001b[0m\n\u001b[1;32m      3\u001b[0m     \u001b[0;31m# de una persona y lo saca por pantalla en un\u001b[0m\u001b[0;34m\u001b[0m\u001b[0;34m\u001b[0m\u001b[0m\n\u001b[1;32m      4\u001b[0m     \u001b[0;31m# formato simple\u001b[0m\u001b[0;34m\u001b[0m\u001b[0;34m\u001b[0m\u001b[0m\n\u001b[0;32m----> 5\u001b[0;31m     \u001b[0mprint\u001b[0m\u001b[0;34m(\u001b[0m\u001b[0;34m\"Nombre: %s\"\u001b[0m \u001b[0;34m%\u001b[0m \u001b[0mnombre\u001b[0m\u001b[0;34m.\u001b[0m\u001b[0mtitle\u001b[0m\u001b[0;34m(\u001b[0m\u001b[0;34m)\u001b[0m\u001b[0;34m)\u001b[0m\u001b[0;34m\u001b[0m\u001b[0m\n\u001b[0m\u001b[1;32m      6\u001b[0m     \u001b[0mprint\u001b[0m\u001b[0;34m(\u001b[0m\u001b[0;34m\"Apellido: %s\"\u001b[0m \u001b[0;34m%\u001b[0m \u001b[0mapellido\u001b[0m\u001b[0;34m.\u001b[0m\u001b[0mtitle\u001b[0m\u001b[0;34m(\u001b[0m\u001b[0;34m)\u001b[0m\u001b[0;34m)\u001b[0m\u001b[0;34m\u001b[0m\u001b[0m\n\u001b[1;32m      7\u001b[0m     \u001b[0mprint\u001b[0m\u001b[0;34m(\u001b[0m\u001b[0;34m\"Edad: %d\\n\"\u001b[0m \u001b[0;34m%\u001b[0m \u001b[0medad\u001b[0m\u001b[0;34m)\u001b[0m\u001b[0;34m\u001b[0m\u001b[0m\n",
      "\u001b[0;31mAttributeError\u001b[0m: 'int' object has no attribute 'title'"
     ]
    }
   ],
   "source": [
    "#Aqui va a dar error porque abajo cambiamos el orden de como esta formado la función:\n",
    "def describir_persona(nombre, apellido, edad):\n",
    "    # Esta función toma el nombre, apellido y edad\n",
    "    # de una persona y lo saca por pantalla en un \n",
    "    # formato simple\n",
    "    print(\"Nombre: %s\" % nombre.title())\n",
    "    print(\"Apellido: %s\" % apellido.title())\n",
    "    print(\"Edad: %d\\n\" % edad)\n",
    "\n",
    "describir_persona(71, 'pedro', 'garcia')\n",
    "describir_persona(22, 'leire', 'ochoa')\n",
    "describir_persona('adrian', 33, 'perez')"
   ]
  },
  {
   "cell_type": "markdown",
   "metadata": {},
   "source": [
    "Esto falla porque Python intenta hacer coincidir el valor 71 con el argumento `nombre`, el valor * pedro * con el argumento` apellido`, y el valor * garcia * con el argumento `edad`. Luego, cuando intenta imprimir el valor `nombre.title ()`, se da cuenta de que no puede usar el método `title ()` en un entero."
   ]
  },
  {
   "cell_type": "markdown",
   "metadata": {},
   "source": [
    "<a id=\"Ejercicios-positional\"></a>\n",
    "Ejercicios\n",
    "-----------\n",
    "\n",
    "#### Colores favoritos\n",
    "\n",
    "- Escribir una función que tome dos argumentos, el nombre de una persona y su color favorito. La función debe imprimir una declaración como \"el color favorito de María es azul\".\n",
    "- Llamar a la función tres veces, con una persona diferente y color cada vez.\n",
    "\n",
    "#### Teléfonos\n",
    "\n",
    "- Escribir una función que tenga dos argumentos, una marca de teléfono y un nombre de modelo. La función debe imprimir una frase como \"iPhone 6 Plus\".\n",
    "- Llamar a la función tres veces, con una combinación diferente de marca y modelo cada vez."
   ]
  },
  {
   "cell_type": "code",
   "execution_count": 7,
   "metadata": {},
   "outputs": [
    {
     "name": "stdout",
     "output_type": "stream",
     "text": [
      "El color favorito de  maria es azul\n",
      "El color favorito de  Pedro es rojo\n",
      "El color favorito de  luis es verde\n"
     ]
    }
   ],
   "source": [
    "def color_favorito ( nombre = 'luis', color = 'verde'):\n",
    "    print (\"El color favorito de  %s es %s\" % (nombre , color))\n",
    "    \n",
    "color_favorito (\"maria\", \"azul\")\n",
    "color_favorito (\"Pedro\", \"rojo\")\n",
    "color_favorito ()"
   ]
  },
  {
   "cell_type": "code",
   "execution_count": 10,
   "metadata": {},
   "outputs": [
    {
     "name": "stdout",
     "output_type": "stream",
     "text": [
      "La marca es samsum y el modelo es galaxy \n",
      "La marca es xiaomi y el modelo es 5_note_prime \n",
      "La marca es apple y el modelo es i8 \n"
     ]
    }
   ],
   "source": [
    "def telefono_movil (marca = \"apple\", modelo = \"i8\"):\n",
    "    print (\"La marca es %s y el modelo es %s \" % (marca , modelo))\n",
    "    \n",
    "telefono_movil (\"samsum\", \"galaxy\")\n",
    "telefono_movil (\"xiaomi\", \"5_note_prime\")\n",
    "telefono_movil ()"
   ]
  },
  {
   "cell_type": "code",
   "execution_count": 12,
   "metadata": {},
   "outputs": [
    {
     "name": "stdout",
     "output_type": "stream",
     "text": [
      "La marca es samsum y el modelo es galaxy \n",
      "La marca es xiaomi y el modelo es 5_note_prime \n",
      "La marca es apple y el modelo es i8 \n"
     ]
    }
   ],
   "source": [
    "#Esto es lo mimso pero usando format en lugar de los simbolillos %s %,...etc\n",
    "def telefono_movil (marca = \"apple\", modelo = \"i8\"):\n",
    "    print (\"La marca es {0} y el modelo es {1} \".format(marca , modelo))\n",
    "    \n",
    "telefono_movil (\"samsum\", \"galaxy\")\n",
    "telefono_movil (\"xiaomi\", \"5_note_prime\")\n",
    "telefono_movil ()"
   ]
  },
  {
   "cell_type": "markdown",
   "metadata": {},
   "source": [
    "Argumentos de palabra clave\n",
    "===============\n",
    "\n",
    "Python nos permite usar una sintaxis llamada * argumentos clave *. En este caso, podemos dar los argumentos en cualquier orden cuando llamemos a la función, siempre que usemos el nombre de los argumentos en la llamada. Aquí se muestra cómo se puede hacer que el código anterior funcione usando argumentos de palabra clave:"
   ]
  },
  {
   "cell_type": "code",
   "execution_count": 13,
   "metadata": {},
   "outputs": [
    {
     "name": "stdout",
     "output_type": "stream",
     "text": [
      "Nombre: Pedro\n",
      "Apellido: Garcia\n",
      "Edad: 71\n",
      "\n",
      "Nombre: Leire\n",
      "Apellido: Ochoa\n",
      "Edad: 22\n",
      "\n",
      "Nombre: Adrian\n",
      "Apellido: Perez\n",
      "Edad: 33\n",
      "\n"
     ]
    }
   ],
   "source": [
    "def describir_persona(nombre, apellido, edad):\n",
    "    # Esta función toma el nombre, apellido y edad\n",
    "    # de una persona y lo saca por pantalla en un \n",
    "    # formato simple\n",
    "    print(\"Nombre: %s\" % nombre.title())\n",
    "    print(\"Apellido: %s\" % apellido.title())\n",
    "    print(\"Edad: %d\\n\" % edad)\n",
    "\n",
    "describir_persona(edad=71, nombre='pedro', apellido='garcia')\n",
    "describir_persona(edad=22, nombre='leire', apellido='ochoa')\n",
    "describir_persona(edad=33, nombre='adrian', apellido='perez')\n"
   ]
  },
  {
   "cell_type": "markdown",
   "metadata": {},
   "source": [
    "Esto funciona, porque Python no tiene que mapear valores a argumentos por posición. Mapea con el valor 71 con el argumento `edad`, porque el valor 71 está claramente marcado para ir con ese argumento. Esta sintaxis es un poco más tipada, pero crea un código muy legible."
   ]
  },
  {
   "cell_type": "markdown",
   "metadata": {},
   "source": [
    "Mezclando argumentos posicionales y palabra clave\n",
    "--------------------------------------------------------\n",
    "\n",
    "A veces puede tener sentido mezclar argumentos posicionales y de palabras clave. En nuestro ejemplo anterior, podemos esperar que esta función siempre incluya un nombre y un apellido. Antes de comenzar a mezclar los argumentos posicionales y de palabras clave, agreguemos otra información a nuestra descripción de una persona. Volvamos también a usar solo argumentos posicionales por un momento:"
   ]
  },
  {
   "cell_type": "code",
   "execution_count": 14,
   "metadata": {},
   "outputs": [
    {
     "name": "stdout",
     "output_type": "stream",
     "text": [
      "Nombre: Pedro\n",
      "Apellido: Garcia\n",
      "Edad: 71\n",
      "Lenguaje favorito: C\n",
      "\n",
      "Nombre: Leire\n",
      "Apellido: Ochoa\n",
      "Edad: 22\n",
      "Lenguaje favorito: Go\n",
      "\n",
      "Nombre: Adrian\n",
      "Apellido: Perez\n",
      "Edad: 33\n",
      "Lenguaje favorito: R\n",
      "\n"
     ]
    }
   ],
   "source": [
    "def describir_persona(nombre, apellido, edad, lenguaje_favorito):\n",
    "    # Esta función toma el nombre, apellido y edad\n",
    "    # de una persona y lo saca por pantalla en un \n",
    "    # formato simple\n",
    "    print(\"Nombre: %s\" % nombre.title())\n",
    "    print(\"Apellido: %s\" % apellido.title())\n",
    "    print(\"Edad: %d\" % edad)\n",
    "    print(\"Lenguaje favorito: %s\\n\" % lenguaje_favorito)\n",
    "    \n",
    "\n",
    "describir_persona('pedro', 'garcia', 71, 'C')\n",
    "describir_persona('leire', 'ochoa', 22, 'Go')\n",
    "describir_persona('adrian', 'perez', 33, 'R')"
   ]
  },
  {
   "cell_type": "markdown",
   "metadata": {},
   "source": [
    "\n",
    "Podemos esperar que cualquiera que use esta función proporcione un nombre y un apellido, en ese orden. Pero ahora estamos comenzando a incluir cierta información que podría no aplicarse a todos. Podemos abordar esto manteniendo los argumentos posicionales para el primer nombre y el apellido, pero esperamos argumentos de palabra clave para todo lo demás. Podemos mostrar esto al agregar algunas personas más y tener información diferente sobre cada persona:"
   ]
  },
  {
   "cell_type": "code",
   "execution_count": 15,
   "metadata": {},
   "outputs": [
    {
     "name": "stdout",
     "output_type": "stream",
     "text": [
      "Nombre: Pedro\n",
      "Apellido: Garcia\n",
      "Lenguaje favorito: C\n",
      "\n",
      "\n",
      "Nombre: Leire\n",
      "Apellido: Ochoa\n",
      "Edad: 22\n",
      "\n",
      "\n",
      "Nombre: Adrian\n",
      "Apellido: Perez\n",
      "Edad: 33\n",
      "Lenguaje favorito: R\n",
      "\n",
      "\n",
      "Nombre: Dennis\n",
      "Apellido: Ritchie\n",
      "Lenguaje favorito: C\n",
      "Fallecio: 2011\n",
      "\n",
      "\n",
      "Nombre: Guido\n",
      "Apellido: Van Rossum\n",
      "Lenguaje favorito: Python\n",
      "\n",
      "\n"
     ]
    }
   ],
   "source": [
    "def describir_persona(nombre, apellido, edad=None, lenguaje_favorito=None, fecha_fallecimiento=None):\n",
    "    # Esta función toma el nombre, apellido y edad\n",
    "    # de una persona y lo saca por pantalla en un \n",
    "    # formato simple\n",
    "    \n",
    "    # Información obligatoria\n",
    "    print(\"Nombre: %s\" % nombre.title())\n",
    "    print(\"Apellido: %s\" % apellido.title())\n",
    "    \n",
    "    # Información opcional\n",
    "    if edad:\n",
    "        print(\"Edad: %d\" % edad)\n",
    "    if lenguaje_favorito:\n",
    "        print(\"Lenguaje favorito: %s\" % lenguaje_favorito)\n",
    "    if fecha_fallecimiento:\n",
    "        print(\"Fallecio: %d\" % fecha_fallecimiento)\n",
    "        \n",
    "    # Salto de linea\n",
    "    print('\\n')\n",
    "    \n",
    "describir_persona('pedro', 'garcia', lenguaje_favorito='C')\n",
    "describir_persona('leire', 'ochoa', edad=22)\n",
    "describir_persona('adrian', 'perez', edad=33, lenguaje_favorito='R')\n",
    "describir_persona('dennis', 'ritchie', lenguaje_favorito='C', fecha_fallecimiento=2011)\n",
    "describir_persona('guido', 'van rossum', lenguaje_favorito='Python')\n"
   ]
  },
  {
   "cell_type": "markdown",
   "metadata": {},
   "source": [
    "Todos necesitamos un nombre y un apellido, pero todo lo demás es opcional. Este código aprovecha la palabra clave de Python `None`, que actúa como un valor vacío para una variable. De esta forma, el usuario puede proporcionar cualquiera de los valores 'adicionales' que le interesan. No se muestran los argumentos que no reciben un valor. Python combina estos valores adicionales por nombre, en lugar de por posición. Esta es una forma muy común y útil para definir funciones, y muy legible, no da a lugar a error como puede ocurrir con los argumentos posicionales."
   ]
  },
  {
   "cell_type": "markdown",
   "metadata": {},
   "source": [
    "<a id=\"Ejercicios-keyword\"></a>\n",
    "Ejercicios\n",
    "-----------\n",
    "\n",
    "#### Equipos deportivos\n",
    "\n",
    "- Escribir una función que incluya dos argumentos, el nombre de una ciudad y el nombre de un equipo deportivo de esa ciudad.\n",
    "- Llamar a la función tres veces, usando una combinación de argumentos posicionales y de palabras clave.\n",
    "\n",
    "#### Idiomas del mundo\n",
    "\n",
    "- Escribe una función que incluya dos argumentos, el nombre de un país y un idioma principal hablado allí.\n",
    "- Llamar a la función tres veces, usando una combinación de argumentos posicionales y de palabras clave."
   ]
  },
  {
   "cell_type": "code",
   "execution_count": 17,
   "metadata": {},
   "outputs": [
    {
     "name": "stdout",
     "output_type": "stream",
     "text": [
      "El equipo de la ciudad Madrid es Atlético de Madrid\n",
      "El equipo de la ciudad Bilbao es mierder\n",
      "El equipo de la ciudad León es no tiene equipo\n"
     ]
    }
   ],
   "source": [
    "def equipo_ciudad (ciudad, equipo = None):\n",
    "    \n",
    "    print ('El equipo de la ciudad {0} es {1}'.format(ciudad, equipo if equipo is not None else \"no tiene equipo\"))\n",
    "    \n",
    "equipo_ciudad('Madrid' , 'Atlético de Madrid')\n",
    "equipo_ciudad('Bilbao'  , 'mierder')\n",
    "equipo_ciudad('León')"
   ]
  },
  {
   "cell_type": "code",
   "execution_count": 27,
   "metadata": {},
   "outputs": [
    {
     "name": "stdout",
     "output_type": "stream",
     "text": [
      "El idioma del pais de Universo es Esperanto\n",
      "El idioma del pais de Andorra es Esperanto\n",
      "El idioma del pais de Francia es Francés\n",
      "El idioma del pais de Universo es chino\n",
      "El idioma del pais de Universo es español\n"
     ]
    }
   ],
   "source": [
    "def idioma_pais (pais=None, idioma=None):\n",
    "    print ('El idioma del pais de {0} es {1}'.format(pais if pais else 'Universo',\n",
    "                                                     idioma if idioma else 'Esperanto'))\n",
    "idioma_pais()\n",
    "idioma_pais('Andorra')\n",
    "idioma_pais('Francia', 'Francés')\n",
    "idioma_pais(idioma = 'chino')\n",
    "idioma_pais(pais = None, idioma = 'español')"
   ]
  },
  {
   "cell_type": "markdown",
   "metadata": {},
   "source": [
    "Aceptando un numero arbitrario de argumentos\n",
    "=========================\n",
    "\n",
    "Ahora hemos visto que el uso de argumentos de palabras clave puede permitirnos llamar a funciones de forma mucho más flexible.\n",
    "\n",
    "- Esto nos beneficia en nuestros propios programas, porque podemos escribir una función que pueda manejar muchas situaciones diferentes.\n",
    "- Esto nos beneficia si otros programadores usan nuestros programas, porque nuestras funciones se pueden aplicar a una amplia gama de situaciones.\n",
    "- Esto nos beneficia cuando usamos las funciones de otros programadores, porque sus funciones se pueden aplicar a muchas situaciones que nos puedan interesar.\n",
    "\n",
    "Sin embargo, hay otro problema que podemos resolver. Consideremos una función que toma dos números, e imprime la suma de los dos números:"
   ]
  },
  {
   "cell_type": "code",
   "execution_count": 2,
   "metadata": {},
   "outputs": [
    {
     "name": "stdout",
     "output_type": "stream",
     "text": [
      "La suma de los dos números es 3.\n",
      "La suma de los dos números es 1.\n",
      "La suma de los dos números es -1.\n"
     ]
    }
   ],
   "source": [
    "def sumador(num_1, num_2):\n",
    "    # Esta función suma dos numeros e imprime por pantalla el resultado\n",
    "    suma = num_1 + num_2\n",
    "    print(\"La suma de los dos números es %d.\" % suma)\n",
    "    \n",
    "# Vamos a probar la función\n",
    "sumador(1, 2)\n",
    "sumador(-1, 2)\n",
    "sumador(1, -2)"
   ]
  },
  {
   "cell_type": "markdown",
   "metadata": {},
   "source": [
    "\n",
    "Esta función parece funcionar bien. Pero, ¿qué pasa si le pasamos tres números, lo cual es algo perfectamente razonable de hacer matemáticamente?"
   ]
  },
  {
   "cell_type": "code",
   "execution_count": 3,
   "metadata": {},
   "outputs": [
    {
     "ename": "TypeError",
     "evalue": "sumador() takes 2 positional arguments but 3 were given",
     "output_type": "error",
     "traceback": [
      "\u001b[0;31m---------------------------------------------------------------------------\u001b[0m",
      "\u001b[0;31mTypeError\u001b[0m                                 Traceback (most recent call last)",
      "\u001b[0;32m<ipython-input-3-b8207b98cb79>\u001b[0m in \u001b[0;36m<module>\u001b[0;34m()\u001b[0m\n\u001b[1;32m      5\u001b[0m \u001b[0;34m\u001b[0m\u001b[0m\n\u001b[1;32m      6\u001b[0m \u001b[0;31m# Vamos a probar la función con tres numeros\u001b[0m\u001b[0;34m\u001b[0m\u001b[0;34m\u001b[0m\u001b[0m\n\u001b[0;32m----> 7\u001b[0;31m \u001b[0msumador\u001b[0m\u001b[0;34m(\u001b[0m\u001b[0;36m1\u001b[0m\u001b[0;34m,\u001b[0m \u001b[0;36m2\u001b[0m\u001b[0;34m,\u001b[0m \u001b[0;36m3\u001b[0m\u001b[0;34m)\u001b[0m\u001b[0;34m\u001b[0m\u001b[0m\n\u001b[0m",
      "\u001b[0;31mTypeError\u001b[0m: sumador() takes 2 positional arguments but 3 were given"
     ]
    }
   ],
   "source": [
    "def sumador(num_1, num_2):\n",
    "    # Esta función suma dos numeros e imprime por pantalla el resultado\n",
    "    suma = num_1 + num_2\n",
    "    print(\"La suma de los dos números es %d.\" % suma)\n",
    "    \n",
    "# Vamos a probar la función con tres numeros\n",
    "sumador(1, 2, 3)"
   ]
  },
  {
   "cell_type": "markdown",
   "metadata": {},
   "source": [
    "\n",
    "Esta función falla porque no importa qué combinación de argumentos posicionales y palabras clave usemos, la función solo acepta dos argumentos. De hecho, una función escrita de esta manera solo funcionará con * exactamente * dos argumentos."
   ]
  },
  {
   "cell_type": "markdown",
   "metadata": {},
   "source": [
    "Aceptando una secuencia de elementos de longitud variable\n",
    "------------------------------------------------------------------\n",
    "\n",
    "Python nos proporciona una sintaxis para permitir que una función acepte una cantidad arbitraria de argumentos. Si colocamos un argumento al final de la lista de argumentos, con un asterisco delante de él, ese argumento recogerá los valores restantes de la declaración de llamada en una tupla. Aquí hay un ejemplo que demuestra cómo funciona esto:"
   ]
  },
  {
   "cell_type": "code",
   "execution_count": 4,
   "metadata": {},
   "outputs": [
    {
     "name": "stdout",
     "output_type": "stream",
     "text": [
      "\n",
      "arg_1: 1\n",
      "arg_2: 2\n",
      "arg_3: ()\n",
      "\n",
      "arg_1: 1\n",
      "arg_2: 2\n",
      "arg_3: (3,)\n",
      "\n",
      "arg_1: 1\n",
      "arg_2: 2\n",
      "arg_3: (3, 4)\n",
      "\n",
      "arg_1: 1\n",
      "arg_2: 2\n",
      "arg_3: (3, 4, 5)\n"
     ]
    }
   ],
   "source": [
    "#arg1 = posicional, arg_2 = posicional, arg_3 = es un argumento secuencial\n",
    "def ejemplo_funcion(arg_1, arg_2, *arg_3):\n",
    "    # Echemos un vistazo a los argumentos\n",
    "    print('\\narg_1:', arg_1)\n",
    "    print('arg_2:', arg_2)\n",
    "    print('arg_3:', arg_3)\n",
    "    \n",
    "ejemplo_funcion(1, 2)\n",
    "ejemplo_funcion(1, 2, 3)\n",
    "ejemplo_funcion(1, 2, 3, 4)\n",
    "ejemplo_funcion(1, 2, 3, 4, 5)"
   ]
  },
  {
   "cell_type": "markdown",
   "metadata": {},
   "source": [
    "\n",
    "Como vemos, el argumento 3 es una tupla, una lista inmutable (no podemos cambiar sus valores). Por lo tanto podemos iterar sobre este argumento.\n",
    "\n",
    "**NOTA:** Por convención, en Python se llama a este argumento siempre `args` como veremos mas adelante, pero en realidad podemos llamarlo como nos apetezca, como veremos a continuación."
   ]
  },
  {
   "cell_type": "code",
   "execution_count": 17,
   "metadata": {},
   "outputs": [
    {
     "name": "stdout",
     "output_type": "stream",
     "text": [
      "\n",
      "arg_1: 1\n",
      "arg_2: 2\n",
      "\n",
      "arg_1: 1\n",
      "arg_2: 2\n",
      "arg_3: 3\n",
      "\n",
      "arg_1: 1\n",
      "arg_2: 2\n",
      "arg_3: 3\n",
      "arg_3: 4\n",
      "\n",
      "arg_1: 1\n",
      "arg_2: 2\n",
      "arg_3: 3\n",
      "arg_3: 4\n",
      "arg_3: 5\n"
     ]
    }
   ],
   "source": [
    "def ejemplo_funcion(arg_1, arg_2, *arg_3):\n",
    "    # Echemos un vistazo a los argumentos\n",
    "    print('\\narg_1:', arg_1)\n",
    "    print('arg_2:', arg_2)\n",
    "    for value in arg_3:\n",
    "        print('arg_3:', value)\n",
    "    \n",
    "ejemplo_funcion(1, 2)\n",
    "ejemplo_funcion(1, 2, 3)\n",
    "ejemplo_funcion(1, 2, 3, 4)\n",
    "ejemplo_funcion(1, 2, 3, 4, 5)"
   ]
  },
  {
   "cell_type": "markdown",
   "metadata": {},
   "source": [
    "\n",
    "Volvamos a reescribir la función sumador () para aceptar dos o más argumentos, e imprimir la suma de esos números:"
   ]
  },
  {
   "cell_type": "code",
   "execution_count": 18,
   "metadata": {},
   "outputs": [
    {
     "name": "stdout",
     "output_type": "stream",
     "text": [
      "La suma de los números es 3.\n",
      "La suma de los números es 1.\n",
      "La suma de los números es 0.\n",
      "La suma de los números es 20.\n"
     ]
    }
   ],
   "source": [
    "def sumador(num_1, num_2, *nums):\n",
    "    # Esta función suma dos numeros e imprime por pantalla el resultado\n",
    "    suma = num_1 + num_2\n",
    "    \n",
    "    for num in nums:\n",
    "        suma = suma + num\n",
    "    \n",
    "    print(\"La suma de los números es %d.\" % suma)\n",
    "    \n",
    "# Vamos a probar la función\n",
    "sumador(1, 2)\n",
    "sumador(-1, 2)\n",
    "sumador(1, -2, 1)\n",
    "sumador(1, -2, 1, 10, 10)\n"
   ]
  },
  {
   "cell_type": "markdown",
   "metadata": {},
   "source": [
    "En esta nueva versión de la función, Python hace lo siguiente:\n",
    "\n",
    "- almacena el primer valor en la llamada en el argumento `num_1`;\n",
    "- almacena el segundo valor en la llamada en el argumento `num_2`;\n",
    "- almacena todos los demás valores en la llamada como una tupla en el argumento `nums`.\n",
    "\n",
    "Entonces podemos \"descomprimir\" o \"desenpaquetar\" estos valores, usando un ciclo for. Podemos demostrar cuán flexible es esta función llamándola varias veces, con un número diferente de argumentos cada vez."
   ]
  },
  {
   "cell_type": "markdown",
   "metadata": {},
   "source": [
    "Aceptando un número variable de argumentos palabra clave\n",
    "-----------------------------------------------------------------\n",
    "\n",
    "\n",
    "Python también proporciona una sintaxis para aceptar un número arbitrario de argumentos de tipo palabra clave. La sintaxis es tal que así:"
   ]
  },
  {
   "cell_type": "code",
   "execution_count": 19,
   "metadata": {},
   "outputs": [
    {
     "name": "stdout",
     "output_type": "stream",
     "text": [
      "\n",
      "arg_1: a\n",
      "arg_2: b\n",
      "arg_3: {}\n",
      "\n",
      "arg_1: a\n",
      "arg_2: b\n",
      "arg_3: {'valor_3': 'c'}\n",
      "\n",
      "arg_1: a\n",
      "arg_2: b\n",
      "arg_3: {'valor_3': 'c', 'valor_4': 'd'}\n",
      "\n",
      "arg_1: a\n",
      "arg_2: b\n",
      "arg_3: {'valor_3': 'c', 'valor_4': 'd', 'valor_5': 'e'}\n"
     ]
    }
   ],
   "source": [
    "def ejemplo_funcion(arg_1, arg_2, **kwargs):\n",
    "    # Veamos el valor de los argumentos\n",
    "    print('\\narg_1:', arg_1)\n",
    "    print('arg_2:', arg_2)\n",
    "    print('arg_3:', kwargs)\n",
    "\n",
    "ejemplo_funcion('a', 'b')\n",
    "ejemplo_funcion('a', 'b', valor_3='c')\n",
    "ejemplo_funcion('a', 'b', valor_3='c', valor_4='d')\n",
    "ejemplo_funcion('a', 'b', valor_3='c', valor_4='d', valor_5='e')"
   ]
  },
  {
   "cell_type": "markdown",
   "metadata": {},
   "source": [
    "\n",
    "El tercer argumento tiene dos asteriscos delante, que le indica a Python que recopile todos los argumentos clave-valor restantes en la llamada. Este argumento se denomina comúnmente `kwargs` como en el caso anterior era `args`, esto es por convención pero siempre podremos llamarlo como queramos. \n",
    "\n",
    "Vemos en el resultado que estos pares clave-valor están almacenados en un tipo de datos diccionario. Podemos recorrer este diccionario para trabajar con todos los valores que se pasan a la función:"
   ]
  },
  {
   "cell_type": "code",
   "execution_count": 31,
   "metadata": {},
   "outputs": [
    {
     "name": "stdout",
     "output_type": "stream",
     "text": [
      "\n",
      "arg_1: a\n",
      "arg_2: b\n",
      "\n",
      "arg_1: a\n",
      "arg_2: b\n",
      "La clave es valor_3 y valor es c\n",
      "\n",
      "arg_1: a\n",
      "arg_2: b\n",
      "La clave es valor_3 y valor es c\n",
      "La clave es valor_4 y valor es d\n",
      "\n",
      "arg_1: a\n",
      "arg_2: b\n",
      "La clave es valor_3 y valor es c\n",
      "La clave es valor_4 y valor es d\n",
      "La clave es valor_5 y valor es e\n"
     ]
    }
   ],
   "source": [
    "def ejemplo_funcion(arg_1, arg_2, **kwargs):\n",
    "    # Veamos el valor de los argumentos\n",
    "    print('\\narg_1:', arg_1)\n",
    "    print('arg_2:', arg_2)\n",
    "    for clave, valor in kwargs.items():\n",
    "        print('La clave es {clave} y valor es {valor}'.format(clave= clave,valor=valor))\n",
    "\n",
    "ejemplo_funcion('a', 'b')\n",
    "ejemplo_funcion('a', 'b', valor_3='c')\n",
    "ejemplo_funcion('a', 'b', valor_3='c', valor_4='d')\n",
    "ejemplo_funcion('a', 'b', valor_3='c', valor_4='d', valor_5='e')"
   ]
  },
  {
   "cell_type": "markdown",
   "metadata": {},
   "source": [
    "\n",
    "Anteriormente creamos una función que nos permitía describir a una persona, y teníamos tres cosas que podríamos describir acerca de una persona. Podríamos incluir su edad, su idioma favorito y la fecha en que fallecieron. Pero esa era la única información que podíamos incluir, porque era la única información que la función estaba preparada para manejar:"
   ]
  },
  {
   "cell_type": "code",
   "execution_count": 23,
   "metadata": {},
   "outputs": [
    {
     "name": "stdout",
     "output_type": "stream",
     "text": [
      "Nombre: Pedro\n",
      "Apellido: Garcia\n",
      "Lenguaje favorito: C\n",
      "\n",
      "\n",
      "Nombre: Leire\n",
      "Apellido: Ochoa\n",
      "Edad: 22\n",
      "\n",
      "\n",
      "Nombre: Adrian\n",
      "Apellido: Perez\n",
      "Edad: 33\n",
      "Lenguaje favorito: R\n",
      "\n",
      "\n",
      "Nombre: Dennis\n",
      "Apellido: Ritchie\n",
      "Lenguaje favorito: C\n",
      "Fallecio: 2011\n",
      "\n",
      "\n",
      "Nombre: Guido\n",
      "Apellido: Van Rossum\n",
      "Lenguaje favorito: Python\n",
      "\n",
      "\n"
     ]
    }
   ],
   "source": [
    "def describir_persona(nombre, apellido, edad=None, lenguaje_favorito=None, fecha_fallecimiento=None):\n",
    "    # Esta función toma el nombre, apellido y edad\n",
    "    # de una persona y lo saca por pantalla en un \n",
    "    # formato simple\n",
    "    \n",
    "    # Información obligatoria\n",
    "    print(\"Nombre: %s\" % nombre.title())\n",
    "    print(\"Apellido: %s\" % apellido.title())\n",
    "    \n",
    "    # Información opcional\n",
    "    if edad:\n",
    "        print(\"Edad: %d\" % edad)\n",
    "    if lenguaje_favorito:\n",
    "        print(\"Lenguaje favorito: %s\" % lenguaje_favorito)\n",
    "    if fecha_fallecimiento:\n",
    "        print(\"Fallecio: %d\" % fecha_fallecimiento)\n",
    "        \n",
    "    # Salto de linea\n",
    "    print('\\n')\n",
    "    \n",
    "describir_persona('pedro', 'garcia', lenguaje_favorito='C')\n",
    "describir_persona('leire', 'ochoa', edad=22)\n",
    "describir_persona('adrian', 'perez', edad=33, lenguaje_favorito='R')\n",
    "describir_persona('dennis', 'ritchie', lenguaje_favorito='C', fecha_fallecimiento=2011)\n",
    "describir_persona('guido', 'van rossum', lenguaje_favorito='Python')"
   ]
  },
  {
   "cell_type": "markdown",
   "metadata": {},
   "source": [
    "\n",
    "Podemos hacer que esta función sea mucho más flexible al aceptar cualquier número de argumentos de tipo palabra clave. Así es como sería la función usando la sintaxis para aceptar tantos argumentos de palabra clave como la persona que la llama quiera proporcionar:"
   ]
  },
  {
   "cell_type": "code",
   "execution_count": 32,
   "metadata": {},
   "outputs": [
    {
     "name": "stdout",
     "output_type": "stream",
     "text": [
      "Nombre: Pedro\n",
      "Apellido: Garcia\n",
      "Lenguaje_Favorito: C\n",
      "\n",
      "\n",
      "Nombre: Leire\n",
      "Apellido: Ochoa\n",
      "Edad: 22\n",
      "\n",
      "\n",
      "Nombre: Adrian\n",
      "Apellido: Perez\n",
      "Edad: 33\n",
      "Lenguaje_Favorito: R\n",
      "\n",
      "\n",
      "Nombre: Dennis\n",
      "Apellido: Ritchie\n",
      "Lenguaje_Favorito: C\n",
      "Fecha_Fallecimiento: 2011\n",
      "\n",
      "\n",
      "Nombre: Guido\n",
      "Apellido: Van Rossum\n",
      "Lenguaje_Favorito: Python\n",
      "\n",
      "\n",
      "Nombre: Luke\n",
      "Apellido: Skywalker\n",
      "Queja: Obi Wan era un plasta\n",
      "\n",
      "\n"
     ]
    }
   ],
   "source": [
    "def describir_persona(nombre, apellido, **kwargs):\n",
    "    # Esta función toma el nombre, apellido y edad\n",
    "    # de una persona y un numero variable de argumentos\n",
    "    # y lo saca por pantalla en un formato simple\n",
    "    \n",
    "    # Información obligatoria\n",
    "    print(\"Nombre: %s\" % nombre.title())\n",
    "    print(\"Apellido: %s\" % apellido.title())\n",
    "    \n",
    "   \n",
    "    #Al hacer lo siguiente en un diccionario, lo que hace es cogerme la entrada entera del diccionario(par clave-valor)\n",
    "    #para accder al valor de ese diccionario que tiene esa clave, la forma es indexar \n",
    "    \n",
    "    #Información opcional:\n",
    "    for clave in kwargs:\n",
    "        print(\"%s: %s\" % (clave.title(), kwargs[clave]))\n",
    "        \n",
    "    # Salto de linea\n",
    "    print('\\n')\n",
    "    \n",
    "describir_persona('pedro', 'garcia', lenguaje_favorito='C')\n",
    "describir_persona('leire', 'ochoa', edad=22)\n",
    "describir_persona('adrian', 'perez', edad=33, lenguaje_favorito='R')\n",
    "describir_persona('dennis', 'ritchie', lenguaje_favorito='C', fecha_fallecimiento=2011)\n",
    "describir_persona('guido', 'van rossum', lenguaje_favorito='Python')\n",
    "describir_persona('Luke', 'Skywalker', queja='Obi Wan era un plasta')"
   ]
  },
  {
   "cell_type": "markdown",
   "metadata": {},
   "source": [
    "\n",
    "Esto es bastante más limpio y elegante. Obtenemos el mismo resultado, y no tenemos que incluir muchas pruebas para ver qué tipo de información se pasó a la funciiempre requerimos un nombre y un apellido, pero más allá de eso, la persona que llama es libre de proporcionar un par de palabras clave-valor para describir a una persona. Como se puede ver en la ultima llamada se puede proporcionar cualquier tipo de información a esta función. También limpiamos la salida reemplazando cualquier guión bajo en las teclas con un espacio."
   ]
  },
  {
   "cell_type": "markdown",
   "metadata": {},
   "source": [
    "Funciones lambda\n",
    "-------------------\n",
    "\n",
    "En Python disponemos de un tipo de funciones denominado con la palabra reservada `lambda` que permite crear funciones anónimas en una línea.\n",
    "\n",
    "Veamos con un ejemplo de como definimos una función como hemos aprendido hasta ahora:\n"
   ]
  },
  {
   "cell_type": "code",
   "execution_count": 1,
   "metadata": {},
   "outputs": [
    {
     "name": "stdout",
     "output_type": "stream",
     "text": [
      "8.0\n",
      "4.0\n"
     ]
    }
   ],
   "source": [
    "import math\n",
    "\n",
    "def raiz_cuadrada(x): \n",
    "    return math.sqrt(x)\n",
    "\n",
    "x = raiz_cuadrada(64)\n",
    "print(x)\n",
    "y = raiz_cuadrada(16)\n",
    "print(y)"
   ]
  },
  {
   "cell_type": "markdown",
   "metadata": {},
   "source": [
    "Esto podemos escribirlo como una función lambda tal que así:"
   ]
  },
  {
   "cell_type": "code",
   "execution_count": 2,
   "metadata": {},
   "outputs": [
    {
     "name": "stdout",
     "output_type": "stream",
     "text": [
      "8.0\n"
     ]
    }
   ],
   "source": [
    "r = lambda x: math.sqrt(x)\n",
    "print(r(64))\n"
   ]
  },
  {
   "cell_type": "code",
   "execution_count": 3,
   "metadata": {},
   "outputs": [
    {
     "name": "stdout",
     "output_type": "stream",
     "text": [
      "<function <lambda> at 0x104f8da60>\n",
      "8.0\n"
     ]
    }
   ],
   "source": [
    "r = lambda x: math.sqrt(x)\n",
    "print(r)\n",
    "print(r(64))\n"
   ]
  },
  {
   "cell_type": "markdown",
   "metadata": {},
   "source": [
    "Lo que ocurre aquí es lo siguiente:\n",
    "\n",
    "Definimos una parametro de entrada *x* sobre el cual realizamos una operación *math.sqrt(x)* y devolvemos la función, no el resultado, las funciones lambda nunca necesitan hacer return. \n",
    "\n",
    "Es decir:\n",
    "\n",
    "`lambda` <argumentos>: <operaciones>\n",
    "    \n",
    "Los argumentos pueden ser más de uno, siempre separados por comas y las operaciones también puede ser más de una pero en general suele ser una exclusivamente.\n",
    "\n",
    "Veamos más ejemplos:"
   ]
  },
  {
   "cell_type": "code",
   "execution_count": 49,
   "metadata": {},
   "outputs": [
    {
     "name": "stdout",
     "output_type": "stream",
     "text": [
      "20\n",
      "30\n",
      "Viva Python !\n",
      "Me gusta mas Java\n"
     ]
    }
   ],
   "source": [
    "suma = lambda x, y:   x + y\n",
    "\n",
    "print(suma(10, 10))\n",
    "print((lambda x,y: x + y)(10, 20))\n",
    "\n",
    "salida = lambda *x: ' '.join(x)\n",
    "print(salida('Viva', 'Python', '!'))\n",
    "print((lambda *x: ' '.join(x))('Me', 'gusta', 'mas', 'Java'))\n"
   ]
  },
  {
   "cell_type": "markdown",
   "metadata": {},
   "source": [
    "Recordemos que lambda son funciones anonimas, no es necesario asignarlas a una variable primero para llamarlas, como se ve en los ejemplos anteriores. Esta forma de utilizar lambda no es muy común, se suele utilizar en combinación con otras funciones que veremos a continuación."
   ]
  },
  {
   "cell_type": "markdown",
   "metadata": {},
   "source": [
    "Funciones especiales\n",
    "-----------------------\n",
    "\n",
    "Existe un conjunto de funciones *especiales* en Python que suelen ser utilizadas con bastante frecuencia en el mundo del análisis de datos que son  `map`, `filter`, `reduce` ya que como estas requieren una función y una secuencia, suelen ser usadas siempre en combinación. \n",
    "\n",
    "#### Función map\n",
    "\n",
    "La función map aplica una función a una secuencia\n",
    "\n",
    "`map(funcion, secuencia)`\n",
    "\n",
    "Por eso encaja tan bien con lambda, ya que nos permite definir la función justo cuando llamamos a la función map.\n",
    "\n",
    "Ejemplos:"
   ]
  },
  {
   "cell_type": "code",
   "execution_count": 63,
   "metadata": {},
   "outputs": [
    {
     "name": "stdout",
     "output_type": "stream",
     "text": [
      "[1, 4, 9, 16, 25]\n",
      "[1, 4, 9, 16, 25]\n",
      "[102.56, 97.7, 99.14, 100.03999999999999]\n"
     ]
    }
   ],
   "source": [
    "lista = [1,2,3,4,5]\n",
    "cuadrados = map(lambda x: x*x, lista)\n",
    "print(list(cuadrados))\n",
    "# O de forma anonima\n",
    "print(list(map((lambda x: x*x), lista)))\n",
    "\n",
    "# Convertir temperaturas de Celsius a Farenheit\n",
    "celsius = [39.2, 36.5, 37.3, 37.8]\n",
    "fahrenheit = map(lambda x: (float(9)/5)*x + 32, celsius)\n",
    "print(list(fahrenheit))"
   ]
  },
  {
   "cell_type": "markdown",
   "metadata": {},
   "source": [
    "#### Función filter \n",
    "\n",
    "La función `filter` se usa para crear una nueva lista filtrando aquellos elementos con el criterio definido en al función lambda\n",
    "\n",
    "`filter(funcion, secuencia)`\n",
    "\n",
    "Ejemplos:\n"
   ]
  },
  {
   "cell_type": "code",
   "execution_count": 67,
   "metadata": {},
   "outputs": [
    {
     "name": "stdout",
     "output_type": "stream",
     "text": [
      "[1, 1, 3, 5, 13, 21, 55]\n",
      "[0, 2, 8, 34]\n",
      "['ana', 'alvaro']\n"
     ]
    }
   ],
   "source": [
    "# Filtramos los numeros pares\n",
    "fib = [0,1,1,2,3,5,8,13,21,34,55]\n",
    "res = filter(lambda x: x % 2, fib)\n",
    "print(list(res))\n",
    "# Filtramos los numero impares\n",
    "res = filter(lambda x: x % 2 == 0, fib)\n",
    "print(list(res))\n",
    "\n",
    "# Filtrar los nombres que no empiezan con 'a'\n",
    "nombres = ['ana', 'pedro', 'juan', 'alvaro', 'maite']\n",
    "res = filter(lambda x: x.startswith('a') , nombres)\n",
    "print(list(res))\n"
   ]
  }
 ],
 "metadata": {
  "kernelspec": {
   "display_name": "Python 3",
   "language": "python",
   "name": "python3"
  },
  "language_info": {
   "codemirror_mode": {
    "name": "ipython",
    "version": 3
   },
   "file_extension": ".py",
   "mimetype": "text/x-python",
   "name": "python",
   "nbconvert_exporter": "python",
   "pygments_lexer": "ipython3",
   "version": "3.6.3"
  }
 },
 "nbformat": 4,
 "nbformat_minor": 1
}
