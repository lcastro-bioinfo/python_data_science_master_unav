{
 "cells": [
  {
   "cell_type": "markdown",
   "metadata": {},
   "source": [
    "---\n",
    "# Experto Big Data UNAV 2018 - Notebook 4 - Bucles while, input y ficheros\n",
    "---"
   ]
  },
  {
   "cell_type": "markdown",
   "metadata": {},
   "source": [
    "Jugando con el input del usuario\n",
    "===\n",
    "Casi todos los programas interesantes aceptan la entrada del usuario en algún momento. Puedes comenzar a aceptar la entrada de usuario en tus programas usando la función _input ()_. La función _input_ muestra un mensaje al usuario que describe el tipo de entrada que está buscando, y luego espera a que el usuario ingrese un valor. Cuando el usuario presiona Enter, el valor pasa a tu variable.\n"
   ]
  },
  {
   "cell_type": "markdown",
   "metadata": {},
   "source": [
    "Sintaxis general\n",
    "---\n",
    "El caso general para aceptar la entrada se ve así:"
   ]
  },
  {
   "cell_type": "code",
   "execution_count": 1,
   "metadata": {},
   "outputs": [
    {
     "name": "stdout",
     "output_type": "stream",
     "text": [
      "Introduce un valor: 3\n",
      "3\n"
     ]
    }
   ],
   "source": [
    "# recoge input del usuario\n",
    "variable = input('Introduce un valor: ')\n",
    "# Hacer algo con el valor introducido\n",
    "print(variable)"
   ]
  },
  {
   "cell_type": "markdown",
   "metadata": {},
   "source": [
    "Necesitaras una variable que almacene el valor introducido por el usuario."
   ]
  },
  {
   "cell_type": "markdown",
   "metadata": {},
   "source": [
    "En el siguiente ejemplo tenemos una lista con nombres de amigos y agregamos otro nombre a la lista a traves del _input_ del usuario."
   ]
  },
  {
   "cell_type": "code",
   "execution_count": 2,
   "metadata": {},
   "outputs": [
    {
     "name": "stdout",
     "output_type": "stream",
     "text": [
      "A quien quieres agregar? pedro\n",
      "pedro\n"
     ]
    }
   ],
   "source": [
    "# lista con nombres.\n",
    "nombres = ['guido', 'juan', 'pepe']\n",
    "\n",
    "# pregunta al usuario\n",
    "nombre_nuevo = input(\"A quien quieres agregar? \")\n",
    "\n",
    "# Agrega a la lista\n",
    "nombres.append(nombre_nuevo)\n",
    "\n",
    "# imprime la lista actualizada\n",
    "print(nombre_nuevo)"
   ]
  },
  {
   "cell_type": "markdown",
   "metadata": {},
   "source": [
    "**NOTA:** La funcion _input()_ en Python 2.7 funciona de forma diferente y se debe usar *raw\\_input()* para su correcto procesado."
   ]
  },
  {
   "cell_type": "markdown",
   "metadata": {},
   "source": [
    "La funcion _input_ lo que hace lo siguiente: detiene la ejecucion del programa y espera a que el usuario escriba un texto y pulse la tecla de retorno de carro; en ese momento prosigue la ejecucion y la funcion devuelve una cadena con el texto que tecleo el usuario.\n",
    "\n",
    "Si deseas que el valor introducido sea un valor flotante, debes transformar la cadena devuelta por _input_ en un dato de tipo flotante llamando a la funcion _float_. La funcion _float_ recibira como argumento la cadena que devuelve _input_ y proporcionara un numero en coma flotante."
   ]
  },
  {
   "cell_type": "code",
   "execution_count": 3,
   "metadata": {},
   "outputs": [
    {
     "name": "stdout",
     "output_type": "stream",
     "text": [
      "Introduce el primer operando flotante: 7.3\n",
      "Introduce el segundo operando flotante: 8.9\n",
      "La suma es de 7.3 y 8.9 es: 16.2\n"
     ]
    }
   ],
   "source": [
    "a = input('Introduce el primer operando flotante: ')\n",
    "b = input('Introduce el segundo operando flotante: ')\n",
    "print('La suma es de {0} y {1} es: {2}'.format(a, b, float(a) + float(b)))"
   ]
  },
  {
   "cell_type": "markdown",
   "metadata": {},
   "source": [
    "**NOTA:** Si a la funcion input el usuario le mete una palabra en vez de un numero Python lanzara un error porque al realizar el casting a _float_ y recibir una cadena no sabe que hacer."
   ]
  },
  {
   "cell_type": "markdown",
   "metadata": {},
   "source": [
    "Control de errores\n",
    "---\n",
    "Se puede realizar un control de errores basico utilizando la sentencia _try/except_. Veamos como se utiliza. "
   ]
  },
  {
   "cell_type": "code",
   "execution_count": 4,
   "metadata": {},
   "outputs": [
    {
     "name": "stdout",
     "output_type": "stream",
     "text": [
      "Introduce el primer operando entero: 5\n",
      "Introduce el segundo operando entero: casa\n",
      "Lo siento pero el segundo operando no es un entero.\n",
      "No se pudo realizar la suma.\n"
     ]
    }
   ],
   "source": [
    "# introduce el entero 5\n",
    "a = input('Introduce el primer operando entero: ')\n",
    "# introduce la palabra casa\n",
    "b = input('Introduce el segundo operando entero: ')\n",
    "\n",
    "try: \n",
    "    a = int(a)\n",
    "except:\n",
    "    print('Lo siento pero el primer operando no es un entero.')\n",
    "\n",
    "try:\n",
    "    b = int(b)\n",
    "except:\n",
    "    print('Lo siento pero el segundo operando no es un entero.')\n",
    "\n",
    "try:\n",
    "    print('La suma es de {0} y {1} es: {2}'.format(a, b, float(a) + float(b)))\n",
    "except:\n",
    "    print('No se pudo realizar la suma.')"
   ]
  },
  {
   "cell_type": "markdown",
   "metadata": {},
   "source": [
    "Lo que Python hace es lo siguiente:\n",
    "- Intenta ejecutar la sentencia que esta en el bloque del _try_.\n",
    "- Si esta genera un error salta al bloque _except_ y lo ejecuta.\n",
    "- Lo bueno de todo esto es que el programa no para y nos permite continuar.\n",
    "\n",
    "Para mas informacion puedes mirar el [control de errores en Python](https://docs.python.org/2/tutorial/errors.html)."
   ]
  },
  {
   "cell_type": "markdown",
   "metadata": {},
   "source": [
    "# Bucle while"
   ]
  },
  {
   "cell_type": "markdown",
   "metadata": {},
   "source": [
    "Un bucle while permite repetir la ejecución de un grupo de instrucciones mientras se cumpla una condición (es decir, mientras la condición tenga el valor True). Cuando llega a un bucle while, Python evalúa la condición y, si es cierta, ejecuta el cuerpo del bucle. Una vez ejecutado el cuerpo del bucle, se repite el proceso (se evalúa de nuevo la condición y, si es cierta, se ejecuta de nuevo el cuerpo del bucle) una y otra vez mientras la condición sea cierta. Únicamente cuando la condición sea falsa, el cuerpo del bucle no se ejecutará y continuará la ejecución del resto del programa.\n",
    "La variable o las variables que aparezcan en la condición se suelen llamar variables de control. Las variables de control deben definirse antes del bucle while y modificarse en el bucle while."
   ]
  },
  {
   "cell_type": "code",
   "execution_count": 5,
   "metadata": {},
   "outputs": [
    {
     "name": "stdout",
     "output_type": "stream",
     "text": [
      "1\n",
      "2\n",
      "3\n",
      "Programa terminado\n"
     ]
    }
   ],
   "source": [
    "i = 1\n",
    "while i <= 3:\n",
    "    print(i)\n",
    "    i += 1\n",
    "print(\"Programa terminado\")"
   ]
  },
  {
   "cell_type": "markdown",
   "metadata": {},
   "source": [
    "- Cada bucle _while_ necesita una condición inicial que en el comienzo sea verdadera.\n",
    "- La declaración _while_ incluye una condición para testear.\n",
    "- Todo el código en el bucle se ejecutará mientras la condición sea verdadera.\n",
    "- Tan pronto como algo en el bucle cambie la condición de modo que la condición no sea verdadera, el bucle deja de ejecutarse.\n",
    "- Cualquier código que se define después de que el bucle se ejecutará desde este punto.\n"
   ]
  },
  {
   "cell_type": "code",
   "execution_count": 6,
   "metadata": {},
   "outputs": [
    {
     "name": "stdout",
     "output_type": "stream",
     "text": [
      "1\n",
      "4\n",
      "13\n",
      "40\n",
      "Programa terminado\n"
     ]
    }
   ],
   "source": [
    "i = 1\n",
    "while i <= 50:\n",
    "    print(i)\n",
    "    i = 3*i + 1\n",
    "print(\"Programa terminado\")"
   ]
  },
  {
   "cell_type": "markdown",
   "metadata": {},
   "source": [
    "Se puede utilizar por ejemplo para realizar el control de introduccion de datos por parte del usuario"
   ]
  },
  {
   "cell_type": "code",
   "execution_count": 7,
   "metadata": {},
   "outputs": [
    {
     "name": "stdout",
     "output_type": "stream",
     "text": [
      "Escriba un número positivo: -5\n",
      "¡Ha escrito un número negativo! Inténtelo de nuevo\n",
      "Escriba un número positivo: -3\n",
      "¡Ha escrito un número negativo! Inténtelo de nuevo\n",
      "Escriba un número positivo: 5\n",
      "Gracias por su colaboración\n"
     ]
    }
   ],
   "source": [
    "numero = int(input(\"Escriba un número positivo: \"))\n",
    "while numero < 0:\n",
    "    print(\"¡Ha escrito un número negativo! Inténtelo de nuevo\")\n",
    "    numero = int(input(\"Escriba un número positivo: \"))\n",
    "print(\"Gracias por su colaboración\")"
   ]
  },
  {
   "cell_type": "markdown",
   "metadata": {},
   "source": [
    "**CUIDADO!!** Si la condición del bucle se cumple siempre, el bucle no terminará nunca de ejecutarse y tendremos lo que se denomina un bucle infinito. Aunque a veces es necesario utilizar bucles infinitos en un programa, normalmente se deben a errores que se deben corregir.\n",
    "Los bucles infinitos no intencionados deben evitarse pues significan perder el control del programa. Para interrumpir un bucle infinito, hay que pulsar la combinación de teclas Ctrl+C. Al interrumpir un programa se mostrará un mensaje de error."
   ]
  },
  {
   "cell_type": "markdown",
   "metadata": {},
   "source": [
    "El programador ha olvidado modificar la variable de control dentro del bucle y el programa imprimirá números 1 indefinidamente:"
   ]
  },
  {
   "cell_type": "code",
   "execution_count": null,
   "metadata": {
    "collapsed": true
   },
   "outputs": [],
   "source": [
    "# esto es un bucle infinito y puede bloquear tu ordenador cuidado\n",
    "i = 1\n",
    "while i <= 10:\n",
    "    print(i)"
   ]
  },
  {
   "cell_type": "markdown",
   "metadata": {},
   "source": [
    "El programador ha escrito una condición que se cumplirá siempre y el programa imprimirá números consecutivos indefinidamente:"
   ]
  },
  {
   "cell_type": "markdown",
   "metadata": {},
   "source": [
    "Se aconseja expresar las condiciones como desigualdades en vez de comparar valores. En el ejemplo siguiente, el programador ha escrito una condición que se cumplirá siempre y el programa imprimirá números consecutivos indefinidamente:"
   ]
  },
  {
   "cell_type": "code",
   "execution_count": null,
   "metadata": {
    "collapsed": true
   },
   "outputs": [],
   "source": [
    "# esto es un bucle infinito y puede bloquear tu ordenador cuidado\n",
    "i = 1\n",
    "while i != 100:\n",
    "    print(i)\n",
    "    i += 2"
   ]
  },
  {
   "cell_type": "markdown",
   "metadata": {
    "collapsed": true
   },
   "source": [
    "Seguramente haras que algunos bucles se ejecuten infinitamente en algún momento. Cuando lo hagas, simplemente interrumpe el ciclo y descubre el error lógico que cometiste.\n",
    "- En la mayoría de los sistemas, Ctrl-C interrumpirá el programa actualmente en ejecución.\n",
    "- En el caso de Jupyter es muy probable que tengas que interrumpir el kernel (boton STOP) y reiniciar el Notebook"
   ]
  },
  {
   "cell_type": "markdown",
   "metadata": {},
   "source": [
    "Usando bucles _while_  para mantener programas en ejecución\n",
    "===\n",
    "La mayoría de los programas que usamos todos los días se ejecutan hasta que les indicamos que se salgan, y en el fondo, esto a menudo se hace con un bucle _while_. Aquí hay un ejemplo de cómo dejar que el usuario ingrese una cantidad arbitraria de nombres."
   ]
  },
  {
   "cell_type": "code",
   "execution_count": 9,
   "metadata": {},
   "outputs": [
    {
     "name": "stdout",
     "output_type": "stream",
     "text": [
      "Dame un nombre o introduce 'quit' para finalizar: misha\n",
      "Dame un nombre o introduce 'quit' para finalizar: quit\n",
      "['misha', 'quit']\n"
     ]
    }
   ],
   "source": [
    "# empezamos con la lista vacia\n",
    "nombres = []\n",
    "\n",
    "# incializamos la palabra de control del bucle salida a cadena vacia\n",
    "nombre = ''\n",
    "\n",
    "# empieza bucle que termina al teclear 'quit'\n",
    "while nombre != 'quit':\n",
    "    # preguntamos por nuevo nombre\n",
    "    nombre = input(\"Dame un nombre o introduce 'quit' para finalizar: \")\n",
    "\n",
    "    # agregamos\n",
    "    nombres.append(nombre)\n",
    "\n",
    "# imprime los nombres\n",
    "print(nombres)"
   ]
  },
  {
   "cell_type": "markdown",
   "metadata": {},
   "source": [
    "Como puedes ver, al final hemos agregado la palabra de salida que no deberia estar en nuestra lista. Se te ocurren una forma de no agregarla cuando termine el bucle?. Podemos usar un simple _if_ para eliminar la palabra de la lista."
   ]
  },
  {
   "cell_type": "code",
   "execution_count": 10,
   "metadata": {},
   "outputs": [
    {
     "name": "stdout",
     "output_type": "stream",
     "text": [
      "Dame un nombre o introduce 'quit' para finalizar: misha\n",
      "Dame un nombre o introduce 'quit' para finalizar: quit\n",
      "['misha']\n"
     ]
    }
   ],
   "source": [
    "# empezamos con la lista vacia\n",
    "nombres = []\n",
    "\n",
    "# incializamos la palabra de control del bucle salida a cadena vacia\n",
    "nombre = ''\n",
    "\n",
    "# empieza bucle que termina al teclear 'quit'\n",
    "while nombre != 'quit':\n",
    "    # preguntamos por nuevo nombre\n",
    "    nombre = input(\"Dame un nombre o introduce 'quit' para finalizar: \")\n",
    "\n",
    "    # agregamos\n",
    "    if nombre != 'quit':\n",
    "        nombres.append(nombre)\n",
    "\n",
    "# imprime los nombres\n",
    "print(nombres)"
   ]
  },
  {
   "cell_type": "markdown",
   "metadata": {},
   "source": [
    "Fantastico! ya tenemos una forma de controlar con los bucles _while_ la ejecucion de un programa hasta que el usuario desee terminar."
   ]
  },
  {
   "cell_type": "markdown",
   "metadata": {},
   "source": [
    "Creando menus con el bucle _while_\n",
    "===\n",
    "Ahora tenemos suficiente Python en nuestro haber para ofrecer a los usuarios un conjunto de opciones y luego responder a esas opciones hasta que decidan abandonar. Veamos un ejemplo simple y luego analicemos el código:"
   ]
  },
  {
   "cell_type": "code",
   "execution_count": 11,
   "metadata": {},
   "outputs": [
    {
     "name": "stdout",
     "output_type": "stream",
     "text": [
      "\n",
      "Bienvenido al restaurante de Juan?\n",
      "\n",
      "[1] Introduzca 1 para pedir comida.\n",
      "[2] Introduzca 2 para pagar.\n",
      "[3] Introduzca 3 para llamar a un camarero.\n",
      "[q] Introduzca 'q' para salir.\n",
      "\n",
      "Que quieres hacer? 1\n",
      "\n",
      "Aqui tiene el menu.\n",
      "\n",
      "\n",
      "[1] Introduzca 1 para pedir comida.\n",
      "[2] Introduzca 2 para pagar.\n",
      "[3] Introduzca 3 para llamar a un camarero.\n",
      "[q] Introduzca 'q' para salir.\n",
      "\n",
      "Que quieres hacer? 2\n",
      "\n",
      "Aqui esta la pasarela de pago.\n",
      "\n",
      "\n",
      "[1] Introduzca 1 para pedir comida.\n",
      "[2] Introduzca 2 para pagar.\n",
      "[3] Introduzca 3 para llamar a un camarero.\n",
      "[q] Introduzca 'q' para salir.\n",
      "\n",
      "Que quieres hacer? 3\n",
      "\n",
      "Un camarero vendra lo mas pronto posible.\n",
      "\n",
      "\n",
      "[1] Introduzca 1 para pedir comida.\n",
      "[2] Introduzca 2 para pagar.\n",
      "[3] Introduzca 3 para llamar a un camarero.\n",
      "[q] Introduzca 'q' para salir.\n",
      "\n",
      "Que quieres hacer? q\n",
      "\n",
      "Thanks for playing. See you later.\n",
      "\n",
      "Gracias! esperamos tenerle pronto de vuelta.\n"
     ]
    }
   ],
   "source": [
    "# Titulo del menu a crear\n",
    "print(\"\\nBienvenido al restaurante de Juan?\")\n",
    "\n",
    "# Crear valor inicial para que se puedan elegir las diferentes opciones \n",
    "opcion = ''\n",
    "\n",
    "# comenzamos el bucle hasta que recibimos 'q'\n",
    "while opcion != 'q':\n",
    "    # opciones del menu\n",
    "    print(\"\\n[1] Introduzca 1 para pedir comida.\")\n",
    "    print(\"[2] Introduzca 2 para pagar.\")\n",
    "    print(\"[3] Introduzca 3 para llamar a un camarero.\")\n",
    "    print(\"[q] Introduzca 'q' para salir.\")\n",
    "    \n",
    "    # preguntamos por que opcion quiere\n",
    "    opcion = input(\"\\nQue quieres hacer? \")\n",
    "    \n",
    "    # Respuesta a la seleccion\n",
    "    if opcion == '1':\n",
    "        print(\"\\nAqui tiene el menu.\\n\")\n",
    "    elif opcion == '2':\n",
    "        print(\"\\nAqui esta la pasarela de pago.\\n\")\n",
    "    elif opcion == '3':\n",
    "        print(\"\\nUn camarero vendra lo mas pronto posible.\\n\")\n",
    "    elif opcion == 'q':\n",
    "        print(\"\\nThanks for playing. See you later.\\n\")\n",
    "    else:\n",
    "        opcion(\"\\nHa seleccionado una opcion que no valida. Repita su seleccion..\\n\")\n",
    "        \n",
    "# imprimimos salida\n",
    "print(\"Gracias! esperamos tenerle pronto de vuelta.\")"
   ]
  },
  {
   "cell_type": "markdown",
   "metadata": {},
   "source": [
    "Usar bucles _while_ para procesar elementos en una lista\n",
    "===\n",
    "En la sección de listas, vimos que podemos hacer _pop()_ de elementos de una lista. Podemos usar una lista de elementos para mostrar elementos de uno en uno de una lista y trabajar con ellos de la forma que necesitemos. Veamos un ejemplo donde procesamos una lista de usuarios no confirmados en una base de datos."
   ]
  },
  {
   "cell_type": "code",
   "execution_count": 12,
   "metadata": {},
   "outputs": [
    {
     "name": "stdout",
     "output_type": "stream",
     "text": [
      "Confirmando usuario Aurelio...confirmado!\n",
      "Confirmando usuario Mario...confirmado!\n",
      "Confirmando usuario Pepe...confirmado!\n",
      "Confirmando usuario Juan...confirmado!\n",
      "\n",
      "Usuarios no confirmados:\n",
      "\n",
      "Usuarios confirmados:\n",
      "- Aurelio\n",
      "- Mario\n",
      "- Pepe\n",
      "- Juan\n"
     ]
    }
   ],
   "source": [
    "# lista de usuarios a confirmar\n",
    "usuarios_no_conf = ['juan', 'pepe', 'mario', 'aurelio']\n",
    "usuarios_conf = []\n",
    "\n",
    "# recorremos la lista\n",
    "while len(usuarios_no_conf) > 0:\n",
    "    \n",
    "    # recogemos usuario y lo confirmamos\n",
    "    usuario_actual = usuarios_no_conf.pop()\n",
    "    print(\"Confirmando usuario %s...confirmado!\" % usuario_actual.title())\n",
    "    \n",
    "    # lo agregamos a la lista usuarios confirmados\n",
    "    usuarios_conf.append(usuario_actual)\n",
    "    \n",
    "# comprobamos que hemos procesado la lista de no confirmados\n",
    "print(\"\\nUsuarios no confirmados:\")\n",
    "for usuario in usuarios_no_conf:\n",
    "    print('- ' + usuario.title())\n",
    "    \n",
    "print(\"\\nUsuarios confirmados:\")\n",
    "for usuario in usuarios_conf:\n",
    "    print('- ' + usuario.title())"
   ]
  },
  {
   "cell_type": "markdown",
   "metadata": {},
   "source": [
    "Esto funciona, pero hagamos una pequeña mejora. El programa actual siempre funciona con el usuario agregado más recientemente. Si los usuarios se unen más rápido de lo que podemos confirmarlos, dejaremos atrás a los usuarios del principio. Si queremos trabajar en un modelo de FIFO (First In First Out) y priorizar a los usuarios que fueron agregados primero, podemos abrir el popear el primer elemento de la lista cada vez."
   ]
  },
  {
   "cell_type": "code",
   "execution_count": 13,
   "metadata": {},
   "outputs": [
    {
     "name": "stdout",
     "output_type": "stream",
     "text": [
      "Confirmando usuario Juan...confirmado!\n",
      "Confirmando usuario Pepe...confirmado!\n",
      "Confirmando usuario Mario...confirmado!\n",
      "Confirmando usuario Aurelio...confirmado!\n",
      "\n",
      "Usuarios no confirmados:\n",
      "\n",
      "Usuarios confirmados:\n",
      "- Juan\n",
      "- Pepe\n",
      "- Mario\n",
      "- Aurelio\n"
     ]
    }
   ],
   "source": [
    "# lista de usuarios a confirmar\n",
    "usuarios_no_conf = ['juan', 'pepe', 'mario', 'aurelio']\n",
    "usuarios_conf = []\n",
    "\n",
    "# recorremos la lista\n",
    "while len(usuarios_no_conf) > 0:\n",
    "    \n",
    "    # recogemos usuario y lo confirmamos\n",
    "    usuario_actual = usuarios_no_conf.pop(0)\n",
    "    print(\"Confirmando usuario %s...confirmado!\" % usuario_actual.title())\n",
    "    \n",
    "    # lo agregamos a la lista usuarios confirmados\n",
    "    usuarios_conf.append(usuario_actual)\n",
    "    \n",
    "# comprobamos que hemos procesado la lista de no confirmados\n",
    "print(\"\\nUsuarios no confirmados:\")\n",
    "for usuario in usuarios_no_conf:\n",
    "    print('- ' + usuario.title())\n",
    "    \n",
    "print(\"\\nUsuarios confirmados:\")\n",
    "for usuario in usuarios_conf:\n",
    "    print('- ' + usuario.title())"
   ]
  },
  {
   "cell_type": "markdown",
   "metadata": {},
   "source": [
    "Observa como ahora hemos procesado a los usuarios mas antiguos primero."
   ]
  },
  {
   "cell_type": "markdown",
   "metadata": {},
   "source": [
    "Lectura/escritura de ficheros\n",
    "===\n",
    "Tanto para leer como para escribir un fichero lo primero que hay que hacer es abrir el fichero con la función _open()_ que usamos con dos argumentos: _open(filename, mode)_. Una vez hayamos terminado de trabajar con el fichero debemos cerrarlo usando la función _f.close()_."
   ]
  },
  {
   "cell_type": "markdown",
   "metadata": {},
   "source": [
    "Lectura de ficheros\n",
    "---\n",
    "Python nos proporciona diferentes maneras de leer un fichero. En primer lugar podemos leer un fichero completamente usando la función _f.read()_"
   ]
  },
  {
   "cell_type": "code",
   "execution_count": 14,
   "metadata": {},
   "outputs": [
    {
     "name": "stdout",
     "output_type": "stream",
     "text": [
      ">>> Lectura completa del fichero\n",
      "Fusce vitae leo purus, a tempor nisi.\n",
      "\n"
     ]
    }
   ],
   "source": [
    "# En primer lugar debemos de abrir el fichero que vamos a leer.\n",
    "# Usa 'rb' en vez de 'r' si se trata de un fichero binario.\n",
    "fichero = open('primos.txt', 'r')\n",
    "# Mostramos por pantalla lo que leemos desde el fichero\n",
    "print('>>> Lectura completa del fichero')\n",
    "print(fichero.read())\n",
    "# Cerramos el fichero.\n",
    "fichero.close()"
   ]
  },
  {
   "cell_type": "markdown",
   "metadata": {},
   "source": [
    "También podemos optar por leer una cantidad determinadas de bytes del fichero usando la función _f.read(size)_"
   ]
  },
  {
   "cell_type": "code",
   "execution_count": 15,
   "metadata": {},
   "outputs": [
    {
     "name": "stdout",
     "output_type": "stream",
     "text": [
      ">>> Lectura de una cantidad determinada de bytes\n",
      "Fusce vitae leo purus, a tempor nisi.\n",
      "\n",
      "\n"
     ]
    }
   ],
   "source": [
    "# En primer lugar debemos de abrir el fichero que vamos a leer.\n",
    "# Usa 'rb' en vez de 'r' si se trata de un fichero binario.\n",
    "fichero = open('tiempos.txt', 'r')\n",
    "# Mostramos por pantalla lo que leemos desde el fichero\n",
    "print('>>> Lectura de una cantidad determinada de bytes')\n",
    "print(fichero.read(50) + '\\n')\n",
    "# Cerramos el fichero.\n",
    "fichero.close()"
   ]
  },
  {
   "cell_type": "markdown",
   "metadata": {},
   "source": [
    "Podemos optar por leer una única línea del fichero con la función _f.readline()_"
   ]
  },
  {
   "cell_type": "code",
   "execution_count": 16,
   "metadata": {},
   "outputs": [
    {
     "name": "stdout",
     "output_type": "stream",
     "text": [
      ">>> Lectura de una línea del fichero\n",
      "Fusce vitae leo purus, a tempor nisi.\n",
      "\n"
     ]
    }
   ],
   "source": [
    "# En primer lugar debemos de abrir el fichero que vamos a leer.\n",
    "# Usa 'rb' en vez de 'r' si se trata de un fichero binario.\n",
    "fichero = open('primos.txt', 'r')\n",
    "# Mostramos por pantalla lo que leemos desde el fichero\n",
    "print('>>> Lectura de una línea del fichero')\n",
    "print(fichero.readline())\n",
    "# Cerramos el fichero.\n",
    "fichero.close()"
   ]
  },
  {
   "cell_type": "markdown",
   "metadata": {},
   "source": [
    "Por último, podemos leer un fichero completo línea a línea de la siguiente manera."
   ]
  },
  {
   "cell_type": "code",
   "execution_count": 19,
   "metadata": {},
   "outputs": [
    {
     "name": "stdout",
     "output_type": "stream",
     "text": [
      ">>> Lectura del fichero línea a línea\n",
      "Fusce vitae leo purus, a tempor nisi.\n",
      "\n"
     ]
    }
   ],
   "source": [
    "# En primer lugar debemos de abrir el fichero que vamos a leer.\n",
    "# Usa 'rb' en vez de 'r' si se trata de un fichero binario.\n",
    "fichero = open('tiempos.txt', 'r')\n",
    "# Mostramos por pantalla lo que leemos desde el fichero\n",
    "print('>>> Lectura del fichero línea a línea')\n",
    "for line in fichero:\n",
    "    print (line)\n",
    "# Cerramos el fichero.\n",
    "fichero.close()"
   ]
  },
  {
   "cell_type": "markdown",
   "metadata": {},
   "source": [
    "Escritura en un fichero\n",
    "---\n",
    "Para escribir un fichero en Python tendremos básicamente dos opciones que vamos a ver a continuación. Primero podemos escribir un fichero sobreescribiendo el contenido del fichero."
   ]
  },
  {
   "cell_type": "code",
   "execution_count": 20,
   "metadata": {},
   "outputs": [
    {
     "name": "stdout",
     "output_type": "stream",
     "text": [
      ">>> Escritura de fichero sobreescribiendo su contenido.\n",
      "Fusce vitae leo purus, a tempor nisi.\n",
      "\n"
     ]
    }
   ],
   "source": [
    "fichero = open('tiempo.txt', 'w') # Indicamos el valor 'w'.\n",
    "fichero.write('Fusce vitae leo purus, a tempor nisi.\\n')\n",
    "fichero.close()\n",
    "# Leemos el contenido para comprobar que ha sobreescrito el contenido.\n",
    "fichero = open('tiempo.txt', 'r')\n",
    "print('>>> Escritura de fichero sobreescribiendo su contenido.')\n",
    "print(fichero.read())\n",
    "# Cerramos el fichero.\n",
    "fichero.close()"
   ]
  },
  {
   "cell_type": "markdown",
   "metadata": {
    "collapsed": true
   },
   "source": [
    "O podemos concatenar el nuevo contenido al contenido ya existente en el fichero."
   ]
  },
  {
   "cell_type": "code",
   "execution_count": 23,
   "metadata": {},
   "outputs": [
    {
     "name": "stdout",
     "output_type": "stream",
     "text": [
      ">>> Escritura de fichero concatenando su contenido.\n",
      "Fusce vitae leo purus, a tempor nisi.\n",
      "Fusce vitae leo purus, a tempor ni.\n",
      "Fusce vitae leo purus, a tempor nisi.\n",
      "Fusce vitae leo purus, a tempor nisi.\n",
      "\n"
     ]
    }
   ],
   "source": [
    "fichero = open('tiempo.txt', 'a') # Indicamos el valor 'w'.\n",
    "fichero.write('Fusce vitae leo purus, a tempor nisi.\\n')\n",
    "fichero.close()\n",
    "# Leemos el contenido para comprobar que ha sobreescrito el contenido.\n",
    "fichero = open('tiempo.txt', 'r')\n",
    "print('>>> Escritura de fichero concatenando su contenido.')\n",
    "print(fichero.read())\n",
    "fichero.close()"
   ]
  },
  {
   "cell_type": "markdown",
   "metadata": {
    "collapsed": true
   },
   "source": [
    "Los ejemplos anteriores muestran como se escribe una cadena de texto en un fichero. Pero, como escribimos una lista de numeros??. Muy sencillo, se itera sobre la lista y se van escribiendo uno a uno los elementos. **IMPORTANTE**: la escritura se realiza en formato _string_ de modo que hay que convertir los numeros antes de escribir."
   ]
  },
  {
   "cell_type": "code",
   "execution_count": 24,
   "metadata": {},
   "outputs": [
    {
     "name": "stdout",
     "output_type": "stream",
     "text": [
      ">>> Escritura de fichero concatenando su contenido.\n",
      "Fusce vitae leo purus, a tempor nisi.\n",
      "Fusce vitae leo purus, a tempor ni.\n",
      "Fusce vitae leo purus, a tempor nisi.\n",
      "Fusce vitae leo purus, a tempor nisi.\n",
      "0\n",
      "1\n",
      "2\n",
      "3\n",
      "4\n",
      "5\n",
      "6\n",
      "7\n",
      "8\n",
      "9\n",
      "\n"
     ]
    }
   ],
   "source": [
    "lista = list(range(10))\n",
    "fichero = open('tiempo.txt', 'a') # Indicamos el valor 'w'.\n",
    "for item in lista:\n",
    "    fichero.write(\"%s\\n\" % item) # al poner %s la funcion write transforma a string\n",
    "fichero.close()\n",
    "# Leemos el contenido para comprobar que ha sobreescrito el contenido.\n",
    "fichero = open('tiempo.txt', 'r')\n",
    "print('>>> Escritura de fichero concatenando su contenido.')\n",
    "print(fichero.read())\n",
    "fichero.close()"
   ]
  },
  {
   "cell_type": "markdown",
   "metadata": {
    "collapsed": true
   },
   "source": [
    "## Leyendo con context managers"
   ]
  },
  {
   "cell_type": "markdown",
   "metadata": {
    "collapsed": true
   },
   "source": [
    "Podemos utilizar la sentencia _with_ para leer un fichero. _With_ es los que se conoce en Python como context manager. Nos permite definir un contexto para la escritura y lectura de un fichero, una vez salimos del contexto el fichero se cierra automaticamente. Es una manera mucho mas simple de leer un fichero y deberia ser la preferida a partir de ahora."
   ]
  },
  {
   "cell_type": "code",
   "execution_count": 1,
   "metadata": {
    "collapsed": true
   },
   "outputs": [],
   "source": [
    "lista = list(range(0,500,50))\n",
    "with open('ficheronuevo.txt', 'w') as fichero:\n",
    "    for item in lista:\n",
    "        fichero.write(\"%s\\n\" % item)\n",
    "#el fichero se cierra automaticamente\n",
    "\n"
   ]
  },
  {
   "cell_type": "markdown",
   "metadata": {},
   "source": [
    "# Procesando ficheros CSV"
   ]
  },
  {
   "cell_type": "markdown",
   "metadata": {},
   "source": [
    "En la  mayoria de los casos cuando tengas que procesar un fichero muy probablemente este este guardado en formato _csv_ (comma-separated values). Para procesar este tipo de ficheros existe el modulo _csv_ que nos permitira leer el fichero de forma sencilla. Veamos como lo podemos hacer.\n",
    "- Primero hay que importar el modulo usando _import csv_\n",
    "- Despues se procede con la lectura linea a linea a traves del modulo usando la funcion _reader_ del modulo\n",
    "- Las lineas son leidas y los campos procesados so almancenados en una lista que posteriormente podemos tratar\n",
    "\n",
    "Veamos un ejemplo con un dataset de los codigos postales de la ciudad de Los Angeles."
   ]
  },
  {
   "cell_type": "code",
   "execution_count": 26,
   "metadata": {},
   "outputs": [
    {
     "name": "stdout",
     "output_type": "stream",
     "text": [
      "['Zip Code', 'Total Population', 'Median Age', 'Total Males', 'Total Females', 'Total Households', 'Average Household Size']\n",
      "['91371', '1', '73.5', '0', '1', '1', '1']\n",
      "['90001', '57110', '26.6', '28468', '28642', '12971', '4.4']\n",
      "['90002', '51223', '25.5', '24876', '26347', '11731', '4.36']\n",
      "['90003', '66266', '26.3', '32631', '33635', '15642', '4.22']\n",
      "['90004', '62180', '34.8', '31302', '30878', '22547', '2.73']\n"
     ]
    }
   ],
   "source": [
    "import csv\n",
    "csv_path = \"2010_Census_Populations_by_Zip_Code.csv\"\n",
    "n_filas = 5\n",
    "\n",
    "#vamos con el context manager\n",
    "with open(csv_path, \"r\") as fichero:\n",
    "    reader = csv.reader(fichero)\n",
    "    # podemos utilizar un bucle como de costumbre\n",
    "    for n, row in enumerate(reader):\n",
    "        print(row)\n",
    "        # para controlar el numero de filas que queremos leer\n",
    "        if n == n_filas:\n",
    "            break"
   ]
  },
  {
   "cell_type": "markdown",
   "metadata": {},
   "source": [
    "Podemos leer el fichero entero y almacenarlo en una lista anidada."
   ]
  },
  {
   "cell_type": "code",
   "execution_count": 27,
   "metadata": {},
   "outputs": [
    {
     "name": "stdout",
     "output_type": "stream",
     "text": [
      "Los Angeles tienen 320 codigos postales\n"
     ]
    }
   ],
   "source": [
    "import csv\n",
    "csv_path = \"2010_Census_Populations_by_Zip_Code.csv\"\n",
    "n_filas = 5\n",
    "\n",
    "lista = []\n",
    "#vamos con el context manager\n",
    "with open(csv_path, \"r\") as fichero:\n",
    "    reader = csv.reader(fichero)\n",
    "    # podemos utilizar un bucle como de costumbre\n",
    "    for n, row in enumerate(reader):\n",
    "        lista.append(row)\n",
    "print('Los Angeles tienen %s codigos postales' % len(lista))"
   ]
  },
  {
   "cell_type": "markdown",
   "metadata": {},
   "source": [
    "Ahora la variable _lista_ contiene el fichero _csv_. En su primer elemento hay una lista que contiene la cabecera del fichero con los nombres de las columnas y a partir de ahi los valores de cada columna. Como puedes ver almacena todos los valores en tipo cadena de modo que deberas realizar un casting si quieres usar otro tipo usando las funciones _int()_ y _float()_ para los tipos enteros y flotantes."
   ]
  },
  {
   "cell_type": "code",
   "execution_count": 28,
   "metadata": {},
   "outputs": [
    {
     "name": "stdout",
     "output_type": "stream",
     "text": [
      "Esto es la cabecera\n",
      "['Zip Code', 'Total Population', 'Median Age', 'Total Males', 'Total Females', 'Total Households', 'Average Household Size']\n",
      "1a fila\n",
      "['91371', '1', '73.5', '0', '1', '1', '1']\n"
     ]
    }
   ],
   "source": [
    "print('Esto es la cabecera')\n",
    "print(lista[0])\n",
    "print('1a fila')\n",
    "print(lista[1])"
   ]
  },
  {
   "cell_type": "markdown",
   "metadata": {},
   "source": [
    "Una forma de acceder a la  informacion de una columna entera es a traves del indexado anidado. Vamos a almacenar en una variable la columna que se llama 'Total Population'."
   ]
  },
  {
   "cell_type": "code",
   "execution_count": 29,
   "metadata": {
    "collapsed": true
   },
   "outputs": [],
   "source": [
    "num_col = lista[0].index('Total Population')\n",
    "\n",
    "l_total_pop = []\n",
    "# recorremos la lista de listas\n",
    "for row in range(1, len(lista)-1):\n",
    "    # recogemos la Total Population y como lee\n",
    "    l_total_pop.append(int(lista[row][num_col]))"
   ]
  },
  {
   "cell_type": "markdown",
   "metadata": {},
   "source": [
    "Ahora podemos calcular la media de la poblacion por codigo postal."
   ]
  },
  {
   "cell_type": "code",
   "execution_count": 30,
   "metadata": {},
   "outputs": [
    {
     "name": "stdout",
     "output_type": "stream",
     "text": [
      "La media de personas por codigo postal es: 33322.965409\n"
     ]
    }
   ],
   "source": [
    "print('La media de personas por codigo postal es: %f' % (sum(l_total_pop)/len(l_total_pop)))"
   ]
  },
  {
   "cell_type": "markdown",
   "metadata": {},
   "source": [
    "Enhorabuena has realizado tu primer calculo sencillo de analisis de datos!. En la practica existen herramientas mas potentes que veremos mas adelante para realizar este tipo de procesado."
   ]
  },
  {
   "cell_type": "markdown",
   "metadata": {},
   "source": [
    "# Ejercicios"
   ]
  },
  {
   "cell_type": "markdown",
   "metadata": {},
   "source": [
    "### Bucles while e input"
   ]
  },
  {
   "cell_type": "markdown",
   "metadata": {},
   "source": [
    "1 - Preferencias del juego\n",
    "- Haz una lista que incluya 3 o 4 juegos que te gusten jugar.\n",
    "- Imprime un mensaje que le diga al usuario qué juegos te gustan.\n",
    "- Pide al usuario que te cuente un juego que le guste, y almacena el juego en una variable.\n",
    "- Agrega el juego del usuario a tu lista.\n",
    "- Imprime un mensaje que enumere todos los juegos que nos gusta jugar (los que hay en la lista)."
   ]
  },
  {
   "cell_type": "code",
   "execution_count": 34,
   "metadata": {},
   "outputs": [
    {
     "name": "stdout",
     "output_type": "stream",
     "text": [
      "\n",
      "Me gustan estos juegos: \n",
      "La_Oca\n",
      "Parchis\n",
      "Tresenraya\n",
      "Dados\n",
      "\n",
      "A ti, ¿que juegos te gustan?\n",
      "Barquitos\n",
      "\n",
      "A los dos nos gustan estos juegos: \n",
      "La_Oca\n",
      "Parchis\n",
      "Tresenraya\n",
      "Dados\n",
      "Barquitos\n"
     ]
    }
   ],
   "source": [
    "juegos = ['la_oca', 'parchis', 'tresenraya', 'dados']\n",
    "\n",
    "print ('\\nMe gustan estos juegos: ')\n",
    "for juego in juegos: \n",
    "    print(juego.title())\n",
    "    \n",
    "juegos_gustan = input('\\nA ti, ¿que juegos te gustan?\\n')\n",
    "\n",
    "juegos.append(juegos_gustan)\n",
    "\n",
    "print('\\nA los dos nos gustan estos juegos: ')\n",
    "for play in juegos:\n",
    "    print (play.title())"
   ]
  },
  {
   "cell_type": "markdown",
   "metadata": {},
   "source": [
    "2 - Modifica el ejericio anterior de forma que se puedan agregar tantos juegos como el usuario quiera hasta introducir la palabra _quit_."
   ]
  },
  {
   "cell_type": "code",
   "execution_count": 52,
   "metadata": {},
   "outputs": [
    {
     "name": "stdout",
     "output_type": "stream",
     "text": [
      "\n",
      "Me gustan estos juegos: \n",
      "La_Oca\n",
      "Parchis\n",
      "Tres En Raya\n",
      "Dados\n",
      "\n",
      "A ti, ¿que juegos te gustan?\n",
      "Ajedrez\n",
      "\n",
      "A ti, ¿que juegos te gustan?\n",
      "Damas\n",
      "\n",
      "A ti, ¿que juegos te gustan?\n",
      "quit\n",
      "\n",
      "A los dos nos gustan estos juegos: \n",
      "La_Oca\n",
      "Parchis\n",
      "Tres En Raya\n",
      "Dados\n",
      "Ajedrez\n",
      "Damas\n"
     ]
    }
   ],
   "source": [
    "juegos = ['la_oca', 'parchis', 'tres en raya', 'dados']\n",
    "\n",
    "print ('\\nMe gustan estos juegos: ')\n",
    "for juego in juegos: \n",
    "    print(juego.title())\n",
    "\n",
    "game = ''    \n",
    "while game != 'quit':\n",
    "    \n",
    "    game = input('\\nA ti, ¿que juegos te gustan?\\n')\n",
    "    \n",
    "    if game != 'quit':\n",
    "        juegos.append(game)\n",
    "    \n",
    "print('\\nA los dos nos gustan estos juegos: ')\n",
    "for play in juegos:\n",
    "    print (play.title())\n",
    "    "
   ]
  },
  {
   "cell_type": "markdown",
   "metadata": {},
   "source": [
    "3 - Escriba un programa que pida dos números enteros. El programa pedirá de nuevo el segundo número mientras no sea mayor que el primero. El programa terminará escribiendo los dos números."
   ]
  },
  {
   "cell_type": "code",
   "execution_count": null,
   "metadata": {},
   "outputs": [],
   "source": [
    "a = input('Introduce el primer operando entero: ')\n",
    "\n",
    "b = input('Introduce un número entero mayor que el primero: ')\n",
    "\n",
    "try: \n",
    "    a = int(a)\n",
    "except:\n",
    "    print('Lo siento pero el primer operando no es un entero.')\n",
    "\n",
    "try:\n",
    "    b > int(a)\n",
    "except:\n",
    "    print('Lo siento pero el segundo operando es menor que el primero.')\n",
    "\n",
    "try:\n",
    "    print('a es  {0} y b es {1}'.format(int(a), int(b)))\n",
    "except:\n",
    "    print('No son enteros')\n",
    "    \n",
    "\n",
    "   \n",
    "    \n",
    "print(numero  = int(input('Escribe un número entero: ')))\n",
    "\n",
    "while numero = float():\n",
    "    print \n",
    "    numero2 = input('Escribe un numero entero mayor que el primero: ')\n",
    "    while numero2 != float():\n",
    "        if numero2 >= numero:\n",
    "            print('Los numero son {0} y {1}'.format(int(numero), int(numero2)))\n",
    "    \n"
   ]
  },
  {
   "cell_type": "markdown",
   "metadata": {},
   "source": [
    "4 - Escriba un programa que pida números decimales mientras el usuario escriba número mayores que el primero."
   ]
  },
  {
   "cell_type": "code",
   "execution_count": null,
   "metadata": {
    "collapsed": true
   },
   "outputs": [],
   "source": []
  },
  {
   "cell_type": "markdown",
   "metadata": {},
   "source": [
    "5 - Escriba un programa que pida números enteros mientras sean cada vez más grandes."
   ]
  },
  {
   "cell_type": "code",
   "execution_count": null,
   "metadata": {
    "collapsed": true
   },
   "outputs": [],
   "source": []
  },
  {
   "cell_type": "markdown",
   "metadata": {},
   "source": [
    "6 - Escriba un programa que calcule la descomposición en factores primos de un número introducido por teclado. Deberas asegurarte de que el usuario introduce un entero para poder calcular el factorial. Si no lo hace imprime un mensaje indicando que el input introducido es erroneo y se necesita un entero."
   ]
  },
  {
   "cell_type": "code",
   "execution_count": null,
   "metadata": {
    "collapsed": true
   },
   "outputs": [],
   "source": []
  },
  {
   "cell_type": "markdown",
   "metadata": {},
   "source": [
    "7 -Escriba un programa que pida números pares mientras el usuario indique que quiere seguir introduciendo números. Para indicar que quiere seguir escribiendo números, el usuario deberá contestar S a la pregunta."
   ]
  },
  {
   "cell_type": "code",
   "execution_count": null,
   "metadata": {
    "collapsed": true
   },
   "outputs": [],
   "source": []
  },
  {
   "cell_type": "markdown",
   "metadata": {},
   "source": [
    "8 -Escriba un programa que pida números y que pare cuando el número introducido sea negativo. NOTA: Cuidado con los bucles infinitos"
   ]
  },
  {
   "cell_type": "code",
   "execution_count": null,
   "metadata": {
    "collapsed": true
   },
   "outputs": [],
   "source": []
  },
  {
   "cell_type": "markdown",
   "metadata": {},
   "source": [
    "9 - Escriba un programa que calcule el factorial de un numero introducido por teclado"
   ]
  },
  {
   "cell_type": "code",
   "execution_count": null,
   "metadata": {
    "collapsed": true
   },
   "outputs": [],
   "source": []
  },
  {
   "cell_type": "markdown",
   "metadata": {},
   "source": [
    "10 - \n",
    "Este desafío está inspirado en una historia sobre el matemático Carl Frederich Gauss. [Asi dice la historia](http://mathforum.org/library/drmath/view/57919.html), cuando el joven Gauss estaba en la escuela primaria, su maestro se enojó con su clase un día.\n",
    "\n",
    "\"Los mantendré ocupados por un tiempo\", dijo el maestro severamente al grupo. \"Debe agregar los números del 1 al 100, y no debe decir una palabra hasta que haya terminado\".\n",
    "\n",
    "El maestro esperaba un buen período de tiempo tranquilo, pero un momento más tarde nuestro matemático levantó su mano con la respuesta. \"¡Es 5050!\" Gauss se había dado cuenta de que si enumera todos los números del 1 al 100, siempre puede hacer coincidir el primer y el último número de la lista y obtener una respuesta común:\n",
    "\n",
    "    1, 2, 3, ..., 98, 99, 100\n",
    "    1 + 100 = 101\n",
    "    2 + 99 = 101\n",
    "    3 + 98 = 101\n",
    "\n",
    "Gauss se dio cuenta de que había exactamente 50 pares de números en el rango de 1 a 100, por lo que hizo un cálculo rápido: 50 * 101 = 5050.\n",
    "\n",
    "- Escribe un programa que almacene en una lista números.\n",
    "    - El programa debe usar un bucle while para popear los primeros y últimos números de la lista y calcular la suma de esos dos números.\n",
    "    - El programa debe imprimir los números actuales que se están popeando e imprimir su suma parcial.\n",
    "    - El progama debe realizar un seguimiento del numero de sumas parciales que hay.\n",
    "    - El programa debe imprimir cuántas sumas parciales se ha realiazo.\n",
    "    - El programa debe realizar la multiplicación de Gauss e informar la respuesta final.\n",
    "- Demuestra que su programa funciona, pasando en el rango 1-100, y verificando que obtiene 5050.\n",
    "    - `list(range(1,101))`\n",
    "- El programa debe funcionar para cualquier rango de números consecutivos, siempre que ese conjunto tenga una longitud par.\n",
    "- Modifique el programa para que funcione para cualquier rango de números consecutivos, ya sea que ese conjunto tenga una longitud par o impar."
   ]
  },
  {
   "cell_type": "code",
   "execution_count": null,
   "metadata": {
    "collapsed": true
   },
   "outputs": [],
   "source": []
  },
  {
   "cell_type": "markdown",
   "metadata": {},
   "source": [
    "### Lectura de ficheros"
   ]
  },
  {
   "cell_type": "markdown",
   "metadata": {},
   "source": [
    "11 - Tenemos un fichero de texto llamado tiempos.txt que contiene una secuencia de tiempos en formato HH:MM:SS (horas, minutos, segundos). Escribe un programa que lea el fichero y que separe en tres listas diferentes las horas, los minutos y los segundos. PISTA: Deberas leer el contenido del fichero y transformar las cadenas leidas a listas para extraer las horas, minutos y segundos. El metodo _split_ te ayudara en tu cometido."
   ]
  },
  {
   "cell_type": "code",
   "execution_count": null,
   "metadata": {
    "collapsed": true
   },
   "outputs": [],
   "source": []
  },
  {
   "cell_type": "markdown",
   "metadata": {},
   "source": [
    "12 - Hemos seleccionado un fragmento del Quijote para su analisis y vamos a practicar con el. Realiza un programa que cuente cuantas palabras tiene el fichero _quijote.txt_. Puedes calcular tambien el numero de lineas??  \n",
    "**NOTA**: Todos los ejercicios que mencionan el quijote utilizan el fichero quijote.txt"
   ]
  },
  {
   "cell_type": "code",
   "execution_count": null,
   "metadata": {
    "collapsed": true
   },
   "outputs": [],
   "source": []
  },
  {
   "cell_type": "markdown",
   "metadata": {},
   "source": [
    "13 - Queremos leer del quijote.txt exactamente 300 caracteres a partir del caracter 10000. Escribe un programa que haga lo mencionado anteriormente"
   ]
  },
  {
   "cell_type": "code",
   "execution_count": null,
   "metadata": {
    "collapsed": true
   },
   "outputs": [],
   "source": []
  },
  {
   "cell_type": "markdown",
   "metadata": {},
   "source": [
    "14 - Escribe un programa que imprima por pantalla la linea 1235 del quijote."
   ]
  },
  {
   "cell_type": "code",
   "execution_count": null,
   "metadata": {
    "collapsed": true
   },
   "outputs": [],
   "source": []
  },
  {
   "cell_type": "markdown",
   "metadata": {},
   "source": [
    "15 - Escribe un programa que cuenta el numero de veces que aparece en el quijote la palabra hidalgo."
   ]
  },
  {
   "cell_type": "code",
   "execution_count": null,
   "metadata": {
    "collapsed": true
   },
   "outputs": [],
   "source": []
  },
  {
   "cell_type": "markdown",
   "metadata": {},
   "source": [
    "16 - Escribe un programa que escriba en un fichero de texto las lineas en las que aparece la palabra hidalgo."
   ]
  },
  {
   "cell_type": "code",
   "execution_count": null,
   "metadata": {
    "collapsed": true
   },
   "outputs": [],
   "source": []
  },
  {
   "cell_type": "markdown",
   "metadata": {},
   "source": [
    "17 - Utiliza la comprension de listas para crear una lista que divida todos los elementos de la lista por 2, otra que almacene los elemtos que son multiplos de 3."
   ]
  },
  {
   "cell_type": "code",
   "execution_count": null,
   "metadata": {
    "collapsed": true
   },
   "outputs": [],
   "source": []
  },
  {
   "cell_type": "markdown",
   "metadata": {},
   "source": [
    "18 - Escribe un programa que escriba en un fichero el resultado del ejercicio anterior (primero la lista de los elementos divididos por 2 y despues la de multiplos de 3. Despues lee el fichero e imprimelo por pantalla."
   ]
  },
  {
   "cell_type": "code",
   "execution_count": null,
   "metadata": {
    "collapsed": true
   },
   "outputs": [],
   "source": []
  },
  {
   "cell_type": "markdown",
   "metadata": {},
   "source": [
    "19 - Escribe un programa pida dos numeros a un usuario, posteriormente le pida que operacion quiere realizar con ellos y una vez seleccionado, se escriba la operacion y el resultado en un fichero. Finalmente, lee el fichero e imprimelo por pantalla.\n",
    "PASOS\n",
    "- Pedir por pantalla dos numeros (puedes anadir algun tipo de control de errores basico)  \n",
    "- Pedir la operacion (suma, resta, division o producto)  \n",
    "- Realizar la operacion, obtener el resultado y escribirlo en un fichero. Por ejemplo algo asi: La operacion seleccionada ha sido la +. El resultado es: 5 + 8 = 13 donde 5 y 8 son los numeros introducidos por el usuario y + la operacion seleccionada.  \n",
    "- Imprime el resultado por pantalla  "
   ]
  },
  {
   "cell_type": "code",
   "execution_count": null,
   "metadata": {
    "collapsed": true
   },
   "outputs": [],
   "source": []
  },
  {
   "cell_type": "markdown",
   "metadata": {},
   "source": [
    "20 - Escribe un programa que calcule los 100 primeros numeros primos y los almacene en un fichero. Despues lee el fichero e imprime su contenido."
   ]
  },
  {
   "cell_type": "code",
   "execution_count": null,
   "metadata": {
    "collapsed": true
   },
   "outputs": [],
   "source": []
  },
  {
   "cell_type": "markdown",
   "metadata": {},
   "source": [
    "21 - Haz un programa que muestre por pantalla la linea mas larga de un fichero. Si hay mas de una linea con la longitud de la mas larga, el programa mostrara unicamente la primera de ellas. (El nombre del fichero se pedira al usuario por teclado.)"
   ]
  },
  {
   "cell_type": "code",
   "execution_count": null,
   "metadata": {
    "collapsed": true
   },
   "outputs": [],
   "source": []
  },
  {
   "cell_type": "markdown",
   "metadata": {},
   "source": [
    "22 - La orden head (((cabeza)), en ingles) de Unix muestra las 10 primeras lineas de un fichero. Haz un programa head.py que muestre por pantalla las 10 primeras lineas de un fichero. (El nombre del fichero se pedira al usuario por teclado.)"
   ]
  },
  {
   "cell_type": "code",
   "execution_count": null,
   "metadata": {
    "collapsed": true
   },
   "outputs": [],
   "source": []
  },
  {
   "cell_type": "markdown",
   "metadata": {},
   "source": [
    "23 - La orden tail (((cola)), en ingles) de Unix muestra las 10 ultimas lineas de un fichero. Haz un programa head.py que muestre por pantalla las 10 ultimas lineas de un fichero. (El nombre del fichero se pedira al usuario por teclado.)"
   ]
  },
  {
   "cell_type": "code",
   "execution_count": null,
   "metadata": {
    "collapsed": true
   },
   "outputs": [],
   "source": []
  },
  {
   "cell_type": "markdown",
   "metadata": {},
   "source": [
    "24 - En realidad cualquiera de las ordenes anteriores (head y tail) permiten seleccionar el numero de lineas a mostrar. Realiza un programa que pida al usuario el numero de lineas a mostrar y muestre las primeras n lineas del fichero (como la orden head)"
   ]
  },
  {
   "cell_type": "code",
   "execution_count": null,
   "metadata": {
    "collapsed": true
   },
   "outputs": [],
   "source": []
  },
  {
   "cell_type": "markdown",
   "metadata": {},
   "source": [
    "25 - Utilizando el modulo _csv_ calcula la media de las diferentes columnas para cada grupo de codigos postales. Un grupo se define por las dos primeras cifras del codigo postal. 90XXX, 91XXX, 92XXX y  asi son diferentes grupos postales. Tendras que utilizar los conocimientos aprendidos hasta ahora para resolver el problema."
   ]
  },
  {
   "cell_type": "code",
   "execution_count": null,
   "metadata": {
    "collapsed": true
   },
   "outputs": [],
   "source": []
  }
 ],
 "metadata": {
  "kernelspec": {
   "display_name": "Python 3",
   "language": "python",
   "name": "python3"
  },
  "language_info": {
   "codemirror_mode": {
    "name": "ipython",
    "version": 3
   },
   "file_extension": ".py",
   "mimetype": "text/x-python",
   "name": "python",
   "nbconvert_exporter": "python",
   "pygments_lexer": "ipython3",
   "version": "3.6.3"
  }
 },
 "nbformat": 4,
 "nbformat_minor": 1
}
